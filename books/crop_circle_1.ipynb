{
 "cells": [
  {
   "cell_type": "code",
   "execution_count": 156,
   "metadata": {
    "collapsed": true
   },
   "outputs": [],
   "source": [
    "import os, copy\n",
    "import sys\n",
    "import numpy as np\n",
    "import cv2\n",
    "import imutils\n",
    "from matplotlib import pyplot as plt\n",
    "%matplotlib inline\n",
    "sys.path.append(\"../\")\n",
    "from modules.GraphicsCV import draw_circle\n",
    "# import math"
   ]
  },
  {
   "cell_type": "markdown",
   "metadata": {},
   "source": [
    "### Helper Functions"
   ]
  },
  {
   "cell_type": "code",
   "execution_count": 186,
   "metadata": {},
   "outputs": [],
   "source": [
    "def horizPlot(img1, img2):\n",
    "    h,w = 1,2\n",
    "    fig, ax = plt.subplots(h,w)\n",
    "    fig.subplots_adjust(hspace=0.3)\n",
    "    ax[0].imshow(img1)\n",
    "    ax[1].imshow(img2)\n",
    "    fig.show()"
   ]
  },
  {
   "cell_type": "code",
   "execution_count": 157,
   "metadata": {
    "collapsed": true
   },
   "outputs": [],
   "source": [
    "#from ControlDisplay:Display\n",
    "def rectToCircle(input_rect):\n",
    "        rect = copy.copy(input_rect)            \n",
    "\n",
    "        x = int( rect[0] + int(rect[2] / 2) )\n",
    "        y = int( rect[1] + int(rect[3] / 2) )\n",
    "\n",
    "        radius = min( int(rect[2] / 2), int(rect[3] / 2) )\n",
    "\n",
    "        return (x, y, radius)"
   ]
  },
  {
   "cell_type": "markdown",
   "metadata": {},
   "source": [
    "### Setup Test Images"
   ]
  },
  {
   "cell_type": "code",
   "execution_count": 187,
   "metadata": {},
   "outputs": [
    {
     "name": "stdout",
     "output_type": "stream",
     "text": [
      "(100, 120, 3)\n",
      "(120, 100, 3)\n"
     ]
    },
    {
     "data": {
      "image/png": "[encoded data removed]",
      "text/plain": [
       "<matplotlib.figure.Figure at 0x104aecb0>"
      ]
     },
     "metadata": {},
     "output_type": "display_data"
    }
   ],
   "source": [
    "H,W = 100, 100 + 20\n",
    "imgA = np.array(np.zeros(shape=(H,W,3)), dtype='uint8')\n",
    "x,y,radius = rectToCircle([0,0,W,H])\n",
    "imgA = draw_circle(imgA, x, y, radius,thick = 1, color = 'yellow')\n",
    "\n",
    "H,W = 100 + 20, 100\n",
    "imgB = np.array(np.zeros(shape=(H,W,3)), dtype='uint8')\n",
    "x,y,radius = rectToCircle([0,0,W,H])\n",
    "imgB = draw_circle(imgB, x, y, radius,thick = 1, color = 'yellow')\n",
    "\n",
    "print imgA.shape\n",
    "print imgB.shape\n",
    "\n",
    "horizPlot(imgA, imgB)"
   ]
  },
  {
   "cell_type": "code",
   "execution_count": 138,
   "metadata": {},
   "outputs": [
    {
     "name": "stdout",
     "output_type": "stream",
     "text": [
      "[49, 49, 49, 49, 49, 49, 49, 49, 49, 48, 48, 48, 48, 48, 47, 47, 47, 46, 46, 45, 45, 44, 44, 43, 43, 42, 42, 41, 40, 40, 39, 38, 37, 36, 35, 34, 33, 32, 31, 30, 28, 27, 25, 23, 21, 19, 17, 14, 9, 0]\n"
     ]
    }
   ],
   "source": [
    "def circle_xcoords(radius):\n",
    "    ''' returns list of length radius, with each x coord on the unit circle line'''    \n",
    "    list_x = []\n",
    "    for y in range(1, radius + 1):\n",
    "        list_x.append( (radius**2 - y**2)**(0.5) )\n",
    "    return list_x\n",
    "\n",
    "print map(int, circle_xcoords(R))    "
   ]
  },
  {
   "cell_type": "code",
   "execution_count": 185,
   "metadata": {},
   "outputs": [
    {
     "name": "stdout",
     "output_type": "stream",
     "text": [
      "60 50 50\n",
      "50 60 50\n"
     ]
    },
    {
     "data": {
      "image/png": "[encoded data removed]",
      "text/plain": [
       "<matplotlib.figure.Figure at 0x10e1a0b0>"
      ]
     },
     "metadata": {},
     "output_type": "display_data"
    }
   ],
   "source": [
    "def draw_circle_pix(img):\n",
    "\n",
    "    H, W = img.shape[0], img.shape[1]\n",
    "    circle_x,circle_y,circle_radius = rectToCircle([0,0,W,H])\n",
    "    print circle_x, circle_y, radius\n",
    "    \n",
    "    max_x = map(int, circle_xcoords(circle_radius)[::-1])\n",
    "    max_x.extend(max_x[::-1])\n",
    "\n",
    "    for y in range (0,H):\n",
    "        for x in range(0,W):\n",
    "\n",
    "            if (y <= circle_y - radius) or (y >= circle_y + radius):\n",
    "                continue\n",
    "            \n",
    "            _y = y - (circle_y - radius) \n",
    "            \n",
    "            if (x > circle_x - max_x[_y]) and (x < circle_x + max_x[_y]):\n",
    "\n",
    "                img[y,x] = np.array([255,0,0] ,dtype=np.uint8)\n",
    "    \n",
    "    return img\n",
    "\n",
    "_imgA, _imgB = imgA.copy(), imgB.copy()\n",
    "\n",
    "red_imgA = draw_circle_pix(_imgA)\n",
    "red_imgB = draw_circle_pix(_imgB)\n",
    "\n",
    "horizPlot(red_imgA, red_imgB)"
   ]
  },
  {
   "cell_type": "markdown",
   "metadata": {},
   "source": [
    "### Build a function to grab pixels from inside/outside the circle"
   ]
  },
  {
   "cell_type": "code",
   "execution_count": 194,
   "metadata": {},
   "outputs": [],
   "source": [
    "def filter_pixels_circle(img, b_inside=True):\n",
    "    \n",
    "    pix_list = []\n",
    "    \n",
    "    #make circle based on img-shape:\n",
    "    circle_x = int( img.shape[1] / 2)\n",
    "    circle_y = int( img.shape[0] / 2)\n",
    "    radius = min( int(img.shape[1] / 2), int(img.shape[0] / 2) )    \n",
    "    \n",
    "    #build the x_coords frontier contour\n",
    "    x_coords = map(int, circle_xcoords(radius)[::-1])\n",
    "    x_coords.extend(x_coords[::-1])\n",
    "    \n",
    "    #filter loop\n",
    "    for y in range(img.shape[0]):\n",
    "        for x in range(img.shape[1]):\n",
    "            \n",
    "            if (y <= circle_y - radius) or (y >= circle_y + radius):\n",
    "                if not(b_inside):\n",
    "                    pix_list.append(img[y,x])\n",
    "                else:\n",
    "                    continue\n",
    "            \n",
    "            _y = y - (circle_y - radius) \n",
    "                \n",
    "            if (x > circle_x - x_coords[_y]) and (x < circle_x + x_coords[_y]):\n",
    "                if b_inside:\n",
    "                    pix_list.append(img[y,x])\n",
    "            else:\n",
    "                if not(b_inside):\n",
    "                    pix_list.append(img[y,x])\n",
    "    \n",
    "    return pix_list"
   ]
  },
  {
   "cell_type": "code",
   "execution_count": 195,
   "metadata": {},
   "outputs": [
    {
     "name": "stdout",
     "output_type": "stream",
     "text": [
      "0.7546\n",
      "0.7546\n",
      "0.785\n"
     ]
    }
   ],
   "source": [
    "pix_list_A = filter_pixels_circle(imgA)\n",
    "pix_list_B = filter_pixels_circle(imgB)\n",
    "print float(len(pix_list_A)) / float((R*2)**2)\n",
    "print float(len(pix_list_B)) / float((R*2)**2)\n",
    "print 3.14 / 4.0"
   ]
  },
  {
   "cell_type": "markdown",
   "metadata": {},
   "source": [
    "### Convert a pix_list to a pseduo-img that can be applied to cv2.split"
   ]
  },
  {
   "cell_type": "code",
   "execution_count": 147,
   "metadata": {
    "collapsed": true
   },
   "outputs": [],
   "source": [
    "cam = cv2.VideoCapture(\"../data/proc/hello-training-data/output4.avi\")\n",
    "ret, frame = cam.read()\n",
    "# img = frame.copy()"
   ]
  },
  {
   "cell_type": "code",
   "execution_count": 148,
   "metadata": {},
   "outputs": [
    {
     "name": "stdout",
     "output_type": "stream",
     "text": [
      "3\n"
     ]
    }
   ],
   "source": [
    "out = cv2.split(img)\n",
    "print len(out)   #should be 3, for the 3 colors"
   ]
  },
  {
   "cell_type": "code",
   "execution_count": 149,
   "metadata": {},
   "outputs": [
    {
     "name": "stdout",
     "output_type": "stream",
     "text": [
      "(480, 640, 3)\n",
      "\n",
      "pix_list:  [array([144, 149, 149], dtype=uint8), array([144, 149, 149], dtype=uint8)]\n",
      "\n",
      "np_pix_list:  [[144 149 149]\n",
      " [144 149 149]]\n",
      "(2, 3)\n",
      "should be len3 but is len:  1\n",
      "\n",
      "np_np_pix_list:  [[[144 149 149]\n",
      "  [144 149 149]]]\n",
      "(1, 2, 3)\n",
      "it is len 3, see:  3\n",
      "\n",
      "it is appropiately split between the 3 colors:\n"
     ]
    },
    {
     "data": {
      "text/plain": [
       "[array([[144, 144]], dtype=uint8),\n",
       " array([[149, 149]], dtype=uint8),\n",
       " array([[149, 149]], dtype=uint8)]"
      ]
     },
     "execution_count": 149,
     "metadata": {},
     "output_type": "execute_result"
    }
   ],
   "source": [
    "# How to convert a list of pixels to a psedu-image format that can be consumed\n",
    "# by the img argument in iterThreshA; img is simply cv2.split(img) so that needs to work\n",
    "\n",
    "print frame.shape\n",
    "\n",
    "print ''\n",
    "pix_list = [frame[0][0]]\n",
    "pix_list.append(frame[0][1])\n",
    "print 'pix_list: ', pix_list\n",
    "\n",
    "print ''\n",
    "np_pix_list = np.array(pix_list, dtype='uint8')\n",
    "print 'np_pix_list: ', np_pix_list\n",
    "print np_pix_list.shape\n",
    "out2 = cv2.split(np_pix_list)\n",
    "print 'should be len3 but is len: ', str(len(out2))\n",
    "\n",
    "print ''\n",
    "np_np_pix_list = np.array(np_pix_list, dtype='uint8', ndmin = 3)\n",
    "print 'np_np_pix_list: ', np_np_pix_list\n",
    "print np_np_pix_list.shape\n",
    "out3 = cv2.split(np_np_pix_list)\n",
    "print 'it is len 3, see: ', str(len(out3))\n",
    "\n",
    "print ''\n",
    "print 'it is appropiately split between the 3 colors:'\n",
    "out3"
   ]
  },
  {
   "cell_type": "code",
   "execution_count": null,
   "metadata": {
    "collapsed": true
   },
   "outputs": [],
   "source": []
  },
  {
   "cell_type": "code",
   "execution_count": null,
   "metadata": {
    "collapsed": true
   },
   "outputs": [],
   "source": []
  },
  {
   "cell_type": "code",
   "execution_count": null,
   "metadata": {
    "collapsed": true
   },
   "outputs": [],
   "source": []
  },
  {
   "cell_type": "code",
   "execution_count": null,
   "metadata": {
    "collapsed": true
   },
   "outputs": [],
   "source": []
  }
 ],
 "metadata": {
  "kernelspec": {
   "display_name": "Python 2",
   "language": "python",
   "name": "python2"
  },
  "language_info": {
   "codemirror_mode": {
    "name": "ipython",
    "version": 2
   },
   "file_extension": ".py",
   "mimetype": "text/x-python",
   "name": "python",
   "nbconvert_exporter": "python",
   "pygments_lexer": "ipython2",
   "version": "2.7.13"
  }
 },
 "nbformat": 4,
 "nbformat_minor": 2
}
