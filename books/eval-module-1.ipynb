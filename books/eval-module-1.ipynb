{
 "cells": [
  {
   "cell_type": "markdown",
   "metadata": {},
   "source": [
    "## Eval Module"
   ]
  },
  {
   "cell_type": "code",
   "execution_count": 161,
   "metadata": {},
   "outputs": [
    {
     "name": "stdout",
     "output_type": "stream",
     "text": [
      "The autoreload extension is already loaded. To reload it, use:\n",
      "  %reload_ext autoreload\n"
     ]
    }
   ],
   "source": [
    "import pandas as pd\n",
    "import sqlalchemy\n",
    "import os, sys, copy, random, pickle, cv2\n",
    "import numpy as np\n",
    "from matplotlib import pyplot as plt\n",
    "%matplotlib inline\n",
    "\n",
    "sys.path.append(\"../\")\n",
    "\n",
    "%load_ext autoreload\n",
    "%autoreload 2\n",
    "\n",
    "from modules.ControlTracking import TrackFactory\n",
    "from modules.ControlDisplay import Display\n",
    "from modules.Interproc import DBInterface, GuiviewState\n",
    "\n",
    "from modules.AnalysisHelpers import ( multiPlot, colorCube,\n",
    "         SubprocColorCube, subprocColorCube, buildConfusionData, \n",
    "         buildConfusionPlotData, buildRegionMarkers, confusionPlotByViews,\n",
    "         confusionPlotByImage, PixelConfusionMatrix, cvtPlot,\n",
    "         applyTracker, presetCubeViews, bytesToPic, bytesToPic2,\n",
    "         croppedPic, colorInRange, imgToColors, pointsToList,\n",
    "         roiSelectZoomWindow, roiSelectScoreWindow, subprocBatchOutput,\n",
    "         exploreImgs, buildImgComparisonData, subprocEval)\n",
    "\n",
    "from modules.EvalHelpers import EvalTracker, EvalDataset\n",
    "import sqlalchemy\n",
    "from modules.ControlEval import EvalFactory\n",
    "from modules.DataSchemas import ScoreSchema"
   ]
  },
  {
   "cell_type": "markdown",
   "metadata": {},
   "source": [
    "### Basic Import of guiview log output"
   ]
  },
  {
   "cell_type": "code",
   "execution_count": 167,
   "metadata": {
    "collapsed": true
   },
   "outputs": [],
   "source": [
    "engine = sqlalchemy.create_engine('sqlite:///../data/usr/eval_tmp.db')"
   ]
  },
  {
   "cell_type": "code",
   "execution_count": 168,
   "metadata": {},
   "outputs": [
    {
     "data": {
      "text/html": [
       "<div>\n",
       "<style scoped>\n",
       "    .dataframe tbody tr th:only-of-type {\n",
       "        vertical-align: middle;\n",
       "    }\n",
       "\n",
       "    .dataframe tbody tr th {\n",
       "        vertical-align: top;\n",
       "    }\n",
       "\n",
       "    .dataframe thead th {\n",
       "        text-align: right;\n",
       "    }\n",
       "</style>\n",
       "<table border=\"1\" class=\"dataframe\">\n",
       "  <thead>\n",
       "    <tr style=\"text-align: right;\">\n",
       "      <th></th>\n",
       "      <th>index</th>\n",
       "      <th>input_data0_0</th>\n",
       "      <th>input_data0_1</th>\n",
       "      <th>input_data0_2</th>\n",
       "      <th>input_data0_3</th>\n",
       "      <th>input_data1_0</th>\n",
       "      <th>input_data1_1</th>\n",
       "      <th>input_data1_2</th>\n",
       "      <th>input_data1_3</th>\n",
       "      <th>input_data2_0</th>\n",
       "      <th>...</th>\n",
       "      <th>track_data3_2</th>\n",
       "      <th>track_data3_3</th>\n",
       "      <th>track_obj_exists_0</th>\n",
       "      <th>track_obj_exists_1</th>\n",
       "      <th>track_obj_exists_2</th>\n",
       "      <th>track_obj_exists_3</th>\n",
       "      <th>track_obj_type_0</th>\n",
       "      <th>track_obj_type_1</th>\n",
       "      <th>track_obj_type_2</th>\n",
       "      <th>track_obj_type_3</th>\n",
       "    </tr>\n",
       "  </thead>\n",
       "  <tbody>\n",
       "    <tr>\n",
       "      <th>0</th>\n",
       "      <td>0</td>\n",
       "      <td>107.0</td>\n",
       "      <td>111.0</td>\n",
       "      <td>None</td>\n",
       "      <td>None</td>\n",
       "      <td>214.0</td>\n",
       "      <td>218.0</td>\n",
       "      <td>None</td>\n",
       "      <td>None</td>\n",
       "      <td>54.0</td>\n",
       "      <td>...</td>\n",
       "      <td>None</td>\n",
       "      <td>None</td>\n",
       "      <td>True</td>\n",
       "      <td>None</td>\n",
       "      <td>None</td>\n",
       "      <td>None</td>\n",
       "      <td>circle</td>\n",
       "      <td>None</td>\n",
       "      <td>None</td>\n",
       "      <td>None</td>\n",
       "    </tr>\n",
       "    <tr>\n",
       "      <th>1</th>\n",
       "      <td>1</td>\n",
       "      <td>NaN</td>\n",
       "      <td>NaN</td>\n",
       "      <td>None</td>\n",
       "      <td>None</td>\n",
       "      <td>NaN</td>\n",
       "      <td>NaN</td>\n",
       "      <td>None</td>\n",
       "      <td>None</td>\n",
       "      <td>NaN</td>\n",
       "      <td>...</td>\n",
       "      <td>None</td>\n",
       "      <td>None</td>\n",
       "      <td>True</td>\n",
       "      <td>None</td>\n",
       "      <td>None</td>\n",
       "      <td>None</td>\n",
       "      <td>circle</td>\n",
       "      <td>None</td>\n",
       "      <td>None</td>\n",
       "      <td>None</td>\n",
       "    </tr>\n",
       "    <tr>\n",
       "      <th>2</th>\n",
       "      <td>2</td>\n",
       "      <td>NaN</td>\n",
       "      <td>NaN</td>\n",
       "      <td>None</td>\n",
       "      <td>None</td>\n",
       "      <td>NaN</td>\n",
       "      <td>NaN</td>\n",
       "      <td>None</td>\n",
       "      <td>None</td>\n",
       "      <td>NaN</td>\n",
       "      <td>...</td>\n",
       "      <td>None</td>\n",
       "      <td>None</td>\n",
       "      <td>True</td>\n",
       "      <td>None</td>\n",
       "      <td>None</td>\n",
       "      <td>None</td>\n",
       "      <td>circle</td>\n",
       "      <td>None</td>\n",
       "      <td>None</td>\n",
       "      <td>None</td>\n",
       "    </tr>\n",
       "    <tr>\n",
       "      <th>3</th>\n",
       "      <td>3</td>\n",
       "      <td>NaN</td>\n",
       "      <td>NaN</td>\n",
       "      <td>None</td>\n",
       "      <td>None</td>\n",
       "      <td>NaN</td>\n",
       "      <td>NaN</td>\n",
       "      <td>None</td>\n",
       "      <td>None</td>\n",
       "      <td>NaN</td>\n",
       "      <td>...</td>\n",
       "      <td>None</td>\n",
       "      <td>None</td>\n",
       "      <td>True</td>\n",
       "      <td>None</td>\n",
       "      <td>None</td>\n",
       "      <td>None</td>\n",
       "      <td>circle</td>\n",
       "      <td>None</td>\n",
       "      <td>None</td>\n",
       "      <td>None</td>\n",
       "    </tr>\n",
       "    <tr>\n",
       "      <th>4</th>\n",
       "      <td>4</td>\n",
       "      <td>NaN</td>\n",
       "      <td>NaN</td>\n",
       "      <td>None</td>\n",
       "      <td>None</td>\n",
       "      <td>NaN</td>\n",
       "      <td>NaN</td>\n",
       "      <td>None</td>\n",
       "      <td>None</td>\n",
       "      <td>NaN</td>\n",
       "      <td>...</td>\n",
       "      <td>None</td>\n",
       "      <td>None</td>\n",
       "      <td>True</td>\n",
       "      <td>None</td>\n",
       "      <td>None</td>\n",
       "      <td>None</td>\n",
       "      <td>circle</td>\n",
       "      <td>None</td>\n",
       "      <td>None</td>\n",
       "      <td>None</td>\n",
       "    </tr>\n",
       "  </tbody>\n",
       "</table>\n",
       "<p>5 rows × 49 columns</p>\n",
       "</div>"
      ],
      "text/plain": [
       "   index  input_data0_0  input_data0_1 input_data0_2 input_data0_3  \\\n",
       "0      0          107.0          111.0          None          None   \n",
       "1      1            NaN            NaN          None          None   \n",
       "2      2            NaN            NaN          None          None   \n",
       "3      3            NaN            NaN          None          None   \n",
       "4      4            NaN            NaN          None          None   \n",
       "\n",
       "   input_data1_0  input_data1_1 input_data1_2 input_data1_3  input_data2_0  \\\n",
       "0          214.0          218.0          None          None           54.0   \n",
       "1            NaN            NaN          None          None            NaN   \n",
       "2            NaN            NaN          None          None            NaN   \n",
       "3            NaN            NaN          None          None            NaN   \n",
       "4            NaN            NaN          None          None            NaN   \n",
       "\n",
       "        ...         track_data3_2 track_data3_3 track_obj_exists_0  \\\n",
       "0       ...                  None          None               True   \n",
       "1       ...                  None          None               True   \n",
       "2       ...                  None          None               True   \n",
       "3       ...                  None          None               True   \n",
       "4       ...                  None          None               True   \n",
       "\n",
       "   track_obj_exists_1  track_obj_exists_2 track_obj_exists_3 track_obj_type_0  \\\n",
       "0                None                None               None           circle   \n",
       "1                None                None               None           circle   \n",
       "2                None                None               None           circle   \n",
       "3                None                None               None           circle   \n",
       "4                None                None               None           circle   \n",
       "\n",
       "  track_obj_type_1 track_obj_type_2 track_obj_type_3  \n",
       "0             None             None             None  \n",
       "1             None             None             None  \n",
       "2             None             None             None  \n",
       "3             None             None             None  \n",
       "4             None             None             None  \n",
       "\n",
       "[5 rows x 49 columns]"
      ]
     },
     "execution_count": 168,
     "metadata": {},
     "output_type": "execute_result"
    }
   ],
   "source": [
    "# from outputOutcomeData\n",
    "df_outcome = pd.read_sql_table('output_dataframe', con=engine)\n",
    "df_outcome[:5]"
   ]
  },
  {
   "cell_type": "markdown",
   "metadata": {},
   "source": [
    "### Basic Filtering on Outcome Table"
   ]
  },
  {
   "cell_type": "code",
   "execution_count": 164,
   "metadata": {},
   "outputs": [
    {
     "data": {
      "text/html": [
       "<div>\n",
       "<style scoped>\n",
       "    .dataframe tbody tr th:only-of-type {\n",
       "        vertical-align: middle;\n",
       "    }\n",
       "\n",
       "    .dataframe tbody tr th {\n",
       "        vertical-align: top;\n",
       "    }\n",
       "\n",
       "    .dataframe thead th {\n",
       "        text-align: right;\n",
       "    }\n",
       "</style>\n",
       "<table border=\"1\" class=\"dataframe\">\n",
       "  <thead>\n",
       "    <tr style=\"text-align: right;\">\n",
       "      <th></th>\n",
       "      <th>input_data0_0</th>\n",
       "      <th>input_data1_0</th>\n",
       "      <th>input_data2_0</th>\n",
       "      <th>input_data3_0</th>\n",
       "      <th>input_obj_exists_0</th>\n",
       "      <th>input_obj_type_0</th>\n",
       "      <th>track_data0_0</th>\n",
       "      <th>track_data1_0</th>\n",
       "      <th>track_data2_0</th>\n",
       "      <th>track_data3_0</th>\n",
       "      <th>track_obj_exists_0</th>\n",
       "      <th>track_obj_type_0</th>\n",
       "    </tr>\n",
       "  </thead>\n",
       "  <tbody>\n",
       "    <tr>\n",
       "      <th>0</th>\n",
       "      <td>107.0</td>\n",
       "      <td>214.0</td>\n",
       "      <td>54.0</td>\n",
       "      <td>52.0</td>\n",
       "      <td>True</td>\n",
       "      <td>circle</td>\n",
       "      <td>101</td>\n",
       "      <td>210</td>\n",
       "      <td>64</td>\n",
       "      <td>64</td>\n",
       "      <td>True</td>\n",
       "      <td>circle</td>\n",
       "    </tr>\n",
       "    <tr>\n",
       "      <th>9</th>\n",
       "      <td>194.0</td>\n",
       "      <td>200.0</td>\n",
       "      <td>52.0</td>\n",
       "      <td>53.0</td>\n",
       "      <td>True</td>\n",
       "      <td>circle</td>\n",
       "      <td>183</td>\n",
       "      <td>199</td>\n",
       "      <td>66</td>\n",
       "      <td>66</td>\n",
       "      <td>True</td>\n",
       "      <td>circle</td>\n",
       "    </tr>\n",
       "    <tr>\n",
       "      <th>78</th>\n",
       "      <td>385.0</td>\n",
       "      <td>307.0</td>\n",
       "      <td>54.0</td>\n",
       "      <td>51.0</td>\n",
       "      <td>True</td>\n",
       "      <td>circle</td>\n",
       "      <td>382</td>\n",
       "      <td>302</td>\n",
       "      <td>54</td>\n",
       "      <td>54</td>\n",
       "      <td>True</td>\n",
       "      <td>circle</td>\n",
       "    </tr>\n",
       "    <tr>\n",
       "      <th>116</th>\n",
       "      <td>342.0</td>\n",
       "      <td>302.0</td>\n",
       "      <td>42.0</td>\n",
       "      <td>39.0</td>\n",
       "      <td>True</td>\n",
       "      <td>circle</td>\n",
       "      <td>337</td>\n",
       "      <td>301</td>\n",
       "      <td>44</td>\n",
       "      <td>44</td>\n",
       "      <td>True</td>\n",
       "      <td>circle</td>\n",
       "    </tr>\n",
       "    <tr>\n",
       "      <th>136</th>\n",
       "      <td>268.0</td>\n",
       "      <td>267.0</td>\n",
       "      <td>32.0</td>\n",
       "      <td>31.0</td>\n",
       "      <td>True</td>\n",
       "      <td>circle</td>\n",
       "      <td>263</td>\n",
       "      <td>266</td>\n",
       "      <td>35</td>\n",
       "      <td>35</td>\n",
       "      <td>True</td>\n",
       "      <td>circle</td>\n",
       "    </tr>\n",
       "    <tr>\n",
       "      <th>176</th>\n",
       "      <td>328.0</td>\n",
       "      <td>264.0</td>\n",
       "      <td>12.0</td>\n",
       "      <td>12.0</td>\n",
       "      <td>True</td>\n",
       "      <td>circle</td>\n",
       "      <td>323</td>\n",
       "      <td>263</td>\n",
       "      <td>13</td>\n",
       "      <td>13</td>\n",
       "      <td>True</td>\n",
       "      <td>circle</td>\n",
       "    </tr>\n",
       "    <tr>\n",
       "      <th>187</th>\n",
       "      <td>361.0</td>\n",
       "      <td>270.0</td>\n",
       "      <td>9.0</td>\n",
       "      <td>10.0</td>\n",
       "      <td>True</td>\n",
       "      <td>circle</td>\n",
       "      <td>357</td>\n",
       "      <td>267</td>\n",
       "      <td>10</td>\n",
       "      <td>10</td>\n",
       "      <td>True</td>\n",
       "      <td>circle</td>\n",
       "    </tr>\n",
       "    <tr>\n",
       "      <th>194</th>\n",
       "      <td>369.0</td>\n",
       "      <td>279.0</td>\n",
       "      <td>10.0</td>\n",
       "      <td>9.0</td>\n",
       "      <td>True</td>\n",
       "      <td>circle</td>\n",
       "      <td>365</td>\n",
       "      <td>279</td>\n",
       "      <td>7</td>\n",
       "      <td>7</td>\n",
       "      <td>True</td>\n",
       "      <td>circle</td>\n",
       "    </tr>\n",
       "    <tr>\n",
       "      <th>195</th>\n",
       "      <td>369.0</td>\n",
       "      <td>280.0</td>\n",
       "      <td>11.0</td>\n",
       "      <td>9.0</td>\n",
       "      <td>True</td>\n",
       "      <td>circle</td>\n",
       "      <td>367</td>\n",
       "      <td>280</td>\n",
       "      <td>8</td>\n",
       "      <td>8</td>\n",
       "      <td>True</td>\n",
       "      <td>circle</td>\n",
       "    </tr>\n",
       "    <tr>\n",
       "      <th>201</th>\n",
       "      <td>378.0</td>\n",
       "      <td>280.0</td>\n",
       "      <td>9.0</td>\n",
       "      <td>9.0</td>\n",
       "      <td>True</td>\n",
       "      <td>circle</td>\n",
       "      <td>376</td>\n",
       "      <td>281</td>\n",
       "      <td>4</td>\n",
       "      <td>4</td>\n",
       "      <td>True</td>\n",
       "      <td>circle</td>\n",
       "    </tr>\n",
       "    <tr>\n",
       "      <th>215</th>\n",
       "      <td>375.0</td>\n",
       "      <td>275.0</td>\n",
       "      <td>10.0</td>\n",
       "      <td>9.0</td>\n",
       "      <td>True</td>\n",
       "      <td>circle</td>\n",
       "      <td>376</td>\n",
       "      <td>278</td>\n",
       "      <td>8</td>\n",
       "      <td>8</td>\n",
       "      <td>True</td>\n",
       "      <td>circle</td>\n",
       "    </tr>\n",
       "    <tr>\n",
       "      <th>246</th>\n",
       "      <td>302.0</td>\n",
       "      <td>290.0</td>\n",
       "      <td>8.0</td>\n",
       "      <td>7.0</td>\n",
       "      <td>True</td>\n",
       "      <td>circle</td>\n",
       "      <td>303</td>\n",
       "      <td>291</td>\n",
       "      <td>4</td>\n",
       "      <td>4</td>\n",
       "      <td>True</td>\n",
       "      <td>circle</td>\n",
       "    </tr>\n",
       "    <tr>\n",
       "      <th>270</th>\n",
       "      <td>253.0</td>\n",
       "      <td>299.0</td>\n",
       "      <td>10.0</td>\n",
       "      <td>9.0</td>\n",
       "      <td>True</td>\n",
       "      <td>circle</td>\n",
       "      <td>256</td>\n",
       "      <td>299</td>\n",
       "      <td>2</td>\n",
       "      <td>2</td>\n",
       "      <td>True</td>\n",
       "      <td>circle</td>\n",
       "    </tr>\n",
       "    <tr>\n",
       "      <th>292</th>\n",
       "      <td>382.0</td>\n",
       "      <td>317.0</td>\n",
       "      <td>11.0</td>\n",
       "      <td>11.0</td>\n",
       "      <td>True</td>\n",
       "      <td>circle</td>\n",
       "      <td>373</td>\n",
       "      <td>315</td>\n",
       "      <td>10</td>\n",
       "      <td>10</td>\n",
       "      <td>True</td>\n",
       "      <td>circle</td>\n",
       "    </tr>\n",
       "    <tr>\n",
       "      <th>295</th>\n",
       "      <td>390.0</td>\n",
       "      <td>324.0</td>\n",
       "      <td>11.0</td>\n",
       "      <td>12.0</td>\n",
       "      <td>True</td>\n",
       "      <td>circle</td>\n",
       "      <td>384</td>\n",
       "      <td>320</td>\n",
       "      <td>14</td>\n",
       "      <td>14</td>\n",
       "      <td>True</td>\n",
       "      <td>circle</td>\n",
       "    </tr>\n",
       "    <tr>\n",
       "      <th>307</th>\n",
       "      <td>357.0</td>\n",
       "      <td>344.0</td>\n",
       "      <td>16.0</td>\n",
       "      <td>14.0</td>\n",
       "      <td>True</td>\n",
       "      <td>circle</td>\n",
       "      <td>355</td>\n",
       "      <td>339</td>\n",
       "      <td>9</td>\n",
       "      <td>9</td>\n",
       "      <td>True</td>\n",
       "      <td>circle</td>\n",
       "    </tr>\n",
       "    <tr>\n",
       "      <th>308</th>\n",
       "      <td>345.0</td>\n",
       "      <td>347.0</td>\n",
       "      <td>12.0</td>\n",
       "      <td>13.0</td>\n",
       "      <td>True</td>\n",
       "      <td>circle</td>\n",
       "      <td>331</td>\n",
       "      <td>350</td>\n",
       "      <td>18</td>\n",
       "      <td>18</td>\n",
       "      <td>True</td>\n",
       "      <td>circle</td>\n",
       "    </tr>\n",
       "    <tr>\n",
       "      <th>324</th>\n",
       "      <td>152.0</td>\n",
       "      <td>360.0</td>\n",
       "      <td>17.0</td>\n",
       "      <td>16.0</td>\n",
       "      <td>True</td>\n",
       "      <td>circle</td>\n",
       "      <td>157</td>\n",
       "      <td>356</td>\n",
       "      <td>14</td>\n",
       "      <td>14</td>\n",
       "      <td>True</td>\n",
       "      <td>circle</td>\n",
       "    </tr>\n",
       "    <tr>\n",
       "      <th>340</th>\n",
       "      <td>113.0</td>\n",
       "      <td>310.0</td>\n",
       "      <td>28.0</td>\n",
       "      <td>24.0</td>\n",
       "      <td>True</td>\n",
       "      <td>circle</td>\n",
       "      <td>115</td>\n",
       "      <td>307</td>\n",
       "      <td>26</td>\n",
       "      <td>26</td>\n",
       "      <td>True</td>\n",
       "      <td>circle</td>\n",
       "    </tr>\n",
       "  </tbody>\n",
       "</table>\n",
       "</div>"
      ],
      "text/plain": [
       "     input_data0_0  input_data1_0  input_data2_0  input_data3_0  \\\n",
       "0            107.0          214.0           54.0           52.0   \n",
       "9            194.0          200.0           52.0           53.0   \n",
       "78           385.0          307.0           54.0           51.0   \n",
       "116          342.0          302.0           42.0           39.0   \n",
       "136          268.0          267.0           32.0           31.0   \n",
       "176          328.0          264.0           12.0           12.0   \n",
       "187          361.0          270.0            9.0           10.0   \n",
       "194          369.0          279.0           10.0            9.0   \n",
       "195          369.0          280.0           11.0            9.0   \n",
       "201          378.0          280.0            9.0            9.0   \n",
       "215          375.0          275.0           10.0            9.0   \n",
       "246          302.0          290.0            8.0            7.0   \n",
       "270          253.0          299.0           10.0            9.0   \n",
       "292          382.0          317.0           11.0           11.0   \n",
       "295          390.0          324.0           11.0           12.0   \n",
       "307          357.0          344.0           16.0           14.0   \n",
       "308          345.0          347.0           12.0           13.0   \n",
       "324          152.0          360.0           17.0           16.0   \n",
       "340          113.0          310.0           28.0           24.0   \n",
       "\n",
       "    input_obj_exists_0 input_obj_type_0  track_data0_0  track_data1_0  \\\n",
       "0                 True           circle            101            210   \n",
       "9                 True           circle            183            199   \n",
       "78                True           circle            382            302   \n",
       "116               True           circle            337            301   \n",
       "136               True           circle            263            266   \n",
       "176               True           circle            323            263   \n",
       "187               True           circle            357            267   \n",
       "194               True           circle            365            279   \n",
       "195               True           circle            367            280   \n",
       "201               True           circle            376            281   \n",
       "215               True           circle            376            278   \n",
       "246               True           circle            303            291   \n",
       "270               True           circle            256            299   \n",
       "292               True           circle            373            315   \n",
       "295               True           circle            384            320   \n",
       "307               True           circle            355            339   \n",
       "308               True           circle            331            350   \n",
       "324               True           circle            157            356   \n",
       "340               True           circle            115            307   \n",
       "\n",
       "     track_data2_0  track_data3_0  track_obj_exists_0 track_obj_type_0  \n",
       "0               64             64                True           circle  \n",
       "9               66             66                True           circle  \n",
       "78              54             54                True           circle  \n",
       "116             44             44                True           circle  \n",
       "136             35             35                True           circle  \n",
       "176             13             13                True           circle  \n",
       "187             10             10                True           circle  \n",
       "194              7              7                True           circle  \n",
       "195              8              8                True           circle  \n",
       "201              4              4                True           circle  \n",
       "215              8              8                True           circle  \n",
       "246              4              4                True           circle  \n",
       "270              2              2                True           circle  \n",
       "292             10             10                True           circle  \n",
       "295             14             14                True           circle  \n",
       "307              9              9                True           circle  \n",
       "308             18             18                True           circle  \n",
       "324             14             14                True           circle  \n",
       "340             26             26                True           circle  "
      ]
     },
     "execution_count": 164,
     "metadata": {},
     "output_type": "execute_result"
    }
   ],
   "source": [
    "def filterObjCols(df, objEnum=0):\n",
    "    obj_cols = filter(lambda sCol: sCol.find('_' + str(objEnum)) > -1, \n",
    "                     list(df.columns))\n",
    "    return obj_cols\n",
    "\n",
    "def filterInputScoreRows(df, objEnum=0):\n",
    "    col_name = 'input_obj_exists_' + str(objEnum)\n",
    "    filtered_rows = df[col_name] == True\n",
    "    return filtered_rows\n",
    "\n",
    "def displayRelevantTable(df, objEnum=0):\n",
    "    ''' display only cols for requested obj-enum\n",
    "        display only rows for frame with an input-score\n",
    "    '''\n",
    "    rows = filterInputScoreRows(df, objEnum)\n",
    "    cols = filterObjCols(df, objEnum)\n",
    "    return df[rows][cols]\n",
    "\n",
    "displayRelevantTable(df_outcome)"
   ]
  },
  {
   "cell_type": "code",
   "execution_count": 176,
   "metadata": {},
   "outputs": [
    {
     "data": {
      "text/plain": [
       "<matplotlib.legend.Legend at 0xa581130>"
      ]
     },
     "execution_count": 176,
     "metadata": {},
     "output_type": "execute_result"
    },
    {
     "data": {
      "image/png": "[encoded data removed]",
      "text/plain": [
       "<Figure size 432x288 with 1 Axes>"
      ]
     },
     "metadata": {},
     "output_type": "display_data"
    }
   ],
   "source": [
    "condensed = displayRelevantTable(df_outcome)\n",
    "plt.plot(condensed.track_data2_0)\n",
    "plt.plot(condensed.input_data2_0)\n",
    "plt.legend(['track', 'input'])"
   ]
  },
  {
   "cell_type": "code",
   "execution_count": null,
   "metadata": {
    "collapsed": true
   },
   "outputs": [],
   "source": []
  },
  {
   "cell_type": "code",
   "execution_count": null,
   "metadata": {
    "collapsed": true
   },
   "outputs": [],
   "source": []
  },
  {
   "cell_type": "code",
   "execution_count": null,
   "metadata": {
    "collapsed": true
   },
   "outputs": [],
   "source": []
  },
  {
   "cell_type": "markdown",
   "metadata": {},
   "source": [
    "### Analyze Column Types"
   ]
  },
  {
   "cell_type": "code",
   "execution_count": 128,
   "metadata": {},
   "outputs": [
    {
     "name": "stdout",
     "output_type": "stream",
     "text": [
      "<class 'pandas.core.series.Series'>\n",
      "object\n"
     ]
    }
   ],
   "source": [
    "series = df_outcome.input_obj_exists_0\n",
    "print type(series)\n",
    "print series.dtype"
   ]
  },
  {
   "cell_type": "code",
   "execution_count": 129,
   "metadata": {},
   "outputs": [
    {
     "data": {
      "text/plain": [
       "dtype('float64')"
      ]
     },
     "execution_count": 129,
     "metadata": {},
     "output_type": "execute_result"
    }
   ],
   "source": [
    "series2 = df_outcome['input_data0_0']\n",
    "series2.dtype"
   ]
  },
  {
   "cell_type": "code",
   "execution_count": 123,
   "metadata": {},
   "outputs": [
    {
     "data": {
      "text/plain": [
       "[('index', dtype('int64')),\n",
       " ('input_data0_0', dtype('float64')),\n",
       " ('input_data0_1', dtype('float64')),\n",
       " ('input_data0_2', dtype('O')),\n",
       " ('input_data0_3', dtype('O')),\n",
       " ('input_data1_0', dtype('float64')),\n",
       " ('input_data1_1', dtype('float64')),\n",
       " ('input_data1_2', dtype('O')),\n",
       " ('input_data1_3', dtype('O')),\n",
       " ('input_data2_0', dtype('float64')),\n",
       " ('input_data2_1', dtype('float64')),\n",
       " ('input_data2_2', dtype('O')),\n",
       " ('input_data2_3', dtype('O')),\n",
       " ('input_data3_0', dtype('float64')),\n",
       " ('input_data3_1', dtype('float64')),\n",
       " ('input_data3_2', dtype('O')),\n",
       " ('input_data3_3', dtype('O')),\n",
       " ('input_obj_exists_0', dtype('O')),\n",
       " ('input_obj_exists_1', dtype('O')),\n",
       " ('input_obj_exists_2', dtype('O')),\n",
       " ('input_obj_exists_3', dtype('O')),\n",
       " ('input_obj_type_0', dtype('O')),\n",
       " ('input_obj_type_1', dtype('O')),\n",
       " ('input_obj_type_2', dtype('O')),\n",
       " ('input_obj_type_3', dtype('O')),\n",
       " ('track_data0_0', dtype('int64')),\n",
       " ('track_data0_1', dtype('O')),\n",
       " ('track_data0_2', dtype('O')),\n",
       " ('track_data0_3', dtype('O')),\n",
       " ('track_data1_0', dtype('int64')),\n",
       " ('track_data1_1', dtype('O')),\n",
       " ('track_data1_2', dtype('O')),\n",
       " ('track_data1_3', dtype('O')),\n",
       " ('track_data2_0', dtype('int64')),\n",
       " ('track_data2_1', dtype('O')),\n",
       " ('track_data2_2', dtype('O')),\n",
       " ('track_data2_3', dtype('O')),\n",
       " ('track_data3_0', dtype('int64')),\n",
       " ('track_data3_1', dtype('O')),\n",
       " ('track_data3_2', dtype('O')),\n",
       " ('track_data3_3', dtype('O')),\n",
       " ('track_obj_exists_0', dtype('bool')),\n",
       " ('track_obj_exists_1', dtype('O')),\n",
       " ('track_obj_exists_2', dtype('O')),\n",
       " ('track_obj_exists_3', dtype('O')),\n",
       " ('track_obj_type_0', dtype('O')),\n",
       " ('track_obj_type_1', dtype('O')),\n",
       " ('track_obj_type_2', dtype('O')),\n",
       " ('track_obj_type_3', dtype('O'))]"
      ]
     },
     "execution_count": 123,
     "metadata": {},
     "output_type": "execute_result"
    }
   ],
   "source": [
    "# what type of columns are present in df_outcome?\n",
    "dtypes = []\n",
    "for _col in df_outcome.columns:\n",
    "    _val = None\n",
    "    try:\n",
    "        _val = df_outcome[_col].dtype\n",
    "    except:\n",
    "        pass\n",
    "    dtypes.append((_col, _val))\n",
    "    \n",
    "dtypes"
   ]
  },
  {
   "cell_type": "code",
   "execution_count": 125,
   "metadata": {},
   "outputs": [
    {
     "data": {
      "text/plain": [
       "0    True\n",
       "1    True\n",
       "2    True\n",
       "3    True\n",
       "Name: track_obj_exists_0, dtype: bool"
      ]
     },
     "execution_count": 125,
     "metadata": {},
     "output_type": "execute_result"
    }
   ],
   "source": [
    "df_outcome.track_obj_exists_0[:4]"
   ]
  },
  {
   "cell_type": "code",
   "execution_count": 127,
   "metadata": {},
   "outputs": [
    {
     "data": {
      "text/plain": [
       "0    True\n",
       "1    None\n",
       "2    None\n",
       "3    None\n",
       "Name: input_obj_exists_0, dtype: object"
      ]
     },
     "execution_count": 127,
     "metadata": {},
     "output_type": "execute_result"
    }
   ],
   "source": [
    "# so, it does appear that once you add in Nones to a bool, \n",
    "# pndas converts to obj-dtype\n",
    "df_outcome.input_obj_exists_0[:4]"
   ]
  },
  {
   "cell_type": "code",
   "execution_count": 130,
   "metadata": {},
   "outputs": [
    {
     "data": {
      "text/plain": [
       "0    107.0\n",
       "1      NaN\n",
       "2      NaN\n",
       "3      NaN\n",
       "Name: input_data0_0, dtype: float64"
      ]
     },
     "execution_count": 130,
     "metadata": {},
     "output_type": "execute_result"
    }
   ],
   "source": [
    "# but once you start with a number (float64) input, you will remain with a number\n",
    "# format with pandas coercing None to np.NaN\n",
    "df_outcome.input_data0_0[:4]"
   ]
  },
  {
   "cell_type": "markdown",
   "metadata": {},
   "source": [
    "### Types and aggregation"
   ]
  },
  {
   "cell_type": "code",
   "execution_count": 142,
   "metadata": {
    "collapsed": true
   },
   "outputs": [],
   "source": [
    "# can sum all three types of data: float64, bool, and obj"
   ]
  },
  {
   "cell_type": "code",
   "execution_count": 141,
   "metadata": {},
   "outputs": [
    {
     "name": "stdout",
     "output_type": "stream",
     "text": [
      "float64\n"
     ]
    },
    {
     "data": {
      "text/plain": [
       "5770.0"
      ]
     },
     "execution_count": 141,
     "metadata": {},
     "output_type": "execute_result"
    }
   ],
   "source": [
    "series = df_outcome['input_data0_0']\n",
    "print series.dtype\n",
    "series.sum()"
   ]
  },
  {
   "cell_type": "code",
   "execution_count": 169,
   "metadata": {},
   "outputs": [
    {
     "name": "stdout",
     "output_type": "stream",
     "text": [
      "bool\n"
     ]
    },
    {
     "data": {
      "text/plain": [
       "345"
      ]
     },
     "execution_count": 169,
     "metadata": {},
     "output_type": "execute_result"
    }
   ],
   "source": [
    "series2 = df_outcome['track_obj_exists_0']\n",
    "print series2.dtype\n",
    "series2.sum()"
   ]
  },
  {
   "cell_type": "code",
   "execution_count": 166,
   "metadata": {},
   "outputs": [
    {
     "name": "stdout",
     "output_type": "stream",
     "text": [
      "object\n"
     ]
    },
    {
     "data": {
      "text/plain": [
       "19"
      ]
     },
     "execution_count": 166,
     "metadata": {},
     "output_type": "execute_result"
    }
   ],
   "source": [
    "series3 = df_outcome['input_obj_exists_0']\n",
    "print series3.dtype\n",
    "series3.sum()"
   ]
  },
  {
   "cell_type": "code",
   "execution_count": 145,
   "metadata": {},
   "outputs": [
    {
     "data": {
      "text/plain": [
       "[]"
      ]
     },
     "execution_count": 145,
     "metadata": {},
     "output_type": "execute_result"
    }
   ],
   "source": [
    "# Note trackSuccess is always True here? Need to look at radius instead?\n",
    "# or use a different algo\n",
    "[elem for elem in list(series2) if elem == False]"
   ]
  },
  {
   "cell_type": "code",
   "execution_count": 146,
   "metadata": {},
   "outputs": [
    {
     "name": "stdout",
     "output_type": "stream",
     "text": [
      "True <type 'bool'>\n",
      "None <type 'NoneType'>\n"
     ]
    }
   ],
   "source": [
    "# analyze the type of individual values in Objest-Type Series:\n",
    "scalar_obj = df_outcome['input_obj_exists_0'][0]\n",
    "scalar_obj2 = df_outcome['input_obj_exists_0'][1]\n",
    "\n",
    "print scalar_obj, type(scalar_obj)\n",
    "print scalar_obj2, type(scalar_obj2)"
   ]
  },
  {
   "cell_type": "code",
   "execution_count": 149,
   "metadata": {},
   "outputs": [
    {
     "name": "stdout",
     "output_type": "stream",
     "text": [
      "True <type 'numpy.bool_'>\n",
      "True <type 'numpy.bool_'>\n"
     ]
    }
   ],
   "source": [
    "# analyze the type of individual values in Objest-Type Series:\n",
    "scalar_obj = df_outcome['track_obj_exists_0'][0]\n",
    "scalar_obj2 = df_outcome['track_obj_exists_0'][1]\n",
    "\n",
    "print scalar_obj, type(scalar_obj)\n",
    "print scalar_obj2, type(scalar_obj2)"
   ]
  },
  {
   "cell_type": "code",
   "execution_count": 150,
   "metadata": {},
   "outputs": [
    {
     "data": {
      "text/plain": [
       "bool"
      ]
     },
     "execution_count": 150,
     "metadata": {},
     "output_type": "execute_result"
    }
   ],
   "source": [
    "# once converted to a list, back in PlainOldPythonType 'bool'\n",
    "type(list(df_outcome['track_obj_exists_0'])[0])"
   ]
  },
  {
   "cell_type": "code",
   "execution_count": 172,
   "metadata": {},
   "outputs": [
    {
     "name": "stdout",
     "output_type": "stream",
     "text": [
      "['obj_exists_0', 'obj_type_0', 'data0_0', 'data1_0', 'data2_0', 'data3_0']\n"
     ]
    }
   ],
   "source": [
    "print ScoreSchema.getScalarFields(num_objs=1)"
   ]
  },
  {
   "cell_type": "code",
   "execution_count": null,
   "metadata": {
    "collapsed": true
   },
   "outputs": [],
   "source": []
  },
  {
   "cell_type": "code",
   "execution_count": null,
   "metadata": {
    "collapsed": true
   },
   "outputs": [],
   "source": []
  },
  {
   "cell_type": "markdown",
   "metadata": {},
   "source": [
    "### Analyze the SQL aspect of pandas to/from"
   ]
  },
  {
   "cell_type": "code",
   "execution_count": null,
   "metadata": {
    "collapsed": true
   },
   "outputs": [],
   "source": []
  },
  {
   "cell_type": "code",
   "execution_count": null,
   "metadata": {
    "collapsed": true
   },
   "outputs": [],
   "source": []
  },
  {
   "cell_type": "markdown",
   "metadata": {},
   "source": [
    "### Use subprocEval to compare algo-perf byFrame"
   ]
  },
  {
   "cell_type": "code",
   "execution_count": 23,
   "metadata": {
    "collapsed": true
   },
   "outputs": [],
   "source": [
    "from modules.AnalysisHelpers import subprocEval"
   ]
  },
  {
   "cell_type": "code",
   "execution_count": 34,
   "metadata": {},
   "outputs": [
    {
     "name": "stdout",
     "output_type": "stream",
     "text": [
      "length of 28\n",
      "length of 28\n",
      "length of 10\n"
     ]
    }
   ],
   "source": [
    "vid_fn = 'data/proc/raw/oct20/output4.avi'\n",
    "algos = [0,1,2]\n",
    "\n",
    "eval_data = []\n",
    "for _algo in algos:\n",
    "    \n",
    "    eval_data.append(subprocEval(vid_fn, algo_enum = _algo))\n",
    "    \n",
    "for _df in eval_data:\n",
    "    print 'length of %i' % len(_df[_df.checkTrackSuccess == False])"
   ]
  },
  {
   "cell_type": "code",
   "execution_count": 35,
   "metadata": {
    "collapsed": true
   },
   "outputs": [],
   "source": [
    "mydf = eval_data[2]"
   ]
  },
  {
   "cell_type": "code",
   "execution_count": 36,
   "metadata": {
    "collapsed": true
   },
   "outputs": [],
   "source": [
    "from modules.EvalHelpers import EvalDataset"
   ]
  },
  {
   "cell_type": "code",
   "execution_count": 39,
   "metadata": {
    "collapsed": true
   },
   "outputs": [],
   "source": [
    "my_evdata = EvalDataset()"
   ]
  },
  {
   "cell_type": "code",
   "execution_count": 40,
   "metadata": {
    "collapsed": true
   },
   "outputs": [],
   "source": [
    "my_evdata.setDf(mydf.copy())"
   ]
  },
  {
   "cell_type": "code",
   "execution_count": 42,
   "metadata": {
    "collapsed": true
   },
   "outputs": [],
   "source": [
    "tmp_df = my_evdata.getDataset()"
   ]
  },
  {
   "cell_type": "code",
   "execution_count": 44,
   "metadata": {
    "collapsed": true
   },
   "outputs": [],
   "source": [
    "condition_1 = (tmp_df.checkTrackSuccess == False)"
   ]
  },
  {
   "cell_type": "code",
   "execution_count": 45,
   "metadata": {},
   "outputs": [
    {
     "data": {
      "text/plain": [
       "(386,)"
      ]
     },
     "execution_count": 45,
     "metadata": {},
     "output_type": "execute_result"
    }
   ],
   "source": [
    "condition_1.shape"
   ]
  },
  {
   "cell_type": "code",
   "execution_count": 46,
   "metadata": {
    "collapsed": true
   },
   "outputs": [],
   "source": [
    "my_evdata.setRowsRequested(condition_1)"
   ]
  },
  {
   "cell_type": "code",
   "execution_count": 50,
   "metadata": {},
   "outputs": [
    {
     "data": {
      "text/plain": [
       "False"
      ]
     },
     "execution_count": 50,
     "metadata": {},
     "output_type": "execute_result"
    }
   ],
   "source": [
    "condition_1[0]"
   ]
  },
  {
   "cell_type": "code",
   "execution_count": 51,
   "metadata": {
    "collapsed": true
   },
   "outputs": [],
   "source": [
    "frames = [i for i,v in enumerate(condition_1) if v]"
   ]
  },
  {
   "cell_type": "code",
   "execution_count": 52,
   "metadata": {},
   "outputs": [
    {
     "data": {
      "text/plain": [
       "[142, 144, 152, 153, 154, 155, 157, 159, 160, 161]"
      ]
     },
     "execution_count": 52,
     "metadata": {},
     "output_type": "execute_result"
    }
   ],
   "source": [
    "frames"
   ]
  },
  {
   "cell_type": "code",
   "execution_count": 53,
   "metadata": {},
   "outputs": [
    {
     "data": {
      "text/plain": [
       "[142, 144, 152, 153, 154, 155, 157, 159, 160, 161]"
      ]
     },
     "execution_count": 53,
     "metadata": {},
     "output_type": "execute_result"
    }
   ],
   "source": [
    "listGS = subprocBatchOutput(vid_fn, batch_list = frames )\n",
    "[_gs.frameCounter for _gs in listGS]"
   ]
  },
  {
   "cell_type": "code",
   "execution_count": 54,
   "metadata": {},
   "outputs": [
    {
     "data": {
      "image/png": "[encoded data removed]",
      "text/plain": [
       "<Figure size 720x144 with 20 Axes>"
      ]
     },
     "metadata": {},
     "output_type": "display_data"
    }
   ],
   "source": [
    "exploreImgs(listGS[:10], figw=10)"
   ]
  },
  {
   "cell_type": "code",
   "execution_count": null,
   "metadata": {
    "collapsed": true
   },
   "outputs": [],
   "source": []
  },
  {
   "cell_type": "code",
   "execution_count": 31,
   "metadata": {},
   "outputs": [
    {
     "name": "stdout",
     "output_type": "stream",
     "text": [
      "length of 28\n"
     ]
    },
    {
     "data": {
      "text/html": [
       "<div>\n",
       "<style scoped>\n",
       "    .dataframe tbody tr th:only-of-type {\n",
       "        vertical-align: middle;\n",
       "    }\n",
       "\n",
       "    .dataframe tbody tr th {\n",
       "        vertical-align: top;\n",
       "    }\n",
       "\n",
       "    .dataframe thead th {\n",
       "        text-align: right;\n",
       "    }\n",
       "</style>\n",
       "<table border=\"1\" class=\"dataframe\">\n",
       "  <thead>\n",
       "    <tr style=\"text-align: right;\">\n",
       "      <th></th>\n",
       "      <th>index</th>\n",
       "      <th>checkBaselineInsideTrack</th>\n",
       "      <th>checkBothContainsOther</th>\n",
       "      <th>checkEitherContainsOther</th>\n",
       "      <th>checkTrackInsideBaseline</th>\n",
       "      <th>checkTrackInsideBaselineRect</th>\n",
       "      <th>checkTrackSuccess</th>\n",
       "      <th>compareRadii</th>\n",
       "      <th>distanceFromBaseline</th>\n",
       "    </tr>\n",
       "  </thead>\n",
       "  <tbody>\n",
       "    <tr>\n",
       "      <th>142</th>\n",
       "      <td>142</td>\n",
       "      <td>False</td>\n",
       "      <td>False</td>\n",
       "      <td>False</td>\n",
       "      <td>False</td>\n",
       "      <td>False</td>\n",
       "      <td>False</td>\n",
       "      <td>None</td>\n",
       "      <td>9999.9</td>\n",
       "    </tr>\n",
       "    <tr>\n",
       "      <th>144</th>\n",
       "      <td>144</td>\n",
       "      <td>False</td>\n",
       "      <td>False</td>\n",
       "      <td>False</td>\n",
       "      <td>False</td>\n",
       "      <td>False</td>\n",
       "      <td>False</td>\n",
       "      <td>None</td>\n",
       "      <td>9999.9</td>\n",
       "    </tr>\n",
       "    <tr>\n",
       "      <th>152</th>\n",
       "      <td>152</td>\n",
       "      <td>False</td>\n",
       "      <td>False</td>\n",
       "      <td>False</td>\n",
       "      <td>False</td>\n",
       "      <td>False</td>\n",
       "      <td>False</td>\n",
       "      <td>None</td>\n",
       "      <td>9999.9</td>\n",
       "    </tr>\n",
       "    <tr>\n",
       "      <th>153</th>\n",
       "      <td>153</td>\n",
       "      <td>False</td>\n",
       "      <td>False</td>\n",
       "      <td>False</td>\n",
       "      <td>False</td>\n",
       "      <td>False</td>\n",
       "      <td>False</td>\n",
       "      <td>None</td>\n",
       "      <td>9999.9</td>\n",
       "    </tr>\n",
       "  </tbody>\n",
       "</table>\n",
       "</div>"
      ],
      "text/plain": [
       "     index checkBaselineInsideTrack checkBothContainsOther  \\\n",
       "142    142                    False                  False   \n",
       "144    144                    False                  False   \n",
       "152    152                    False                  False   \n",
       "153    153                    False                  False   \n",
       "\n",
       "    checkEitherContainsOther checkTrackInsideBaseline  \\\n",
       "142                    False                    False   \n",
       "144                    False                    False   \n",
       "152                    False                    False   \n",
       "153                    False                    False   \n",
       "\n",
       "    checkTrackInsideBaselineRect  checkTrackSuccess compareRadii  \\\n",
       "142                        False              False         None   \n",
       "144                        False              False         None   \n",
       "152                        False              False         None   \n",
       "153                        False              False         None   \n",
       "\n",
       "     distanceFromBaseline  \n",
       "142                9999.9  \n",
       "144                9999.9  \n",
       "152                9999.9  \n",
       "153                9999.9  "
      ]
     },
     "execution_count": 31,
     "metadata": {},
     "output_type": "execute_result"
    }
   ],
   "source": [
    "print 'length of %i' % len(df4[df4.checkTrackSuccess == False])\n",
    "df4[df4.checkTrackSuccess == False][:4]"
   ]
  },
  {
   "cell_type": "code",
   "execution_count": null,
   "metadata": {
    "collapsed": true
   },
   "outputs": [],
   "source": []
  },
  {
   "cell_type": "code",
   "execution_count": null,
   "metadata": {
    "collapsed": true
   },
   "outputs": [],
   "source": []
  },
  {
   "cell_type": "code",
   "execution_count": 5,
   "metadata": {
    "collapsed": true
   },
   "outputs": [],
   "source": [
    "engine = sqlalchemy.create_engine('sqlite://', echo=True)"
   ]
  },
  {
   "cell_type": "code",
   "execution_count": 6,
   "metadata": {
    "collapsed": true
   },
   "outputs": [],
   "source": [
    "engine2 = sqlalchemy.create_engine('sqlite:///tmp.db', echo=True)"
   ]
  },
  {
   "cell_type": "code",
   "execution_count": 9,
   "metadata": {},
   "outputs": [
    {
     "name": "stdout",
     "output_type": "stream",
     "text": [
      "2018-12-28 18:26:56,349 INFO sqlalchemy.engine.base.Engine SELECT CAST('test plain returns' AS VARCHAR(60)) AS anon_1\n",
      "2018-12-28 18:26:56,351 INFO sqlalchemy.engine.base.Engine ()\n",
      "2018-12-28 18:26:56,355 INFO sqlalchemy.engine.base.Engine SELECT CAST('test unicode returns' AS VARCHAR(60)) AS anon_1\n",
      "2018-12-28 18:26:56,357 INFO sqlalchemy.engine.base.Engine ()\n",
      "2018-12-28 18:26:56,358 INFO sqlalchemy.engine.base.Engine PRAGMA table_info(\"myname\")\n",
      "2018-12-28 18:26:56,361 INFO sqlalchemy.engine.base.Engine ()\n",
      "2018-12-28 18:26:56,369 INFO sqlalchemy.engine.base.Engine \n",
      "CREATE TABLE myname (\n",
      "\t\"index\" BIGINT, \n",
      "\t\"checkBaselineInsideTrack\" BOOLEAN, \n",
      "\t\"checkBothContainsOther\" BOOLEAN, \n",
      "\t\"checkEitherContainsOther\" BOOLEAN, \n",
      "\t\"checkTrackInsideBaseline\" BOOLEAN, \n",
      "\t\"checkTrackInsideBaselineRect\" BOOLEAN, \n",
      "\t\"checkTrackSuccess\" BOOLEAN, \n",
      "\t\"compareRadii\" BIGINT, \n",
      "\t\"distanceFromBaseline\" FLOAT, \n",
      "\t\"frameCounter\" BIGINT, \n",
      "\t\"listIndex\" BIGINT, \n",
      "\tCHECK (\"checkBaselineInsideTrack\" IN (0, 1)), \n",
      "\tCHECK (\"checkBothContainsOther\" IN (0, 1)), \n",
      "\tCHECK (\"checkEitherContainsOther\" IN (0, 1)), \n",
      "\tCHECK (\"checkTrackInsideBaseline\" IN (0, 1)), \n",
      "\tCHECK (\"checkTrackInsideBaselineRect\" IN (0, 1)), \n",
      "\tCHECK (\"checkTrackSuccess\" IN (0, 1))\n",
      ")\n",
      "\n",
      "\n",
      "2018-12-28 18:26:56,371 INFO sqlalchemy.engine.base.Engine ()\n",
      "2018-12-28 18:26:56,392 INFO sqlalchemy.engine.base.Engine COMMIT\n",
      "2018-12-28 18:26:56,394 INFO sqlalchemy.engine.base.Engine CREATE INDEX ix_myname_index ON myname (\"index\")\n",
      "2018-12-28 18:26:56,395 INFO sqlalchemy.engine.base.Engine ()\n",
      "2018-12-28 18:26:56,413 INFO sqlalchemy.engine.base.Engine COMMIT\n",
      "2018-12-28 18:26:56,424 INFO sqlalchemy.engine.base.Engine BEGIN (implicit)\n",
      "2018-12-28 18:26:56,427 INFO sqlalchemy.engine.base.Engine INSERT INTO myname (\"index\", \"checkBaselineInsideTrack\", \"checkBothContainsOther\", \"checkEitherContainsOther\", \"checkTrackInsideBaseline\", \"checkTrackInsideBaselineRect\", \"checkTrackSuccess\", \"compareRadii\", \"distanceFromBaseline\", \"frameCounter\", \"listIndex\") VALUES (?, ?, ?, ?, ?, ?, ?, ?, ?, ?, ?)\n",
      "2018-12-28 18:26:56,428 INFO sqlalchemy.engine.base.Engine ((0L, 1, 1, 1, 1, 0, 1, 6L, 2.23606797749979, 0L, 0L), (1L, 1, 1, 1, 1, 0, 1, 7L, 7.211102550927978, 9L, 1L), (2L, 1, 1, 1, 1, 0, 1, -1L, 1.4142135623730951, 78L, 2L), (3L, 1, 1, 1, 1, 0, 1, 3L, 4.47213595499958, 116L, 3L), (4L, 1, 1, 1, 1, 0, 1, 2L, 4.123105625617661, 136L, 4L), (5L, 1, 1, 1, 1, 0, 1, 0L, 5.385164807134504, 176L, 5L), (6L, 0, 0, 0, 0, 0, 1, -1L, 5.385164807134504, 187L, 6L), (7L, 0, 0, 0, 0, 0, 1, -2L, 6.0, 194L, 7L)  ... displaying 10 of 19 total bound parameter sets ...  (17L, 0, 0, 1, 1, 0, 1, -2L, 6.708203932499369, 324L, 17L), (18L, 1, 1, 1, 1, 0, 1, 1L, 2.23606797749979, 340L, 18L))\n",
      "2018-12-28 18:26:56,433 INFO sqlalchemy.engine.base.Engine COMMIT\n"
     ]
    }
   ],
   "source": [
    "df.to_sql('myname', con=engine2 )"
   ]
  },
  {
   "cell_type": "code",
   "execution_count": 10,
   "metadata": {
    "collapsed": true
   },
   "outputs": [],
   "source": [
    "engine3 = sqlalchemy.create_engine('sqlite:///tmp.db', echo=True)"
   ]
  },
  {
   "cell_type": "code",
   "execution_count": 12,
   "metadata": {},
   "outputs": [
    {
     "name": "stdout",
     "output_type": "stream",
     "text": [
      "2018-12-28 18:29:21,338 INFO sqlalchemy.engine.base.Engine SELECT CAST('test plain returns' AS VARCHAR(60)) AS anon_1\n",
      "2018-12-28 18:29:21,339 INFO sqlalchemy.engine.base.Engine ()\n",
      "2018-12-28 18:29:21,342 INFO sqlalchemy.engine.base.Engine SELECT CAST('test unicode returns' AS VARCHAR(60)) AS anon_1\n",
      "2018-12-28 18:29:21,342 INFO sqlalchemy.engine.base.Engine ()\n",
      "2018-12-28 18:29:21,345 INFO sqlalchemy.engine.base.Engine SELECT name FROM sqlite_master WHERE type='table' ORDER BY name\n",
      "2018-12-28 18:29:21,349 INFO sqlalchemy.engine.base.Engine ()\n",
      "2018-12-28 18:29:21,357 INFO sqlalchemy.engine.base.Engine SELECT name FROM sqlite_master WHERE type='view' ORDER BY name\n",
      "2018-12-28 18:29:21,358 INFO sqlalchemy.engine.base.Engine ()\n",
      "2018-12-28 18:29:21,361 INFO sqlalchemy.engine.base.Engine PRAGMA table_info(\"myname\")\n",
      "2018-12-28 18:29:21,362 INFO sqlalchemy.engine.base.Engine ()\n",
      "2018-12-28 18:29:21,369 INFO sqlalchemy.engine.base.Engine SELECT sql FROM  (SELECT * FROM sqlite_master UNION ALL   SELECT * FROM sqlite_temp_master) WHERE name = 'myname' AND type = 'table'\n",
      "2018-12-28 18:29:21,371 INFO sqlalchemy.engine.base.Engine ()\n",
      "2018-12-28 18:29:21,374 INFO sqlalchemy.engine.base.Engine PRAGMA foreign_key_list(\"myname\")\n",
      "2018-12-28 18:29:21,375 INFO sqlalchemy.engine.base.Engine ()\n",
      "2018-12-28 18:29:21,378 INFO sqlalchemy.engine.base.Engine SELECT sql FROM  (SELECT * FROM sqlite_master UNION ALL   SELECT * FROM sqlite_temp_master) WHERE name = 'myname' AND type = 'table'\n",
      "2018-12-28 18:29:21,378 INFO sqlalchemy.engine.base.Engine ()\n",
      "2018-12-28 18:29:21,384 INFO sqlalchemy.engine.base.Engine PRAGMA index_list(\"myname\")\n",
      "2018-12-28 18:29:21,387 INFO sqlalchemy.engine.base.Engine ()\n",
      "2018-12-28 18:29:21,390 INFO sqlalchemy.engine.base.Engine PRAGMA index_info(\"ix_myname_index\")\n",
      "2018-12-28 18:29:21,391 INFO sqlalchemy.engine.base.Engine ()\n",
      "2018-12-28 18:29:21,394 INFO sqlalchemy.engine.base.Engine PRAGMA index_list(\"myname\")\n",
      "2018-12-28 18:29:21,395 INFO sqlalchemy.engine.base.Engine ()\n",
      "2018-12-28 18:29:21,398 INFO sqlalchemy.engine.base.Engine PRAGMA index_info(\"ix_myname_index\")\n",
      "2018-12-28 18:29:21,400 INFO sqlalchemy.engine.base.Engine ()\n",
      "2018-12-28 18:29:21,403 INFO sqlalchemy.engine.base.Engine SELECT sql FROM  (SELECT * FROM sqlite_master UNION ALL   SELECT * FROM sqlite_temp_master) WHERE name = 'myname' AND type = 'table'\n",
      "2018-12-28 18:29:21,404 INFO sqlalchemy.engine.base.Engine ()\n",
      "2018-12-28 18:29:21,414 INFO sqlalchemy.engine.base.Engine SELECT myname.\"index\", myname.\"checkBaselineInsideTrack\", myname.\"checkBothContainsOther\", myname.\"checkEitherContainsOther\", myname.\"checkTrackInsideBaseline\", myname.\"checkTrackInsideBaselineRect\", myname.\"checkTrackSuccess\", myname.\"compareRadii\", myname.\"distanceFromBaseline\", myname.\"frameCounter\", myname.\"listIndex\" \n",
      "FROM myname\n",
      "2018-12-28 18:29:21,417 INFO sqlalchemy.engine.base.Engine ()\n"
     ]
    }
   ],
   "source": [
    "newdf = pd.read_sql_table('myname', con=engine3)"
   ]
  },
  {
   "cell_type": "code",
   "execution_count": 13,
   "metadata": {},
   "outputs": [
    {
     "data": {
      "text/html": [
       "<div>\n",
       "<style scoped>\n",
       "    .dataframe tbody tr th:only-of-type {\n",
       "        vertical-align: middle;\n",
       "    }\n",
       "\n",
       "    .dataframe tbody tr th {\n",
       "        vertical-align: top;\n",
       "    }\n",
       "\n",
       "    .dataframe thead th {\n",
       "        text-align: right;\n",
       "    }\n",
       "</style>\n",
       "<table border=\"1\" class=\"dataframe\">\n",
       "  <thead>\n",
       "    <tr style=\"text-align: right;\">\n",
       "      <th></th>\n",
       "      <th>index</th>\n",
       "      <th>checkBaselineInsideTrack</th>\n",
       "      <th>checkBothContainsOther</th>\n",
       "      <th>checkEitherContainsOther</th>\n",
       "      <th>checkTrackInsideBaseline</th>\n",
       "      <th>checkTrackInsideBaselineRect</th>\n",
       "      <th>checkTrackSuccess</th>\n",
       "      <th>compareRadii</th>\n",
       "      <th>distanceFromBaseline</th>\n",
       "      <th>frameCounter</th>\n",
       "      <th>listIndex</th>\n",
       "    </tr>\n",
       "  </thead>\n",
       "  <tbody>\n",
       "    <tr>\n",
       "      <th>0</th>\n",
       "      <td>0</td>\n",
       "      <td>True</td>\n",
       "      <td>True</td>\n",
       "      <td>True</td>\n",
       "      <td>True</td>\n",
       "      <td>False</td>\n",
       "      <td>True</td>\n",
       "      <td>6</td>\n",
       "      <td>2.236068</td>\n",
       "      <td>0</td>\n",
       "      <td>0</td>\n",
       "    </tr>\n",
       "    <tr>\n",
       "      <th>1</th>\n",
       "      <td>1</td>\n",
       "      <td>True</td>\n",
       "      <td>True</td>\n",
       "      <td>True</td>\n",
       "      <td>True</td>\n",
       "      <td>False</td>\n",
       "      <td>True</td>\n",
       "      <td>7</td>\n",
       "      <td>7.211103</td>\n",
       "      <td>9</td>\n",
       "      <td>1</td>\n",
       "    </tr>\n",
       "    <tr>\n",
       "      <th>2</th>\n",
       "      <td>2</td>\n",
       "      <td>True</td>\n",
       "      <td>True</td>\n",
       "      <td>True</td>\n",
       "      <td>True</td>\n",
       "      <td>False</td>\n",
       "      <td>True</td>\n",
       "      <td>-1</td>\n",
       "      <td>1.414214</td>\n",
       "      <td>78</td>\n",
       "      <td>2</td>\n",
       "    </tr>\n",
       "    <tr>\n",
       "      <th>3</th>\n",
       "      <td>3</td>\n",
       "      <td>True</td>\n",
       "      <td>True</td>\n",
       "      <td>True</td>\n",
       "      <td>True</td>\n",
       "      <td>False</td>\n",
       "      <td>True</td>\n",
       "      <td>3</td>\n",
       "      <td>4.472136</td>\n",
       "      <td>116</td>\n",
       "      <td>3</td>\n",
       "    </tr>\n",
       "    <tr>\n",
       "      <th>4</th>\n",
       "      <td>4</td>\n",
       "      <td>True</td>\n",
       "      <td>True</td>\n",
       "      <td>True</td>\n",
       "      <td>True</td>\n",
       "      <td>False</td>\n",
       "      <td>True</td>\n",
       "      <td>2</td>\n",
       "      <td>4.123106</td>\n",
       "      <td>136</td>\n",
       "      <td>4</td>\n",
       "    </tr>\n",
       "    <tr>\n",
       "      <th>5</th>\n",
       "      <td>5</td>\n",
       "      <td>True</td>\n",
       "      <td>True</td>\n",
       "      <td>True</td>\n",
       "      <td>True</td>\n",
       "      <td>False</td>\n",
       "      <td>True</td>\n",
       "      <td>0</td>\n",
       "      <td>5.385165</td>\n",
       "      <td>176</td>\n",
       "      <td>5</td>\n",
       "    </tr>\n",
       "    <tr>\n",
       "      <th>6</th>\n",
       "      <td>6</td>\n",
       "      <td>False</td>\n",
       "      <td>False</td>\n",
       "      <td>False</td>\n",
       "      <td>False</td>\n",
       "      <td>False</td>\n",
       "      <td>True</td>\n",
       "      <td>-1</td>\n",
       "      <td>5.385165</td>\n",
       "      <td>187</td>\n",
       "      <td>6</td>\n",
       "    </tr>\n",
       "    <tr>\n",
       "      <th>7</th>\n",
       "      <td>7</td>\n",
       "      <td>False</td>\n",
       "      <td>False</td>\n",
       "      <td>False</td>\n",
       "      <td>False</td>\n",
       "      <td>False</td>\n",
       "      <td>True</td>\n",
       "      <td>-2</td>\n",
       "      <td>6.000000</td>\n",
       "      <td>194</td>\n",
       "      <td>7</td>\n",
       "    </tr>\n",
       "    <tr>\n",
       "      <th>8</th>\n",
       "      <td>8</td>\n",
       "      <td>False</td>\n",
       "      <td>False</td>\n",
       "      <td>False</td>\n",
       "      <td>False</td>\n",
       "      <td>False</td>\n",
       "      <td>True</td>\n",
       "      <td>-1</td>\n",
       "      <td>4.000000</td>\n",
       "      <td>195</td>\n",
       "      <td>8</td>\n",
       "    </tr>\n",
       "    <tr>\n",
       "      <th>9</th>\n",
       "      <td>9</td>\n",
       "      <td>False</td>\n",
       "      <td>False</td>\n",
       "      <td>False</td>\n",
       "      <td>False</td>\n",
       "      <td>False</td>\n",
       "      <td>True</td>\n",
       "      <td>-3</td>\n",
       "      <td>4.123106</td>\n",
       "      <td>201</td>\n",
       "      <td>9</td>\n",
       "    </tr>\n",
       "    <tr>\n",
       "      <th>10</th>\n",
       "      <td>10</td>\n",
       "      <td>False</td>\n",
       "      <td>False</td>\n",
       "      <td>False</td>\n",
       "      <td>False</td>\n",
       "      <td>True</td>\n",
       "      <td>True</td>\n",
       "      <td>-2</td>\n",
       "      <td>5.385165</td>\n",
       "      <td>215</td>\n",
       "      <td>10</td>\n",
       "    </tr>\n",
       "    <tr>\n",
       "      <th>11</th>\n",
       "      <td>11</td>\n",
       "      <td>True</td>\n",
       "      <td>True</td>\n",
       "      <td>True</td>\n",
       "      <td>True</td>\n",
       "      <td>True</td>\n",
       "      <td>True</td>\n",
       "      <td>-1</td>\n",
       "      <td>1.000000</td>\n",
       "      <td>246</td>\n",
       "      <td>11</td>\n",
       "    </tr>\n",
       "    <tr>\n",
       "      <th>12</th>\n",
       "      <td>12</td>\n",
       "      <td>False</td>\n",
       "      <td>False</td>\n",
       "      <td>True</td>\n",
       "      <td>True</td>\n",
       "      <td>False</td>\n",
       "      <td>True</td>\n",
       "      <td>-3</td>\n",
       "      <td>3.162278</td>\n",
       "      <td>270</td>\n",
       "      <td>12</td>\n",
       "    </tr>\n",
       "    <tr>\n",
       "      <th>13</th>\n",
       "      <td>13</td>\n",
       "      <td>False</td>\n",
       "      <td>False</td>\n",
       "      <td>False</td>\n",
       "      <td>False</td>\n",
       "      <td>False</td>\n",
       "      <td>True</td>\n",
       "      <td>0</td>\n",
       "      <td>9.219544</td>\n",
       "      <td>292</td>\n",
       "      <td>13</td>\n",
       "    </tr>\n",
       "    <tr>\n",
       "      <th>14</th>\n",
       "      <td>14</td>\n",
       "      <td>False</td>\n",
       "      <td>False</td>\n",
       "      <td>False</td>\n",
       "      <td>False</td>\n",
       "      <td>False</td>\n",
       "      <td>True</td>\n",
       "      <td>-2</td>\n",
       "      <td>9.433981</td>\n",
       "      <td>295</td>\n",
       "      <td>14</td>\n",
       "    </tr>\n",
       "    <tr>\n",
       "      <th>15</th>\n",
       "      <td>15</td>\n",
       "      <td>False</td>\n",
       "      <td>False</td>\n",
       "      <td>False</td>\n",
       "      <td>False</td>\n",
       "      <td>False</td>\n",
       "      <td>True</td>\n",
       "      <td>-4</td>\n",
       "      <td>10.630146</td>\n",
       "      <td>307</td>\n",
       "      <td>15</td>\n",
       "    </tr>\n",
       "    <tr>\n",
       "      <th>16</th>\n",
       "      <td>16</td>\n",
       "      <td>False</td>\n",
       "      <td>False</td>\n",
       "      <td>False</td>\n",
       "      <td>False</td>\n",
       "      <td>False</td>\n",
       "      <td>True</td>\n",
       "      <td>3</td>\n",
       "      <td>12.206556</td>\n",
       "      <td>308</td>\n",
       "      <td>16</td>\n",
       "    </tr>\n",
       "    <tr>\n",
       "      <th>17</th>\n",
       "      <td>17</td>\n",
       "      <td>False</td>\n",
       "      <td>False</td>\n",
       "      <td>True</td>\n",
       "      <td>True</td>\n",
       "      <td>False</td>\n",
       "      <td>True</td>\n",
       "      <td>-2</td>\n",
       "      <td>6.708204</td>\n",
       "      <td>324</td>\n",
       "      <td>17</td>\n",
       "    </tr>\n",
       "    <tr>\n",
       "      <th>18</th>\n",
       "      <td>18</td>\n",
       "      <td>True</td>\n",
       "      <td>True</td>\n",
       "      <td>True</td>\n",
       "      <td>True</td>\n",
       "      <td>False</td>\n",
       "      <td>True</td>\n",
       "      <td>1</td>\n",
       "      <td>2.236068</td>\n",
       "      <td>340</td>\n",
       "      <td>18</td>\n",
       "    </tr>\n",
       "  </tbody>\n",
       "</table>\n",
       "</div>"
      ],
      "text/plain": [
       "    index  checkBaselineInsideTrack  checkBothContainsOther  \\\n",
       "0       0                      True                    True   \n",
       "1       1                      True                    True   \n",
       "2       2                      True                    True   \n",
       "3       3                      True                    True   \n",
       "4       4                      True                    True   \n",
       "5       5                      True                    True   \n",
       "6       6                     False                   False   \n",
       "7       7                     False                   False   \n",
       "8       8                     False                   False   \n",
       "9       9                     False                   False   \n",
       "10     10                     False                   False   \n",
       "11     11                      True                    True   \n",
       "12     12                     False                   False   \n",
       "13     13                     False                   False   \n",
       "14     14                     False                   False   \n",
       "15     15                     False                   False   \n",
       "16     16                     False                   False   \n",
       "17     17                     False                   False   \n",
       "18     18                      True                    True   \n",
       "\n",
       "    checkEitherContainsOther  checkTrackInsideBaseline  \\\n",
       "0                       True                      True   \n",
       "1                       True                      True   \n",
       "2                       True                      True   \n",
       "3                       True                      True   \n",
       "4                       True                      True   \n",
       "5                       True                      True   \n",
       "6                      False                     False   \n",
       "7                      False                     False   \n",
       "8                      False                     False   \n",
       "9                      False                     False   \n",
       "10                     False                     False   \n",
       "11                      True                      True   \n",
       "12                      True                      True   \n",
       "13                     False                     False   \n",
       "14                     False                     False   \n",
       "15                     False                     False   \n",
       "16                     False                     False   \n",
       "17                      True                      True   \n",
       "18                      True                      True   \n",
       "\n",
       "    checkTrackInsideBaselineRect  checkTrackSuccess  compareRadii  \\\n",
       "0                          False               True             6   \n",
       "1                          False               True             7   \n",
       "2                          False               True            -1   \n",
       "3                          False               True             3   \n",
       "4                          False               True             2   \n",
       "5                          False               True             0   \n",
       "6                          False               True            -1   \n",
       "7                          False               True            -2   \n",
       "8                          False               True            -1   \n",
       "9                          False               True            -3   \n",
       "10                          True               True            -2   \n",
       "11                          True               True            -1   \n",
       "12                         False               True            -3   \n",
       "13                         False               True             0   \n",
       "14                         False               True            -2   \n",
       "15                         False               True            -4   \n",
       "16                         False               True             3   \n",
       "17                         False               True            -2   \n",
       "18                         False               True             1   \n",
       "\n",
       "    distanceFromBaseline  frameCounter  listIndex  \n",
       "0               2.236068             0          0  \n",
       "1               7.211103             9          1  \n",
       "2               1.414214            78          2  \n",
       "3               4.472136           116          3  \n",
       "4               4.123106           136          4  \n",
       "5               5.385165           176          5  \n",
       "6               5.385165           187          6  \n",
       "7               6.000000           194          7  \n",
       "8               4.000000           195          8  \n",
       "9               4.123106           201          9  \n",
       "10              5.385165           215         10  \n",
       "11              1.000000           246         11  \n",
       "12              3.162278           270         12  \n",
       "13              9.219544           292         13  \n",
       "14              9.433981           295         14  \n",
       "15             10.630146           307         15  \n",
       "16             12.206556           308         16  \n",
       "17              6.708204           324         17  \n",
       "18              2.236068           340         18  "
      ]
     },
     "execution_count": 13,
     "metadata": {},
     "output_type": "execute_result"
    }
   ],
   "source": [
    "newdf"
   ]
  },
  {
   "cell_type": "code",
   "execution_count": null,
   "metadata": {
    "collapsed": true
   },
   "outputs": [],
   "source": []
  },
  {
   "cell_type": "code",
   "execution_count": null,
   "metadata": {
    "collapsed": true
   },
   "outputs": [],
   "source": []
  },
  {
   "cell_type": "code",
   "execution_count": null,
   "metadata": {
    "collapsed": true
   },
   "outputs": [],
   "source": []
  },
  {
   "cell_type": "code",
   "execution_count": null,
   "metadata": {
    "collapsed": true
   },
   "outputs": [],
   "source": []
  },
  {
   "cell_type": "code",
   "execution_count": null,
   "metadata": {
    "collapsed": true
   },
   "outputs": [],
   "source": [
    "DBInterface"
   ]
  },
  {
   "cell_type": "code",
   "execution_count": 7,
   "metadata": {
    "collapsed": true
   },
   "outputs": [],
   "source": [
    "db_name = \"../data/misc/books/eval-data-2/large_dataset.db\"\n",
    "db = DBInterface(db_name)\n",
    "listGS = [ pickle.loads(d[1]) for d in db.selectAll()]\n",
    "tracker = TrackFactory(on=True)\n",
    "tracker.setInit(ballColor = \"orange\")\n",
    "tracker.setAlgoEnum(1)\n",
    "evData = EvalDataset()\n",
    "evData.buildDataset(listGS, tracker)\n",
    "df = evData.getDataset()"
   ]
  },
  {
   "cell_type": "code",
   "execution_count": null,
   "metadata": {
    "collapsed": true
   },
   "outputs": [],
   "source": []
  },
  {
   "cell_type": "code",
   "execution_count": null,
   "metadata": {
    "collapsed": true
   },
   "outputs": [],
   "source": []
  }
 ],
 "metadata": {
  "kernelspec": {
   "display_name": "Python 2",
   "language": "python",
   "name": "python2"
  },
  "language_info": {
   "codemirror_mode": {
    "name": "ipython",
    "version": 2
   },
   "file_extension": ".py",
   "mimetype": "text/x-python",
   "name": "python",
   "nbconvert_exporter": "python",
   "pygments_lexer": "ipython2",
   "version": "2.7.13"
  }
 },
 "nbformat": 4,
 "nbformat_minor": 2
}
