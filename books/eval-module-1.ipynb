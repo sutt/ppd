{
 "cells": [
  {
   "cell_type": "markdown",
   "metadata": {},
   "source": [
    "## Eval Module"
   ]
  },
  {
   "cell_type": "code",
   "execution_count": 33,
   "metadata": {},
   "outputs": [
    {
     "name": "stdout",
     "output_type": "stream",
     "text": [
      "The autoreload extension is already loaded. To reload it, use:\n",
      "  %reload_ext autoreload\n"
     ]
    }
   ],
   "source": [
    "import pandas as pd\n",
    "import sqlalchemy\n",
    "import os, sys, copy, random, pickle, cv2\n",
    "import numpy as np\n",
    "from matplotlib import pyplot as plt\n",
    "%matplotlib inline\n",
    "\n",
    "sys.path.append(\"../\")\n",
    "\n",
    "%load_ext autoreload\n",
    "%autoreload 2\n",
    "\n",
    "from modules.ControlTracking import TrackFactory\n",
    "from modules.ControlDisplay import Display\n",
    "from modules.Interproc import DBInterface, GuiviewState\n",
    "\n",
    "from modules.AnalysisHelpers import ( multiPlot, colorCube,\n",
    "         SubprocColorCube, subprocColorCube, buildConfusionData, \n",
    "         buildConfusionPlotData, buildRegionMarkers, confusionPlotByViews,\n",
    "         confusionPlotByImage, PixelConfusionMatrix, cvtPlot,\n",
    "         applyTracker, presetCubeViews, bytesToPic, bytesToPic2,\n",
    "         croppedPic, colorInRange, imgToColors, pointsToList,\n",
    "         roiSelectZoomWindow, roiSelectScoreWindow, subprocBatchOutput,\n",
    "         exploreImgs, buildImgComparisonData, subprocEval)\n",
    "\n",
    "from modules.EvalHelpers import EvalTracker, EvalDataset"
   ]
  },
  {
   "cell_type": "code",
   "execution_count": 2,
   "metadata": {
    "collapsed": true
   },
   "outputs": [],
   "source": [
    "import sqlalchemy"
   ]
  },
  {
   "cell_type": "code",
   "execution_count": 14,
   "metadata": {
    "collapsed": true
   },
   "outputs": [],
   "source": [
    "engine = sqlalchemy.create_engine('sqlite:///../data/usr/eval_tmp.db')"
   ]
  },
  {
   "cell_type": "code",
   "execution_count": 19,
   "metadata": {
    "collapsed": true
   },
   "outputs": [],
   "source": [
    "interproc_df = pd.read_sql_table('current_dataframe', con=engine)"
   ]
  },
  {
   "cell_type": "code",
   "execution_count": 21,
   "metadata": {},
   "outputs": [
    {
     "data": {
      "text/html": [
       "<div>\n",
       "<style scoped>\n",
       "    .dataframe tbody tr th:only-of-type {\n",
       "        vertical-align: middle;\n",
       "    }\n",
       "\n",
       "    .dataframe tbody tr th {\n",
       "        vertical-align: top;\n",
       "    }\n",
       "\n",
       "    .dataframe thead th {\n",
       "        text-align: right;\n",
       "    }\n",
       "</style>\n",
       "<table border=\"1\" class=\"dataframe\">\n",
       "  <thead>\n",
       "    <tr style=\"text-align: right;\">\n",
       "      <th></th>\n",
       "      <th>index</th>\n",
       "      <th>checkBaselineInsideTrack</th>\n",
       "      <th>checkBothContainsOther</th>\n",
       "      <th>checkEitherContainsOther</th>\n",
       "      <th>checkTrackInsideBaseline</th>\n",
       "      <th>checkTrackInsideBaselineRect</th>\n",
       "      <th>checkTrackSuccess</th>\n",
       "      <th>compareRadii</th>\n",
       "      <th>distanceFromBaseline</th>\n",
       "    </tr>\n",
       "  </thead>\n",
       "  <tbody>\n",
       "    <tr>\n",
       "      <th>0</th>\n",
       "      <td>0</td>\n",
       "      <td>True</td>\n",
       "      <td>True</td>\n",
       "      <td>True</td>\n",
       "      <td>True</td>\n",
       "      <td>True</td>\n",
       "      <td>True</td>\n",
       "      <td>-7.0</td>\n",
       "      <td>5.385165</td>\n",
       "    </tr>\n",
       "    <tr>\n",
       "      <th>1</th>\n",
       "      <td>1</td>\n",
       "      <td>None</td>\n",
       "      <td>None</td>\n",
       "      <td>None</td>\n",
       "      <td>None</td>\n",
       "      <td>None</td>\n",
       "      <td>True</td>\n",
       "      <td>NaN</td>\n",
       "      <td>NaN</td>\n",
       "    </tr>\n",
       "    <tr>\n",
       "      <th>2</th>\n",
       "      <td>2</td>\n",
       "      <td>None</td>\n",
       "      <td>None</td>\n",
       "      <td>None</td>\n",
       "      <td>None</td>\n",
       "      <td>None</td>\n",
       "      <td>True</td>\n",
       "      <td>NaN</td>\n",
       "      <td>NaN</td>\n",
       "    </tr>\n",
       "    <tr>\n",
       "      <th>3</th>\n",
       "      <td>3</td>\n",
       "      <td>None</td>\n",
       "      <td>None</td>\n",
       "      <td>None</td>\n",
       "      <td>None</td>\n",
       "      <td>None</td>\n",
       "      <td>True</td>\n",
       "      <td>NaN</td>\n",
       "      <td>NaN</td>\n",
       "    </tr>\n",
       "    <tr>\n",
       "      <th>4</th>\n",
       "      <td>4</td>\n",
       "      <td>None</td>\n",
       "      <td>None</td>\n",
       "      <td>None</td>\n",
       "      <td>None</td>\n",
       "      <td>None</td>\n",
       "      <td>True</td>\n",
       "      <td>NaN</td>\n",
       "      <td>NaN</td>\n",
       "    </tr>\n",
       "  </tbody>\n",
       "</table>\n",
       "</div>"
      ],
      "text/plain": [
       "   index checkBaselineInsideTrack checkBothContainsOther  \\\n",
       "0      0                     True                   True   \n",
       "1      1                     None                   None   \n",
       "2      2                     None                   None   \n",
       "3      3                     None                   None   \n",
       "4      4                     None                   None   \n",
       "\n",
       "  checkEitherContainsOther checkTrackInsideBaseline  \\\n",
       "0                     True                     True   \n",
       "1                     None                     None   \n",
       "2                     None                     None   \n",
       "3                     None                     None   \n",
       "4                     None                     None   \n",
       "\n",
       "  checkTrackInsideBaselineRect  checkTrackSuccess  compareRadii  \\\n",
       "0                         True               True          -7.0   \n",
       "1                         None               True           NaN   \n",
       "2                         None               True           NaN   \n",
       "3                         None               True           NaN   \n",
       "4                         None               True           NaN   \n",
       "\n",
       "   distanceFromBaseline  \n",
       "0              5.385165  \n",
       "1                   NaN  \n",
       "2                   NaN  \n",
       "3                   NaN  \n",
       "4                   NaN  "
      ]
     },
     "execution_count": 21,
     "metadata": {},
     "output_type": "execute_result"
    }
   ],
   "source": [
    "interproc_df[:5]"
   ]
  },
  {
   "cell_type": "code",
   "execution_count": 23,
   "metadata": {
    "collapsed": true
   },
   "outputs": [],
   "source": [
    "from modules.AnalysisHelpers import subprocEval"
   ]
  },
  {
   "cell_type": "code",
   "execution_count": 34,
   "metadata": {},
   "outputs": [
    {
     "name": "stdout",
     "output_type": "stream",
     "text": [
      "length of 28\n",
      "length of 28\n",
      "length of 10\n"
     ]
    }
   ],
   "source": [
    "vid_fn = 'data/proc/raw/oct20/output4.avi'\n",
    "algos = [0,1,2]\n",
    "\n",
    "eval_data = []\n",
    "for _algo in algos:\n",
    "    \n",
    "    eval_data.append(subprocEval(vid_fn, algo_enum = _algo))\n",
    "    \n",
    "for _df in eval_data:\n",
    "    print 'length of %i' % len(_df[_df.checkTrackSuccess == False])"
   ]
  },
  {
   "cell_type": "code",
   "execution_count": 35,
   "metadata": {
    "collapsed": true
   },
   "outputs": [],
   "source": [
    "mydf = eval_data[2]"
   ]
  },
  {
   "cell_type": "code",
   "execution_count": 36,
   "metadata": {
    "collapsed": true
   },
   "outputs": [],
   "source": [
    "from modules.EvalHelpers import EvalDataset"
   ]
  },
  {
   "cell_type": "code",
   "execution_count": 39,
   "metadata": {
    "collapsed": true
   },
   "outputs": [],
   "source": [
    "my_evdata = EvalDataset()"
   ]
  },
  {
   "cell_type": "code",
   "execution_count": 40,
   "metadata": {},
   "outputs": [],
   "source": [
    "my_evdata.setDf(mydf.copy())"
   ]
  },
  {
   "cell_type": "code",
   "execution_count": 42,
   "metadata": {
    "collapsed": true
   },
   "outputs": [],
   "source": [
    "tmp_df = my_evdata.getDataset()"
   ]
  },
  {
   "cell_type": "code",
   "execution_count": 44,
   "metadata": {
    "collapsed": true
   },
   "outputs": [],
   "source": [
    "condition_1 = (tmp_df.checkTrackSuccess == False)"
   ]
  },
  {
   "cell_type": "code",
   "execution_count": 45,
   "metadata": {},
   "outputs": [
    {
     "data": {
      "text/plain": [
       "(386,)"
      ]
     },
     "execution_count": 45,
     "metadata": {},
     "output_type": "execute_result"
    }
   ],
   "source": [
    "condition_1.shape"
   ]
  },
  {
   "cell_type": "code",
   "execution_count": 46,
   "metadata": {
    "collapsed": true
   },
   "outputs": [],
   "source": [
    "my_evdata.setRowsRequested(condition_1)"
   ]
  },
  {
   "cell_type": "code",
   "execution_count": 50,
   "metadata": {},
   "outputs": [
    {
     "data": {
      "text/plain": [
       "False"
      ]
     },
     "execution_count": 50,
     "metadata": {},
     "output_type": "execute_result"
    }
   ],
   "source": [
    "condition_1[0]"
   ]
  },
  {
   "cell_type": "code",
   "execution_count": 51,
   "metadata": {
    "collapsed": true
   },
   "outputs": [],
   "source": [
    "frames = [i for i,v in enumerate(condition_1) if v]"
   ]
  },
  {
   "cell_type": "code",
   "execution_count": 52,
   "metadata": {},
   "outputs": [
    {
     "data": {
      "text/plain": [
       "[142, 144, 152, 153, 154, 155, 157, 159, 160, 161]"
      ]
     },
     "execution_count": 52,
     "metadata": {},
     "output_type": "execute_result"
    }
   ],
   "source": [
    "frames"
   ]
  },
  {
   "cell_type": "code",
   "execution_count": 53,
   "metadata": {},
   "outputs": [
    {
     "data": {
      "text/plain": [
       "[142, 144, 152, 153, 154, 155, 157, 159, 160, 161]"
      ]
     },
     "execution_count": 53,
     "metadata": {},
     "output_type": "execute_result"
    }
   ],
   "source": [
    "listGS = subprocBatchOutput(vid_fn, batch_list = frames )\n",
    "[_gs.frameCounter for _gs in listGS]"
   ]
  },
  {
   "cell_type": "code",
   "execution_count": 54,
   "metadata": {},
   "outputs": [
    {
     "data": {
      "image/png": "[encoded data removed]",
      "text/plain": [
       "<Figure size 720x144 with 20 Axes>"
      ]
     },
     "metadata": {},
     "output_type": "display_data"
    }
   ],
   "source": [
    "exploreImgs(listGS[:10], figw=10)"
   ]
  },
  {
   "cell_type": "code",
   "execution_count": null,
   "metadata": {
    "collapsed": true
   },
   "outputs": [],
   "source": []
  },
  {
   "cell_type": "code",
   "execution_count": 31,
   "metadata": {},
   "outputs": [
    {
     "name": "stdout",
     "output_type": "stream",
     "text": [
      "length of 28\n"
     ]
    },
    {
     "data": {
      "text/html": [
       "<div>\n",
       "<style scoped>\n",
       "    .dataframe tbody tr th:only-of-type {\n",
       "        vertical-align: middle;\n",
       "    }\n",
       "\n",
       "    .dataframe tbody tr th {\n",
       "        vertical-align: top;\n",
       "    }\n",
       "\n",
       "    .dataframe thead th {\n",
       "        text-align: right;\n",
       "    }\n",
       "</style>\n",
       "<table border=\"1\" class=\"dataframe\">\n",
       "  <thead>\n",
       "    <tr style=\"text-align: right;\">\n",
       "      <th></th>\n",
       "      <th>index</th>\n",
       "      <th>checkBaselineInsideTrack</th>\n",
       "      <th>checkBothContainsOther</th>\n",
       "      <th>checkEitherContainsOther</th>\n",
       "      <th>checkTrackInsideBaseline</th>\n",
       "      <th>checkTrackInsideBaselineRect</th>\n",
       "      <th>checkTrackSuccess</th>\n",
       "      <th>compareRadii</th>\n",
       "      <th>distanceFromBaseline</th>\n",
       "    </tr>\n",
       "  </thead>\n",
       "  <tbody>\n",
       "    <tr>\n",
       "      <th>142</th>\n",
       "      <td>142</td>\n",
       "      <td>False</td>\n",
       "      <td>False</td>\n",
       "      <td>False</td>\n",
       "      <td>False</td>\n",
       "      <td>False</td>\n",
       "      <td>False</td>\n",
       "      <td>None</td>\n",
       "      <td>9999.9</td>\n",
       "    </tr>\n",
       "    <tr>\n",
       "      <th>144</th>\n",
       "      <td>144</td>\n",
       "      <td>False</td>\n",
       "      <td>False</td>\n",
       "      <td>False</td>\n",
       "      <td>False</td>\n",
       "      <td>False</td>\n",
       "      <td>False</td>\n",
       "      <td>None</td>\n",
       "      <td>9999.9</td>\n",
       "    </tr>\n",
       "    <tr>\n",
       "      <th>152</th>\n",
       "      <td>152</td>\n",
       "      <td>False</td>\n",
       "      <td>False</td>\n",
       "      <td>False</td>\n",
       "      <td>False</td>\n",
       "      <td>False</td>\n",
       "      <td>False</td>\n",
       "      <td>None</td>\n",
       "      <td>9999.9</td>\n",
       "    </tr>\n",
       "    <tr>\n",
       "      <th>153</th>\n",
       "      <td>153</td>\n",
       "      <td>False</td>\n",
       "      <td>False</td>\n",
       "      <td>False</td>\n",
       "      <td>False</td>\n",
       "      <td>False</td>\n",
       "      <td>False</td>\n",
       "      <td>None</td>\n",
       "      <td>9999.9</td>\n",
       "    </tr>\n",
       "  </tbody>\n",
       "</table>\n",
       "</div>"
      ],
      "text/plain": [
       "     index checkBaselineInsideTrack checkBothContainsOther  \\\n",
       "142    142                    False                  False   \n",
       "144    144                    False                  False   \n",
       "152    152                    False                  False   \n",
       "153    153                    False                  False   \n",
       "\n",
       "    checkEitherContainsOther checkTrackInsideBaseline  \\\n",
       "142                    False                    False   \n",
       "144                    False                    False   \n",
       "152                    False                    False   \n",
       "153                    False                    False   \n",
       "\n",
       "    checkTrackInsideBaselineRect  checkTrackSuccess compareRadii  \\\n",
       "142                        False              False         None   \n",
       "144                        False              False         None   \n",
       "152                        False              False         None   \n",
       "153                        False              False         None   \n",
       "\n",
       "     distanceFromBaseline  \n",
       "142                9999.9  \n",
       "144                9999.9  \n",
       "152                9999.9  \n",
       "153                9999.9  "
      ]
     },
     "execution_count": 31,
     "metadata": {},
     "output_type": "execute_result"
    }
   ],
   "source": [
    "print 'length of %i' % len(df4[df4.checkTrackSuccess == False])\n",
    "df4[df4.checkTrackSuccess == False][:4]"
   ]
  },
  {
   "cell_type": "code",
   "execution_count": null,
   "metadata": {
    "collapsed": true
   },
   "outputs": [],
   "source": []
  },
  {
   "cell_type": "code",
   "execution_count": null,
   "metadata": {
    "collapsed": true
   },
   "outputs": [],
   "source": []
  },
  {
   "cell_type": "code",
   "execution_count": 5,
   "metadata": {},
   "outputs": [],
   "source": [
    "engine = sqlalchemy.create_engine('sqlite://', echo=True)"
   ]
  },
  {
   "cell_type": "code",
   "execution_count": 6,
   "metadata": {
    "collapsed": true
   },
   "outputs": [],
   "source": [
    "engine2 = sqlalchemy.create_engine('sqlite:///tmp.db', echo=True)"
   ]
  },
  {
   "cell_type": "code",
   "execution_count": 9,
   "metadata": {},
   "outputs": [
    {
     "name": "stdout",
     "output_type": "stream",
     "text": [
      "2018-12-28 18:26:56,349 INFO sqlalchemy.engine.base.Engine SELECT CAST('test plain returns' AS VARCHAR(60)) AS anon_1\n",
      "2018-12-28 18:26:56,351 INFO sqlalchemy.engine.base.Engine ()\n",
      "2018-12-28 18:26:56,355 INFO sqlalchemy.engine.base.Engine SELECT CAST('test unicode returns' AS VARCHAR(60)) AS anon_1\n",
      "2018-12-28 18:26:56,357 INFO sqlalchemy.engine.base.Engine ()\n",
      "2018-12-28 18:26:56,358 INFO sqlalchemy.engine.base.Engine PRAGMA table_info(\"myname\")\n",
      "2018-12-28 18:26:56,361 INFO sqlalchemy.engine.base.Engine ()\n",
      "2018-12-28 18:26:56,369 INFO sqlalchemy.engine.base.Engine \n",
      "CREATE TABLE myname (\n",
      "\t\"index\" BIGINT, \n",
      "\t\"checkBaselineInsideTrack\" BOOLEAN, \n",
      "\t\"checkBothContainsOther\" BOOLEAN, \n",
      "\t\"checkEitherContainsOther\" BOOLEAN, \n",
      "\t\"checkTrackInsideBaseline\" BOOLEAN, \n",
      "\t\"checkTrackInsideBaselineRect\" BOOLEAN, \n",
      "\t\"checkTrackSuccess\" BOOLEAN, \n",
      "\t\"compareRadii\" BIGINT, \n",
      "\t\"distanceFromBaseline\" FLOAT, \n",
      "\t\"frameCounter\" BIGINT, \n",
      "\t\"listIndex\" BIGINT, \n",
      "\tCHECK (\"checkBaselineInsideTrack\" IN (0, 1)), \n",
      "\tCHECK (\"checkBothContainsOther\" IN (0, 1)), \n",
      "\tCHECK (\"checkEitherContainsOther\" IN (0, 1)), \n",
      "\tCHECK (\"checkTrackInsideBaseline\" IN (0, 1)), \n",
      "\tCHECK (\"checkTrackInsideBaselineRect\" IN (0, 1)), \n",
      "\tCHECK (\"checkTrackSuccess\" IN (0, 1))\n",
      ")\n",
      "\n",
      "\n",
      "2018-12-28 18:26:56,371 INFO sqlalchemy.engine.base.Engine ()\n",
      "2018-12-28 18:26:56,392 INFO sqlalchemy.engine.base.Engine COMMIT\n",
      "2018-12-28 18:26:56,394 INFO sqlalchemy.engine.base.Engine CREATE INDEX ix_myname_index ON myname (\"index\")\n",
      "2018-12-28 18:26:56,395 INFO sqlalchemy.engine.base.Engine ()\n",
      "2018-12-28 18:26:56,413 INFO sqlalchemy.engine.base.Engine COMMIT\n",
      "2018-12-28 18:26:56,424 INFO sqlalchemy.engine.base.Engine BEGIN (implicit)\n",
      "2018-12-28 18:26:56,427 INFO sqlalchemy.engine.base.Engine INSERT INTO myname (\"index\", \"checkBaselineInsideTrack\", \"checkBothContainsOther\", \"checkEitherContainsOther\", \"checkTrackInsideBaseline\", \"checkTrackInsideBaselineRect\", \"checkTrackSuccess\", \"compareRadii\", \"distanceFromBaseline\", \"frameCounter\", \"listIndex\") VALUES (?, ?, ?, ?, ?, ?, ?, ?, ?, ?, ?)\n",
      "2018-12-28 18:26:56,428 INFO sqlalchemy.engine.base.Engine ((0L, 1, 1, 1, 1, 0, 1, 6L, 2.23606797749979, 0L, 0L), (1L, 1, 1, 1, 1, 0, 1, 7L, 7.211102550927978, 9L, 1L), (2L, 1, 1, 1, 1, 0, 1, -1L, 1.4142135623730951, 78L, 2L), (3L, 1, 1, 1, 1, 0, 1, 3L, 4.47213595499958, 116L, 3L), (4L, 1, 1, 1, 1, 0, 1, 2L, 4.123105625617661, 136L, 4L), (5L, 1, 1, 1, 1, 0, 1, 0L, 5.385164807134504, 176L, 5L), (6L, 0, 0, 0, 0, 0, 1, -1L, 5.385164807134504, 187L, 6L), (7L, 0, 0, 0, 0, 0, 1, -2L, 6.0, 194L, 7L)  ... displaying 10 of 19 total bound parameter sets ...  (17L, 0, 0, 1, 1, 0, 1, -2L, 6.708203932499369, 324L, 17L), (18L, 1, 1, 1, 1, 0, 1, 1L, 2.23606797749979, 340L, 18L))\n",
      "2018-12-28 18:26:56,433 INFO sqlalchemy.engine.base.Engine COMMIT\n"
     ]
    }
   ],
   "source": [
    "df.to_sql('myname', con=engine2 )"
   ]
  },
  {
   "cell_type": "code",
   "execution_count": 10,
   "metadata": {
    "collapsed": true
   },
   "outputs": [],
   "source": [
    "engine3 = sqlalchemy.create_engine('sqlite:///tmp.db', echo=True)"
   ]
  },
  {
   "cell_type": "code",
   "execution_count": 12,
   "metadata": {},
   "outputs": [
    {
     "name": "stdout",
     "output_type": "stream",
     "text": [
      "2018-12-28 18:29:21,338 INFO sqlalchemy.engine.base.Engine SELECT CAST('test plain returns' AS VARCHAR(60)) AS anon_1\n",
      "2018-12-28 18:29:21,339 INFO sqlalchemy.engine.base.Engine ()\n",
      "2018-12-28 18:29:21,342 INFO sqlalchemy.engine.base.Engine SELECT CAST('test unicode returns' AS VARCHAR(60)) AS anon_1\n",
      "2018-12-28 18:29:21,342 INFO sqlalchemy.engine.base.Engine ()\n",
      "2018-12-28 18:29:21,345 INFO sqlalchemy.engine.base.Engine SELECT name FROM sqlite_master WHERE type='table' ORDER BY name\n",
      "2018-12-28 18:29:21,349 INFO sqlalchemy.engine.base.Engine ()\n",
      "2018-12-28 18:29:21,357 INFO sqlalchemy.engine.base.Engine SELECT name FROM sqlite_master WHERE type='view' ORDER BY name\n",
      "2018-12-28 18:29:21,358 INFO sqlalchemy.engine.base.Engine ()\n",
      "2018-12-28 18:29:21,361 INFO sqlalchemy.engine.base.Engine PRAGMA table_info(\"myname\")\n",
      "2018-12-28 18:29:21,362 INFO sqlalchemy.engine.base.Engine ()\n",
      "2018-12-28 18:29:21,369 INFO sqlalchemy.engine.base.Engine SELECT sql FROM  (SELECT * FROM sqlite_master UNION ALL   SELECT * FROM sqlite_temp_master) WHERE name = 'myname' AND type = 'table'\n",
      "2018-12-28 18:29:21,371 INFO sqlalchemy.engine.base.Engine ()\n",
      "2018-12-28 18:29:21,374 INFO sqlalchemy.engine.base.Engine PRAGMA foreign_key_list(\"myname\")\n",
      "2018-12-28 18:29:21,375 INFO sqlalchemy.engine.base.Engine ()\n",
      "2018-12-28 18:29:21,378 INFO sqlalchemy.engine.base.Engine SELECT sql FROM  (SELECT * FROM sqlite_master UNION ALL   SELECT * FROM sqlite_temp_master) WHERE name = 'myname' AND type = 'table'\n",
      "2018-12-28 18:29:21,378 INFO sqlalchemy.engine.base.Engine ()\n",
      "2018-12-28 18:29:21,384 INFO sqlalchemy.engine.base.Engine PRAGMA index_list(\"myname\")\n",
      "2018-12-28 18:29:21,387 INFO sqlalchemy.engine.base.Engine ()\n",
      "2018-12-28 18:29:21,390 INFO sqlalchemy.engine.base.Engine PRAGMA index_info(\"ix_myname_index\")\n",
      "2018-12-28 18:29:21,391 INFO sqlalchemy.engine.base.Engine ()\n",
      "2018-12-28 18:29:21,394 INFO sqlalchemy.engine.base.Engine PRAGMA index_list(\"myname\")\n",
      "2018-12-28 18:29:21,395 INFO sqlalchemy.engine.base.Engine ()\n",
      "2018-12-28 18:29:21,398 INFO sqlalchemy.engine.base.Engine PRAGMA index_info(\"ix_myname_index\")\n",
      "2018-12-28 18:29:21,400 INFO sqlalchemy.engine.base.Engine ()\n",
      "2018-12-28 18:29:21,403 INFO sqlalchemy.engine.base.Engine SELECT sql FROM  (SELECT * FROM sqlite_master UNION ALL   SELECT * FROM sqlite_temp_master) WHERE name = 'myname' AND type = 'table'\n",
      "2018-12-28 18:29:21,404 INFO sqlalchemy.engine.base.Engine ()\n",
      "2018-12-28 18:29:21,414 INFO sqlalchemy.engine.base.Engine SELECT myname.\"index\", myname.\"checkBaselineInsideTrack\", myname.\"checkBothContainsOther\", myname.\"checkEitherContainsOther\", myname.\"checkTrackInsideBaseline\", myname.\"checkTrackInsideBaselineRect\", myname.\"checkTrackSuccess\", myname.\"compareRadii\", myname.\"distanceFromBaseline\", myname.\"frameCounter\", myname.\"listIndex\" \n",
      "FROM myname\n",
      "2018-12-28 18:29:21,417 INFO sqlalchemy.engine.base.Engine ()\n"
     ]
    }
   ],
   "source": [
    "newdf = pd.read_sql_table('myname', con=engine3)"
   ]
  },
  {
   "cell_type": "code",
   "execution_count": 13,
   "metadata": {},
   "outputs": [
    {
     "data": {
      "text/html": [
       "<div>\n",
       "<style scoped>\n",
       "    .dataframe tbody tr th:only-of-type {\n",
       "        vertical-align: middle;\n",
       "    }\n",
       "\n",
       "    .dataframe tbody tr th {\n",
       "        vertical-align: top;\n",
       "    }\n",
       "\n",
       "    .dataframe thead th {\n",
       "        text-align: right;\n",
       "    }\n",
       "</style>\n",
       "<table border=\"1\" class=\"dataframe\">\n",
       "  <thead>\n",
       "    <tr style=\"text-align: right;\">\n",
       "      <th></th>\n",
       "      <th>index</th>\n",
       "      <th>checkBaselineInsideTrack</th>\n",
       "      <th>checkBothContainsOther</th>\n",
       "      <th>checkEitherContainsOther</th>\n",
       "      <th>checkTrackInsideBaseline</th>\n",
       "      <th>checkTrackInsideBaselineRect</th>\n",
       "      <th>checkTrackSuccess</th>\n",
       "      <th>compareRadii</th>\n",
       "      <th>distanceFromBaseline</th>\n",
       "      <th>frameCounter</th>\n",
       "      <th>listIndex</th>\n",
       "    </tr>\n",
       "  </thead>\n",
       "  <tbody>\n",
       "    <tr>\n",
       "      <th>0</th>\n",
       "      <td>0</td>\n",
       "      <td>True</td>\n",
       "      <td>True</td>\n",
       "      <td>True</td>\n",
       "      <td>True</td>\n",
       "      <td>False</td>\n",
       "      <td>True</td>\n",
       "      <td>6</td>\n",
       "      <td>2.236068</td>\n",
       "      <td>0</td>\n",
       "      <td>0</td>\n",
       "    </tr>\n",
       "    <tr>\n",
       "      <th>1</th>\n",
       "      <td>1</td>\n",
       "      <td>True</td>\n",
       "      <td>True</td>\n",
       "      <td>True</td>\n",
       "      <td>True</td>\n",
       "      <td>False</td>\n",
       "      <td>True</td>\n",
       "      <td>7</td>\n",
       "      <td>7.211103</td>\n",
       "      <td>9</td>\n",
       "      <td>1</td>\n",
       "    </tr>\n",
       "    <tr>\n",
       "      <th>2</th>\n",
       "      <td>2</td>\n",
       "      <td>True</td>\n",
       "      <td>True</td>\n",
       "      <td>True</td>\n",
       "      <td>True</td>\n",
       "      <td>False</td>\n",
       "      <td>True</td>\n",
       "      <td>-1</td>\n",
       "      <td>1.414214</td>\n",
       "      <td>78</td>\n",
       "      <td>2</td>\n",
       "    </tr>\n",
       "    <tr>\n",
       "      <th>3</th>\n",
       "      <td>3</td>\n",
       "      <td>True</td>\n",
       "      <td>True</td>\n",
       "      <td>True</td>\n",
       "      <td>True</td>\n",
       "      <td>False</td>\n",
       "      <td>True</td>\n",
       "      <td>3</td>\n",
       "      <td>4.472136</td>\n",
       "      <td>116</td>\n",
       "      <td>3</td>\n",
       "    </tr>\n",
       "    <tr>\n",
       "      <th>4</th>\n",
       "      <td>4</td>\n",
       "      <td>True</td>\n",
       "      <td>True</td>\n",
       "      <td>True</td>\n",
       "      <td>True</td>\n",
       "      <td>False</td>\n",
       "      <td>True</td>\n",
       "      <td>2</td>\n",
       "      <td>4.123106</td>\n",
       "      <td>136</td>\n",
       "      <td>4</td>\n",
       "    </tr>\n",
       "    <tr>\n",
       "      <th>5</th>\n",
       "      <td>5</td>\n",
       "      <td>True</td>\n",
       "      <td>True</td>\n",
       "      <td>True</td>\n",
       "      <td>True</td>\n",
       "      <td>False</td>\n",
       "      <td>True</td>\n",
       "      <td>0</td>\n",
       "      <td>5.385165</td>\n",
       "      <td>176</td>\n",
       "      <td>5</td>\n",
       "    </tr>\n",
       "    <tr>\n",
       "      <th>6</th>\n",
       "      <td>6</td>\n",
       "      <td>False</td>\n",
       "      <td>False</td>\n",
       "      <td>False</td>\n",
       "      <td>False</td>\n",
       "      <td>False</td>\n",
       "      <td>True</td>\n",
       "      <td>-1</td>\n",
       "      <td>5.385165</td>\n",
       "      <td>187</td>\n",
       "      <td>6</td>\n",
       "    </tr>\n",
       "    <tr>\n",
       "      <th>7</th>\n",
       "      <td>7</td>\n",
       "      <td>False</td>\n",
       "      <td>False</td>\n",
       "      <td>False</td>\n",
       "      <td>False</td>\n",
       "      <td>False</td>\n",
       "      <td>True</td>\n",
       "      <td>-2</td>\n",
       "      <td>6.000000</td>\n",
       "      <td>194</td>\n",
       "      <td>7</td>\n",
       "    </tr>\n",
       "    <tr>\n",
       "      <th>8</th>\n",
       "      <td>8</td>\n",
       "      <td>False</td>\n",
       "      <td>False</td>\n",
       "      <td>False</td>\n",
       "      <td>False</td>\n",
       "      <td>False</td>\n",
       "      <td>True</td>\n",
       "      <td>-1</td>\n",
       "      <td>4.000000</td>\n",
       "      <td>195</td>\n",
       "      <td>8</td>\n",
       "    </tr>\n",
       "    <tr>\n",
       "      <th>9</th>\n",
       "      <td>9</td>\n",
       "      <td>False</td>\n",
       "      <td>False</td>\n",
       "      <td>False</td>\n",
       "      <td>False</td>\n",
       "      <td>False</td>\n",
       "      <td>True</td>\n",
       "      <td>-3</td>\n",
       "      <td>4.123106</td>\n",
       "      <td>201</td>\n",
       "      <td>9</td>\n",
       "    </tr>\n",
       "    <tr>\n",
       "      <th>10</th>\n",
       "      <td>10</td>\n",
       "      <td>False</td>\n",
       "      <td>False</td>\n",
       "      <td>False</td>\n",
       "      <td>False</td>\n",
       "      <td>True</td>\n",
       "      <td>True</td>\n",
       "      <td>-2</td>\n",
       "      <td>5.385165</td>\n",
       "      <td>215</td>\n",
       "      <td>10</td>\n",
       "    </tr>\n",
       "    <tr>\n",
       "      <th>11</th>\n",
       "      <td>11</td>\n",
       "      <td>True</td>\n",
       "      <td>True</td>\n",
       "      <td>True</td>\n",
       "      <td>True</td>\n",
       "      <td>True</td>\n",
       "      <td>True</td>\n",
       "      <td>-1</td>\n",
       "      <td>1.000000</td>\n",
       "      <td>246</td>\n",
       "      <td>11</td>\n",
       "    </tr>\n",
       "    <tr>\n",
       "      <th>12</th>\n",
       "      <td>12</td>\n",
       "      <td>False</td>\n",
       "      <td>False</td>\n",
       "      <td>True</td>\n",
       "      <td>True</td>\n",
       "      <td>False</td>\n",
       "      <td>True</td>\n",
       "      <td>-3</td>\n",
       "      <td>3.162278</td>\n",
       "      <td>270</td>\n",
       "      <td>12</td>\n",
       "    </tr>\n",
       "    <tr>\n",
       "      <th>13</th>\n",
       "      <td>13</td>\n",
       "      <td>False</td>\n",
       "      <td>False</td>\n",
       "      <td>False</td>\n",
       "      <td>False</td>\n",
       "      <td>False</td>\n",
       "      <td>True</td>\n",
       "      <td>0</td>\n",
       "      <td>9.219544</td>\n",
       "      <td>292</td>\n",
       "      <td>13</td>\n",
       "    </tr>\n",
       "    <tr>\n",
       "      <th>14</th>\n",
       "      <td>14</td>\n",
       "      <td>False</td>\n",
       "      <td>False</td>\n",
       "      <td>False</td>\n",
       "      <td>False</td>\n",
       "      <td>False</td>\n",
       "      <td>True</td>\n",
       "      <td>-2</td>\n",
       "      <td>9.433981</td>\n",
       "      <td>295</td>\n",
       "      <td>14</td>\n",
       "    </tr>\n",
       "    <tr>\n",
       "      <th>15</th>\n",
       "      <td>15</td>\n",
       "      <td>False</td>\n",
       "      <td>False</td>\n",
       "      <td>False</td>\n",
       "      <td>False</td>\n",
       "      <td>False</td>\n",
       "      <td>True</td>\n",
       "      <td>-4</td>\n",
       "      <td>10.630146</td>\n",
       "      <td>307</td>\n",
       "      <td>15</td>\n",
       "    </tr>\n",
       "    <tr>\n",
       "      <th>16</th>\n",
       "      <td>16</td>\n",
       "      <td>False</td>\n",
       "      <td>False</td>\n",
       "      <td>False</td>\n",
       "      <td>False</td>\n",
       "      <td>False</td>\n",
       "      <td>True</td>\n",
       "      <td>3</td>\n",
       "      <td>12.206556</td>\n",
       "      <td>308</td>\n",
       "      <td>16</td>\n",
       "    </tr>\n",
       "    <tr>\n",
       "      <th>17</th>\n",
       "      <td>17</td>\n",
       "      <td>False</td>\n",
       "      <td>False</td>\n",
       "      <td>True</td>\n",
       "      <td>True</td>\n",
       "      <td>False</td>\n",
       "      <td>True</td>\n",
       "      <td>-2</td>\n",
       "      <td>6.708204</td>\n",
       "      <td>324</td>\n",
       "      <td>17</td>\n",
       "    </tr>\n",
       "    <tr>\n",
       "      <th>18</th>\n",
       "      <td>18</td>\n",
       "      <td>True</td>\n",
       "      <td>True</td>\n",
       "      <td>True</td>\n",
       "      <td>True</td>\n",
       "      <td>False</td>\n",
       "      <td>True</td>\n",
       "      <td>1</td>\n",
       "      <td>2.236068</td>\n",
       "      <td>340</td>\n",
       "      <td>18</td>\n",
       "    </tr>\n",
       "  </tbody>\n",
       "</table>\n",
       "</div>"
      ],
      "text/plain": [
       "    index  checkBaselineInsideTrack  checkBothContainsOther  \\\n",
       "0       0                      True                    True   \n",
       "1       1                      True                    True   \n",
       "2       2                      True                    True   \n",
       "3       3                      True                    True   \n",
       "4       4                      True                    True   \n",
       "5       5                      True                    True   \n",
       "6       6                     False                   False   \n",
       "7       7                     False                   False   \n",
       "8       8                     False                   False   \n",
       "9       9                     False                   False   \n",
       "10     10                     False                   False   \n",
       "11     11                      True                    True   \n",
       "12     12                     False                   False   \n",
       "13     13                     False                   False   \n",
       "14     14                     False                   False   \n",
       "15     15                     False                   False   \n",
       "16     16                     False                   False   \n",
       "17     17                     False                   False   \n",
       "18     18                      True                    True   \n",
       "\n",
       "    checkEitherContainsOther  checkTrackInsideBaseline  \\\n",
       "0                       True                      True   \n",
       "1                       True                      True   \n",
       "2                       True                      True   \n",
       "3                       True                      True   \n",
       "4                       True                      True   \n",
       "5                       True                      True   \n",
       "6                      False                     False   \n",
       "7                      False                     False   \n",
       "8                      False                     False   \n",
       "9                      False                     False   \n",
       "10                     False                     False   \n",
       "11                      True                      True   \n",
       "12                      True                      True   \n",
       "13                     False                     False   \n",
       "14                     False                     False   \n",
       "15                     False                     False   \n",
       "16                     False                     False   \n",
       "17                      True                      True   \n",
       "18                      True                      True   \n",
       "\n",
       "    checkTrackInsideBaselineRect  checkTrackSuccess  compareRadii  \\\n",
       "0                          False               True             6   \n",
       "1                          False               True             7   \n",
       "2                          False               True            -1   \n",
       "3                          False               True             3   \n",
       "4                          False               True             2   \n",
       "5                          False               True             0   \n",
       "6                          False               True            -1   \n",
       "7                          False               True            -2   \n",
       "8                          False               True            -1   \n",
       "9                          False               True            -3   \n",
       "10                          True               True            -2   \n",
       "11                          True               True            -1   \n",
       "12                         False               True            -3   \n",
       "13                         False               True             0   \n",
       "14                         False               True            -2   \n",
       "15                         False               True            -4   \n",
       "16                         False               True             3   \n",
       "17                         False               True            -2   \n",
       "18                         False               True             1   \n",
       "\n",
       "    distanceFromBaseline  frameCounter  listIndex  \n",
       "0               2.236068             0          0  \n",
       "1               7.211103             9          1  \n",
       "2               1.414214            78          2  \n",
       "3               4.472136           116          3  \n",
       "4               4.123106           136          4  \n",
       "5               5.385165           176          5  \n",
       "6               5.385165           187          6  \n",
       "7               6.000000           194          7  \n",
       "8               4.000000           195          8  \n",
       "9               4.123106           201          9  \n",
       "10              5.385165           215         10  \n",
       "11              1.000000           246         11  \n",
       "12              3.162278           270         12  \n",
       "13              9.219544           292         13  \n",
       "14              9.433981           295         14  \n",
       "15             10.630146           307         15  \n",
       "16             12.206556           308         16  \n",
       "17              6.708204           324         17  \n",
       "18              2.236068           340         18  "
      ]
     },
     "execution_count": 13,
     "metadata": {},
     "output_type": "execute_result"
    }
   ],
   "source": [
    "newdf"
   ]
  },
  {
   "cell_type": "code",
   "execution_count": null,
   "metadata": {
    "collapsed": true
   },
   "outputs": [],
   "source": []
  },
  {
   "cell_type": "code",
   "execution_count": null,
   "metadata": {
    "collapsed": true
   },
   "outputs": [],
   "source": []
  },
  {
   "cell_type": "code",
   "execution_count": null,
   "metadata": {
    "collapsed": true
   },
   "outputs": [],
   "source": []
  },
  {
   "cell_type": "code",
   "execution_count": null,
   "metadata": {
    "collapsed": true
   },
   "outputs": [],
   "source": []
  },
  {
   "cell_type": "code",
   "execution_count": null,
   "metadata": {
    "collapsed": true
   },
   "outputs": [],
   "source": [
    "DBInterface"
   ]
  },
  {
   "cell_type": "code",
   "execution_count": 7,
   "metadata": {
    "collapsed": true
   },
   "outputs": [],
   "source": [
    "db_name = \"../data/misc/books/eval-data-2/large_dataset.db\"\n",
    "db = DBInterface(db_name)\n",
    "listGS = [ pickle.loads(d[1]) for d in db.selectAll()]\n",
    "tracker = TrackFactory(on=True)\n",
    "tracker.setInit(ballColor = \"orange\")\n",
    "tracker.setAlgoEnum(1)\n",
    "evData = EvalDataset()\n",
    "evData.buildDataset(listGS, tracker)\n",
    "df = evData.getDataset()"
   ]
  },
  {
   "cell_type": "code",
   "execution_count": null,
   "metadata": {
    "collapsed": true
   },
   "outputs": [],
   "source": []
  },
  {
   "cell_type": "code",
   "execution_count": null,
   "metadata": {
    "collapsed": true
   },
   "outputs": [],
   "source": []
  }
 ],
 "metadata": {
  "kernelspec": {
   "display_name": "Python 2",
   "language": "python",
   "name": "python2"
  },
  "language_info": {
   "codemirror_mode": {
    "name": "ipython",
    "version": 2
   },
   "file_extension": ".py",
   "mimetype": "text/x-python",
   "name": "python",
   "nbconvert_exporter": "python",
   "pygments_lexer": "ipython2",
   "version": "2.7.13"
  }
 },
 "nbformat": 4,
 "nbformat_minor": 2
}
