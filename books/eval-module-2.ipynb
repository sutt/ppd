{
 "cells": [
  {
   "cell_type": "code",
   "execution_count": 7,
   "metadata": {},
   "outputs": [
    {
     "name": "stdout",
     "output_type": "stream",
     "text": [
      "The autoreload extension is already loaded. To reload it, use:\n",
      "  %reload_ext autoreload\n"
     ]
    }
   ],
   "source": [
    "import pandas as pd\n",
    "import sqlalchemy\n",
    "import os, sys, copy, random, pickle, cv2\n",
    "import numpy as np\n",
    "from matplotlib import pyplot as plt\n",
    "%matplotlib inline\n",
    "\n",
    "sys.path.append(\"../\")\n",
    "\n",
    "%load_ext autoreload\n",
    "%autoreload 2\n",
    "\n",
    "from modules.ControlTracking import TrackFactory\n",
    "from modules.ControlDisplay import Display\n",
    "from modules.Interproc import DBInterface, GuiviewState\n",
    "\n",
    "from modules.AnalysisHelpers import ( \n",
    "         exploreImgs, buildImgComparisonData, subprocEval)\n",
    "\n",
    "from modules.EvalHelpers import EvalTracker, EvalDataset\n",
    "from modules.ControlEval import EvalFactory\n",
    "from modules.DataSchemas import ScoreSchema\n",
    "from modules.EvalHelpers import OutcomeData"
   ]
  },
  {
   "cell_type": "code",
   "execution_count": 158,
   "metadata": {},
   "outputs": [],
   "source": [
    "from modules.EvalHelpers import OutcomeData\n",
    "od = OutcomeData()"
   ]
  },
  {
   "cell_type": "code",
   "execution_count": 159,
   "metadata": {},
   "outputs": [
    {
     "name": "stdout",
     "output_type": "stream",
     "text": [
      "num frames:                  345\n",
      "obj enums scored/tracked:    0,1 / 0\n",
      "num scored frames:           19 | 0,9,78...308,324,340\n",
      "-------\n"
     ]
    }
   ],
   "source": [
    "od.displaySummaryStats()"
   ]
  },
  {
   "cell_type": "code",
   "execution_count": 160,
   "metadata": {},
   "outputs": [
    {
     "data": {
      "text/html": [
       "<div>\n",
       "<style scoped>\n",
       "    .dataframe tbody tr th:only-of-type {\n",
       "        vertical-align: middle;\n",
       "    }\n",
       "\n",
       "    .dataframe tbody tr th {\n",
       "        vertical-align: top;\n",
       "    }\n",
       "\n",
       "    .dataframe thead th {\n",
       "        text-align: right;\n",
       "    }\n",
       "</style>\n",
       "<table border=\"1\" class=\"dataframe\">\n",
       "  <thead>\n",
       "    <tr style=\"text-align: right;\">\n",
       "      <th></th>\n",
       "      <th>input_data0_0</th>\n",
       "      <th>input_data1_0</th>\n",
       "      <th>input_data2_0</th>\n",
       "      <th>input_data3_0</th>\n",
       "      <th>input_obj_exists_0</th>\n",
       "      <th>input_obj_type_0</th>\n",
       "      <th>track_data0_0</th>\n",
       "      <th>track_data1_0</th>\n",
       "      <th>track_data2_0</th>\n",
       "      <th>track_data3_0</th>\n",
       "      <th>track_obj_exists_0</th>\n",
       "      <th>track_obj_type_0</th>\n",
       "    </tr>\n",
       "  </thead>\n",
       "  <tbody>\n",
       "    <tr>\n",
       "      <th>0</th>\n",
       "      <td>107.0</td>\n",
       "      <td>214.0</td>\n",
       "      <td>54.0</td>\n",
       "      <td>52.0</td>\n",
       "      <td>True</td>\n",
       "      <td>circle</td>\n",
       "      <td>101</td>\n",
       "      <td>210</td>\n",
       "      <td>64</td>\n",
       "      <td>64</td>\n",
       "      <td>True</td>\n",
       "      <td>circle</td>\n",
       "    </tr>\n",
       "    <tr>\n",
       "      <th>9</th>\n",
       "      <td>194.0</td>\n",
       "      <td>200.0</td>\n",
       "      <td>52.0</td>\n",
       "      <td>53.0</td>\n",
       "      <td>True</td>\n",
       "      <td>circle</td>\n",
       "      <td>183</td>\n",
       "      <td>199</td>\n",
       "      <td>66</td>\n",
       "      <td>66</td>\n",
       "      <td>True</td>\n",
       "      <td>circle</td>\n",
       "    </tr>\n",
       "    <tr>\n",
       "      <th>78</th>\n",
       "      <td>385.0</td>\n",
       "      <td>307.0</td>\n",
       "      <td>54.0</td>\n",
       "      <td>51.0</td>\n",
       "      <td>True</td>\n",
       "      <td>circle</td>\n",
       "      <td>382</td>\n",
       "      <td>302</td>\n",
       "      <td>54</td>\n",
       "      <td>54</td>\n",
       "      <td>True</td>\n",
       "      <td>circle</td>\n",
       "    </tr>\n",
       "    <tr>\n",
       "      <th>116</th>\n",
       "      <td>342.0</td>\n",
       "      <td>302.0</td>\n",
       "      <td>42.0</td>\n",
       "      <td>39.0</td>\n",
       "      <td>True</td>\n",
       "      <td>circle</td>\n",
       "      <td>337</td>\n",
       "      <td>301</td>\n",
       "      <td>44</td>\n",
       "      <td>44</td>\n",
       "      <td>True</td>\n",
       "      <td>circle</td>\n",
       "    </tr>\n",
       "  </tbody>\n",
       "</table>\n",
       "</div>"
      ],
      "text/plain": [
       "     input_data0_0  input_data1_0  input_data2_0  input_data3_0  \\\n",
       "0            107.0          214.0           54.0           52.0   \n",
       "9            194.0          200.0           52.0           53.0   \n",
       "78           385.0          307.0           54.0           51.0   \n",
       "116          342.0          302.0           42.0           39.0   \n",
       "\n",
       "    input_obj_exists_0 input_obj_type_0  track_data0_0  track_data1_0  \\\n",
       "0                 True           circle            101            210   \n",
       "9                 True           circle            183            199   \n",
       "78                True           circle            382            302   \n",
       "116               True           circle            337            301   \n",
       "\n",
       "     track_data2_0  track_data3_0  track_obj_exists_0 track_obj_type_0  \n",
       "0               64             64                True           circle  \n",
       "9               66             66                True           circle  \n",
       "78              54             54                True           circle  \n",
       "116             44             44                True           circle  "
      ]
     },
     "execution_count": 160,
     "metadata": {},
     "output_type": "execute_result"
    }
   ],
   "source": [
    "od.displayCondensedTable()[:4]"
   ]
  },
  {
   "cell_type": "code",
   "execution_count": 163,
   "metadata": {},
   "outputs": [
    {
     "data": {
      "image/png": "[encoded data removed]",
      "text/plain": [
       "<Figure size 432x288 with 1 Axes>"
      ]
     },
     "metadata": {},
     "output_type": "display_data"
    }
   ],
   "source": [
    "data = od.buildDiameterPlotData(b_all_frames=True)"
   ]
  },
  {
   "cell_type": "code",
   "execution_count": 164,
   "metadata": {},
   "outputs": [
    {
     "data": {
      "image/png": "[encoded data removed]",
      "text/plain": [
       "<Figure size 432x288 with 1 Axes>"
      ]
     },
     "metadata": {},
     "output_type": "display_data"
    }
   ],
   "source": [
    "data = od.buildDiameterPlotData(b_all_frames=False)"
   ]
  },
  {
   "cell_type": "code",
   "execution_count": null,
   "metadata": {
    "collapsed": true
   },
   "outputs": [],
   "source": []
  }
 ],
 "metadata": {
  "kernelspec": {
   "display_name": "Python 2",
   "language": "python",
   "name": "python2"
  },
  "language_info": {
   "codemirror_mode": {
    "name": "ipython",
    "version": 2
   },
   "file_extension": ".py",
   "mimetype": "text/x-python",
   "name": "python",
   "nbconvert_exporter": "python",
   "pygments_lexer": "ipython2",
   "version": "2.7.13"
  }
 },
 "nbformat": 4,
 "nbformat_minor": 2
}
