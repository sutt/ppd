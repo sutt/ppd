{
 "cells": [
  {
   "cell_type": "code",
   "execution_count": 1,
   "metadata": {},
   "outputs": [],
   "source": [
    "import pandas as pd\n",
    "import sqlalchemy\n",
    "import math\n",
    "import os, sys, copy, random, pickle, cv2\n",
    "import numpy as np\n",
    "from matplotlib import pyplot as plt\n",
    "%matplotlib inline\n",
    "\n",
    "sys.path.append(\"../\")\n",
    "\n",
    "%load_ext autoreload\n",
    "%autoreload 2\n",
    "\n",
    "from modules.ControlTracking import TrackFactory\n",
    "from modules.ControlDisplay import Display\n",
    "from modules.Interproc import DBInterface, GuiviewState\n",
    "\n",
    "from modules.AnalysisHelpers import ( \n",
    "         exploreImgs, buildImgComparisonData, subprocEval)\n",
    "\n",
    "from modules.EvalHelpers import EvalTracker, EvalDataset\n",
    "from modules.ControlEval import EvalFactory\n",
    "from modules.DataSchemas import ScoreSchema\n",
    "from modules.EvalHelpers import OutcomeData, DFHelper"
   ]
  },
  {
   "cell_type": "markdown",
   "metadata": {},
   "source": [
    "##### Use subprocEval() and let's see the progress bar"
   ]
  },
  {
   "cell_type": "code",
   "execution_count": 2,
   "metadata": {},
   "outputs": [
    {
     "name": "stdout",
     "output_type": "stream",
     "text": [
      "\n",
      "START - running eval module...\n",
      "[                            ]\n",
      "-----------------------------\n",
      "output db: data/misc/books/eval-module-4/evaldb.db\n",
      "output tbl: outcome_dataframe\n",
      "total time: 5.217\n",
      "FINISH - rows: 345 cols: 48 \n",
      "subproc time: 6.831\n"
     ]
    }
   ],
   "source": [
    "# with b_log=True, you get a progress bar + details\n",
    "\n",
    "tmp_db_path = 'data/misc/books/eval-module-4/evaldb.db'\n",
    "\n",
    "vid_path = 'data/proc/tmp/dec14/output5.proc1.proc1.avi'\n",
    "\n",
    "outcome_subproc = subprocEval( f_pathfn = vid_path\n",
    "                              ,db_pathfn = tmp_db_path \n",
    "                             ,b_log = True\n",
    "                             )"
   ]
  },
  {
   "cell_type": "code",
   "execution_count": 3,
   "metadata": {
    "collapsed": true
   },
   "outputs": [],
   "source": [
    "# with b_log=False, nothing prints\n",
    "outcome_subproc = subprocEval( f_pathfn = vid_path\n",
    "                              ,db_pathfn = tmp_db_path \n",
    "                             ,b_log = False\n",
    "                             )"
   ]
  },
  {
   "cell_type": "markdown",
   "metadata": {},
   "source": [
    "##### subprocEval returns a pandas df of \"outcome_data\", we need to calc \"eval_data\" from this and get that too as a df; use the OutcomeData class"
   ]
  },
  {
   "cell_type": "code",
   "execution_count": 9,
   "metadata": {},
   "outputs": [
    {
     "name": "stdout",
     "output_type": "stream",
     "text": [
      "<class 'pandas.core.frame.DataFrame'>\n",
      "(345, 49)\n"
     ]
    },
    {
     "data": {
      "text/html": [
       "<div>\n",
       "<style scoped>\n",
       "    .dataframe tbody tr th:only-of-type {\n",
       "        vertical-align: middle;\n",
       "    }\n",
       "\n",
       "    .dataframe tbody tr th {\n",
       "        vertical-align: top;\n",
       "    }\n",
       "\n",
       "    .dataframe thead th {\n",
       "        text-align: right;\n",
       "    }\n",
       "</style>\n",
       "<table border=\"1\" class=\"dataframe\">\n",
       "  <thead>\n",
       "    <tr style=\"text-align: right;\">\n",
       "      <th></th>\n",
       "      <th>index</th>\n",
       "      <th>input_data0_0</th>\n",
       "      <th>input_data0_1</th>\n",
       "      <th>input_data0_2</th>\n",
       "      <th>input_data0_3</th>\n",
       "      <th>input_data1_0</th>\n",
       "      <th>input_data1_1</th>\n",
       "      <th>input_data1_2</th>\n",
       "      <th>input_data1_3</th>\n",
       "      <th>input_data2_0</th>\n",
       "      <th>...</th>\n",
       "      <th>track_data3_2</th>\n",
       "      <th>track_data3_3</th>\n",
       "      <th>track_obj_exists_0</th>\n",
       "      <th>track_obj_exists_1</th>\n",
       "      <th>track_obj_exists_2</th>\n",
       "      <th>track_obj_exists_3</th>\n",
       "      <th>track_obj_type_0</th>\n",
       "      <th>track_obj_type_1</th>\n",
       "      <th>track_obj_type_2</th>\n",
       "      <th>track_obj_type_3</th>\n",
       "    </tr>\n",
       "  </thead>\n",
       "  <tbody>\n",
       "    <tr>\n",
       "      <th>0</th>\n",
       "      <td>0</td>\n",
       "      <td>107.0</td>\n",
       "      <td>111.0</td>\n",
       "      <td>None</td>\n",
       "      <td>None</td>\n",
       "      <td>214.0</td>\n",
       "      <td>218.0</td>\n",
       "      <td>None</td>\n",
       "      <td>None</td>\n",
       "      <td>54.0</td>\n",
       "      <td>...</td>\n",
       "      <td>None</td>\n",
       "      <td>None</td>\n",
       "      <td>True</td>\n",
       "      <td>None</td>\n",
       "      <td>None</td>\n",
       "      <td>None</td>\n",
       "      <td>circle</td>\n",
       "      <td>None</td>\n",
       "      <td>None</td>\n",
       "      <td>None</td>\n",
       "    </tr>\n",
       "    <tr>\n",
       "      <th>1</th>\n",
       "      <td>1</td>\n",
       "      <td>NaN</td>\n",
       "      <td>NaN</td>\n",
       "      <td>None</td>\n",
       "      <td>None</td>\n",
       "      <td>NaN</td>\n",
       "      <td>NaN</td>\n",
       "      <td>None</td>\n",
       "      <td>None</td>\n",
       "      <td>NaN</td>\n",
       "      <td>...</td>\n",
       "      <td>None</td>\n",
       "      <td>None</td>\n",
       "      <td>True</td>\n",
       "      <td>None</td>\n",
       "      <td>None</td>\n",
       "      <td>None</td>\n",
       "      <td>circle</td>\n",
       "      <td>None</td>\n",
       "      <td>None</td>\n",
       "      <td>None</td>\n",
       "    </tr>\n",
       "    <tr>\n",
       "      <th>2</th>\n",
       "      <td>2</td>\n",
       "      <td>NaN</td>\n",
       "      <td>NaN</td>\n",
       "      <td>None</td>\n",
       "      <td>None</td>\n",
       "      <td>NaN</td>\n",
       "      <td>NaN</td>\n",
       "      <td>None</td>\n",
       "      <td>None</td>\n",
       "      <td>NaN</td>\n",
       "      <td>...</td>\n",
       "      <td>None</td>\n",
       "      <td>None</td>\n",
       "      <td>True</td>\n",
       "      <td>None</td>\n",
       "      <td>None</td>\n",
       "      <td>None</td>\n",
       "      <td>circle</td>\n",
       "      <td>None</td>\n",
       "      <td>None</td>\n",
       "      <td>None</td>\n",
       "    </tr>\n",
       "  </tbody>\n",
       "</table>\n",
       "<p>3 rows × 49 columns</p>\n",
       "</div>"
      ],
      "text/plain": [
       "   index  input_data0_0  input_data0_1 input_data0_2 input_data0_3  \\\n",
       "0      0          107.0          111.0          None          None   \n",
       "1      1            NaN            NaN          None          None   \n",
       "2      2            NaN            NaN          None          None   \n",
       "\n",
       "   input_data1_0  input_data1_1 input_data1_2 input_data1_3  input_data2_0  \\\n",
       "0          214.0          218.0          None          None           54.0   \n",
       "1            NaN            NaN          None          None            NaN   \n",
       "2            NaN            NaN          None          None            NaN   \n",
       "\n",
       "        ...         track_data3_2 track_data3_3 track_obj_exists_0  \\\n",
       "0       ...                  None          None               True   \n",
       "1       ...                  None          None               True   \n",
       "2       ...                  None          None               True   \n",
       "\n",
       "   track_obj_exists_1  track_obj_exists_2 track_obj_exists_3 track_obj_type_0  \\\n",
       "0                None                None               None           circle   \n",
       "1                None                None               None           circle   \n",
       "2                None                None               None           circle   \n",
       "\n",
       "  track_obj_type_1 track_obj_type_2 track_obj_type_3  \n",
       "0             None             None             None  \n",
       "1             None             None             None  \n",
       "2             None             None             None  \n",
       "\n",
       "[3 rows x 49 columns]"
      ]
     },
     "execution_count": 9,
     "metadata": {},
     "output_type": "execute_result"
    }
   ],
   "source": [
    "#let's examaine properties of the return object from the subprocEval call\n",
    "print type(outcome_subproc)\n",
    "print outcome_subproc.shape\n",
    "outcome_subproc[:3]"
   ]
  },
  {
   "cell_type": "code",
   "execution_count": 13,
   "metadata": {
    "collapsed": true
   },
   "outputs": [],
   "source": [
    "# Now let's get eval data\n",
    "# note: how we set load=False in the constructor, otherwise it would load\n",
    "#      the most recent df save to the db in data/usr/ instead of our local\n",
    "#      notebook obj, <outcome_subproc>\n",
    "\n",
    "od = OutcomeData(bLoad=False, bEval=False)\n",
    "\n",
    "assert od.evalData is None\n",
    "\n",
    "od.loads(outcome_subproc)\n",
    "\n",
    "od.eval()   # since bEval=False, need to call this manually\n",
    "\n",
    "assert od.evalData is not None"
   ]
  },
  {
   "cell_type": "code",
   "execution_count": 14,
   "metadata": {},
   "outputs": [
    {
     "name": "stdout",
     "output_type": "stream",
     "text": [
      "<class 'pandas.core.frame.DataFrame'>\n",
      "(345, 8)\n"
     ]
    },
    {
     "data": {
      "text/html": [
       "<div>\n",
       "<style scoped>\n",
       "    .dataframe tbody tr th:only-of-type {\n",
       "        vertical-align: middle;\n",
       "    }\n",
       "\n",
       "    .dataframe tbody tr th {\n",
       "        vertical-align: top;\n",
       "    }\n",
       "\n",
       "    .dataframe thead th {\n",
       "        text-align: right;\n",
       "    }\n",
       "</style>\n",
       "<table border=\"1\" class=\"dataframe\">\n",
       "  <thead>\n",
       "    <tr style=\"text-align: right;\">\n",
       "      <th></th>\n",
       "      <th>checkBaselineInsideTrack</th>\n",
       "      <th>checkBothContainsOther</th>\n",
       "      <th>checkEitherContainsOther</th>\n",
       "      <th>checkTrackInsideBaseline</th>\n",
       "      <th>checkTrackInsideBaselineRect</th>\n",
       "      <th>checkTrackSuccess</th>\n",
       "      <th>compareRadii</th>\n",
       "      <th>distanceFromBaseline</th>\n",
       "    </tr>\n",
       "  </thead>\n",
       "  <tbody>\n",
       "    <tr>\n",
       "      <th>0</th>\n",
       "      <td>True</td>\n",
       "      <td>True</td>\n",
       "      <td>True</td>\n",
       "      <td>True</td>\n",
       "      <td>False</td>\n",
       "      <td>True</td>\n",
       "      <td>6.0</td>\n",
       "      <td>2.236068</td>\n",
       "    </tr>\n",
       "    <tr>\n",
       "      <th>1</th>\n",
       "      <td>None</td>\n",
       "      <td>None</td>\n",
       "      <td>None</td>\n",
       "      <td>None</td>\n",
       "      <td>None</td>\n",
       "      <td>None</td>\n",
       "      <td>NaN</td>\n",
       "      <td>NaN</td>\n",
       "    </tr>\n",
       "    <tr>\n",
       "      <th>2</th>\n",
       "      <td>None</td>\n",
       "      <td>None</td>\n",
       "      <td>None</td>\n",
       "      <td>None</td>\n",
       "      <td>None</td>\n",
       "      <td>None</td>\n",
       "      <td>NaN</td>\n",
       "      <td>NaN</td>\n",
       "    </tr>\n",
       "  </tbody>\n",
       "</table>\n",
       "</div>"
      ],
      "text/plain": [
       "  checkBaselineInsideTrack checkBothContainsOther checkEitherContainsOther  \\\n",
       "0                     True                   True                     True   \n",
       "1                     None                   None                     None   \n",
       "2                     None                   None                     None   \n",
       "\n",
       "  checkTrackInsideBaseline checkTrackInsideBaselineRect checkTrackSuccess  \\\n",
       "0                     True                        False              True   \n",
       "1                     None                         None              None   \n",
       "2                     None                         None              None   \n",
       "\n",
       "   compareRadii  distanceFromBaseline  \n",
       "0           6.0              2.236068  \n",
       "1           NaN                   NaN  \n",
       "2           NaN                   NaN  "
      ]
     },
     "execution_count": 14,
     "metadata": {},
     "output_type": "execute_result"
    }
   ],
   "source": [
    "# so the evalData df has been built\n",
    "print type(od.evalData)\n",
    "print od.evalData.shape\n",
    "od.evalData[:3]"
   ]
  },
  {
   "cell_type": "code",
   "execution_count": 61,
   "metadata": {},
   "outputs": [
    {
     "name": "stdout",
     "output_type": "stream",
     "text": [
      "num frames:                  345\n",
      "obj enums scored/tracked:    0,1 / 0\n",
      "num scored frames:           19 | 0,9,78...308,324,340\n",
      "-------\n"
     ]
    }
   ],
   "source": [
    "od.displaySummaryStats()"
   ]
  },
  {
   "cell_type": "markdown",
   "metadata": {},
   "source": [
    "##### We want to display that info better in notebooks; use DFHelper"
   ]
  },
  {
   "cell_type": "code",
   "execution_count": 16,
   "metadata": {},
   "outputs": [],
   "source": [
    "evalDf = DFHelper(df=od.evalData.copy(), df_type='eval')"
   ]
  },
  {
   "cell_type": "code",
   "execution_count": 18,
   "metadata": {},
   "outputs": [
    {
     "data": {
      "text/html": [
       "<style  type=\"text/css\" >\n",
       "</style>  \n",
       "<table id=\"T_063c3e70_20bd_11e9_840c_bc838514d7df\" > \n",
       "<thead>    <tr> \n",
       "        <th class=\"blank level0\" ></th> \n",
       "        <th class=\"col_heading level0 col0\" >check\n",
       "Both\n",
       "Contains\n",
       "Other\n",
       "</th> \n",
       "        <th class=\"col_heading level0 col1\" >distance\n",
       "From\n",
       "Baseline\n",
       "</th> \n",
       "        <th class=\"col_heading level0 col2\" >check\n",
       "Track\n",
       "Success\n",
       "</th> \n",
       "        <th class=\"col_heading level0 col3\" >check\n",
       "Baseline\n",
       "Inside\n",
       "Track\n",
       "</th> \n",
       "        <th class=\"col_heading level0 col4\" >check\n",
       "Either\n",
       "Contains\n",
       "Other\n",
       "</th> \n",
       "        <th class=\"col_heading level0 col5\" >check\n",
       "Track\n",
       "Inside\n",
       "Baseline\n",
       "</th> \n",
       "        <th class=\"col_heading level0 col6\" >check\n",
       "Track\n",
       "Inside\n",
       "Baseline\n",
       "Rect\n",
       "</th> \n",
       "        <th class=\"col_heading level0 col7\" >compare\n",
       "Radii\n",
       "</th> \n",
       "    </tr></thead> \n",
       "<tbody>    <tr> \n",
       "        <th id=\"T_063c3e70_20bd_11e9_840c_bc838514d7dflevel0_row0\" class=\"row_heading level0 row0\" >0</th> \n",
       "        <td id=\"T_063c3e70_20bd_11e9_840c_bc838514d7dfrow0_col0\" class=\"data row0 col0\" >True</td> \n",
       "        <td id=\"T_063c3e70_20bd_11e9_840c_bc838514d7dfrow0_col1\" class=\"data row0 col1\" >   2</td> \n",
       "        <td id=\"T_063c3e70_20bd_11e9_840c_bc838514d7dfrow0_col2\" class=\"data row0 col2\" >True</td> \n",
       "        <td id=\"T_063c3e70_20bd_11e9_840c_bc838514d7dfrow0_col3\" class=\"data row0 col3\" >True</td> \n",
       "        <td id=\"T_063c3e70_20bd_11e9_840c_bc838514d7dfrow0_col4\" class=\"data row0 col4\" >True</td> \n",
       "        <td id=\"T_063c3e70_20bd_11e9_840c_bc838514d7dfrow0_col5\" class=\"data row0 col5\" >True</td> \n",
       "        <td id=\"T_063c3e70_20bd_11e9_840c_bc838514d7dfrow0_col6\" class=\"data row0 col6\" >False</td> \n",
       "        <td id=\"T_063c3e70_20bd_11e9_840c_bc838514d7dfrow0_col7\" class=\"data row0 col7\" >   6</td> \n",
       "    </tr>    <tr> \n",
       "        <th id=\"T_063c3e70_20bd_11e9_840c_bc838514d7dflevel0_row1\" class=\"row_heading level0 row1\" >1</th> \n",
       "        <td id=\"T_063c3e70_20bd_11e9_840c_bc838514d7dfrow1_col0\" class=\"data row1 col0\" >None</td> \n",
       "        <td id=\"T_063c3e70_20bd_11e9_840c_bc838514d7dfrow1_col1\" class=\"data row1 col1\" > nan</td> \n",
       "        <td id=\"T_063c3e70_20bd_11e9_840c_bc838514d7dfrow1_col2\" class=\"data row1 col2\" >None</td> \n",
       "        <td id=\"T_063c3e70_20bd_11e9_840c_bc838514d7dfrow1_col3\" class=\"data row1 col3\" >None</td> \n",
       "        <td id=\"T_063c3e70_20bd_11e9_840c_bc838514d7dfrow1_col4\" class=\"data row1 col4\" >None</td> \n",
       "        <td id=\"T_063c3e70_20bd_11e9_840c_bc838514d7dfrow1_col5\" class=\"data row1 col5\" >None</td> \n",
       "        <td id=\"T_063c3e70_20bd_11e9_840c_bc838514d7dfrow1_col6\" class=\"data row1 col6\" >None</td> \n",
       "        <td id=\"T_063c3e70_20bd_11e9_840c_bc838514d7dfrow1_col7\" class=\"data row1 col7\" > nan</td> \n",
       "    </tr>    <tr> \n",
       "        <th id=\"T_063c3e70_20bd_11e9_840c_bc838514d7dflevel0_row2\" class=\"row_heading level0 row2\" >2</th> \n",
       "        <td id=\"T_063c3e70_20bd_11e9_840c_bc838514d7dfrow2_col0\" class=\"data row2 col0\" >None</td> \n",
       "        <td id=\"T_063c3e70_20bd_11e9_840c_bc838514d7dfrow2_col1\" class=\"data row2 col1\" > nan</td> \n",
       "        <td id=\"T_063c3e70_20bd_11e9_840c_bc838514d7dfrow2_col2\" class=\"data row2 col2\" >None</td> \n",
       "        <td id=\"T_063c3e70_20bd_11e9_840c_bc838514d7dfrow2_col3\" class=\"data row2 col3\" >None</td> \n",
       "        <td id=\"T_063c3e70_20bd_11e9_840c_bc838514d7dfrow2_col4\" class=\"data row2 col4\" >None</td> \n",
       "        <td id=\"T_063c3e70_20bd_11e9_840c_bc838514d7dfrow2_col5\" class=\"data row2 col5\" >None</td> \n",
       "        <td id=\"T_063c3e70_20bd_11e9_840c_bc838514d7dfrow2_col6\" class=\"data row2 col6\" >None</td> \n",
       "        <td id=\"T_063c3e70_20bd_11e9_840c_bc838514d7dfrow2_col7\" class=\"data row2 col7\" > nan</td> \n",
       "    </tr>    <tr> \n",
       "        <th id=\"T_063c3e70_20bd_11e9_840c_bc838514d7dflevel0_row3\" class=\"row_heading level0 row3\" >3</th> \n",
       "        <td id=\"T_063c3e70_20bd_11e9_840c_bc838514d7dfrow3_col0\" class=\"data row3 col0\" >None</td> \n",
       "        <td id=\"T_063c3e70_20bd_11e9_840c_bc838514d7dfrow3_col1\" class=\"data row3 col1\" > nan</td> \n",
       "        <td id=\"T_063c3e70_20bd_11e9_840c_bc838514d7dfrow3_col2\" class=\"data row3 col2\" >None</td> \n",
       "        <td id=\"T_063c3e70_20bd_11e9_840c_bc838514d7dfrow3_col3\" class=\"data row3 col3\" >None</td> \n",
       "        <td id=\"T_063c3e70_20bd_11e9_840c_bc838514d7dfrow3_col4\" class=\"data row3 col4\" >None</td> \n",
       "        <td id=\"T_063c3e70_20bd_11e9_840c_bc838514d7dfrow3_col5\" class=\"data row3 col5\" >None</td> \n",
       "        <td id=\"T_063c3e70_20bd_11e9_840c_bc838514d7dfrow3_col6\" class=\"data row3 col6\" >None</td> \n",
       "        <td id=\"T_063c3e70_20bd_11e9_840c_bc838514d7dfrow3_col7\" class=\"data row3 col7\" > nan</td> \n",
       "    </tr></tbody> \n",
       "</table> "
      ],
      "text/plain": [
       "<pandas.io.formats.style.Styler at 0x2869f10>"
      ]
     },
     "execution_count": 18,
     "metadata": {},
     "output_type": "execute_result"
    }
   ],
   "source": [
    "evalDf.setRowsRequested(range_data=range(4))\n",
    "evalDf.getDatasetDisplay()"
   ]
  },
  {
   "cell_type": "code",
   "execution_count": 19,
   "metadata": {},
   "outputs": [
    {
     "data": {
      "text/html": [
       "<style  type=\"text/css\" >\n",
       "</style>  \n",
       "<table id=\"T_1ec0f261_20bd_11e9_88ca_bc838514d7df\" > \n",
       "<thead>    <tr> \n",
       "        <th class=\"blank level0\" ></th> \n",
       "        <th class=\"col_heading level0 col0\" >check\n",
       "Both\n",
       "Contains\n",
       "Other\n",
       "</th> \n",
       "        <th class=\"col_heading level0 col1\" >distance\n",
       "From\n",
       "Baseline\n",
       "</th> \n",
       "        <th class=\"col_heading level0 col2\" >check\n",
       "Track\n",
       "Success\n",
       "</th> \n",
       "        <th class=\"col_heading level0 col3\" >check\n",
       "Baseline\n",
       "Inside\n",
       "Track\n",
       "</th> \n",
       "        <th class=\"col_heading level0 col4\" >check\n",
       "Either\n",
       "Contains\n",
       "Other\n",
       "</th> \n",
       "        <th class=\"col_heading level0 col5\" >check\n",
       "Track\n",
       "Inside\n",
       "Baseline\n",
       "</th> \n",
       "        <th class=\"col_heading level0 col6\" >check\n",
       "Track\n",
       "Inside\n",
       "Baseline\n",
       "Rect\n",
       "</th> \n",
       "        <th class=\"col_heading level0 col7\" >compare\n",
       "Radii\n",
       "</th> \n",
       "    </tr></thead> \n",
       "<tbody>    <tr> \n",
       "        <th id=\"T_1ec0f261_20bd_11e9_88ca_bc838514d7dflevel0_row0\" class=\"row_heading level0 row0\" >0</th> \n",
       "        <td id=\"T_1ec0f261_20bd_11e9_88ca_bc838514d7dfrow0_col0\" class=\"data row0 col0\" >True</td> \n",
       "        <td id=\"T_1ec0f261_20bd_11e9_88ca_bc838514d7dfrow0_col1\" class=\"data row0 col1\" >   2</td> \n",
       "        <td id=\"T_1ec0f261_20bd_11e9_88ca_bc838514d7dfrow0_col2\" class=\"data row0 col2\" >True</td> \n",
       "        <td id=\"T_1ec0f261_20bd_11e9_88ca_bc838514d7dfrow0_col3\" class=\"data row0 col3\" >True</td> \n",
       "        <td id=\"T_1ec0f261_20bd_11e9_88ca_bc838514d7dfrow0_col4\" class=\"data row0 col4\" >True</td> \n",
       "        <td id=\"T_1ec0f261_20bd_11e9_88ca_bc838514d7dfrow0_col5\" class=\"data row0 col5\" >True</td> \n",
       "        <td id=\"T_1ec0f261_20bd_11e9_88ca_bc838514d7dfrow0_col6\" class=\"data row0 col6\" >False</td> \n",
       "        <td id=\"T_1ec0f261_20bd_11e9_88ca_bc838514d7dfrow0_col7\" class=\"data row0 col7\" >   6</td> \n",
       "    </tr>    <tr> \n",
       "        <th id=\"T_1ec0f261_20bd_11e9_88ca_bc838514d7dflevel0_row1\" class=\"row_heading level0 row1\" >9</th> \n",
       "        <td id=\"T_1ec0f261_20bd_11e9_88ca_bc838514d7dfrow1_col0\" class=\"data row1 col0\" >True</td> \n",
       "        <td id=\"T_1ec0f261_20bd_11e9_88ca_bc838514d7dfrow1_col1\" class=\"data row1 col1\" >   7</td> \n",
       "        <td id=\"T_1ec0f261_20bd_11e9_88ca_bc838514d7dfrow1_col2\" class=\"data row1 col2\" >True</td> \n",
       "        <td id=\"T_1ec0f261_20bd_11e9_88ca_bc838514d7dfrow1_col3\" class=\"data row1 col3\" >True</td> \n",
       "        <td id=\"T_1ec0f261_20bd_11e9_88ca_bc838514d7dfrow1_col4\" class=\"data row1 col4\" >True</td> \n",
       "        <td id=\"T_1ec0f261_20bd_11e9_88ca_bc838514d7dfrow1_col5\" class=\"data row1 col5\" >True</td> \n",
       "        <td id=\"T_1ec0f261_20bd_11e9_88ca_bc838514d7dfrow1_col6\" class=\"data row1 col6\" >False</td> \n",
       "        <td id=\"T_1ec0f261_20bd_11e9_88ca_bc838514d7dfrow1_col7\" class=\"data row1 col7\" >   7</td> \n",
       "    </tr>    <tr> \n",
       "        <th id=\"T_1ec0f261_20bd_11e9_88ca_bc838514d7dflevel0_row2\" class=\"row_heading level0 row2\" >78</th> \n",
       "        <td id=\"T_1ec0f261_20bd_11e9_88ca_bc838514d7dfrow2_col0\" class=\"data row2 col0\" >True</td> \n",
       "        <td id=\"T_1ec0f261_20bd_11e9_88ca_bc838514d7dfrow2_col1\" class=\"data row2 col1\" >   1</td> \n",
       "        <td id=\"T_1ec0f261_20bd_11e9_88ca_bc838514d7dfrow2_col2\" class=\"data row2 col2\" >True</td> \n",
       "        <td id=\"T_1ec0f261_20bd_11e9_88ca_bc838514d7dfrow2_col3\" class=\"data row2 col3\" >True</td> \n",
       "        <td id=\"T_1ec0f261_20bd_11e9_88ca_bc838514d7dfrow2_col4\" class=\"data row2 col4\" >True</td> \n",
       "        <td id=\"T_1ec0f261_20bd_11e9_88ca_bc838514d7dfrow2_col5\" class=\"data row2 col5\" >True</td> \n",
       "        <td id=\"T_1ec0f261_20bd_11e9_88ca_bc838514d7dfrow2_col6\" class=\"data row2 col6\" >False</td> \n",
       "        <td id=\"T_1ec0f261_20bd_11e9_88ca_bc838514d7dfrow2_col7\" class=\"data row2 col7\" >  -1</td> \n",
       "    </tr>    <tr> \n",
       "        <th id=\"T_1ec0f261_20bd_11e9_88ca_bc838514d7dflevel0_row3\" class=\"row_heading level0 row3\" >116</th> \n",
       "        <td id=\"T_1ec0f261_20bd_11e9_88ca_bc838514d7dfrow3_col0\" class=\"data row3 col0\" >True</td> \n",
       "        <td id=\"T_1ec0f261_20bd_11e9_88ca_bc838514d7dfrow3_col1\" class=\"data row3 col1\" >   4</td> \n",
       "        <td id=\"T_1ec0f261_20bd_11e9_88ca_bc838514d7dfrow3_col2\" class=\"data row3 col2\" >True</td> \n",
       "        <td id=\"T_1ec0f261_20bd_11e9_88ca_bc838514d7dfrow3_col3\" class=\"data row3 col3\" >True</td> \n",
       "        <td id=\"T_1ec0f261_20bd_11e9_88ca_bc838514d7dfrow3_col4\" class=\"data row3 col4\" >True</td> \n",
       "        <td id=\"T_1ec0f261_20bd_11e9_88ca_bc838514d7dfrow3_col5\" class=\"data row3 col5\" >True</td> \n",
       "        <td id=\"T_1ec0f261_20bd_11e9_88ca_bc838514d7dfrow3_col6\" class=\"data row3 col6\" >False</td> \n",
       "        <td id=\"T_1ec0f261_20bd_11e9_88ca_bc838514d7dfrow3_col7\" class=\"data row3 col7\" >   3</td> \n",
       "    </tr>    <tr> \n",
       "        <th id=\"T_1ec0f261_20bd_11e9_88ca_bc838514d7dflevel0_row4\" class=\"row_heading level0 row4\" >136</th> \n",
       "        <td id=\"T_1ec0f261_20bd_11e9_88ca_bc838514d7dfrow4_col0\" class=\"data row4 col0\" >True</td> \n",
       "        <td id=\"T_1ec0f261_20bd_11e9_88ca_bc838514d7dfrow4_col1\" class=\"data row4 col1\" >   4</td> \n",
       "        <td id=\"T_1ec0f261_20bd_11e9_88ca_bc838514d7dfrow4_col2\" class=\"data row4 col2\" >True</td> \n",
       "        <td id=\"T_1ec0f261_20bd_11e9_88ca_bc838514d7dfrow4_col3\" class=\"data row4 col3\" >True</td> \n",
       "        <td id=\"T_1ec0f261_20bd_11e9_88ca_bc838514d7dfrow4_col4\" class=\"data row4 col4\" >True</td> \n",
       "        <td id=\"T_1ec0f261_20bd_11e9_88ca_bc838514d7dfrow4_col5\" class=\"data row4 col5\" >True</td> \n",
       "        <td id=\"T_1ec0f261_20bd_11e9_88ca_bc838514d7dfrow4_col6\" class=\"data row4 col6\" >False</td> \n",
       "        <td id=\"T_1ec0f261_20bd_11e9_88ca_bc838514d7dfrow4_col7\" class=\"data row4 col7\" >   2</td> \n",
       "    </tr>    <tr> \n",
       "        <th id=\"T_1ec0f261_20bd_11e9_88ca_bc838514d7dflevel0_row5\" class=\"row_heading level0 row5\" >176</th> \n",
       "        <td id=\"T_1ec0f261_20bd_11e9_88ca_bc838514d7dfrow5_col0\" class=\"data row5 col0\" >True</td> \n",
       "        <td id=\"T_1ec0f261_20bd_11e9_88ca_bc838514d7dfrow5_col1\" class=\"data row5 col1\" >   5</td> \n",
       "        <td id=\"T_1ec0f261_20bd_11e9_88ca_bc838514d7dfrow5_col2\" class=\"data row5 col2\" >True</td> \n",
       "        <td id=\"T_1ec0f261_20bd_11e9_88ca_bc838514d7dfrow5_col3\" class=\"data row5 col3\" >True</td> \n",
       "        <td id=\"T_1ec0f261_20bd_11e9_88ca_bc838514d7dfrow5_col4\" class=\"data row5 col4\" >True</td> \n",
       "        <td id=\"T_1ec0f261_20bd_11e9_88ca_bc838514d7dfrow5_col5\" class=\"data row5 col5\" >True</td> \n",
       "        <td id=\"T_1ec0f261_20bd_11e9_88ca_bc838514d7dfrow5_col6\" class=\"data row5 col6\" >False</td> \n",
       "        <td id=\"T_1ec0f261_20bd_11e9_88ca_bc838514d7dfrow5_col7\" class=\"data row5 col7\" >   0</td> \n",
       "    </tr>    <tr> \n",
       "        <th id=\"T_1ec0f261_20bd_11e9_88ca_bc838514d7dflevel0_row6\" class=\"row_heading level0 row6\" >187</th> \n",
       "        <td id=\"T_1ec0f261_20bd_11e9_88ca_bc838514d7dfrow6_col0\" class=\"data row6 col0\" >False</td> \n",
       "        <td id=\"T_1ec0f261_20bd_11e9_88ca_bc838514d7dfrow6_col1\" class=\"data row6 col1\" >   5</td> \n",
       "        <td id=\"T_1ec0f261_20bd_11e9_88ca_bc838514d7dfrow6_col2\" class=\"data row6 col2\" >True</td> \n",
       "        <td id=\"T_1ec0f261_20bd_11e9_88ca_bc838514d7dfrow6_col3\" class=\"data row6 col3\" >False</td> \n",
       "        <td id=\"T_1ec0f261_20bd_11e9_88ca_bc838514d7dfrow6_col4\" class=\"data row6 col4\" >False</td> \n",
       "        <td id=\"T_1ec0f261_20bd_11e9_88ca_bc838514d7dfrow6_col5\" class=\"data row6 col5\" >False</td> \n",
       "        <td id=\"T_1ec0f261_20bd_11e9_88ca_bc838514d7dfrow6_col6\" class=\"data row6 col6\" >False</td> \n",
       "        <td id=\"T_1ec0f261_20bd_11e9_88ca_bc838514d7dfrow6_col7\" class=\"data row6 col7\" >  -1</td> \n",
       "    </tr>    <tr> \n",
       "        <th id=\"T_1ec0f261_20bd_11e9_88ca_bc838514d7dflevel0_row7\" class=\"row_heading level0 row7\" >194</th> \n",
       "        <td id=\"T_1ec0f261_20bd_11e9_88ca_bc838514d7dfrow7_col0\" class=\"data row7 col0\" >False</td> \n",
       "        <td id=\"T_1ec0f261_20bd_11e9_88ca_bc838514d7dfrow7_col1\" class=\"data row7 col1\" >   6</td> \n",
       "        <td id=\"T_1ec0f261_20bd_11e9_88ca_bc838514d7dfrow7_col2\" class=\"data row7 col2\" >True</td> \n",
       "        <td id=\"T_1ec0f261_20bd_11e9_88ca_bc838514d7dfrow7_col3\" class=\"data row7 col3\" >False</td> \n",
       "        <td id=\"T_1ec0f261_20bd_11e9_88ca_bc838514d7dfrow7_col4\" class=\"data row7 col4\" >False</td> \n",
       "        <td id=\"T_1ec0f261_20bd_11e9_88ca_bc838514d7dfrow7_col5\" class=\"data row7 col5\" >False</td> \n",
       "        <td id=\"T_1ec0f261_20bd_11e9_88ca_bc838514d7dfrow7_col6\" class=\"data row7 col6\" >False</td> \n",
       "        <td id=\"T_1ec0f261_20bd_11e9_88ca_bc838514d7dfrow7_col7\" class=\"data row7 col7\" >  -2</td> \n",
       "    </tr>    <tr> \n",
       "        <th id=\"T_1ec0f261_20bd_11e9_88ca_bc838514d7dflevel0_row8\" class=\"row_heading level0 row8\" >195</th> \n",
       "        <td id=\"T_1ec0f261_20bd_11e9_88ca_bc838514d7dfrow8_col0\" class=\"data row8 col0\" >False</td> \n",
       "        <td id=\"T_1ec0f261_20bd_11e9_88ca_bc838514d7dfrow8_col1\" class=\"data row8 col1\" >   4</td> \n",
       "        <td id=\"T_1ec0f261_20bd_11e9_88ca_bc838514d7dfrow8_col2\" class=\"data row8 col2\" >True</td> \n",
       "        <td id=\"T_1ec0f261_20bd_11e9_88ca_bc838514d7dfrow8_col3\" class=\"data row8 col3\" >False</td> \n",
       "        <td id=\"T_1ec0f261_20bd_11e9_88ca_bc838514d7dfrow8_col4\" class=\"data row8 col4\" >False</td> \n",
       "        <td id=\"T_1ec0f261_20bd_11e9_88ca_bc838514d7dfrow8_col5\" class=\"data row8 col5\" >False</td> \n",
       "        <td id=\"T_1ec0f261_20bd_11e9_88ca_bc838514d7dfrow8_col6\" class=\"data row8 col6\" >False</td> \n",
       "        <td id=\"T_1ec0f261_20bd_11e9_88ca_bc838514d7dfrow8_col7\" class=\"data row8 col7\" >  -1</td> \n",
       "    </tr>    <tr> \n",
       "        <th id=\"T_1ec0f261_20bd_11e9_88ca_bc838514d7dflevel0_row9\" class=\"row_heading level0 row9\" >201</th> \n",
       "        <td id=\"T_1ec0f261_20bd_11e9_88ca_bc838514d7dfrow9_col0\" class=\"data row9 col0\" >False</td> \n",
       "        <td id=\"T_1ec0f261_20bd_11e9_88ca_bc838514d7dfrow9_col1\" class=\"data row9 col1\" >   4</td> \n",
       "        <td id=\"T_1ec0f261_20bd_11e9_88ca_bc838514d7dfrow9_col2\" class=\"data row9 col2\" >True</td> \n",
       "        <td id=\"T_1ec0f261_20bd_11e9_88ca_bc838514d7dfrow9_col3\" class=\"data row9 col3\" >False</td> \n",
       "        <td id=\"T_1ec0f261_20bd_11e9_88ca_bc838514d7dfrow9_col4\" class=\"data row9 col4\" >False</td> \n",
       "        <td id=\"T_1ec0f261_20bd_11e9_88ca_bc838514d7dfrow9_col5\" class=\"data row9 col5\" >False</td> \n",
       "        <td id=\"T_1ec0f261_20bd_11e9_88ca_bc838514d7dfrow9_col6\" class=\"data row9 col6\" >False</td> \n",
       "        <td id=\"T_1ec0f261_20bd_11e9_88ca_bc838514d7dfrow9_col7\" class=\"data row9 col7\" >  -3</td> \n",
       "    </tr>    <tr> \n",
       "        <th id=\"T_1ec0f261_20bd_11e9_88ca_bc838514d7dflevel0_row10\" class=\"row_heading level0 row10\" >215</th> \n",
       "        <td id=\"T_1ec0f261_20bd_11e9_88ca_bc838514d7dfrow10_col0\" class=\"data row10 col0\" >False</td> \n",
       "        <td id=\"T_1ec0f261_20bd_11e9_88ca_bc838514d7dfrow10_col1\" class=\"data row10 col1\" >   5</td> \n",
       "        <td id=\"T_1ec0f261_20bd_11e9_88ca_bc838514d7dfrow10_col2\" class=\"data row10 col2\" >True</td> \n",
       "        <td id=\"T_1ec0f261_20bd_11e9_88ca_bc838514d7dfrow10_col3\" class=\"data row10 col3\" >False</td> \n",
       "        <td id=\"T_1ec0f261_20bd_11e9_88ca_bc838514d7dfrow10_col4\" class=\"data row10 col4\" >False</td> \n",
       "        <td id=\"T_1ec0f261_20bd_11e9_88ca_bc838514d7dfrow10_col5\" class=\"data row10 col5\" >False</td> \n",
       "        <td id=\"T_1ec0f261_20bd_11e9_88ca_bc838514d7dfrow10_col6\" class=\"data row10 col6\" >True</td> \n",
       "        <td id=\"T_1ec0f261_20bd_11e9_88ca_bc838514d7dfrow10_col7\" class=\"data row10 col7\" >  -2</td> \n",
       "    </tr>    <tr> \n",
       "        <th id=\"T_1ec0f261_20bd_11e9_88ca_bc838514d7dflevel0_row11\" class=\"row_heading level0 row11\" >246</th> \n",
       "        <td id=\"T_1ec0f261_20bd_11e9_88ca_bc838514d7dfrow11_col0\" class=\"data row11 col0\" >True</td> \n",
       "        <td id=\"T_1ec0f261_20bd_11e9_88ca_bc838514d7dfrow11_col1\" class=\"data row11 col1\" >   1</td> \n",
       "        <td id=\"T_1ec0f261_20bd_11e9_88ca_bc838514d7dfrow11_col2\" class=\"data row11 col2\" >True</td> \n",
       "        <td id=\"T_1ec0f261_20bd_11e9_88ca_bc838514d7dfrow11_col3\" class=\"data row11 col3\" >True</td> \n",
       "        <td id=\"T_1ec0f261_20bd_11e9_88ca_bc838514d7dfrow11_col4\" class=\"data row11 col4\" >True</td> \n",
       "        <td id=\"T_1ec0f261_20bd_11e9_88ca_bc838514d7dfrow11_col5\" class=\"data row11 col5\" >True</td> \n",
       "        <td id=\"T_1ec0f261_20bd_11e9_88ca_bc838514d7dfrow11_col6\" class=\"data row11 col6\" >True</td> \n",
       "        <td id=\"T_1ec0f261_20bd_11e9_88ca_bc838514d7dfrow11_col7\" class=\"data row11 col7\" >  -1</td> \n",
       "    </tr>    <tr> \n",
       "        <th id=\"T_1ec0f261_20bd_11e9_88ca_bc838514d7dflevel0_row12\" class=\"row_heading level0 row12\" >270</th> \n",
       "        <td id=\"T_1ec0f261_20bd_11e9_88ca_bc838514d7dfrow12_col0\" class=\"data row12 col0\" >False</td> \n",
       "        <td id=\"T_1ec0f261_20bd_11e9_88ca_bc838514d7dfrow12_col1\" class=\"data row12 col1\" >   3</td> \n",
       "        <td id=\"T_1ec0f261_20bd_11e9_88ca_bc838514d7dfrow12_col2\" class=\"data row12 col2\" >True</td> \n",
       "        <td id=\"T_1ec0f261_20bd_11e9_88ca_bc838514d7dfrow12_col3\" class=\"data row12 col3\" >False</td> \n",
       "        <td id=\"T_1ec0f261_20bd_11e9_88ca_bc838514d7dfrow12_col4\" class=\"data row12 col4\" >True</td> \n",
       "        <td id=\"T_1ec0f261_20bd_11e9_88ca_bc838514d7dfrow12_col5\" class=\"data row12 col5\" >True</td> \n",
       "        <td id=\"T_1ec0f261_20bd_11e9_88ca_bc838514d7dfrow12_col6\" class=\"data row12 col6\" >False</td> \n",
       "        <td id=\"T_1ec0f261_20bd_11e9_88ca_bc838514d7dfrow12_col7\" class=\"data row12 col7\" >  -3</td> \n",
       "    </tr>    <tr> \n",
       "        <th id=\"T_1ec0f261_20bd_11e9_88ca_bc838514d7dflevel0_row13\" class=\"row_heading level0 row13\" >292</th> \n",
       "        <td id=\"T_1ec0f261_20bd_11e9_88ca_bc838514d7dfrow13_col0\" class=\"data row13 col0\" >False</td> \n",
       "        <td id=\"T_1ec0f261_20bd_11e9_88ca_bc838514d7dfrow13_col1\" class=\"data row13 col1\" >   9</td> \n",
       "        <td id=\"T_1ec0f261_20bd_11e9_88ca_bc838514d7dfrow13_col2\" class=\"data row13 col2\" >True</td> \n",
       "        <td id=\"T_1ec0f261_20bd_11e9_88ca_bc838514d7dfrow13_col3\" class=\"data row13 col3\" >False</td> \n",
       "        <td id=\"T_1ec0f261_20bd_11e9_88ca_bc838514d7dfrow13_col4\" class=\"data row13 col4\" >False</td> \n",
       "        <td id=\"T_1ec0f261_20bd_11e9_88ca_bc838514d7dfrow13_col5\" class=\"data row13 col5\" >False</td> \n",
       "        <td id=\"T_1ec0f261_20bd_11e9_88ca_bc838514d7dfrow13_col6\" class=\"data row13 col6\" >False</td> \n",
       "        <td id=\"T_1ec0f261_20bd_11e9_88ca_bc838514d7dfrow13_col7\" class=\"data row13 col7\" >   0</td> \n",
       "    </tr>    <tr> \n",
       "        <th id=\"T_1ec0f261_20bd_11e9_88ca_bc838514d7dflevel0_row14\" class=\"row_heading level0 row14\" >295</th> \n",
       "        <td id=\"T_1ec0f261_20bd_11e9_88ca_bc838514d7dfrow14_col0\" class=\"data row14 col0\" >False</td> \n",
       "        <td id=\"T_1ec0f261_20bd_11e9_88ca_bc838514d7dfrow14_col1\" class=\"data row14 col1\" >   9</td> \n",
       "        <td id=\"T_1ec0f261_20bd_11e9_88ca_bc838514d7dfrow14_col2\" class=\"data row14 col2\" >True</td> \n",
       "        <td id=\"T_1ec0f261_20bd_11e9_88ca_bc838514d7dfrow14_col3\" class=\"data row14 col3\" >False</td> \n",
       "        <td id=\"T_1ec0f261_20bd_11e9_88ca_bc838514d7dfrow14_col4\" class=\"data row14 col4\" >False</td> \n",
       "        <td id=\"T_1ec0f261_20bd_11e9_88ca_bc838514d7dfrow14_col5\" class=\"data row14 col5\" >False</td> \n",
       "        <td id=\"T_1ec0f261_20bd_11e9_88ca_bc838514d7dfrow14_col6\" class=\"data row14 col6\" >False</td> \n",
       "        <td id=\"T_1ec0f261_20bd_11e9_88ca_bc838514d7dfrow14_col7\" class=\"data row14 col7\" >  -2</td> \n",
       "    </tr>    <tr> \n",
       "        <th id=\"T_1ec0f261_20bd_11e9_88ca_bc838514d7dflevel0_row15\" class=\"row_heading level0 row15\" >307</th> \n",
       "        <td id=\"T_1ec0f261_20bd_11e9_88ca_bc838514d7dfrow15_col0\" class=\"data row15 col0\" >False</td> \n",
       "        <td id=\"T_1ec0f261_20bd_11e9_88ca_bc838514d7dfrow15_col1\" class=\"data row15 col1\" >  11</td> \n",
       "        <td id=\"T_1ec0f261_20bd_11e9_88ca_bc838514d7dfrow15_col2\" class=\"data row15 col2\" >True</td> \n",
       "        <td id=\"T_1ec0f261_20bd_11e9_88ca_bc838514d7dfrow15_col3\" class=\"data row15 col3\" >False</td> \n",
       "        <td id=\"T_1ec0f261_20bd_11e9_88ca_bc838514d7dfrow15_col4\" class=\"data row15 col4\" >False</td> \n",
       "        <td id=\"T_1ec0f261_20bd_11e9_88ca_bc838514d7dfrow15_col5\" class=\"data row15 col5\" >False</td> \n",
       "        <td id=\"T_1ec0f261_20bd_11e9_88ca_bc838514d7dfrow15_col6\" class=\"data row15 col6\" >False</td> \n",
       "        <td id=\"T_1ec0f261_20bd_11e9_88ca_bc838514d7dfrow15_col7\" class=\"data row15 col7\" >  -4</td> \n",
       "    </tr>    <tr> \n",
       "        <th id=\"T_1ec0f261_20bd_11e9_88ca_bc838514d7dflevel0_row16\" class=\"row_heading level0 row16\" >308</th> \n",
       "        <td id=\"T_1ec0f261_20bd_11e9_88ca_bc838514d7dfrow16_col0\" class=\"data row16 col0\" >False</td> \n",
       "        <td id=\"T_1ec0f261_20bd_11e9_88ca_bc838514d7dfrow16_col1\" class=\"data row16 col1\" >  12</td> \n",
       "        <td id=\"T_1ec0f261_20bd_11e9_88ca_bc838514d7dfrow16_col2\" class=\"data row16 col2\" >True</td> \n",
       "        <td id=\"T_1ec0f261_20bd_11e9_88ca_bc838514d7dfrow16_col3\" class=\"data row16 col3\" >False</td> \n",
       "        <td id=\"T_1ec0f261_20bd_11e9_88ca_bc838514d7dfrow16_col4\" class=\"data row16 col4\" >False</td> \n",
       "        <td id=\"T_1ec0f261_20bd_11e9_88ca_bc838514d7dfrow16_col5\" class=\"data row16 col5\" >False</td> \n",
       "        <td id=\"T_1ec0f261_20bd_11e9_88ca_bc838514d7dfrow16_col6\" class=\"data row16 col6\" >False</td> \n",
       "        <td id=\"T_1ec0f261_20bd_11e9_88ca_bc838514d7dfrow16_col7\" class=\"data row16 col7\" >   3</td> \n",
       "    </tr>    <tr> \n",
       "        <th id=\"T_1ec0f261_20bd_11e9_88ca_bc838514d7dflevel0_row17\" class=\"row_heading level0 row17\" >324</th> \n",
       "        <td id=\"T_1ec0f261_20bd_11e9_88ca_bc838514d7dfrow17_col0\" class=\"data row17 col0\" >False</td> \n",
       "        <td id=\"T_1ec0f261_20bd_11e9_88ca_bc838514d7dfrow17_col1\" class=\"data row17 col1\" >   7</td> \n",
       "        <td id=\"T_1ec0f261_20bd_11e9_88ca_bc838514d7dfrow17_col2\" class=\"data row17 col2\" >True</td> \n",
       "        <td id=\"T_1ec0f261_20bd_11e9_88ca_bc838514d7dfrow17_col3\" class=\"data row17 col3\" >False</td> \n",
       "        <td id=\"T_1ec0f261_20bd_11e9_88ca_bc838514d7dfrow17_col4\" class=\"data row17 col4\" >True</td> \n",
       "        <td id=\"T_1ec0f261_20bd_11e9_88ca_bc838514d7dfrow17_col5\" class=\"data row17 col5\" >True</td> \n",
       "        <td id=\"T_1ec0f261_20bd_11e9_88ca_bc838514d7dfrow17_col6\" class=\"data row17 col6\" >False</td> \n",
       "        <td id=\"T_1ec0f261_20bd_11e9_88ca_bc838514d7dfrow17_col7\" class=\"data row17 col7\" >  -2</td> \n",
       "    </tr>    <tr> \n",
       "        <th id=\"T_1ec0f261_20bd_11e9_88ca_bc838514d7dflevel0_row18\" class=\"row_heading level0 row18\" >340</th> \n",
       "        <td id=\"T_1ec0f261_20bd_11e9_88ca_bc838514d7dfrow18_col0\" class=\"data row18 col0\" >True</td> \n",
       "        <td id=\"T_1ec0f261_20bd_11e9_88ca_bc838514d7dfrow18_col1\" class=\"data row18 col1\" >   2</td> \n",
       "        <td id=\"T_1ec0f261_20bd_11e9_88ca_bc838514d7dfrow18_col2\" class=\"data row18 col2\" >True</td> \n",
       "        <td id=\"T_1ec0f261_20bd_11e9_88ca_bc838514d7dfrow18_col3\" class=\"data row18 col3\" >True</td> \n",
       "        <td id=\"T_1ec0f261_20bd_11e9_88ca_bc838514d7dfrow18_col4\" class=\"data row18 col4\" >True</td> \n",
       "        <td id=\"T_1ec0f261_20bd_11e9_88ca_bc838514d7dfrow18_col5\" class=\"data row18 col5\" >True</td> \n",
       "        <td id=\"T_1ec0f261_20bd_11e9_88ca_bc838514d7dfrow18_col6\" class=\"data row18 col6\" >False</td> \n",
       "        <td id=\"T_1ec0f261_20bd_11e9_88ca_bc838514d7dfrow18_col7\" class=\"data row18 col7\" >   1</td> \n",
       "    </tr></tbody> \n",
       "</table> "
      ],
      "text/plain": [
       "<pandas.io.formats.style.Styler at 0x9f5b4f0>"
      ]
     },
     "execution_count": 19,
     "metadata": {},
     "output_type": "execute_result"
    }
   ],
   "source": [
    "evalDf.setRowsRequested(s_cmd='inputframes')\n",
    "evalDf.getDatasetDisplay()"
   ]
  },
  {
   "cell_type": "markdown",
   "metadata": {},
   "source": [
    "### Let's try aggregating on these tables"
   ]
  },
  {
   "cell_type": "code",
   "execution_count": 22,
   "metadata": {},
   "outputs": [
    {
     "name": "stdout",
     "output_type": "stream",
     "text": [
      "<type 'instance'> <class 'pandas.core.frame.DataFrame'>\n"
     ]
    }
   ],
   "source": [
    "print type(evalDf), type(evalDf.df)"
   ]
  },
  {
   "cell_type": "code",
   "execution_count": 23,
   "metadata": {
    "collapsed": true
   },
   "outputs": [],
   "source": [
    "df = evalDf.df.copy()"
   ]
  },
  {
   "cell_type": "code",
   "execution_count": 24,
   "metadata": {},
   "outputs": [
    {
     "data": {
      "text/plain": [
       "checkBaselineInsideTrack          8.000000\n",
       "checkBothContainsOther            8.000000\n",
       "checkEitherContainsOther         10.000000\n",
       "checkTrackInsideBaseline         10.000000\n",
       "checkTrackInsideBaselineRect      2.000000\n",
       "checkTrackSuccess                19.000000\n",
       "compareRadii                      0.000000\n",
       "distanceFromBaseline            104.332002\n",
       "dtype: float64"
      ]
     },
     "execution_count": 24,
     "metadata": {},
     "output_type": "execute_result"
    }
   ],
   "source": [
    "df.sum()"
   ]
  },
  {
   "cell_type": "code",
   "execution_count": 25,
   "metadata": {},
   "outputs": [
    {
     "data": {
      "text/plain": [
       "checkBaselineInsideTrack        0.0\n",
       "checkBothContainsOther          0.0\n",
       "checkEitherContainsOther        0.0\n",
       "checkTrackInsideBaseline        0.0\n",
       "checkTrackInsideBaselineRect    0.0\n",
       "checkTrackSuccess               1.0\n",
       "compareRadii                   -4.0\n",
       "distanceFromBaseline            1.0\n",
       "dtype: float64"
      ]
     },
     "execution_count": 25,
     "metadata": {},
     "output_type": "execute_result"
    }
   ],
   "source": [
    "df.min()"
   ]
  },
  {
   "cell_type": "code",
   "execution_count": 26,
   "metadata": {},
   "outputs": [
    {
     "data": {
      "text/plain": [
       "checkBaselineInsideTrack        0.421053\n",
       "checkBothContainsOther          0.421053\n",
       "checkEitherContainsOther        0.526316\n",
       "checkTrackInsideBaseline        0.526316\n",
       "checkTrackInsideBaselineRect    0.105263\n",
       "checkTrackSuccess               1.000000\n",
       "compareRadii                    0.000000\n",
       "distanceFromBaseline            5.491158\n",
       "dtype: float64"
      ]
     },
     "execution_count": 26,
     "metadata": {},
     "output_type": "execute_result"
    }
   ],
   "source": [
    "df.mean()"
   ]
  },
  {
   "cell_type": "code",
   "execution_count": 28,
   "metadata": {},
   "outputs": [
    {
     "data": {
      "text/plain": [
       "checkBaselineInsideTrack        0.000000\n",
       "checkBothContainsOther          0.000000\n",
       "checkEitherContainsOther        1.000000\n",
       "checkTrackInsideBaseline        1.000000\n",
       "checkTrackInsideBaselineRect    0.000000\n",
       "checkTrackSuccess               1.000000\n",
       "compareRadii                   -1.000000\n",
       "distanceFromBaseline            5.385165\n",
       "dtype: float64"
      ]
     },
     "execution_count": 28,
     "metadata": {},
     "output_type": "execute_result"
    }
   ],
   "source": [
    "stat_output = df.median()\n",
    "stat_output"
   ]
  },
  {
   "cell_type": "code",
   "execution_count": 31,
   "metadata": {},
   "outputs": [
    {
     "name": "stdout",
     "output_type": "stream",
     "text": [
      "<class 'pandas.core.series.Series'>\n",
      "(8,)\n"
     ]
    }
   ],
   "source": [
    "print type(stat_output)\n",
    "print stat_output.shape"
   ]
  },
  {
   "cell_type": "code",
   "execution_count": 40,
   "metadata": {},
   "outputs": [
    {
     "name": "stdout",
     "output_type": "stream",
     "text": [
      "0.0\n",
      "1.0\n"
     ]
    }
   ],
   "source": [
    "print stat_output[0]\n",
    "print stat_output[3]"
   ]
  },
  {
   "cell_type": "code",
   "execution_count": 42,
   "metadata": {},
   "outputs": [
    {
     "name": "stdout",
     "output_type": "stream",
     "text": [
      "0.0\n",
      "-1.0\n"
     ]
    }
   ],
   "source": [
    "print stat_output.checkBaselineInsideTrack\n",
    "print stat_output['compareRadii']"
   ]
  },
  {
   "cell_type": "code",
   "execution_count": 44,
   "metadata": {},
   "outputs": [
    {
     "data": {
      "text/plain": [
       "['checkBaselineInsideTrack',\n",
       " 'checkBothContainsOther',\n",
       " 'checkEitherContainsOther',\n",
       " 'checkTrackInsideBaseline',\n",
       " 'checkTrackInsideBaselineRect',\n",
       " 'checkTrackSuccess',\n",
       " 'compareRadii',\n",
       " 'distanceFromBaseline']"
      ]
     },
     "execution_count": 44,
     "metadata": {},
     "output_type": "execute_result"
    }
   ],
   "source": [
    "list(stat_output.index)"
   ]
  },
  {
   "cell_type": "code",
   "execution_count": 47,
   "metadata": {},
   "outputs": [
    {
     "data": {
      "text/plain": [
       "[0.0, 0.0, 1.0, 1.0, 0.0, 1.0, -1.0, 5.385164807134504]"
      ]
     },
     "execution_count": 47,
     "metadata": {},
     "output_type": "execute_result"
    }
   ],
   "source": [
    "list(stat_output.get_values())"
   ]
  },
  {
   "cell_type": "code",
   "execution_count": 50,
   "metadata": {},
   "outputs": [],
   "source": [
    "evalDf.setRowsRequested(s_cmd='inputframes')\n",
    "inputframes_rows = evalDf.rows_requested"
   ]
  },
  {
   "cell_type": "code",
   "execution_count": 51,
   "metadata": {},
   "outputs": [
    {
     "data": {
      "text/plain": [
       "list"
      ]
     },
     "execution_count": 51,
     "metadata": {},
     "output_type": "execute_result"
    }
   ],
   "source": [
    "type(inputframes_rows)"
   ]
  },
  {
   "cell_type": "markdown",
   "metadata": {},
   "source": [
    "### Let's examine how nan's are handled\n",
    "they are handled well using pandas methods"
   ]
  },
  {
   "cell_type": "code",
   "execution_count": 55,
   "metadata": {},
   "outputs": [
    {
     "name": "stdout",
     "output_type": "stream",
     "text": [
      "checkBaselineInsideTrack        0.421053\n",
      "checkBothContainsOther          0.421053\n",
      "checkEitherContainsOther        0.526316\n",
      "checkTrackInsideBaseline        0.526316\n",
      "checkTrackInsideBaselineRect    0.105263\n",
      "checkTrackSuccess               1.000000\n",
      "compareRadii                    0.000000\n",
      "distanceFromBaseline            5.491158\n",
      "dtype: float64\n",
      "--------------------------\n",
      "checkBaselineInsideTrack        0.421053\n",
      "checkBothContainsOther          0.421053\n",
      "checkEitherContainsOther        0.526316\n",
      "checkTrackInsideBaseline        0.526316\n",
      "checkTrackInsideBaselineRect    0.105263\n",
      "checkTrackSuccess               1.000000\n",
      "compareRadii                    0.000000\n",
      "distanceFromBaseline            5.491158\n",
      "dtype: float64\n"
     ]
    }
   ],
   "source": [
    "# note: it's the same for \n",
    "print df.mean()\n",
    "print '--------------------------'\n",
    "print df[inputframes_rows].mean()"
   ]
  },
  {
   "cell_type": "code",
   "execution_count": 60,
   "metadata": {},
   "outputs": [
    {
     "name": "stdout",
     "output_type": "stream",
     "text": [
      "nan\n",
      "-----\n",
      "0.0\n"
     ]
    }
   ],
   "source": [
    "# notice how pandas methods works with nan's, but built-in sum doesn't\n",
    "print sum(df['compareRadii'])\n",
    "print '-----'\n",
    "print df['compareRadii'].sum()"
   ]
  },
  {
   "cell_type": "markdown",
   "metadata": {},
   "source": [
    "### Build the methods for the new class"
   ]
  },
  {
   "cell_type": "code",
   "execution_count": 82,
   "metadata": {},
   "outputs": [
    {
     "data": {
      "text/plain": [
       "44.0"
      ]
     },
     "execution_count": 82,
     "metadata": {},
     "output_type": "execute_result"
    }
   ],
   "source": [
    "def agg_compareRadii(series_data):\n",
    "    abs_data = series_data.apply(np.abs)\n",
    "    return abs_data.sum()  # note: use pd's method\n",
    "\n",
    "agg_compareRadii(df['compareRadii'])"
   ]
  },
  {
   "cell_type": "code",
   "execution_count": 85,
   "metadata": {},
   "outputs": [
    {
     "name": "stdout",
     "output_type": "stream",
     "text": [
      "[0.0, -4.0, 0.0]\n"
     ]
    }
   ],
   "source": [
    "meth_names = ['sum', 'min', 'mean']\n",
    "this_series = cr\n",
    "meth_vals = []\n",
    "\n",
    "for meth_name in meth_names:\n",
    "\n",
    "    _aggMeth = getattr(this_series, meth_name)\n",
    "    \n",
    "    _val = _aggMeth()\n",
    "    \n",
    "    meth_vals.append(_val)\n",
    "    \n",
    "print meth_vals"
   ]
  },
  {
   "cell_type": "code",
   "execution_count": 91,
   "metadata": {
    "collapsed": true
   },
   "outputs": [],
   "source": [
    "def inferFieldType(s_field_name):\n",
    "    if 'check' in s_field_name:\n",
    "        return 'bool'\n",
    "    else:\n",
    "        return 'num'\n",
    "    \n",
    "def inferFieldAbs(s_field_name):\n",
    "    if s_field_name == 'compareRadii':\n",
    "        return True\n",
    "    else:\n",
    "        return False"
   ]
  },
  {
   "cell_type": "code",
   "execution_count": 93,
   "metadata": {},
   "outputs": [],
   "source": [
    "def agg_universal(field_name, field_data, field_type, field_abs):\n",
    "    ''' aggregate a field based on properties you know about how\n",
    "        it should operate.\n",
    "    '''\n",
    "    \n",
    "    # move these to class data section\n",
    "    bool_agg_meths = ['mean']\n",
    "    num_agg_meths = ['mean', 'median', 'min', 'max', 'std', 'sum' ]\n",
    "    \n",
    "    output_dict = {}\n",
    "    \n",
    "    if field_abs:\n",
    "        field_data = field_data.apply(np.abs)\n",
    "        \n",
    "    if field_type == 'bool':\n",
    "        agg_names = bool_agg_meths\n",
    "    elif field_type == 'num':\n",
    "        agg_names = num_agg_meths\n",
    "        \n",
    "    for agg_name in agg_names:\n",
    "        \n",
    "        try:\n",
    "            \n",
    "            aggMeth = getattr(field_data, agg_name)\n",
    "            \n",
    "            agg_val = aggMeth()\n",
    "            \n",
    "            output_dict[agg_name] = agg_val\n",
    "        \n",
    "        except:\n",
    "            pass\n",
    "    \n",
    "    return output_dict    "
   ]
  },
  {
   "cell_type": "code",
   "execution_count": 100,
   "metadata": {},
   "outputs": [],
   "source": [
    "def aggDf(eval_df):\n",
    "    ''' for each field in an eval df, aggregate '''\n",
    "    \n",
    "    d_agg = {}\n",
    "    \n",
    "    eval_field_names = eval_df.columns\n",
    "\n",
    "    for field in eval_field_names:\n",
    "\n",
    "        data = eval_df[field]\n",
    "\n",
    "        if field == 'dummy':\n",
    "            pass\n",
    "            # self.agg_dummy(data)\n",
    "            # select statement for custom agg type not handled\n",
    "            # by unviersal_agg()\n",
    "\n",
    "        elif field == 'dummy2':\n",
    "            pass\n",
    "            #self.agg_Summy2(data)\n",
    "\n",
    "        else:\n",
    "\n",
    "            s_field_type = inferFieldType(field)\n",
    "\n",
    "            b_field_abs = inferFieldAbs(field)\n",
    "\n",
    "            field_agg = agg_universal(field, data, s_field_type, \n",
    "                                      b_field_abs)\n",
    "\n",
    "            d_agg[field] = field_agg\n",
    "            \n",
    "    return d_agg"
   ]
  },
  {
   "cell_type": "code",
   "execution_count": 102,
   "metadata": {},
   "outputs": [
    {
     "data": {
      "text/plain": [
       "{'checkBaselineInsideTrack': {'mean': 0.42105263157894735},\n",
       " 'checkBothContainsOther': {'mean': 0.42105263157894735},\n",
       " 'checkEitherContainsOther': {'mean': 0.5263157894736842},\n",
       " 'checkTrackInsideBaseline': {'mean': 0.5263157894736842},\n",
       " 'checkTrackInsideBaselineRect': {'mean': 0.10526315789473684},\n",
       " 'checkTrackSuccess': {'mean': 1.0},\n",
       " 'compareRadii': {'max': 7.0,\n",
       "  'mean': 2.3157894736842106,\n",
       "  'median': 2.0,\n",
       "  'min': 0.0,\n",
       "  'std': 1.8273426844874245,\n",
       "  'sum': 44.0},\n",
       " 'distanceFromBaseline': {'max': 12.206555615733702,\n",
       "  'mean': 5.491158016127614,\n",
       "  'median': 5.385164807134504,\n",
       "  'min': 1.0,\n",
       "  'std': 3.1278008710099563,\n",
       "  'sum': 104.33200230642467}}"
      ]
     },
     "execution_count": 102,
     "metadata": {},
     "output_type": "execute_result"
    }
   ],
   "source": [
    "d_agg = aggDf(evalDf.df.copy())\n",
    "d_agg"
   ]
  },
  {
   "cell_type": "code",
   "execution_count": 103,
   "metadata": {
    "collapsed": true
   },
   "outputs": [],
   "source": [
    "df_agg = pd.DataFrame(d_agg)"
   ]
  },
  {
   "cell_type": "code",
   "execution_count": 105,
   "metadata": {},
   "outputs": [
    {
     "data": {
      "text/html": [
       "<div>\n",
       "<style scoped>\n",
       "    .dataframe tbody tr th:only-of-type {\n",
       "        vertical-align: middle;\n",
       "    }\n",
       "\n",
       "    .dataframe tbody tr th {\n",
       "        vertical-align: top;\n",
       "    }\n",
       "\n",
       "    .dataframe thead th {\n",
       "        text-align: right;\n",
       "    }\n",
       "</style>\n",
       "<table border=\"1\" class=\"dataframe\">\n",
       "  <thead>\n",
       "    <tr style=\"text-align: right;\">\n",
       "      <th></th>\n",
       "      <th>max</th>\n",
       "      <th>mean</th>\n",
       "      <th>median</th>\n",
       "      <th>min</th>\n",
       "      <th>std</th>\n",
       "      <th>sum</th>\n",
       "    </tr>\n",
       "  </thead>\n",
       "  <tbody>\n",
       "    <tr>\n",
       "      <th>checkBaselineInsideTrack</th>\n",
       "      <td>NaN</td>\n",
       "      <td>0.421053</td>\n",
       "      <td>NaN</td>\n",
       "      <td>NaN</td>\n",
       "      <td>NaN</td>\n",
       "      <td>NaN</td>\n",
       "    </tr>\n",
       "    <tr>\n",
       "      <th>checkBothContainsOther</th>\n",
       "      <td>NaN</td>\n",
       "      <td>0.421053</td>\n",
       "      <td>NaN</td>\n",
       "      <td>NaN</td>\n",
       "      <td>NaN</td>\n",
       "      <td>NaN</td>\n",
       "    </tr>\n",
       "    <tr>\n",
       "      <th>checkEitherContainsOther</th>\n",
       "      <td>NaN</td>\n",
       "      <td>0.526316</td>\n",
       "      <td>NaN</td>\n",
       "      <td>NaN</td>\n",
       "      <td>NaN</td>\n",
       "      <td>NaN</td>\n",
       "    </tr>\n",
       "    <tr>\n",
       "      <th>checkTrackInsideBaseline</th>\n",
       "      <td>NaN</td>\n",
       "      <td>0.526316</td>\n",
       "      <td>NaN</td>\n",
       "      <td>NaN</td>\n",
       "      <td>NaN</td>\n",
       "      <td>NaN</td>\n",
       "    </tr>\n",
       "    <tr>\n",
       "      <th>checkTrackInsideBaselineRect</th>\n",
       "      <td>NaN</td>\n",
       "      <td>0.105263</td>\n",
       "      <td>NaN</td>\n",
       "      <td>NaN</td>\n",
       "      <td>NaN</td>\n",
       "      <td>NaN</td>\n",
       "    </tr>\n",
       "    <tr>\n",
       "      <th>checkTrackSuccess</th>\n",
       "      <td>NaN</td>\n",
       "      <td>1.000000</td>\n",
       "      <td>NaN</td>\n",
       "      <td>NaN</td>\n",
       "      <td>NaN</td>\n",
       "      <td>NaN</td>\n",
       "    </tr>\n",
       "    <tr>\n",
       "      <th>compareRadii</th>\n",
       "      <td>7.000000</td>\n",
       "      <td>2.315789</td>\n",
       "      <td>2.000000</td>\n",
       "      <td>0.0</td>\n",
       "      <td>1.827343</td>\n",
       "      <td>44.000000</td>\n",
       "    </tr>\n",
       "    <tr>\n",
       "      <th>distanceFromBaseline</th>\n",
       "      <td>12.206556</td>\n",
       "      <td>5.491158</td>\n",
       "      <td>5.385165</td>\n",
       "      <td>1.0</td>\n",
       "      <td>3.127801</td>\n",
       "      <td>104.332002</td>\n",
       "    </tr>\n",
       "  </tbody>\n",
       "</table>\n",
       "</div>"
      ],
      "text/plain": [
       "                                    max      mean    median  min       std  \\\n",
       "checkBaselineInsideTrack            NaN  0.421053       NaN  NaN       NaN   \n",
       "checkBothContainsOther              NaN  0.421053       NaN  NaN       NaN   \n",
       "checkEitherContainsOther            NaN  0.526316       NaN  NaN       NaN   \n",
       "checkTrackInsideBaseline            NaN  0.526316       NaN  NaN       NaN   \n",
       "checkTrackInsideBaselineRect        NaN  0.105263       NaN  NaN       NaN   \n",
       "checkTrackSuccess                   NaN  1.000000       NaN  NaN       NaN   \n",
       "compareRadii                   7.000000  2.315789  2.000000  0.0  1.827343   \n",
       "distanceFromBaseline          12.206556  5.491158  5.385165  1.0  3.127801   \n",
       "\n",
       "                                     sum  \n",
       "checkBaselineInsideTrack             NaN  \n",
       "checkBothContainsOther               NaN  \n",
       "checkEitherContainsOther             NaN  \n",
       "checkTrackInsideBaseline             NaN  \n",
       "checkTrackInsideBaselineRect         NaN  \n",
       "checkTrackSuccess                    NaN  \n",
       "compareRadii                   44.000000  \n",
       "distanceFromBaseline          104.332002  "
      ]
     },
     "execution_count": 105,
     "metadata": {},
     "output_type": "execute_result"
    }
   ],
   "source": [
    "df_agg.T"
   ]
  },
  {
   "cell_type": "markdown",
   "metadata": {},
   "source": [
    "### Test new Class"
   ]
  },
  {
   "cell_type": "code",
   "execution_count": 110,
   "metadata": {
    "collapsed": true
   },
   "outputs": [],
   "source": [
    "from modules.EvalHelpers import AggEval"
   ]
  },
  {
   "cell_type": "code",
   "execution_count": 111,
   "metadata": {
    "collapsed": true
   },
   "outputs": [],
   "source": [
    "agg = AggEval(evalDf.df.copy())"
   ]
  },
  {
   "cell_type": "code",
   "execution_count": 112,
   "metadata": {},
   "outputs": [
    {
     "data": {
      "text/html": [
       "<div>\n",
       "<style scoped>\n",
       "    .dataframe tbody tr th:only-of-type {\n",
       "        vertical-align: middle;\n",
       "    }\n",
       "\n",
       "    .dataframe tbody tr th {\n",
       "        vertical-align: top;\n",
       "    }\n",
       "\n",
       "    .dataframe thead th {\n",
       "        text-align: right;\n",
       "    }\n",
       "</style>\n",
       "<table border=\"1\" class=\"dataframe\">\n",
       "  <thead>\n",
       "    <tr style=\"text-align: right;\">\n",
       "      <th></th>\n",
       "      <th>max</th>\n",
       "      <th>mean</th>\n",
       "      <th>median</th>\n",
       "      <th>min</th>\n",
       "      <th>std</th>\n",
       "      <th>sum</th>\n",
       "    </tr>\n",
       "  </thead>\n",
       "  <tbody>\n",
       "    <tr>\n",
       "      <th>agg_checkBaselineInsideTrack</th>\n",
       "      <td>NaN</td>\n",
       "      <td>0.421053</td>\n",
       "      <td>NaN</td>\n",
       "      <td>NaN</td>\n",
       "      <td>NaN</td>\n",
       "      <td>NaN</td>\n",
       "    </tr>\n",
       "    <tr>\n",
       "      <th>agg_checkBothContainsOther</th>\n",
       "      <td>NaN</td>\n",
       "      <td>0.421053</td>\n",
       "      <td>NaN</td>\n",
       "      <td>NaN</td>\n",
       "      <td>NaN</td>\n",
       "      <td>NaN</td>\n",
       "    </tr>\n",
       "    <tr>\n",
       "      <th>agg_checkEitherContainsOther</th>\n",
       "      <td>NaN</td>\n",
       "      <td>0.526316</td>\n",
       "      <td>NaN</td>\n",
       "      <td>NaN</td>\n",
       "      <td>NaN</td>\n",
       "      <td>NaN</td>\n",
       "    </tr>\n",
       "    <tr>\n",
       "      <th>agg_checkTrackInsideBaseline</th>\n",
       "      <td>NaN</td>\n",
       "      <td>0.526316</td>\n",
       "      <td>NaN</td>\n",
       "      <td>NaN</td>\n",
       "      <td>NaN</td>\n",
       "      <td>NaN</td>\n",
       "    </tr>\n",
       "    <tr>\n",
       "      <th>agg_checkTrackInsideBaselineRect</th>\n",
       "      <td>NaN</td>\n",
       "      <td>0.105263</td>\n",
       "      <td>NaN</td>\n",
       "      <td>NaN</td>\n",
       "      <td>NaN</td>\n",
       "      <td>NaN</td>\n",
       "    </tr>\n",
       "    <tr>\n",
       "      <th>agg_checkTrackSuccess</th>\n",
       "      <td>NaN</td>\n",
       "      <td>1.000000</td>\n",
       "      <td>NaN</td>\n",
       "      <td>NaN</td>\n",
       "      <td>NaN</td>\n",
       "      <td>NaN</td>\n",
       "    </tr>\n",
       "    <tr>\n",
       "      <th>agg_compareRadii</th>\n",
       "      <td>7.000000</td>\n",
       "      <td>2.315789</td>\n",
       "      <td>2.000000</td>\n",
       "      <td>0.0</td>\n",
       "      <td>1.827343</td>\n",
       "      <td>44.000000</td>\n",
       "    </tr>\n",
       "    <tr>\n",
       "      <th>agg_distanceFromBaseline</th>\n",
       "      <td>12.206556</td>\n",
       "      <td>5.491158</td>\n",
       "      <td>5.385165</td>\n",
       "      <td>1.0</td>\n",
       "      <td>3.127801</td>\n",
       "      <td>104.332002</td>\n",
       "    </tr>\n",
       "  </tbody>\n",
       "</table>\n",
       "</div>"
      ],
      "text/plain": [
       "                                        max      mean    median  min  \\\n",
       "agg_checkBaselineInsideTrack            NaN  0.421053       NaN  NaN   \n",
       "agg_checkBothContainsOther              NaN  0.421053       NaN  NaN   \n",
       "agg_checkEitherContainsOther            NaN  0.526316       NaN  NaN   \n",
       "agg_checkTrackInsideBaseline            NaN  0.526316       NaN  NaN   \n",
       "agg_checkTrackInsideBaselineRect        NaN  0.105263       NaN  NaN   \n",
       "agg_checkTrackSuccess                   NaN  1.000000       NaN  NaN   \n",
       "agg_compareRadii                   7.000000  2.315789  2.000000  0.0   \n",
       "agg_distanceFromBaseline          12.206556  5.491158  5.385165  1.0   \n",
       "\n",
       "                                       std         sum  \n",
       "agg_checkBaselineInsideTrack           NaN         NaN  \n",
       "agg_checkBothContainsOther             NaN         NaN  \n",
       "agg_checkEitherContainsOther           NaN         NaN  \n",
       "agg_checkTrackInsideBaseline           NaN         NaN  \n",
       "agg_checkTrackInsideBaselineRect       NaN         NaN  \n",
       "agg_checkTrackSuccess                  NaN         NaN  \n",
       "agg_compareRadii                  1.827343   44.000000  \n",
       "agg_distanceFromBaseline          3.127801  104.332002  "
      ]
     },
     "execution_count": 112,
     "metadata": {},
     "output_type": "execute_result"
    }
   ],
   "source": [
    "agg.getAggDf()"
   ]
  },
  {
   "cell_type": "code",
   "execution_count": 113,
   "metadata": {},
   "outputs": [
    {
     "data": {
      "text/plain": [
       "agg_checkBaselineInsideTrack        0.421053\n",
       "agg_checkBothContainsOther          0.421053\n",
       "agg_checkEitherContainsOther        0.526316\n",
       "agg_checkTrackInsideBaseline        0.526316\n",
       "agg_checkTrackInsideBaselineRect    0.105263\n",
       "agg_checkTrackSuccess               1.000000\n",
       "agg_compareRadii                    2.315789\n",
       "agg_distanceFromBaseline            5.491158\n",
       "Name: mean, dtype: float64"
      ]
     },
     "execution_count": 113,
     "metadata": {},
     "output_type": "execute_result"
    }
   ],
   "source": [
    "series = agg.getAggDf()['mean']\n",
    "series"
   ]
  },
  {
   "cell_type": "code",
   "execution_count": 114,
   "metadata": {
    "collapsed": true
   },
   "outputs": [],
   "source": [
    "formatting_cols_agg = {\n",
    "            'mean':                 '{:4.0f}',\n",
    "            }"
   ]
  },
  {
   "cell_type": "code",
   "execution_count": 125,
   "metadata": {},
   "outputs": [
    {
     "name": "stdout",
     "output_type": "stream",
     "text": [
      "agg_checkBaselineInsideTrack       0.42\n",
      "agg_checkBothContainsOther         0.42\n",
      "agg_checkEitherContainsOther       0.53\n",
      "agg_checkTrackInsideBaseline       0.53\n",
      "agg_checkTrackInsideBaselineRect   0.11\n",
      "agg_checkTrackSuccess              1.00\n",
      "agg_compareRadii                   2.32\n",
      "agg_distanceFromBaseline           5.49\n"
     ]
    }
   ],
   "source": [
    "print series.to_string(float_format= '{:,.2f}'.format)"
   ]
  },
  {
   "cell_type": "code",
   "execution_count": 120,
   "metadata": {
    "collapsed": true
   },
   "outputs": [],
   "source": [
    "from modules.EvalHelpers import AggEval, DFHelper"
   ]
  },
  {
   "cell_type": "code",
   "execution_count": 126,
   "metadata": {},
   "outputs": [
    {
     "name": "stdout",
     "output_type": "stream",
     "text": [
      "agg_checkBaselineInsideTrack       $0.42\n",
      "agg_checkBothContainsOther         $0.42\n",
      "agg_checkEitherContainsOther       $0.53\n",
      "agg_checkTrackInsideBaseline       $0.53\n",
      "agg_checkTrackInsideBaselineRect   $0.11\n",
      "agg_checkTrackSuccess              $1.00\n",
      "agg_compareRadii                   $2.32\n",
      "agg_distanceFromBaseline           $5.49\n"
     ]
    }
   ],
   "source": [
    "aggEval = AggEval(evalDf.df)\n",
    "outputDf = DFHelper(aggEval.getAggDf())\n",
    "print outputDf.getAggEvalDisplay()"
   ]
  },
  {
   "cell_type": "code",
   "execution_count": null,
   "metadata": {
    "collapsed": true
   },
   "outputs": [],
   "source": []
  },
  {
   "cell_type": "markdown",
   "metadata": {},
   "source": [
    "### Misc"
   ]
  },
  {
   "cell_type": "code",
   "execution_count": 63,
   "metadata": {
    "collapsed": true
   },
   "outputs": [],
   "source": [
    "cr = df['compareRadii']"
   ]
  },
  {
   "cell_type": "code",
   "execution_count": 69,
   "metadata": {
    "collapsed": true
   },
   "outputs": [],
   "source": [
    "cr_data = [x for x in cr if not(math.isnan(x))]"
   ]
  },
  {
   "cell_type": "code",
   "execution_count": 71,
   "metadata": {},
   "outputs": [
    {
     "data": {
      "text/plain": [
       "(array([3., 4., 4., 2., 1., 1., 2., 0., 0., 2.]),\n",
       " array([-4. , -2.9, -1.8, -0.7,  0.4,  1.5,  2.6,  3.7,  4.8,  5.9,  7. ]),\n",
       " <a list of 10 Patch objects>)"
      ]
     },
     "execution_count": 71,
     "metadata": {},
     "output_type": "execute_result"
    },
    {
     "data": {
      "image/png": "[encoded data removed]",
      "text/plain": [
       "<Figure size 432x288 with 1 Axes>"
      ]
     },
     "metadata": {},
     "output_type": "display_data"
    }
   ],
   "source": [
    "plt.hist(cr_data)"
   ]
  },
  {
   "cell_type": "code",
   "execution_count": null,
   "metadata": {
    "collapsed": true
   },
   "outputs": [],
   "source": []
  }
 ],
 "metadata": {
  "kernelspec": {
   "display_name": "Python 2",
   "language": "python",
   "name": "python2"
  },
  "language_info": {
   "codemirror_mode": {
    "name": "ipython",
    "version": 2
   },
   "file_extension": ".py",
   "mimetype": "text/x-python",
   "name": "python",
   "nbconvert_exporter": "python",
   "pygments_lexer": "ipython2",
   "version": "2.7.13"
  }
 },
 "nbformat": 4,
 "nbformat_minor": 2
}
