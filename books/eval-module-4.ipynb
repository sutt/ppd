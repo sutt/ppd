{
 "cells": [
  {
   "cell_type": "code",
   "execution_count": 27,
   "metadata": {},
   "outputs": [
    {
     "name": "stdout",
     "output_type": "stream",
     "text": [
      "The autoreload extension is already loaded. To reload it, use:\n",
      "  %reload_ext autoreload\n"
     ]
    }
   ],
   "source": [
    "import pandas as pd\n",
    "import sqlalchemy\n",
    "import math\n",
    "import os, sys, copy, random, pickle, cv2\n",
    "import numpy as np\n",
    "from matplotlib import pyplot as plt\n",
    "%matplotlib inline\n",
    "\n",
    "sys.path.append(\"../\")\n",
    "\n",
    "%load_ext autoreload\n",
    "%autoreload 2\n",
    "\n",
    "from modules.ControlTracking import TrackFactory\n",
    "from modules.ControlDisplay import Display\n",
    "from modules.Interproc import DBInterface, GuiviewState\n",
    "\n",
    "from modules.AnalysisHelpers import ( \n",
    "         exploreImgs, buildImgComparisonData, subprocEval)\n",
    "\n",
    "from modules.EvalHelpers import EvalTracker, EvalDataset\n",
    "from modules.ControlEval import EvalFactory\n",
    "from modules.DataSchemas import ScoreSchema\n",
    "from modules.EvalHelpers import OutcomeData, DFHelper"
   ]
  },
  {
   "cell_type": "code",
   "execution_count": 28,
   "metadata": {},
   "outputs": [
    {
     "name": "stdout",
     "output_type": "stream",
     "text": [
      "\n",
      "START - running eval module...\n",
      "[                            ]\n",
      "-----------------------------\n",
      "output db: data/misc/books/eval-module-4/evaldb.db\n",
      "output tbl: outcome_dataframe\n",
      "total time: 4.381\n",
      "FINISH - rows: 345 cols: 48 \n",
      "subproc time: 5.916\n"
     ]
    }
   ],
   "source": [
    "tmp_db_path = 'data/misc/books/eval-module-4/evaldb.db'\n",
    "\n",
    "# vid_path = 'data/proc/tmp/short/ss1.avi'\n",
    "vid_path = 'data/proc/tmp/dec14/output5.proc1.proc1.avi'\n",
    "\n",
    "outcome_subproc = subprocEval( f_pathfn = vid_path\n",
    "                              ,db_pathfn = tmp_db_path \n",
    "                             ,b_log = True\n",
    "                             )"
   ]
  },
  {
   "cell_type": "code",
   "execution_count": 24,
   "metadata": {
    "collapsed": true
   },
   "outputs": [],
   "source": [
    "outcome_subproc = subprocEval( f_pathfn = vid_path\n",
    "                              ,db_pathfn = tmp_db_path \n",
    "                             ,b_log = False\n",
    "                             )"
   ]
  },
  {
   "cell_type": "code",
   "execution_count": null,
   "metadata": {
    "collapsed": true
   },
   "outputs": [],
   "source": []
  }
 ],
 "metadata": {
  "kernelspec": {
   "display_name": "Python 2",
   "language": "python",
   "name": "python2"
  },
  "language_info": {
   "codemirror_mode": {
    "name": "ipython",
    "version": 2
   },
   "file_extension": ".py",
   "mimetype": "text/x-python",
   "name": "python",
   "nbconvert_exporter": "python",
   "pygments_lexer": "ipython2",
   "version": "2.7.13"
  }
 },
 "nbformat": 4,
 "nbformat_minor": 2
}
