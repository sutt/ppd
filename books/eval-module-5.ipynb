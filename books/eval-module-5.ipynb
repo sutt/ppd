{
 "cells": [
  {
   "cell_type": "code",
   "execution_count": 1,
   "metadata": {
    "collapsed": true
   },
   "outputs": [],
   "source": [
    "import pandas as pd\n",
    "import sqlalchemy\n",
    "import math\n",
    "import os, sys, copy, random, pickle, cv2\n",
    "import numpy as np\n",
    "from matplotlib import pyplot as plt\n",
    "%matplotlib inline\n",
    "\n",
    "sys.path.append(\"../\")\n",
    "\n",
    "%load_ext autoreload\n",
    "%autoreload 2\n",
    "\n",
    "from modules.ControlTracking import TrackFactory\n",
    "from modules.ControlDisplay import Display\n",
    "from modules.Interproc import DBInterface, GuiviewState\n",
    "\n",
    "from modules.AnalysisHelpers import ( \n",
    "         exploreImgs, buildImgComparisonData, subprocEval)\n",
    "\n",
    "from modules.EvalHelpers import EvalTracker, EvalDataset\n",
    "from modules.ControlEval import EvalFactory\n",
    "from modules.DataSchemas import ScoreSchema\n",
    "from modules.EvalHelpers import OutcomeData, DFHelper\n",
    "\n",
    "from modules.EvalHelpers import AggEval, DFHelper"
   ]
  },
  {
   "cell_type": "code",
   "execution_count": 3,
   "metadata": {},
   "outputs": [
    {
     "name": "stdout",
     "output_type": "stream",
     "text": [
      "\n",
      "START - running eval module...\n",
      "[                            ]\n",
      "-----------------------------\n",
      "output db: data/misc/books/eval-module-4/evaldb.db\n",
      "output tbl: outcome_dataframe\n",
      "eval time: 4.287\n",
      "FINISH - rows: 345 cols: 48 \n",
      "\n",
      "num frames:                  345\n",
      "obj enums scored/tracked:    0,1 / 0\n",
      "num scored frames:           19 | 0,9,78...308,324,340\n",
      "-------\n",
      "agg_checkBaselineInsideTrack       0.42\n",
      "agg_checkBothContainsOther         0.42\n",
      "agg_checkEitherContainsOther       0.53\n",
      "agg_checkTrackInsideBaseline       0.53\n",
      "agg_checkTrackInsideBaselineRect   0.11\n",
      "agg_checkTrackSuccess              1.00\n",
      "agg_compareRadii                   2.32\n",
      "agg_distanceFromBaseline           5.49\n",
      "subproc time: 5.952\n"
     ]
    }
   ],
   "source": [
    "tmp_db_path = 'data/misc/books/eval-module-4/evaldb.db'\n",
    "\n",
    "vid_path = 'data/proc/tmp/dec14/output5.proc1.proc1.avi'\n",
    "\n",
    "outcome_subproc = subprocEval(f_pathfn = vid_path\n",
    "                              ,db_pathfn = tmp_db_path \n",
    "                              ,b_log = True\n",
    "                              ,b_eval_log = True\n",
    "                             )"
   ]
  },
  {
   "cell_type": "code",
   "execution_count": null,
   "metadata": {
    "collapsed": true
   },
   "outputs": [],
   "source": []
  }
 ],
 "metadata": {
  "kernelspec": {
   "display_name": "Python 2",
   "language": "python",
   "name": "python2"
  },
  "language_info": {
   "codemirror_mode": {
    "name": "ipython",
    "version": 2
   },
   "file_extension": ".py",
   "mimetype": "text/x-python",
   "name": "python",
   "nbconvert_exporter": "python",
   "pygments_lexer": "ipython2",
   "version": "2.7.13"
  }
 },
 "nbformat": 4,
 "nbformat_minor": 2
}
