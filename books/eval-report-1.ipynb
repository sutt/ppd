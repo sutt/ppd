{
 "cells": [
  {
   "cell_type": "code",
   "execution_count": 1,
   "metadata": {},
   "outputs": [],
   "source": [
    "import pandas as pd\n",
    "import sqlalchemy\n",
    "import math\n",
    "import os, sys, copy, random, pickle, cv2\n",
    "import numpy as np\n",
    "from matplotlib import pyplot as plt\n",
    "%matplotlib inline\n",
    "\n",
    "sys.path.append(\"../\")\n",
    "\n",
    "%load_ext autoreload\n",
    "%autoreload 2\n",
    "\n",
    "from modules.ControlTracking import TrackFactory\n",
    "from modules.ControlDisplay import Display\n",
    "from modules.Interproc import DBInterface, GuiviewState\n",
    "\n",
    "from modules.AnalysisHelpers import ( \n",
    "         exploreImgs, buildImgComparisonData, subprocEval)\n",
    "\n",
    "from modules.EvalHelpers import EvalTracker, EvalDataset\n",
    "from modules.ControlEval import EvalFactory\n",
    "from modules.DataSchemas import ScoreSchema\n",
    "from modules.EvalHelpers import OutcomeData, DFHelper\n",
    "\n",
    "from modules.EvalHelpers import AggEval, DFHelper\n",
    "\n",
    "from modules.EvalSuite import EvalSuite"
   ]
  },
  {
   "cell_type": "markdown",
   "metadata": {},
   "source": [
    "### Build OutcomeData from eval to work with"
   ]
  },
  {
   "cell_type": "code",
   "execution_count": 319,
   "metadata": {
    "collapsed": true
   },
   "outputs": [],
   "source": [
    "#different trackers here\n",
    "b_log, b_eval_log = False, False\n",
    "vidfn = 'data/proc/tmp/dec14/output5.proc1.proc1.avi'\n",
    "outcome0 = subprocEval(f_pathfn = vidfn, algo_enum=0, b_log=b_log, b_eval_log=b_eval_log)\n",
    "outcome1 = subprocEval(f_pathfn = vidfn, algo_enum=1, b_log=b_log, b_eval_log=b_eval_log)\n",
    "outcome2 = subprocEval(f_pathfn = vidfn, algo_enum=2, b_log=b_log, b_eval_log=b_eval_log)"
   ]
  },
  {
   "cell_type": "code",
   "execution_count": 2,
   "metadata": {},
   "outputs": [
    {
     "name": "stdout",
     "output_type": "stream",
     "text": [
      "\n",
      "START - running eval module...\n",
      "[                            ]\n",
      "------------------------------\n",
      "output db: data/usr/eval_tmp.db\n",
      "output tbl: outcome_dataframe\n",
      "eval time: 10.61\n",
      "outcome rows: 383 cols: 48 \n",
      "\n",
      "num frames:                  383 \n",
      "obj enums scored/tracked:    0,1 / 0 \n",
      "num scored frames:           10 | 0,22,40...125,188,380 \n",
      "-------\n",
      "agg_calcBaselineBallUnitsAway   0.18\n",
      "agg_checkBothContainsOther      0.88\n",
      "agg_checkTrackSuccess           0.86\n",
      "fagg_less_than_20_pix_balls_away   0.28\n",
      "fagg_less_than_30_pix_success      1.00\n",
      "-----\n",
      "subproc time: 12.46\n",
      "\n",
      "START - running eval module...\n",
      "[                            ]\n",
      "------------------------------\n",
      "output db: data/usr/eval_tmp.db\n",
      "output tbl: outcome_dataframe\n",
      "eval time: 10.64\n",
      "outcome rows: 383 cols: 48 \n",
      "\n",
      "num frames:                  383 \n",
      "obj enums scored/tracked:    0,1 / 0 \n",
      "num scored frames:           10 | 0,22,40...125,188,380 \n",
      "-------\n",
      "agg_calcBaselineBallUnitsAway   0.18\n",
      "agg_checkBothContainsOther      0.88\n",
      "agg_checkTrackSuccess           0.86\n",
      "fagg_less_than_20_pix_balls_away   0.28\n",
      "fagg_less_than_30_pix_success      1.00\n",
      "-----\n",
      "subproc time: 12.43\n",
      "\n",
      "START - running eval module...\n",
      "[                            ]\n",
      "------------------------------\n",
      "output db: data/usr/eval_tmp.db\n",
      "output tbl: outcome_dataframe\n",
      "eval time: 15.86\n",
      "outcome rows: 383 cols: 48 \n",
      "\n",
      "num frames:                  383 \n",
      "obj enums scored/tracked:    0,1 / 0 \n",
      "num scored frames:           10 | 0,22,40...125,188,380 \n",
      "-------\n",
      "agg_calcBaselineBallUnitsAway   0.18\n",
      "agg_checkBothContainsOther      0.88\n",
      "agg_checkTrackSuccess           0.92\n",
      "fagg_less_than_20_pix_balls_away   0.30\n",
      "fagg_less_than_30_pix_success      1.00\n",
      "-----\n",
      "subproc time: 17.66\n"
     ]
    }
   ],
   "source": [
    "b_log, b_eval_log = True, True\n",
    "vidfn = 'data/proc/tmp/dec14/output6.proc1.avi'\n",
    "\n",
    "algo_enums = [str(x) for x in range(3)]\n",
    "\n",
    "d_outcome = {}\n",
    "for _enum in algo_enums:\n",
    "    \n",
    "    _outcome = subprocEval(f_pathfn = vidfn, algo_enum=_enum, \n",
    "                           b_log=b_log, b_eval_log=b_eval_log)\n",
    "    \n",
    "    d_outcome[_enum] = _outcome.copy()"
   ]
  },
  {
   "cell_type": "markdown",
   "metadata": {},
   "source": [
    "### Show Reports from CmpAlgoReport"
   ]
  },
  {
   "cell_type": "code",
   "execution_count": 67,
   "metadata": {
    "collapsed": true
   },
   "outputs": [],
   "source": [
    "from modules.EvalSuite import EvalSuite, CmpAlgoReport"
   ]
  },
  {
   "cell_type": "code",
   "execution_count": 68,
   "metadata": {},
   "outputs": [],
   "source": [
    "cmpB = CmpAlgoReport(\n",
    "    benchmark_outcome_data=d_outcome['0'],\n",
    "    current_outcome_data=d_outcome['2']\n",
    "             )"
   ]
  },
  {
   "cell_type": "code",
   "execution_count": 69,
   "metadata": {},
   "outputs": [
    {
     "data": {
      "text/html": [
       "<div>\n",
       "<style scoped>\n",
       "    .dataframe tbody tr th:only-of-type {\n",
       "        vertical-align: middle;\n",
       "    }\n",
       "\n",
       "    .dataframe tbody tr th {\n",
       "        vertical-align: top;\n",
       "    }\n",
       "\n",
       "    .dataframe thead th {\n",
       "        text-align: right;\n",
       "    }\n",
       "</style>\n",
       "<table border=\"1\" class=\"dataframe\">\n",
       "  <thead>\n",
       "    <tr style=\"text-align: right;\">\n",
       "      <th></th>\n",
       "      <th>improvements</th>\n",
       "      <th>deprovements</th>\n",
       "      <th>sames</th>\n",
       "    </tr>\n",
       "  </thead>\n",
       "  <tbody>\n",
       "    <tr>\n",
       "      <th>checkTrackSuccess</th>\n",
       "      <td>24</td>\n",
       "      <td>0</td>\n",
       "      <td>359</td>\n",
       "    </tr>\n",
       "  </tbody>\n",
       "</table>\n",
       "</div>"
      ],
      "text/plain": [
       "                   improvements  deprovements  sames\n",
       "checkTrackSuccess            24             0    359"
      ]
     },
     "metadata": {},
     "output_type": "display_data"
    },
    {
     "data": {
      "text/html": [
       "<div>\n",
       "<style scoped>\n",
       "    .dataframe tbody tr th:only-of-type {\n",
       "        vertical-align: middle;\n",
       "    }\n",
       "\n",
       "    .dataframe tbody tr th {\n",
       "        vertical-align: top;\n",
       "    }\n",
       "\n",
       "    .dataframe thead th {\n",
       "        text-align: right;\n",
       "    }\n",
       "</style>\n",
       "<table border=\"1\" class=\"dataframe\">\n",
       "  <thead>\n",
       "    <tr style=\"text-align: right;\">\n",
       "      <th></th>\n",
       "      <th>improvements</th>\n",
       "      <th>deprovements</th>\n",
       "      <th>sames</th>\n",
       "    </tr>\n",
       "  </thead>\n",
       "  <tbody>\n",
       "    <tr>\n",
       "      <th>calcBaselineBallUnitsAway</th>\n",
       "      <td>1</td>\n",
       "      <td>1</td>\n",
       "      <td>8</td>\n",
       "    </tr>\n",
       "    <tr>\n",
       "      <th>checkBothContainsOther</th>\n",
       "      <td>0</td>\n",
       "      <td>0</td>\n",
       "      <td>10</td>\n",
       "    </tr>\n",
       "    <tr>\n",
       "      <th>checkTrackSuccess</th>\n",
       "      <td>0</td>\n",
       "      <td>0</td>\n",
       "      <td>10</td>\n",
       "    </tr>\n",
       "    <tr>\n",
       "      <th>distanceFromBaseline</th>\n",
       "      <td>1</td>\n",
       "      <td>1</td>\n",
       "      <td>8</td>\n",
       "    </tr>\n",
       "  </tbody>\n",
       "</table>\n",
       "</div>"
      ],
      "text/plain": [
       "                           improvements  deprovements  sames\n",
       "calcBaselineBallUnitsAway             1             1      8\n",
       "checkBothContainsOther                0             0     10\n",
       "checkTrackSuccess                     0             0     10\n",
       "distanceFromBaseline                  1             1      8"
      ]
     },
     "metadata": {},
     "output_type": "display_data"
    },
    {
     "data": {
      "text/html": [
       "<div>\n",
       "<style scoped>\n",
       "    .dataframe tbody tr th:only-of-type {\n",
       "        vertical-align: middle;\n",
       "    }\n",
       "\n",
       "    .dataframe tbody tr th {\n",
       "        vertical-align: top;\n",
       "    }\n",
       "\n",
       "    .dataframe thead tr th {\n",
       "        text-align: left;\n",
       "    }\n",
       "</style>\n",
       "<table border=\"1\" class=\"dataframe\">\n",
       "  <thead>\n",
       "    <tr>\n",
       "      <th></th>\n",
       "      <th>diff</th>\n",
       "      <th>current</th>\n",
       "      <th>benchmark</th>\n",
       "    </tr>\n",
       "    <tr>\n",
       "      <th></th>\n",
       "      <th>mean</th>\n",
       "      <th>mean</th>\n",
       "      <th>mean</th>\n",
       "    </tr>\n",
       "  </thead>\n",
       "  <tbody>\n",
       "    <tr>\n",
       "      <th>agg_checkTrackSuccess</th>\n",
       "      <td>0.063</td>\n",
       "      <td>0.924</td>\n",
       "      <td>0.862</td>\n",
       "    </tr>\n",
       "    <tr>\n",
       "      <th>agg_calcBaselineBallUnitsAway</th>\n",
       "      <td>-0.004</td>\n",
       "      <td>-0.184</td>\n",
       "      <td>-0.180</td>\n",
       "    </tr>\n",
       "    <tr>\n",
       "      <th>agg_checkBothContainsOther</th>\n",
       "      <td>0.000</td>\n",
       "      <td>1.000</td>\n",
       "      <td>1.000</td>\n",
       "    </tr>\n",
       "    <tr>\n",
       "      <th>agg_distanceFromBaseline</th>\n",
       "      <td>-0.043</td>\n",
       "      <td>-9.015</td>\n",
       "      <td>-8.972</td>\n",
       "    </tr>\n",
       "  </tbody>\n",
       "</table>\n",
       "</div>"
      ],
      "text/plain": [
       "                                 diff current benchmark\n",
       "                                 mean    mean      mean\n",
       "agg_checkTrackSuccess           0.063   0.924     0.862\n",
       "agg_calcBaselineBallUnitsAway  -0.004  -0.184    -0.180\n",
       "agg_checkBothContainsOther      0.000   1.000     1.000\n",
       "agg_distanceFromBaseline       -0.043  -9.015    -8.972"
      ]
     },
     "metadata": {},
     "output_type": "display_data"
    },
    {
     "data": {
      "text/html": [
       "<div>\n",
       "<style scoped>\n",
       "    .dataframe tbody tr th:only-of-type {\n",
       "        vertical-align: middle;\n",
       "    }\n",
       "\n",
       "    .dataframe tbody tr th {\n",
       "        vertical-align: top;\n",
       "    }\n",
       "\n",
       "    .dataframe thead tr th {\n",
       "        text-align: left;\n",
       "    }\n",
       "</style>\n",
       "<table border=\"1\" class=\"dataframe\">\n",
       "  <thead>\n",
       "    <tr>\n",
       "      <th></th>\n",
       "      <th colspan=\"2\" halign=\"left\">diff</th>\n",
       "      <th colspan=\"2\" halign=\"left\">current</th>\n",
       "      <th colspan=\"2\" halign=\"left\">benchmark</th>\n",
       "    </tr>\n",
       "    <tr>\n",
       "      <th></th>\n",
       "      <th>mean</th>\n",
       "      <th>n</th>\n",
       "      <th>mean</th>\n",
       "      <th>n</th>\n",
       "      <th>mean</th>\n",
       "      <th>n</th>\n",
       "    </tr>\n",
       "  </thead>\n",
       "  <tbody>\n",
       "    <tr>\n",
       "      <th>fagg_less_than_20_pix_balls_away</th>\n",
       "      <td>-0.019</td>\n",
       "      <td>0.000</td>\n",
       "      <td>-0.301</td>\n",
       "      <td>2.000</td>\n",
       "      <td>-0.282</td>\n",
       "      <td>2.000</td>\n",
       "    </tr>\n",
       "    <tr>\n",
       "      <th>fagg_less_than_30_pix_success</th>\n",
       "      <td>0.000</td>\n",
       "      <td>24.000</td>\n",
       "      <td>1.000</td>\n",
       "      <td>321.000</td>\n",
       "      <td>1.000</td>\n",
       "      <td>297.000</td>\n",
       "    </tr>\n",
       "  </tbody>\n",
       "</table>\n",
       "</div>"
      ],
      "text/plain": [
       "                                    diff         current          benchmark  \\\n",
       "                                    mean       n    mean        n      mean   \n",
       "fagg_less_than_20_pix_balls_away  -0.019   0.000  -0.301    2.000    -0.282   \n",
       "fagg_less_than_30_pix_success      0.000  24.000   1.000  321.000     1.000   \n",
       "\n",
       "                                           \n",
       "                                        n  \n",
       "fagg_less_than_20_pix_balls_away    2.000  \n",
       "fagg_less_than_30_pix_success     297.000  "
      ]
     },
     "metadata": {},
     "output_type": "display_data"
    }
   ],
   "source": [
    "cmpB.report1()"
   ]
  },
  {
   "cell_type": "code",
   "execution_count": 57,
   "metadata": {},
   "outputs": [
    {
     "data": {
      "text/html": [
       "<div>\n",
       "<style scoped>\n",
       "    .dataframe tbody tr th:only-of-type {\n",
       "        vertical-align: middle;\n",
       "    }\n",
       "\n",
       "    .dataframe tbody tr th {\n",
       "        vertical-align: top;\n",
       "    }\n",
       "\n",
       "    .dataframe thead th {\n",
       "        text-align: right;\n",
       "    }\n",
       "</style>\n",
       "<table border=\"1\" class=\"dataframe\">\n",
       "  <thead>\n",
       "    <tr style=\"text-align: right;\">\n",
       "      <th></th>\n",
       "      <th>fagg_less_than_20_pix_balls_away</th>\n",
       "      <th>fagg_less_than_30_pix_success</th>\n",
       "    </tr>\n",
       "  </thead>\n",
       "  <tbody>\n",
       "    <tr>\n",
       "      <th>mean</th>\n",
       "      <td>0.282109</td>\n",
       "      <td>1.0</td>\n",
       "    </tr>\n",
       "    <tr>\n",
       "      <th>n</th>\n",
       "      <td>2.000000</td>\n",
       "      <td>297.0</td>\n",
       "    </tr>\n",
       "  </tbody>\n",
       "</table>\n",
       "</div>"
      ],
      "text/plain": [
       "      fagg_less_than_20_pix_balls_away  fagg_less_than_30_pix_success\n",
       "mean                          0.282109                            1.0\n",
       "n                             2.000000                          297.0"
      ]
     },
     "execution_count": 57,
     "metadata": {},
     "output_type": "execute_result"
    }
   ],
   "source": [
    "mini.T"
   ]
  },
  {
   "cell_type": "markdown",
   "metadata": {},
   "source": [
    "### Pandas ScratchPad"
   ]
  },
  {
   "cell_type": "markdown",
   "metadata": {},
   "source": [
    "##### Explore the mini-df"
   ]
  },
  {
   "cell_type": "code",
   "execution_count": 56,
   "metadata": {},
   "outputs": [
    {
     "data": {
      "text/html": [
       "<div>\n",
       "<style scoped>\n",
       "    .dataframe tbody tr th:only-of-type {\n",
       "        vertical-align: middle;\n",
       "    }\n",
       "\n",
       "    .dataframe tbody tr th {\n",
       "        vertical-align: top;\n",
       "    }\n",
       "\n",
       "    .dataframe thead th {\n",
       "        text-align: right;\n",
       "    }\n",
       "</style>\n",
       "<table border=\"1\" class=\"dataframe\">\n",
       "  <thead>\n",
       "    <tr style=\"text-align: right;\">\n",
       "      <th></th>\n",
       "      <th>mean</th>\n",
       "      <th>n</th>\n",
       "    </tr>\n",
       "  </thead>\n",
       "  <tbody>\n",
       "    <tr>\n",
       "      <th>fagg_less_than_20_pix_balls_away</th>\n",
       "      <td>0.282109</td>\n",
       "      <td>2.0</td>\n",
       "    </tr>\n",
       "    <tr>\n",
       "      <th>fagg_less_than_30_pix_success</th>\n",
       "      <td>1.000000</td>\n",
       "      <td>297.0</td>\n",
       "    </tr>\n",
       "  </tbody>\n",
       "</table>\n",
       "</div>"
      ],
      "text/plain": [
       "                                      mean      n\n",
       "fagg_less_than_20_pix_balls_away  0.282109    2.0\n",
       "fagg_less_than_30_pix_success     1.000000  297.0"
      ]
     },
     "execution_count": 56,
     "metadata": {},
     "output_type": "execute_result"
    }
   ],
   "source": [
    "mini = cmpB.benchmark.aggFilterDfh.df\n",
    "mini"
   ]
  },
  {
   "cell_type": "code",
   "execution_count": 74,
   "metadata": {},
   "outputs": [
    {
     "data": {
      "text/plain": [
       "fagg_less_than_20_pix_balls_away  mean      0.533238\n",
       "                                  n        16.000000\n",
       "fagg_less_than_30_pix_success     mean      1.000000\n",
       "                                  n       310.000000\n",
       "dtype: float64"
      ]
     },
     "execution_count": 74,
     "metadata": {},
     "output_type": "execute_result"
    }
   ],
   "source": [
    "mini_stack = mini.stack()\n",
    "mini_stack"
   ]
  },
  {
   "cell_type": "code",
   "execution_count": 75,
   "metadata": {},
   "outputs": [
    {
     "data": {
      "text/plain": [
       "Index([u'fagg_less_than_20_pix_balls_away', u'fagg_less_than_30_pix_success'], dtype='object')"
      ]
     },
     "execution_count": 75,
     "metadata": {},
     "output_type": "execute_result"
    }
   ],
   "source": [
    "mini.index"
   ]
  },
  {
   "cell_type": "code",
   "execution_count": 76,
   "metadata": {},
   "outputs": [
    {
     "data": {
      "text/plain": [
       "MultiIndex(levels=[[u'fagg_less_than_20_pix_balls_away', u'fagg_less_than_30_pix_success'], [u'mean', u'n']],\n",
       "           labels=[[0, 0, 1, 1], [0, 1, 0, 1]])"
      ]
     },
     "execution_count": 76,
     "metadata": {},
     "output_type": "execute_result"
    }
   ],
   "source": [
    "mini_stack.index"
   ]
  },
  {
   "cell_type": "code",
   "execution_count": 77,
   "metadata": {},
   "outputs": [
    {
     "data": {
      "text/plain": [
       "fagg_less_than_20_pix_balls_away  mean      0.533238\n",
       "                                  n        16.000000\n",
       "fagg_less_than_30_pix_success     mean      1.000000\n",
       "                                  n       310.000000\n",
       "dtype: float64"
      ]
     },
     "execution_count": 77,
     "metadata": {},
     "output_type": "execute_result"
    }
   ],
   "source": [
    "mini_stack.T"
   ]
  },
  {
   "cell_type": "markdown",
   "metadata": {},
   "source": [
    "##### Easiest Way to combine two dataframes and note them as distinct"
   ]
  },
  {
   "cell_type": "code",
   "execution_count": 79,
   "metadata": {},
   "outputs": [
    {
     "name": "stdout",
     "output_type": "stream",
     "text": [
      "cols:  %s MultiIndex(levels=[[u'current', u'benchmark'], [u'mean', u'n']],\n",
      "           labels=[[0, 0, 1, 1], [0, 1, 0, 1]])\n",
      "index: %s Index([u'fagg_less_than_20_pix_balls_away', u'fagg_less_than_30_pix_success'], dtype='object')\n"
     ]
    },
    {
     "data": {
      "text/html": [
       "<div>\n",
       "<style scoped>\n",
       "    .dataframe tbody tr th:only-of-type {\n",
       "        vertical-align: middle;\n",
       "    }\n",
       "\n",
       "    .dataframe tbody tr th {\n",
       "        vertical-align: top;\n",
       "    }\n",
       "\n",
       "    .dataframe thead tr th {\n",
       "        text-align: left;\n",
       "    }\n",
       "</style>\n",
       "<table border=\"1\" class=\"dataframe\">\n",
       "  <thead>\n",
       "    <tr>\n",
       "      <th></th>\n",
       "      <th colspan=\"2\" halign=\"left\">current</th>\n",
       "      <th colspan=\"2\" halign=\"left\">benchmark</th>\n",
       "    </tr>\n",
       "    <tr>\n",
       "      <th></th>\n",
       "      <th>mean</th>\n",
       "      <th>n</th>\n",
       "      <th>mean</th>\n",
       "      <th>n</th>\n",
       "    </tr>\n",
       "  </thead>\n",
       "  <tbody>\n",
       "    <tr>\n",
       "      <th>fagg_less_than_20_pix_balls_away</th>\n",
       "      <td>0.533238</td>\n",
       "      <td>16.0</td>\n",
       "      <td>0.533238</td>\n",
       "      <td>16.0</td>\n",
       "    </tr>\n",
       "    <tr>\n",
       "      <th>fagg_less_than_30_pix_success</th>\n",
       "      <td>1.000000</td>\n",
       "      <td>310.0</td>\n",
       "      <td>1.000000</td>\n",
       "      <td>310.0</td>\n",
       "    </tr>\n",
       "  </tbody>\n",
       "</table>\n",
       "</div>"
      ],
      "text/plain": [
       "                                   current        benchmark       \n",
       "                                      mean      n      mean      n\n",
       "fagg_less_than_20_pix_balls_away  0.533238   16.0  0.533238   16.0\n",
       "fagg_less_than_30_pix_success     1.000000  310.0  1.000000  310.0"
      ]
     },
     "execution_count": 79,
     "metadata": {},
     "output_type": "execute_result"
    }
   ],
   "source": [
    "#on axis=1, dif-df's are ordered by col, so columns are MutliIndex\n",
    "axis = 1\n",
    "\n",
    "d_tmp = {'current':mini, 'benchmark':mini}\n",
    "\n",
    "df_concat = pd.concat(d_tmp.values(), keys=d_tmp.keys(), axis=axis)\n",
    "\n",
    "print 'cols:  %s', str(df_concat.columns)\n",
    "print 'index: %s', str(df_concat.index)\n",
    "\n",
    "df_concat"
   ]
  },
  {
   "cell_type": "code",
   "execution_count": 80,
   "metadata": {},
   "outputs": [
    {
     "name": "stdout",
     "output_type": "stream",
     "text": [
      "cols:  %s Index([u'mean', u'n'], dtype='object')\n",
      "index: %s MultiIndex(levels=[[u'current', u'benchmark'], [u'fagg_less_than_20_pix_balls_away', u'fagg_less_than_30_pix_success']],\n",
      "           labels=[[0, 0, 1, 1], [0, 1, 0, 1]])\n"
     ]
    },
    {
     "data": {
      "text/html": [
       "<div>\n",
       "<style scoped>\n",
       "    .dataframe tbody tr th:only-of-type {\n",
       "        vertical-align: middle;\n",
       "    }\n",
       "\n",
       "    .dataframe tbody tr th {\n",
       "        vertical-align: top;\n",
       "    }\n",
       "\n",
       "    .dataframe thead th {\n",
       "        text-align: right;\n",
       "    }\n",
       "</style>\n",
       "<table border=\"1\" class=\"dataframe\">\n",
       "  <thead>\n",
       "    <tr style=\"text-align: right;\">\n",
       "      <th></th>\n",
       "      <th></th>\n",
       "      <th>mean</th>\n",
       "      <th>n</th>\n",
       "    </tr>\n",
       "  </thead>\n",
       "  <tbody>\n",
       "    <tr>\n",
       "      <th rowspan=\"2\" valign=\"top\">current</th>\n",
       "      <th>fagg_less_than_20_pix_balls_away</th>\n",
       "      <td>0.533238</td>\n",
       "      <td>16.0</td>\n",
       "    </tr>\n",
       "    <tr>\n",
       "      <th>fagg_less_than_30_pix_success</th>\n",
       "      <td>1.000000</td>\n",
       "      <td>310.0</td>\n",
       "    </tr>\n",
       "    <tr>\n",
       "      <th rowspan=\"2\" valign=\"top\">benchmark</th>\n",
       "      <th>fagg_less_than_20_pix_balls_away</th>\n",
       "      <td>0.533238</td>\n",
       "      <td>16.0</td>\n",
       "    </tr>\n",
       "    <tr>\n",
       "      <th>fagg_less_than_30_pix_success</th>\n",
       "      <td>1.000000</td>\n",
       "      <td>310.0</td>\n",
       "    </tr>\n",
       "  </tbody>\n",
       "</table>\n",
       "</div>"
      ],
      "text/plain": [
       "                                                mean      n\n",
       "current   fagg_less_than_20_pix_balls_away  0.533238   16.0\n",
       "          fagg_less_than_30_pix_success     1.000000  310.0\n",
       "benchmark fagg_less_than_20_pix_balls_away  0.533238   16.0\n",
       "          fagg_less_than_30_pix_success     1.000000  310.0"
      ]
     },
     "execution_count": 80,
     "metadata": {},
     "output_type": "execute_result"
    }
   ],
   "source": [
    "# on axis=0, df's are ordered by row, so rows are MultiIndex\n",
    "axis = 0\n",
    "\n",
    "d_tmp = {'current':mini, 'benchmark':mini}\n",
    "\n",
    "df_concat = pd.concat(d_tmp.values(), keys=d_tmp.keys(), axis=axis)\n",
    "\n",
    "print 'cols:  %s', str(df_concat.columns)\n",
    "print 'index: %s', str(df_concat.index)\n",
    "\n",
    "df_concat"
   ]
  },
  {
   "cell_type": "markdown",
   "metadata": {},
   "source": [
    "##### here's an attempt to combine dataframes with manually created MultiIndex"
   ]
  },
  {
   "cell_type": "code",
   "execution_count": null,
   "metadata": {
    "collapsed": true
   },
   "outputs": [],
   "source": [
    "iters = [list(mini.index), ['first']]\n",
    "multi_ind_1 = pd.MultiIndex.from_product(iters, names=('criteria','dfnum'))\n",
    "mini1 = pd.DataFrame(mini, index=multi_ind_1)\n",
    "mini1"
   ]
  },
  {
   "cell_type": "code",
   "execution_count": 69,
   "metadata": {},
   "outputs": [
    {
     "data": {
      "text/html": [
       "<div>\n",
       "<style scoped>\n",
       "    .dataframe tbody tr th:only-of-type {\n",
       "        vertical-align: middle;\n",
       "    }\n",
       "\n",
       "    .dataframe tbody tr th {\n",
       "        vertical-align: top;\n",
       "    }\n",
       "\n",
       "    .dataframe thead th {\n",
       "        text-align: right;\n",
       "    }\n",
       "</style>\n",
       "<table border=\"1\" class=\"dataframe\">\n",
       "  <thead>\n",
       "    <tr style=\"text-align: right;\">\n",
       "      <th></th>\n",
       "      <th></th>\n",
       "      <th>mean</th>\n",
       "      <th>n</th>\n",
       "    </tr>\n",
       "    <tr>\n",
       "      <th>criteria</th>\n",
       "      <th>dfnum</th>\n",
       "      <th></th>\n",
       "      <th></th>\n",
       "    </tr>\n",
       "  </thead>\n",
       "  <tbody>\n",
       "    <tr>\n",
       "      <th>fagg_less_than_20_pix_balls_away</th>\n",
       "      <th>second</th>\n",
       "      <td>0.533238</td>\n",
       "      <td>16.0</td>\n",
       "    </tr>\n",
       "    <tr>\n",
       "      <th>fagg_less_than_30_pix_success</th>\n",
       "      <th>second</th>\n",
       "      <td>1.000000</td>\n",
       "      <td>310.0</td>\n",
       "    </tr>\n",
       "  </tbody>\n",
       "</table>\n",
       "</div>"
      ],
      "text/plain": [
       "                                             mean      n\n",
       "criteria                         dfnum                  \n",
       "fagg_less_than_20_pix_balls_away second  0.533238   16.0\n",
       "fagg_less_than_30_pix_success    second  1.000000  310.0"
      ]
     },
     "execution_count": 69,
     "metadata": {},
     "output_type": "execute_result"
    }
   ],
   "source": [
    "iters = [list(mini.index), ['second']]\n",
    "multi_ind_2 = pd.MultiIndex.from_product(iters, names=('criteria','dfnum'))\n",
    "mini2 = pd.DataFrame(data=mini.values, index=multi_ind_2, columns=mini.columns)\n",
    "\n",
    "mini2"
   ]
  },
  {
   "cell_type": "code",
   "execution_count": null,
   "metadata": {
    "collapsed": true
   },
   "outputs": [],
   "source": [
    "iters = [list(mini.index), ['first','second']]\n",
    "multi_ind = pd.MultiIndex.from_product(iters, names=('criteria','dfnum'))\n",
    "multi_ind"
   ]
  },
  {
   "cell_type": "code",
   "execution_count": null,
   "metadata": {
    "collapsed": true
   },
   "outputs": [],
   "source": []
  },
  {
   "cell_type": "code",
   "execution_count": null,
   "metadata": {
    "collapsed": true
   },
   "outputs": [],
   "source": []
  }
 ],
 "metadata": {
  "kernelspec": {
   "display_name": "Python 2",
   "language": "python",
   "name": "python2"
  },
  "language_info": {
   "codemirror_mode": {
    "name": "ipython",
    "version": 2
   },
   "file_extension": ".py",
   "mimetype": "text/x-python",
   "name": "python",
   "nbconvert_exporter": "python",
   "pygments_lexer": "ipython2",
   "version": "2.7.13"
  }
 },
 "nbformat": 4,
 "nbformat_minor": 2
}
