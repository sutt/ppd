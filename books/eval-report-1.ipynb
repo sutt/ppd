{
 "cells": [
  {
   "cell_type": "code",
   "execution_count": 54,
   "metadata": {},
   "outputs": [
    {
     "name": "stdout",
     "output_type": "stream",
     "text": [
      "The autoreload extension is already loaded. To reload it, use:\n",
      "  %reload_ext autoreload\n"
     ]
    }
   ],
   "source": [
    "import pandas as pd\n",
    "import sqlalchemy\n",
    "import math\n",
    "import os, sys, copy, random, pickle, cv2\n",
    "import numpy as np\n",
    "from matplotlib import pyplot as plt\n",
    "%matplotlib inline\n",
    "\n",
    "sys.path.append(\"../\")\n",
    "\n",
    "%load_ext autoreload\n",
    "%autoreload 2\n",
    "\n",
    "from modules.ControlTracking import TrackFactory\n",
    "from modules.ControlDisplay import Display\n",
    "from modules.Interproc import DBInterface, GuiviewState\n",
    "\n",
    "from modules.AnalysisHelpers import ( \n",
    "         exploreImgs, buildImgComparisonData, subprocEval)\n",
    "\n",
    "from modules.EvalHelpers import EvalTracker, EvalDataset\n",
    "from modules.ControlEval import EvalFactory\n",
    "from modules.DataSchemas import ScoreSchema\n",
    "from modules.EvalHelpers import OutcomeData, DFHelper\n",
    "\n",
    "from modules.EvalHelpers import AggEval, DFHelper\n",
    "\n",
    "from modules.EvalSuite import EvalSuite\n",
    "\n",
    "from IPython.display import display"
   ]
  },
  {
   "cell_type": "markdown",
   "metadata": {},
   "source": [
    "### Build OutcomeData from eval to work with"
   ]
  },
  {
   "cell_type": "code",
   "execution_count": 319,
   "metadata": {
    "collapsed": true
   },
   "outputs": [],
   "source": [
    "#different trackers here\n",
    "b_log, b_eval_log = False, False\n",
    "vidfn = 'data/proc/tmp/dec14/output5.proc1.proc1.avi'\n",
    "outcome0 = subprocEval(f_pathfn = vidfn, algo_enum=0, b_log=b_log, b_eval_log=b_eval_log)\n",
    "outcome1 = subprocEval(f_pathfn = vidfn, algo_enum=1, b_log=b_log, b_eval_log=b_eval_log)\n",
    "outcome2 = subprocEval(f_pathfn = vidfn, algo_enum=2, b_log=b_log, b_eval_log=b_eval_log)"
   ]
  },
  {
   "cell_type": "code",
   "execution_count": 2,
   "metadata": {},
   "outputs": [
    {
     "name": "stdout",
     "output_type": "stream",
     "text": [
      "\n",
      "START - running eval module...\n",
      "[                            ]\n",
      "------------------------------\n",
      "output db: data/usr/eval_tmp.db\n",
      "output tbl: outcome_dataframe\n",
      "eval time: 10.65\n",
      "outcome rows: 383 cols: 48 \n",
      "\n",
      "num frames:                  383 \n",
      "obj enums scored/tracked:    0,1 / 0 \n",
      "num scored frames:           10 | 0,22,40...125,188,380 \n",
      "-------\n",
      "agg_calcBaselineBallUnitsAway   -0.18\n",
      "agg_checkBothContainsOther       1.00\n",
      "agg_checkTrackSuccess            0.86\n",
      "fagg_less_than_20_pix_balls_away   -0.28\n",
      "fagg_less_than_30_pix_success       1.00\n",
      "-----\n",
      "subproc time: 12.76\n",
      "\n",
      "START - running eval module...\n",
      "[                            ]\n",
      "------------------------------\n",
      "output db: data/usr/eval_tmp.db\n",
      "output tbl: outcome_dataframe\n",
      "eval time: 9.802\n",
      "outcome rows: 383 cols: 48 \n",
      "\n",
      "num frames:                  383 \n",
      "obj enums scored/tracked:    0,1 / 0 \n",
      "num scored frames:           10 | 0,22,40...125,188,380 \n",
      "-------\n",
      "agg_calcBaselineBallUnitsAway   -0.18\n",
      "agg_checkBothContainsOther       1.00\n",
      "agg_checkTrackSuccess            0.86\n",
      "fagg_less_than_20_pix_balls_away   -0.28\n",
      "fagg_less_than_30_pix_success       1.00\n",
      "-----\n",
      "subproc time: 11.53\n",
      "\n",
      "START - running eval module...\n",
      "[                            ]\n",
      "------------------------------\n",
      "output db: data/usr/eval_tmp.db\n",
      "output tbl: outcome_dataframe\n",
      "eval time: 14.38\n",
      "outcome rows: 383 cols: 48 \n",
      "\n",
      "num frames:                  383 \n",
      "obj enums scored/tracked:    0,1 / 0 \n",
      "num scored frames:           10 | 0,22,40...125,188,380 \n",
      "-------\n",
      "agg_calcBaselineBallUnitsAway   -0.18\n",
      "agg_checkBothContainsOther       1.00\n",
      "agg_checkTrackSuccess            0.92\n",
      "fagg_less_than_20_pix_balls_away   -0.30\n",
      "fagg_less_than_30_pix_success       1.00\n",
      "-----\n",
      "subproc time: 16.09\n"
     ]
    }
   ],
   "source": [
    "b_log, b_eval_log = True, True\n",
    "vidfn = 'data/proc/tmp/dec14/output6.proc1.avi'\n",
    "\n",
    "algo_enums = [str(x) for x in range(3)]\n",
    "\n",
    "d_outcome = {}\n",
    "for _enum in algo_enums:\n",
    "    \n",
    "    _outcome = subprocEval(f_pathfn = vidfn, algo_enum=_enum, \n",
    "                           b_log=b_log, b_eval_log=b_eval_log)\n",
    "    \n",
    "    d_outcome[_enum] = _outcome.copy()"
   ]
  },
  {
   "cell_type": "markdown",
   "metadata": {},
   "source": [
    "### Show Reports from CmpAlgoReport"
   ]
  },
  {
   "cell_type": "code",
   "execution_count": 166,
   "metadata": {
    "collapsed": true
   },
   "outputs": [],
   "source": [
    "from modules.EvalSuite import EvalSuite, CmpAlgoReport"
   ]
  },
  {
   "cell_type": "code",
   "execution_count": 167,
   "metadata": {
    "collapsed": true
   },
   "outputs": [],
   "source": [
    "cmpB = CmpAlgoReport(\n",
    "    benchmark_outcome_data=d_outcome['0'],\n",
    "    current_outcome_data=d_outcome['2']\n",
    "             )"
   ]
  },
  {
   "cell_type": "code",
   "execution_count": 168,
   "metadata": {},
   "outputs": [
    {
     "data": {
      "text/html": [
       "<div>\n",
       "<style scoped>\n",
       "    .dataframe tbody tr th:only-of-type {\n",
       "        vertical-align: middle;\n",
       "    }\n",
       "\n",
       "    .dataframe tbody tr th {\n",
       "        vertical-align: top;\n",
       "    }\n",
       "\n",
       "    .dataframe thead th {\n",
       "        text-align: right;\n",
       "    }\n",
       "</style>\n",
       "<table border=\"1\" class=\"dataframe\">\n",
       "  <thead>\n",
       "    <tr style=\"text-align: right;\">\n",
       "      <th></th>\n",
       "      <th>improvements</th>\n",
       "      <th>deprovements</th>\n",
       "      <th>sames</th>\n",
       "    </tr>\n",
       "  </thead>\n",
       "  <tbody>\n",
       "    <tr>\n",
       "      <th>checkTrackSuccess</th>\n",
       "      <td>24.000</td>\n",
       "      <td>0.000</td>\n",
       "      <td>359.000</td>\n",
       "    </tr>\n",
       "  </tbody>\n",
       "</table>\n",
       "</div>"
      ],
      "text/plain": [
       "                  improvements deprovements    sames\n",
       "checkTrackSuccess       24.000        0.000  359.000"
      ]
     },
     "metadata": {},
     "output_type": "display_data"
    },
    {
     "data": {
      "text/html": [
       "<div>\n",
       "<style scoped>\n",
       "    .dataframe tbody tr th:only-of-type {\n",
       "        vertical-align: middle;\n",
       "    }\n",
       "\n",
       "    .dataframe tbody tr th {\n",
       "        vertical-align: top;\n",
       "    }\n",
       "\n",
       "    .dataframe thead th {\n",
       "        text-align: right;\n",
       "    }\n",
       "</style>\n",
       "<table border=\"1\" class=\"dataframe\">\n",
       "  <thead>\n",
       "    <tr style=\"text-align: right;\">\n",
       "      <th></th>\n",
       "      <th>improvements</th>\n",
       "      <th>deprovements</th>\n",
       "      <th>sames</th>\n",
       "    </tr>\n",
       "  </thead>\n",
       "  <tbody>\n",
       "    <tr>\n",
       "      <th>calcBaselineBallUnitsAway</th>\n",
       "      <td>1</td>\n",
       "      <td>1</td>\n",
       "      <td>8</td>\n",
       "    </tr>\n",
       "    <tr>\n",
       "      <th>checkBothContainsOther</th>\n",
       "      <td>0</td>\n",
       "      <td>0</td>\n",
       "      <td>10</td>\n",
       "    </tr>\n",
       "    <tr>\n",
       "      <th>checkTrackSuccess</th>\n",
       "      <td>0</td>\n",
       "      <td>0</td>\n",
       "      <td>10</td>\n",
       "    </tr>\n",
       "    <tr>\n",
       "      <th>distanceFromBaseline</th>\n",
       "      <td>1</td>\n",
       "      <td>1</td>\n",
       "      <td>8</td>\n",
       "    </tr>\n",
       "  </tbody>\n",
       "</table>\n",
       "</div>"
      ],
      "text/plain": [
       "                           improvements  deprovements  sames\n",
       "calcBaselineBallUnitsAway             1             1      8\n",
       "checkBothContainsOther                0             0     10\n",
       "checkTrackSuccess                     0             0     10\n",
       "distanceFromBaseline                  1             1      8"
      ]
     },
     "metadata": {},
     "output_type": "display_data"
    },
    {
     "data": {
      "text/html": [
       "<div>\n",
       "<style scoped>\n",
       "    .dataframe tbody tr th:only-of-type {\n",
       "        vertical-align: middle;\n",
       "    }\n",
       "\n",
       "    .dataframe tbody tr th {\n",
       "        vertical-align: top;\n",
       "    }\n",
       "\n",
       "    .dataframe thead tr th {\n",
       "        text-align: left;\n",
       "    }\n",
       "</style>\n",
       "<table border=\"1\" class=\"dataframe\">\n",
       "  <thead>\n",
       "    <tr>\n",
       "      <th></th>\n",
       "      <th>diff</th>\n",
       "      <th>current</th>\n",
       "      <th>benchmark</th>\n",
       "    </tr>\n",
       "    <tr>\n",
       "      <th></th>\n",
       "      <th>mean</th>\n",
       "      <th>mean</th>\n",
       "      <th>mean</th>\n",
       "    </tr>\n",
       "  </thead>\n",
       "  <tbody>\n",
       "    <tr>\n",
       "      <th>agg_checkTrackSuccess</th>\n",
       "      <td>0.063</td>\n",
       "      <td>0.924</td>\n",
       "      <td>0.862</td>\n",
       "    </tr>\n",
       "    <tr>\n",
       "      <th>agg_calcBaselineBallUnitsAway</th>\n",
       "      <td>-0.004</td>\n",
       "      <td>-0.184</td>\n",
       "      <td>-0.180</td>\n",
       "    </tr>\n",
       "    <tr>\n",
       "      <th>agg_checkBothContainsOther</th>\n",
       "      <td>0.000</td>\n",
       "      <td>1.000</td>\n",
       "      <td>1.000</td>\n",
       "    </tr>\n",
       "    <tr>\n",
       "      <th>agg_distanceFromBaseline</th>\n",
       "      <td>-0.043</td>\n",
       "      <td>-9.015</td>\n",
       "      <td>-8.972</td>\n",
       "    </tr>\n",
       "  </tbody>\n",
       "</table>\n",
       "</div>"
      ],
      "text/plain": [
       "                                 diff current benchmark\n",
       "                                 mean    mean      mean\n",
       "agg_checkTrackSuccess           0.063   0.924     0.862\n",
       "agg_calcBaselineBallUnitsAway  -0.004  -0.184    -0.180\n",
       "agg_checkBothContainsOther      0.000   1.000     1.000\n",
       "agg_distanceFromBaseline       -0.043  -9.015    -8.972"
      ]
     },
     "metadata": {},
     "output_type": "display_data"
    },
    {
     "data": {
      "text/html": [
       "<div>\n",
       "<style scoped>\n",
       "    .dataframe tbody tr th:only-of-type {\n",
       "        vertical-align: middle;\n",
       "    }\n",
       "\n",
       "    .dataframe tbody tr th {\n",
       "        vertical-align: top;\n",
       "    }\n",
       "\n",
       "    .dataframe thead tr th {\n",
       "        text-align: left;\n",
       "    }\n",
       "</style>\n",
       "<table border=\"1\" class=\"dataframe\">\n",
       "  <thead>\n",
       "    <tr>\n",
       "      <th></th>\n",
       "      <th colspan=\"2\" halign=\"left\">diff</th>\n",
       "      <th colspan=\"2\" halign=\"left\">current</th>\n",
       "      <th colspan=\"2\" halign=\"left\">benchmark</th>\n",
       "    </tr>\n",
       "    <tr>\n",
       "      <th></th>\n",
       "      <th>mean</th>\n",
       "      <th>n</th>\n",
       "      <th>mean</th>\n",
       "      <th>n</th>\n",
       "      <th>mean</th>\n",
       "      <th>n</th>\n",
       "    </tr>\n",
       "  </thead>\n",
       "  <tbody>\n",
       "    <tr>\n",
       "      <th>fagg_less_than_20_pix_balls_away</th>\n",
       "      <td>-0.019</td>\n",
       "      <td>0.000</td>\n",
       "      <td>-0.301</td>\n",
       "      <td>2.000</td>\n",
       "      <td>-0.282</td>\n",
       "      <td>2.000</td>\n",
       "    </tr>\n",
       "    <tr>\n",
       "      <th>fagg_less_than_30_pix_success</th>\n",
       "      <td>0.000</td>\n",
       "      <td>24.000</td>\n",
       "      <td>1.000</td>\n",
       "      <td>321.000</td>\n",
       "      <td>1.000</td>\n",
       "      <td>297.000</td>\n",
       "    </tr>\n",
       "  </tbody>\n",
       "</table>\n",
       "</div>"
      ],
      "text/plain": [
       "                                    diff         current          benchmark  \\\n",
       "                                    mean       n    mean        n      mean   \n",
       "fagg_less_than_20_pix_balls_away  -0.019   0.000  -0.301    2.000    -0.282   \n",
       "fagg_less_than_30_pix_success      0.000  24.000   1.000  321.000     1.000   \n",
       "\n",
       "                                           \n",
       "                                        n  \n",
       "fagg_less_than_20_pix_balls_away    2.000  \n",
       "fagg_less_than_30_pix_success     297.000  "
      ]
     },
     "metadata": {},
     "output_type": "display_data"
    },
    {
     "data": {
      "image/png": "[encoded data removed]",
      "text/plain": [
       "<Figure size 432x288 with 1 Axes>"
      ]
     },
     "metadata": {},
     "output_type": "display_data"
    }
   ],
   "source": [
    "cmpB.report1()"
   ]
  },
  {
   "cell_type": "markdown",
   "metadata": {},
   "source": [
    "From the above we can see that although algo_enum=2 improves from algo_enum=0 on trackSuccess, it's slightly less accurate on distanceFromBaseline"
   ]
  },
  {
   "cell_type": "code",
   "execution_count": null,
   "metadata": {
    "collapsed": true
   },
   "outputs": [],
   "source": []
  },
  {
   "cell_type": "code",
   "execution_count": null,
   "metadata": {
    "collapsed": true
   },
   "outputs": [],
   "source": []
  },
  {
   "cell_type": "markdown",
   "metadata": {},
   "source": [
    "### Built Tests"
   ]
  },
  {
   "cell_type": "code",
   "execution_count": null,
   "metadata": {
    "collapsed": true
   },
   "outputs": [],
   "source": []
  },
  {
   "cell_type": "code",
   "execution_count": null,
   "metadata": {
    "collapsed": true
   },
   "outputs": [],
   "source": []
  },
  {
   "cell_type": "markdown",
   "metadata": {},
   "source": [
    "### Build LargestDiscrepancy Report"
   ]
  },
  {
   "cell_type": "code",
   "execution_count": 233,
   "metadata": {
    "collapsed": true
   },
   "outputs": [],
   "source": [
    "from modules.EvalSuite import CmpAlgoReport"
   ]
  },
  {
   "cell_type": "code",
   "execution_count": 240,
   "metadata": {},
   "outputs": [
    {
     "data": {
      "text/html": [
       "<div>\n",
       "<style scoped>\n",
       "    .dataframe tbody tr th:only-of-type {\n",
       "        vertical-align: middle;\n",
       "    }\n",
       "\n",
       "    .dataframe tbody tr th {\n",
       "        vertical-align: top;\n",
       "    }\n",
       "\n",
       "    .dataframe thead tr th {\n",
       "        text-align: left;\n",
       "    }\n",
       "</style>\n",
       "<table border=\"1\" class=\"dataframe\">\n",
       "  <thead>\n",
       "    <tr>\n",
       "      <th></th>\n",
       "      <th>diff</th>\n",
       "      <th>current</th>\n",
       "      <th>benchmark</th>\n",
       "    </tr>\n",
       "    <tr>\n",
       "      <th></th>\n",
       "      <th>checkTrackSuccess</th>\n",
       "      <th>checkTrackSuccess</th>\n",
       "      <th>checkTrackSuccess</th>\n",
       "    </tr>\n",
       "  </thead>\n",
       "  <tbody>\n",
       "    <tr>\n",
       "      <th>239</th>\n",
       "      <td>1.000</td>\n",
       "      <td>1.000</td>\n",
       "      <td>0.000</td>\n",
       "    </tr>\n",
       "    <tr>\n",
       "      <th>232</th>\n",
       "      <td>1.000</td>\n",
       "      <td>1.000</td>\n",
       "      <td>0.000</td>\n",
       "    </tr>\n",
       "    <tr>\n",
       "      <th>223</th>\n",
       "      <td>1.000</td>\n",
       "      <td>1.000</td>\n",
       "      <td>0.000</td>\n",
       "    </tr>\n",
       "    <tr>\n",
       "      <th>224</th>\n",
       "      <td>1.000</td>\n",
       "      <td>1.000</td>\n",
       "      <td>0.000</td>\n",
       "    </tr>\n",
       "    <tr>\n",
       "      <th>225</th>\n",
       "      <td>1.000</td>\n",
       "      <td>1.000</td>\n",
       "      <td>0.000</td>\n",
       "    </tr>\n",
       "  </tbody>\n",
       "</table>\n",
       "</div>"
      ],
      "text/plain": [
       "                 diff           current         benchmark\n",
       "    checkTrackSuccess checkTrackSuccess checkTrackSuccess\n",
       "239             1.000             1.000             0.000\n",
       "232             1.000             1.000             0.000\n",
       "223             1.000             1.000             0.000\n",
       "224             1.000             1.000             0.000\n",
       "225             1.000             1.000             0.000"
      ]
     },
     "metadata": {},
     "output_type": "display_data"
    },
    {
     "name": "stdout",
     "output_type": "stream",
     "text": [
      "[239, 232, 223, 224, 225]\n"
     ]
    }
   ],
   "source": [
    "ret = cmpB.largestDiscrepancy(checkTrackSuccess=1, max_n=5)\n",
    "display(ret)\n",
    "foi_list = [int(x) for x in ret.index]\n",
    "print foi_list"
   ]
  },
  {
   "cell_type": "code",
   "execution_count": 234,
   "metadata": {},
   "outputs": [
    {
     "data": {
      "text/html": [
       "<div>\n",
       "<style scoped>\n",
       "    .dataframe tbody tr th:only-of-type {\n",
       "        vertical-align: middle;\n",
       "    }\n",
       "\n",
       "    .dataframe tbody tr th {\n",
       "        vertical-align: top;\n",
       "    }\n",
       "\n",
       "    .dataframe thead tr th {\n",
       "        text-align: left;\n",
       "    }\n",
       "</style>\n",
       "<table border=\"1\" class=\"dataframe\">\n",
       "  <thead>\n",
       "    <tr>\n",
       "      <th></th>\n",
       "      <th>diff</th>\n",
       "      <th>current</th>\n",
       "      <th>benchmark</th>\n",
       "    </tr>\n",
       "    <tr>\n",
       "      <th></th>\n",
       "      <th>calcBaselineBallUnitsAway</th>\n",
       "      <th>calcBaselineBallUnitsAway</th>\n",
       "      <th>calcBaselineBallUnitsAway</th>\n",
       "    </tr>\n",
       "  </thead>\n",
       "  <tbody>\n",
       "    <tr>\n",
       "      <th>188</th>\n",
       "      <td>-0.038</td>\n",
       "      <td>-0.357</td>\n",
       "      <td>-0.319</td>\n",
       "    </tr>\n",
       "    <tr>\n",
       "      <th>380</th>\n",
       "      <td>0.004</td>\n",
       "      <td>-0.192</td>\n",
       "      <td>-0.196</td>\n",
       "    </tr>\n",
       "    <tr>\n",
       "      <th>0</th>\n",
       "      <td>0.000</td>\n",
       "      <td>-0.079</td>\n",
       "      <td>-0.079</td>\n",
       "    </tr>\n",
       "    <tr>\n",
       "      <th>22</th>\n",
       "      <td>0.000</td>\n",
       "      <td>-0.031</td>\n",
       "      <td>-0.031</td>\n",
       "    </tr>\n",
       "    <tr>\n",
       "      <th>40</th>\n",
       "      <td>0.000</td>\n",
       "      <td>-0.168</td>\n",
       "      <td>-0.168</td>\n",
       "    </tr>\n",
       "  </tbody>\n",
       "</table>\n",
       "</div>"
      ],
      "text/plain": [
       "                         diff                   current  \\\n",
       "    calcBaselineBallUnitsAway calcBaselineBallUnitsAway   \n",
       "188                    -0.038                    -0.357   \n",
       "380                     0.004                    -0.192   \n",
       "0                       0.000                    -0.079   \n",
       "22                      0.000                    -0.031   \n",
       "40                      0.000                    -0.168   \n",
       "\n",
       "                    benchmark  \n",
       "    calcBaselineBallUnitsAway  \n",
       "188                    -0.319  \n",
       "380                    -0.196  \n",
       "0                      -0.079  \n",
       "22                     -0.031  \n",
       "40                     -0.168  "
      ]
     },
     "execution_count": 234,
     "metadata": {},
     "output_type": "execute_result"
    }
   ],
   "source": [
    "cmpB.largestDiscrepancy(calcBaselineBallUnitsAway=0, max_n=5)"
   ]
  },
  {
   "cell_type": "code",
   "execution_count": 231,
   "metadata": {},
   "outputs": [
    {
     "data": {
      "text/html": [
       "<div>\n",
       "<style scoped>\n",
       "    .dataframe tbody tr th:only-of-type {\n",
       "        vertical-align: middle;\n",
       "    }\n",
       "\n",
       "    .dataframe tbody tr th {\n",
       "        vertical-align: top;\n",
       "    }\n",
       "\n",
       "    .dataframe thead tr th {\n",
       "        text-align: left;\n",
       "    }\n",
       "</style>\n",
       "<table border=\"1\" class=\"dataframe\">\n",
       "  <thead>\n",
       "    <tr>\n",
       "      <th></th>\n",
       "      <th>diff</th>\n",
       "      <th>current</th>\n",
       "      <th>benchmark</th>\n",
       "    </tr>\n",
       "    <tr>\n",
       "      <th></th>\n",
       "      <th>distanceFromBaseline</th>\n",
       "      <th>distanceFromBaseline</th>\n",
       "      <th>distanceFromBaseline</th>\n",
       "    </tr>\n",
       "  </thead>\n",
       "  <tbody>\n",
       "    <tr>\n",
       "      <th>188</th>\n",
       "      <td>-0.527864</td>\n",
       "      <td>-5.000000</td>\n",
       "      <td>-4.472136</td>\n",
       "    </tr>\n",
       "    <tr>\n",
       "      <th>380</th>\n",
       "      <td>0.183954</td>\n",
       "      <td>-8.062258</td>\n",
       "      <td>-8.246211</td>\n",
       "    </tr>\n",
       "    <tr>\n",
       "      <th>0</th>\n",
       "      <td>0.000000</td>\n",
       "      <td>-5.385165</td>\n",
       "      <td>-5.385165</td>\n",
       "    </tr>\n",
       "    <tr>\n",
       "      <th>22</th>\n",
       "      <td>0.000000</td>\n",
       "      <td>-2.828427</td>\n",
       "      <td>-2.828427</td>\n",
       "    </tr>\n",
       "    <tr>\n",
       "      <th>40</th>\n",
       "      <td>0.000000</td>\n",
       "      <td>-15.811388</td>\n",
       "      <td>-15.811388</td>\n",
       "    </tr>\n",
       "    <tr>\n",
       "      <th>78</th>\n",
       "      <td>0.000000</td>\n",
       "      <td>-19.646883</td>\n",
       "      <td>-19.646883</td>\n",
       "    </tr>\n",
       "    <tr>\n",
       "      <th>84</th>\n",
       "      <td>0.000000</td>\n",
       "      <td>-10.000000</td>\n",
       "      <td>-10.000000</td>\n",
       "    </tr>\n",
       "    <tr>\n",
       "      <th>125</th>\n",
       "      <td>0.000000</td>\n",
       "      <td>-5.385165</td>\n",
       "      <td>-5.385165</td>\n",
       "    </tr>\n",
       "    <tr>\n",
       "      <th>1</th>\n",
       "      <td>NaN</td>\n",
       "      <td>NaN</td>\n",
       "      <td>NaN</td>\n",
       "    </tr>\n",
       "    <tr>\n",
       "      <th>2</th>\n",
       "      <td>NaN</td>\n",
       "      <td>NaN</td>\n",
       "      <td>NaN</td>\n",
       "    </tr>\n",
       "  </tbody>\n",
       "</table>\n",
       "</div>"
      ],
      "text/plain": [
       "                    diff              current            benchmark\n",
       "    distanceFromBaseline distanceFromBaseline distanceFromBaseline\n",
       "188            -0.527864            -5.000000            -4.472136\n",
       "380             0.183954            -8.062258            -8.246211\n",
       "0               0.000000            -5.385165            -5.385165\n",
       "22              0.000000            -2.828427            -2.828427\n",
       "40              0.000000           -15.811388           -15.811388\n",
       "78              0.000000           -19.646883           -19.646883\n",
       "84              0.000000           -10.000000           -10.000000\n",
       "125             0.000000            -5.385165            -5.385165\n",
       "1                    NaN                  NaN                  NaN\n",
       "2                    NaN                  NaN                  NaN"
      ]
     },
     "execution_count": 231,
     "metadata": {},
     "output_type": "execute_result"
    }
   ],
   "source": [
    "cmpB.largestDiscrepancy(distanceFromBaseline=0, max_n=10)"
   ]
  },
  {
   "cell_type": "code",
   "execution_count": null,
   "metadata": {
    "collapsed": true
   },
   "outputs": [],
   "source": []
  },
  {
   "cell_type": "code",
   "execution_count": null,
   "metadata": {
    "collapsed": true
   },
   "outputs": [],
   "source": []
  },
  {
   "cell_type": "markdown",
   "metadata": {},
   "source": [
    "### ScratchPad"
   ]
  },
  {
   "cell_type": "code",
   "execution_count": 30,
   "metadata": {},
   "outputs": [
    {
     "data": {
      "text/html": [
       "<div>\n",
       "<style scoped>\n",
       "    .dataframe tbody tr th:only-of-type {\n",
       "        vertical-align: middle;\n",
       "    }\n",
       "\n",
       "    .dataframe tbody tr th {\n",
       "        vertical-align: top;\n",
       "    }\n",
       "\n",
       "    .dataframe thead tr th {\n",
       "        text-align: left;\n",
       "    }\n",
       "</style>\n",
       "<table border=\"1\" class=\"dataframe\">\n",
       "  <thead>\n",
       "    <tr>\n",
       "      <th></th>\n",
       "      <th colspan=\"11\" halign=\"left\">diff</th>\n",
       "    </tr>\n",
       "    <tr>\n",
       "      <th></th>\n",
       "      <th>calcBaselineBallUnitsAway</th>\n",
       "      <th>checkBaselineInsideTrack</th>\n",
       "      <th>checkBothContainsOther</th>\n",
       "      <th>checkEitherContainsOther</th>\n",
       "      <th>checkTrackInsideBaseline</th>\n",
       "      <th>checkTrackInsideBaselineRect</th>\n",
       "      <th>checkTrackSuccess</th>\n",
       "      <th>compareRadii</th>\n",
       "      <th>distanceFromBaseline</th>\n",
       "      <th>propBaselineRadius</th>\n",
       "      <th>propTrackRadius</th>\n",
       "    </tr>\n",
       "  </thead>\n",
       "  <tbody>\n",
       "    <tr>\n",
       "      <th>0</th>\n",
       "      <td>0.0</td>\n",
       "      <td>0.0</td>\n",
       "      <td>0.0</td>\n",
       "      <td>0.0</td>\n",
       "      <td>0.0</td>\n",
       "      <td>0.0</td>\n",
       "      <td>0.0</td>\n",
       "      <td>0.0</td>\n",
       "      <td>0.0</td>\n",
       "      <td>0.0</td>\n",
       "      <td>0.0</td>\n",
       "    </tr>\n",
       "  </tbody>\n",
       "</table>\n",
       "</div>"
      ],
      "text/plain": [
       "                       diff                                                  \\\n",
       "  calcBaselineBallUnitsAway checkBaselineInsideTrack checkBothContainsOther   \n",
       "0                       0.0                      0.0                    0.0   \n",
       "\n",
       "                                                     \\\n",
       "  checkEitherContainsOther checkTrackInsideBaseline   \n",
       "0                      0.0                      0.0   \n",
       "\n",
       "                                                               \\\n",
       "  checkTrackInsideBaselineRect checkTrackSuccess compareRadii   \n",
       "0                          0.0               0.0          0.0   \n",
       "\n",
       "                                                           \n",
       "  distanceFromBaseline propBaselineRadius propTrackRadius  \n",
       "0                  0.0                0.0             0.0  "
      ]
     },
     "metadata": {},
     "output_type": "display_data"
    },
    {
     "data": {
      "text/html": [
       "<div>\n",
       "<style scoped>\n",
       "    .dataframe tbody tr th:only-of-type {\n",
       "        vertical-align: middle;\n",
       "    }\n",
       "\n",
       "    .dataframe tbody tr th {\n",
       "        vertical-align: top;\n",
       "    }\n",
       "\n",
       "    .dataframe thead th {\n",
       "        text-align: right;\n",
       "    }\n",
       "</style>\n",
       "<table border=\"1\" class=\"dataframe\">\n",
       "  <thead>\n",
       "    <tr style=\"text-align: right;\">\n",
       "      <th></th>\n",
       "      <th>calcBaselineBallUnitsAway</th>\n",
       "      <th>checkBaselineInsideTrack</th>\n",
       "      <th>checkBothContainsOther</th>\n",
       "      <th>checkEitherContainsOther</th>\n",
       "      <th>checkTrackInsideBaseline</th>\n",
       "      <th>checkTrackInsideBaselineRect</th>\n",
       "      <th>checkTrackSuccess</th>\n",
       "      <th>compareRadii</th>\n",
       "      <th>distanceFromBaseline</th>\n",
       "      <th>propBaselineRadius</th>\n",
       "      <th>propTrackRadius</th>\n",
       "    </tr>\n",
       "  </thead>\n",
       "  <tbody>\n",
       "    <tr>\n",
       "      <th>0</th>\n",
       "      <td>0.0</td>\n",
       "      <td>0.0</td>\n",
       "      <td>0.0</td>\n",
       "      <td>0.0</td>\n",
       "      <td>0.0</td>\n",
       "      <td>0.0</td>\n",
       "      <td>0.0</td>\n",
       "      <td>0.0</td>\n",
       "      <td>0.0</td>\n",
       "      <td>0.0</td>\n",
       "      <td>0.0</td>\n",
       "    </tr>\n",
       "  </tbody>\n",
       "</table>\n",
       "</div>"
      ],
      "text/plain": [
       "   calcBaselineBallUnitsAway  checkBaselineInsideTrack  \\\n",
       "0                        0.0                       0.0   \n",
       "\n",
       "   checkBothContainsOther  checkEitherContainsOther  checkTrackInsideBaseline  \\\n",
       "0                     0.0                       0.0                       0.0   \n",
       "\n",
       "   checkTrackInsideBaselineRect  checkTrackSuccess  compareRadii  \\\n",
       "0                           0.0                0.0           0.0   \n",
       "\n",
       "   distanceFromBaseline  propBaselineRadius  propTrackRadius  \n",
       "0                   0.0                 0.0              0.0  "
      ]
     },
     "metadata": {},
     "output_type": "display_data"
    },
    {
     "name": "stdout",
     "output_type": "stream",
     "text": [
      "MultiIndex(levels=[[u'current', u'diff', u'benchmark'], [u'calcBaselineBallUnitsAway', u'checkBaselineInsideTrack', u'checkBothContainsOther', u'checkEitherContainsOther', u'checkTrackInsideBaseline', u'checkTrackInsideBaselineRect', u'checkTrackSuccess', u'compareRadii', u'distanceFromBaseline', u'propBaselineRadius', u'propTrackRadius']],\n",
      "           labels=[[1, 1, 1, 1, 1, 1, 1, 1, 1, 1, 1], [0, 1, 2, 3, 4, 5, 6, 7, 8, 9, 10]])\n",
      "----\n",
      "Index([u'calcBaselineBallUnitsAway', u'checkBaselineInsideTrack',\n",
      "       u'checkBothContainsOther', u'checkEitherContainsOther',\n",
      "       u'checkTrackInsideBaseline', u'checkTrackInsideBaselineRect',\n",
      "       u'checkTrackSuccess', u'compareRadii', u'distanceFromBaseline',\n",
      "       u'propBaselineRadius', u'propTrackRadius'],\n",
      "      dtype='object')\n",
      "failed1\n",
      "failed2\n"
     ]
    }
   ],
   "source": [
    "# here we see how to index columns using top-level of MultiIndex\n",
    "# by chosing to make it a list or a scalar affects what's returned\n",
    "display(df[['diff']][:1])\n",
    "display(df['diff'][:1])\n",
    "\n",
    "print df[['diff']].columns   #returns multi-index\n",
    "print '----'\n",
    "print df['diff'].columns    # returns single-index\n",
    "\n",
    "try:df['calcBaselineBallUnitsAway']\n",
    "except:print 'failed1'\n",
    "try:df[['calcBaselineBallUnitsAway']]\n",
    "except: print 'failed2'"
   ]
  },
  {
   "cell_type": "code",
   "execution_count": 157,
   "metadata": {},
   "outputs": [
    {
     "data": {
      "text/html": [
       "<div>\n",
       "<style scoped>\n",
       "    .dataframe tbody tr th:only-of-type {\n",
       "        vertical-align: middle;\n",
       "    }\n",
       "\n",
       "    .dataframe tbody tr th {\n",
       "        vertical-align: top;\n",
       "    }\n",
       "\n",
       "    .dataframe thead th {\n",
       "        text-align: right;\n",
       "    }\n",
       "</style>\n",
       "<table border=\"1\" class=\"dataframe\">\n",
       "  <thead>\n",
       "    <tr style=\"text-align: right;\">\n",
       "      <th></th>\n",
       "      <th>deprovements</th>\n",
       "      <th>sames</th>\n",
       "      <th>improvements</th>\n",
       "    </tr>\n",
       "  </thead>\n",
       "  <tbody>\n",
       "    <tr>\n",
       "      <th>propTrackRadius</th>\n",
       "      <td>0</td>\n",
       "      <td>267</td>\n",
       "      <td>116</td>\n",
       "    </tr>\n",
       "    <tr>\n",
       "      <th>checkTrackSuccess</th>\n",
       "      <td>0</td>\n",
       "      <td>359</td>\n",
       "      <td>24</td>\n",
       "    </tr>\n",
       "    <tr>\n",
       "      <th>calcBaselineBallUnitsAway</th>\n",
       "      <td>1</td>\n",
       "      <td>381</td>\n",
       "      <td>1</td>\n",
       "    </tr>\n",
       "    <tr>\n",
       "      <th>compareRadii</th>\n",
       "      <td>0</td>\n",
       "      <td>382</td>\n",
       "      <td>1</td>\n",
       "    </tr>\n",
       "    <tr>\n",
       "      <th>distanceFromBaseline</th>\n",
       "      <td>1</td>\n",
       "      <td>381</td>\n",
       "      <td>1</td>\n",
       "    </tr>\n",
       "    <tr>\n",
       "      <th>checkBaselineInsideTrack</th>\n",
       "      <td>0</td>\n",
       "      <td>383</td>\n",
       "      <td>0</td>\n",
       "    </tr>\n",
       "    <tr>\n",
       "      <th>checkBothContainsOther</th>\n",
       "      <td>0</td>\n",
       "      <td>383</td>\n",
       "      <td>0</td>\n",
       "    </tr>\n",
       "    <tr>\n",
       "      <th>checkEitherContainsOther</th>\n",
       "      <td>0</td>\n",
       "      <td>383</td>\n",
       "      <td>0</td>\n",
       "    </tr>\n",
       "    <tr>\n",
       "      <th>checkTrackInsideBaseline</th>\n",
       "      <td>0</td>\n",
       "      <td>383</td>\n",
       "      <td>0</td>\n",
       "    </tr>\n",
       "    <tr>\n",
       "      <th>checkTrackInsideBaselineRect</th>\n",
       "      <td>0</td>\n",
       "      <td>383</td>\n",
       "      <td>0</td>\n",
       "    </tr>\n",
       "    <tr>\n",
       "      <th>propBaselineRadius</th>\n",
       "      <td>0</td>\n",
       "      <td>383</td>\n",
       "      <td>0</td>\n",
       "    </tr>\n",
       "  </tbody>\n",
       "</table>\n",
       "</div>"
      ],
      "text/plain": [
       "                              deprovements  sames  improvements\n",
       "propTrackRadius                          0    267           116\n",
       "checkTrackSuccess                        0    359            24\n",
       "calcBaselineBallUnitsAway                1    381             1\n",
       "compareRadii                             0    382             1\n",
       "distanceFromBaseline                     1    381             1\n",
       "checkBaselineInsideTrack                 0    383             0\n",
       "checkBothContainsOther                   0    383             0\n",
       "checkEitherContainsOther                 0    383             0\n",
       "checkTrackInsideBaseline                 0    383             0\n",
       "checkTrackInsideBaselineRect             0    383             0\n",
       "propBaselineRadius                       0    383             0"
      ]
     },
     "execution_count": 157,
     "metadata": {},
     "output_type": "execute_result"
    }
   ],
   "source": [
    "# example of sorting by column\n",
    "my_df.sort_values(by=['improvements'], ascending=False)"
   ]
  },
  {
   "cell_type": "code",
   "execution_count": 132,
   "metadata": {
    "collapsed": true
   },
   "outputs": [],
   "source": [
    "from modules.EvalHelpers import OutcomeData"
   ]
  },
  {
   "cell_type": "code",
   "execution_count": 137,
   "metadata": {
    "collapsed": true
   },
   "outputs": [],
   "source": [
    "od = OutcomeData(outcomeDf=d_outcome['0'])"
   ]
  },
  {
   "cell_type": "code",
   "execution_count": 143,
   "metadata": {},
   "outputs": [
    {
     "name": "stdout",
     "output_type": "stream",
     "text": [
      "they are the same according to diff_pd\n"
     ]
    }
   ],
   "source": [
    "diff_pd(od.outcomeData, d_outcome['0'])"
   ]
  },
  {
   "cell_type": "code",
   "execution_count": 142,
   "metadata": {
    "collapsed": true
   },
   "outputs": [],
   "source": [
    "def diff_pd(df1, df2):\n",
    "    '''\n",
    "    Identify differences between two pandas DataFrames\n",
    "    https://stackoverflow.com/questions/17095101/outputting-difference-in-two-pandas-dataframes-side-by-side-highlighting-the-d\n",
    "    '''\n",
    "    assert (df1.columns == df2.columns).all(), \\\n",
    "        \"DataFrame column names are different\"\n",
    "    if any(df1.dtypes != df2.dtypes):\n",
    "        \"Data Types are different, trying to convert\"\n",
    "        df2 = df2.astype(df1.dtypes)\n",
    "    if df1.equals(df2):\n",
    "        print 'they are the same according to diff_pd'\n",
    "        return None\n",
    "    else:\n",
    "        # need to account for np.nan != np.nan returning True\n",
    "        diff_mask = (df1 != df2) & ~(df1.isnull() & df2.isnull())\n",
    "        ne_stacked = diff_mask.stack()\n",
    "        changed = ne_stacked[ne_stacked]\n",
    "        changed.index.names = ['id', 'col']\n",
    "        difference_locations = np.where(diff_mask)\n",
    "        changed_from = df1.values[difference_locations]\n",
    "        changed_to = df2.values[difference_locations]\n",
    "        return pd.DataFrame({'from': changed_from, 'to': changed_to},\n",
    "                            index=changed.index)\n"
   ]
  },
  {
   "cell_type": "code",
   "execution_count": null,
   "metadata": {
    "collapsed": true
   },
   "outputs": [],
   "source": [
    "od.displaySeriesPlot()"
   ]
  },
  {
   "cell_type": "code",
   "execution_count": null,
   "metadata": {
    "collapsed": true
   },
   "outputs": [],
   "source": []
  },
  {
   "cell_type": "code",
   "execution_count": null,
   "metadata": {
    "collapsed": true
   },
   "outputs": [],
   "source": []
  },
  {
   "cell_type": "code",
   "execution_count": null,
   "metadata": {
    "collapsed": true
   },
   "outputs": [],
   "source": []
  },
  {
   "cell_type": "markdown",
   "metadata": {},
   "source": [
    "### Pandas ScratchPad"
   ]
  },
  {
   "cell_type": "markdown",
   "metadata": {},
   "source": [
    "##### Explore the mini-df"
   ]
  },
  {
   "cell_type": "code",
   "execution_count": 56,
   "metadata": {},
   "outputs": [
    {
     "data": {
      "text/html": [
       "<div>\n",
       "<style scoped>\n",
       "    .dataframe tbody tr th:only-of-type {\n",
       "        vertical-align: middle;\n",
       "    }\n",
       "\n",
       "    .dataframe tbody tr th {\n",
       "        vertical-align: top;\n",
       "    }\n",
       "\n",
       "    .dataframe thead th {\n",
       "        text-align: right;\n",
       "    }\n",
       "</style>\n",
       "<table border=\"1\" class=\"dataframe\">\n",
       "  <thead>\n",
       "    <tr style=\"text-align: right;\">\n",
       "      <th></th>\n",
       "      <th>mean</th>\n",
       "      <th>n</th>\n",
       "    </tr>\n",
       "  </thead>\n",
       "  <tbody>\n",
       "    <tr>\n",
       "      <th>fagg_less_than_20_pix_balls_away</th>\n",
       "      <td>0.282109</td>\n",
       "      <td>2.0</td>\n",
       "    </tr>\n",
       "    <tr>\n",
       "      <th>fagg_less_than_30_pix_success</th>\n",
       "      <td>1.000000</td>\n",
       "      <td>297.0</td>\n",
       "    </tr>\n",
       "  </tbody>\n",
       "</table>\n",
       "</div>"
      ],
      "text/plain": [
       "                                      mean      n\n",
       "fagg_less_than_20_pix_balls_away  0.282109    2.0\n",
       "fagg_less_than_30_pix_success     1.000000  297.0"
      ]
     },
     "execution_count": 56,
     "metadata": {},
     "output_type": "execute_result"
    }
   ],
   "source": [
    "mini = cmpB.benchmark.aggFilterDfh.df\n",
    "mini"
   ]
  },
  {
   "cell_type": "code",
   "execution_count": 74,
   "metadata": {},
   "outputs": [
    {
     "data": {
      "text/plain": [
       "fagg_less_than_20_pix_balls_away  mean      0.533238\n",
       "                                  n        16.000000\n",
       "fagg_less_than_30_pix_success     mean      1.000000\n",
       "                                  n       310.000000\n",
       "dtype: float64"
      ]
     },
     "execution_count": 74,
     "metadata": {},
     "output_type": "execute_result"
    }
   ],
   "source": [
    "mini_stack = mini.stack()\n",
    "mini_stack"
   ]
  },
  {
   "cell_type": "code",
   "execution_count": 75,
   "metadata": {},
   "outputs": [
    {
     "data": {
      "text/plain": [
       "Index([u'fagg_less_than_20_pix_balls_away', u'fagg_less_than_30_pix_success'], dtype='object')"
      ]
     },
     "execution_count": 75,
     "metadata": {},
     "output_type": "execute_result"
    }
   ],
   "source": [
    "mini.index"
   ]
  },
  {
   "cell_type": "code",
   "execution_count": 76,
   "metadata": {},
   "outputs": [
    {
     "data": {
      "text/plain": [
       "MultiIndex(levels=[[u'fagg_less_than_20_pix_balls_away', u'fagg_less_than_30_pix_success'], [u'mean', u'n']],\n",
       "           labels=[[0, 0, 1, 1], [0, 1, 0, 1]])"
      ]
     },
     "execution_count": 76,
     "metadata": {},
     "output_type": "execute_result"
    }
   ],
   "source": [
    "mini_stack.index"
   ]
  },
  {
   "cell_type": "code",
   "execution_count": 77,
   "metadata": {},
   "outputs": [
    {
     "data": {
      "text/plain": [
       "fagg_less_than_20_pix_balls_away  mean      0.533238\n",
       "                                  n        16.000000\n",
       "fagg_less_than_30_pix_success     mean      1.000000\n",
       "                                  n       310.000000\n",
       "dtype: float64"
      ]
     },
     "execution_count": 77,
     "metadata": {},
     "output_type": "execute_result"
    }
   ],
   "source": [
    "mini_stack.T"
   ]
  },
  {
   "cell_type": "markdown",
   "metadata": {},
   "source": [
    "##### Easiest Way to combine two dataframes and note them as distinct"
   ]
  },
  {
   "cell_type": "code",
   "execution_count": 79,
   "metadata": {},
   "outputs": [
    {
     "name": "stdout",
     "output_type": "stream",
     "text": [
      "cols:  %s MultiIndex(levels=[[u'current', u'benchmark'], [u'mean', u'n']],\n",
      "           labels=[[0, 0, 1, 1], [0, 1, 0, 1]])\n",
      "index: %s Index([u'fagg_less_than_20_pix_balls_away', u'fagg_less_than_30_pix_success'], dtype='object')\n"
     ]
    },
    {
     "data": {
      "text/html": [
       "<div>\n",
       "<style scoped>\n",
       "    .dataframe tbody tr th:only-of-type {\n",
       "        vertical-align: middle;\n",
       "    }\n",
       "\n",
       "    .dataframe tbody tr th {\n",
       "        vertical-align: top;\n",
       "    }\n",
       "\n",
       "    .dataframe thead tr th {\n",
       "        text-align: left;\n",
       "    }\n",
       "</style>\n",
       "<table border=\"1\" class=\"dataframe\">\n",
       "  <thead>\n",
       "    <tr>\n",
       "      <th></th>\n",
       "      <th colspan=\"2\" halign=\"left\">current</th>\n",
       "      <th colspan=\"2\" halign=\"left\">benchmark</th>\n",
       "    </tr>\n",
       "    <tr>\n",
       "      <th></th>\n",
       "      <th>mean</th>\n",
       "      <th>n</th>\n",
       "      <th>mean</th>\n",
       "      <th>n</th>\n",
       "    </tr>\n",
       "  </thead>\n",
       "  <tbody>\n",
       "    <tr>\n",
       "      <th>fagg_less_than_20_pix_balls_away</th>\n",
       "      <td>0.533238</td>\n",
       "      <td>16.0</td>\n",
       "      <td>0.533238</td>\n",
       "      <td>16.0</td>\n",
       "    </tr>\n",
       "    <tr>\n",
       "      <th>fagg_less_than_30_pix_success</th>\n",
       "      <td>1.000000</td>\n",
       "      <td>310.0</td>\n",
       "      <td>1.000000</td>\n",
       "      <td>310.0</td>\n",
       "    </tr>\n",
       "  </tbody>\n",
       "</table>\n",
       "</div>"
      ],
      "text/plain": [
       "                                   current        benchmark       \n",
       "                                      mean      n      mean      n\n",
       "fagg_less_than_20_pix_balls_away  0.533238   16.0  0.533238   16.0\n",
       "fagg_less_than_30_pix_success     1.000000  310.0  1.000000  310.0"
      ]
     },
     "execution_count": 79,
     "metadata": {},
     "output_type": "execute_result"
    }
   ],
   "source": [
    "#on axis=1, dif-df's are ordered by col, so columns are MutliIndex\n",
    "axis = 1\n",
    "\n",
    "d_tmp = {'current':mini, 'benchmark':mini}\n",
    "\n",
    "df_concat = pd.concat(d_tmp.values(), keys=d_tmp.keys(), axis=axis)\n",
    "\n",
    "print 'cols:  %s', str(df_concat.columns)\n",
    "print 'index: %s', str(df_concat.index)\n",
    "\n",
    "df_concat"
   ]
  },
  {
   "cell_type": "code",
   "execution_count": 80,
   "metadata": {},
   "outputs": [
    {
     "name": "stdout",
     "output_type": "stream",
     "text": [
      "cols:  %s Index([u'mean', u'n'], dtype='object')\n",
      "index: %s MultiIndex(levels=[[u'current', u'benchmark'], [u'fagg_less_than_20_pix_balls_away', u'fagg_less_than_30_pix_success']],\n",
      "           labels=[[0, 0, 1, 1], [0, 1, 0, 1]])\n"
     ]
    },
    {
     "data": {
      "text/html": [
       "<div>\n",
       "<style scoped>\n",
       "    .dataframe tbody tr th:only-of-type {\n",
       "        vertical-align: middle;\n",
       "    }\n",
       "\n",
       "    .dataframe tbody tr th {\n",
       "        vertical-align: top;\n",
       "    }\n",
       "\n",
       "    .dataframe thead th {\n",
       "        text-align: right;\n",
       "    }\n",
       "</style>\n",
       "<table border=\"1\" class=\"dataframe\">\n",
       "  <thead>\n",
       "    <tr style=\"text-align: right;\">\n",
       "      <th></th>\n",
       "      <th></th>\n",
       "      <th>mean</th>\n",
       "      <th>n</th>\n",
       "    </tr>\n",
       "  </thead>\n",
       "  <tbody>\n",
       "    <tr>\n",
       "      <th rowspan=\"2\" valign=\"top\">current</th>\n",
       "      <th>fagg_less_than_20_pix_balls_away</th>\n",
       "      <td>0.533238</td>\n",
       "      <td>16.0</td>\n",
       "    </tr>\n",
       "    <tr>\n",
       "      <th>fagg_less_than_30_pix_success</th>\n",
       "      <td>1.000000</td>\n",
       "      <td>310.0</td>\n",
       "    </tr>\n",
       "    <tr>\n",
       "      <th rowspan=\"2\" valign=\"top\">benchmark</th>\n",
       "      <th>fagg_less_than_20_pix_balls_away</th>\n",
       "      <td>0.533238</td>\n",
       "      <td>16.0</td>\n",
       "    </tr>\n",
       "    <tr>\n",
       "      <th>fagg_less_than_30_pix_success</th>\n",
       "      <td>1.000000</td>\n",
       "      <td>310.0</td>\n",
       "    </tr>\n",
       "  </tbody>\n",
       "</table>\n",
       "</div>"
      ],
      "text/plain": [
       "                                                mean      n\n",
       "current   fagg_less_than_20_pix_balls_away  0.533238   16.0\n",
       "          fagg_less_than_30_pix_success     1.000000  310.0\n",
       "benchmark fagg_less_than_20_pix_balls_away  0.533238   16.0\n",
       "          fagg_less_than_30_pix_success     1.000000  310.0"
      ]
     },
     "execution_count": 80,
     "metadata": {},
     "output_type": "execute_result"
    }
   ],
   "source": [
    "# on axis=0, df's are ordered by row, so rows are MultiIndex\n",
    "axis = 0\n",
    "\n",
    "d_tmp = {'current':mini, 'benchmark':mini}\n",
    "\n",
    "df_concat = pd.concat(d_tmp.values(), keys=d_tmp.keys(), axis=axis)\n",
    "\n",
    "print 'cols:  %s', str(df_concat.columns)\n",
    "print 'index: %s', str(df_concat.index)\n",
    "\n",
    "df_concat"
   ]
  },
  {
   "cell_type": "markdown",
   "metadata": {},
   "source": [
    "##### here's an attempt to combine dataframes with manually created MultiIndex"
   ]
  },
  {
   "cell_type": "code",
   "execution_count": null,
   "metadata": {
    "collapsed": true
   },
   "outputs": [],
   "source": [
    "iters = [list(mini.index), ['first']]\n",
    "multi_ind_1 = pd.MultiIndex.from_product(iters, names=('criteria','dfnum'))\n",
    "mini1 = pd.DataFrame(mini, index=multi_ind_1)\n",
    "mini1"
   ]
  },
  {
   "cell_type": "code",
   "execution_count": 69,
   "metadata": {},
   "outputs": [
    {
     "data": {
      "text/html": [
       "<div>\n",
       "<style scoped>\n",
       "    .dataframe tbody tr th:only-of-type {\n",
       "        vertical-align: middle;\n",
       "    }\n",
       "\n",
       "    .dataframe tbody tr th {\n",
       "        vertical-align: top;\n",
       "    }\n",
       "\n",
       "    .dataframe thead th {\n",
       "        text-align: right;\n",
       "    }\n",
       "</style>\n",
       "<table border=\"1\" class=\"dataframe\">\n",
       "  <thead>\n",
       "    <tr style=\"text-align: right;\">\n",
       "      <th></th>\n",
       "      <th></th>\n",
       "      <th>mean</th>\n",
       "      <th>n</th>\n",
       "    </tr>\n",
       "    <tr>\n",
       "      <th>criteria</th>\n",
       "      <th>dfnum</th>\n",
       "      <th></th>\n",
       "      <th></th>\n",
       "    </tr>\n",
       "  </thead>\n",
       "  <tbody>\n",
       "    <tr>\n",
       "      <th>fagg_less_than_20_pix_balls_away</th>\n",
       "      <th>second</th>\n",
       "      <td>0.533238</td>\n",
       "      <td>16.0</td>\n",
       "    </tr>\n",
       "    <tr>\n",
       "      <th>fagg_less_than_30_pix_success</th>\n",
       "      <th>second</th>\n",
       "      <td>1.000000</td>\n",
       "      <td>310.0</td>\n",
       "    </tr>\n",
       "  </tbody>\n",
       "</table>\n",
       "</div>"
      ],
      "text/plain": [
       "                                             mean      n\n",
       "criteria                         dfnum                  \n",
       "fagg_less_than_20_pix_balls_away second  0.533238   16.0\n",
       "fagg_less_than_30_pix_success    second  1.000000  310.0"
      ]
     },
     "execution_count": 69,
     "metadata": {},
     "output_type": "execute_result"
    }
   ],
   "source": [
    "iters = [list(mini.index), ['second']]\n",
    "multi_ind_2 = pd.MultiIndex.from_product(iters, names=('criteria','dfnum'))\n",
    "mini2 = pd.DataFrame(data=mini.values, index=multi_ind_2, columns=mini.columns)\n",
    "\n",
    "mini2"
   ]
  },
  {
   "cell_type": "code",
   "execution_count": null,
   "metadata": {
    "collapsed": true
   },
   "outputs": [],
   "source": [
    "iters = [list(mini.index), ['first','second']]\n",
    "multi_ind = pd.MultiIndex.from_product(iters, names=('criteria','dfnum'))\n",
    "multi_ind"
   ]
  },
  {
   "cell_type": "code",
   "execution_count": null,
   "metadata": {
    "collapsed": true
   },
   "outputs": [],
   "source": []
  },
  {
   "cell_type": "code",
   "execution_count": null,
   "metadata": {
    "collapsed": true
   },
   "outputs": [],
   "source": []
  }
 ],
 "metadata": {
  "kernelspec": {
   "display_name": "Python 2",
   "language": "python",
   "name": "python2"
  },
  "language_info": {
   "codemirror_mode": {
    "name": "ipython",
    "version": 2
   },
   "file_extension": ".py",
   "mimetype": "text/x-python",
   "name": "python",
   "nbconvert_exporter": "python",
   "pygments_lexer": "ipython2",
   "version": "2.7.13"
  }
 },
 "nbformat": 4,
 "nbformat_minor": 2
}
