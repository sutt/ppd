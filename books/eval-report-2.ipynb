{
 "cells": [
  {
   "cell_type": "code",
   "execution_count": 38,
   "metadata": {},
   "outputs": [
    {
     "name": "stdout",
     "output_type": "stream",
     "text": [
      "The autoreload extension is already loaded. To reload it, use:\n",
      "  %reload_ext autoreload\n"
     ]
    }
   ],
   "source": [
    "import pandas as pd\n",
    "import sqlalchemy\n",
    "import math\n",
    "import os, sys, copy, random, pickle, cv2\n",
    "import numpy as np\n",
    "from matplotlib import pyplot as plt\n",
    "%matplotlib inline\n",
    "\n",
    "sys.path.append(\"../\")\n",
    "\n",
    "%load_ext autoreload\n",
    "%autoreload 2\n",
    "\n",
    "from modules.ControlTracking import TrackFactory\n",
    "from modules.ControlDisplay import Display\n",
    "from modules.Interproc import DBInterface, GuiviewState\n",
    "\n",
    "from modules.AnalysisHelpers import ( \n",
    "         exploreImgs, buildImgComparisonData, subprocEval,\n",
    "        subprocBatchOutput, cvtPlot)\n",
    "\n",
    "from modules.EvalHelpers import EvalTracker, EvalDataset\n",
    "from modules.ControlEval import EvalFactory\n",
    "from modules.DataSchemas import ScoreSchema\n",
    "from modules.EvalHelpers import OutcomeData, DFHelper\n",
    "\n",
    "from modules.EvalHelpers import AggEval, DFHelper\n",
    "\n",
    "from modules.EvalSuite import EvalSuite, CmpAlgoReport\n",
    "\n",
    "from IPython.display import display"
   ]
  },
  {
   "cell_type": "code",
   "execution_count": 4,
   "metadata": {},
   "outputs": [],
   "source": [
    "#Load outcome data, pre-eval'd via command-line and saved to book-data\n",
    "\n",
    "db_path = 'data/misc/books/eval_report_2/'\n",
    "\n",
    "outcome_0 = OutcomeData(dbPathFn = db_path + 'algo_0.db')\n",
    "outcome_2 = OutcomeData(dbPathFn = db_path + 'algo_2.db')"
   ]
  },
  {
   "cell_type": "code",
   "execution_count": 10,
   "metadata": {},
   "outputs": [],
   "source": [
    "cmpA = CmpAlgoReport(benchmark_outcome_data = outcome_0.getOutcome(), \n",
    "                     current_outcome_data = outcome_2.getOutcome()\n",
    "                    )"
   ]
  },
  {
   "cell_type": "code",
   "execution_count": 11,
   "metadata": {},
   "outputs": [
    {
     "data": {
      "text/html": [
       "<div>\n",
       "<style scoped>\n",
       "    .dataframe tbody tr th:only-of-type {\n",
       "        vertical-align: middle;\n",
       "    }\n",
       "\n",
       "    .dataframe tbody tr th {\n",
       "        vertical-align: top;\n",
       "    }\n",
       "\n",
       "    .dataframe thead th {\n",
       "        text-align: right;\n",
       "    }\n",
       "</style>\n",
       "<table border=\"1\" class=\"dataframe\">\n",
       "  <thead>\n",
       "    <tr style=\"text-align: right;\">\n",
       "      <th></th>\n",
       "      <th>improvements</th>\n",
       "      <th>deprovements</th>\n",
       "      <th>sames</th>\n",
       "    </tr>\n",
       "  </thead>\n",
       "  <tbody>\n",
       "    <tr>\n",
       "      <th>checkTrackSuccess</th>\n",
       "      <td>0.000</td>\n",
       "      <td>0.000</td>\n",
       "      <td>345.000</td>\n",
       "    </tr>\n",
       "  </tbody>\n",
       "</table>\n",
       "</div>"
      ],
      "text/plain": [
       "                  improvements deprovements    sames\n",
       "checkTrackSuccess        0.000        0.000  345.000"
      ]
     },
     "metadata": {},
     "output_type": "display_data"
    },
    {
     "data": {
      "text/html": [
       "<div>\n",
       "<style scoped>\n",
       "    .dataframe tbody tr th:only-of-type {\n",
       "        vertical-align: middle;\n",
       "    }\n",
       "\n",
       "    .dataframe tbody tr th {\n",
       "        vertical-align: top;\n",
       "    }\n",
       "\n",
       "    .dataframe thead th {\n",
       "        text-align: right;\n",
       "    }\n",
       "</style>\n",
       "<table border=\"1\" class=\"dataframe\">\n",
       "  <thead>\n",
       "    <tr style=\"text-align: right;\">\n",
       "      <th></th>\n",
       "      <th>improvements</th>\n",
       "      <th>deprovements</th>\n",
       "      <th>sames</th>\n",
       "    </tr>\n",
       "  </thead>\n",
       "  <tbody>\n",
       "    <tr>\n",
       "      <th>calcBaselineBallUnitsAway</th>\n",
       "      <td>7</td>\n",
       "      <td>3</td>\n",
       "      <td>9</td>\n",
       "    </tr>\n",
       "    <tr>\n",
       "      <th>checkBothContainsOther</th>\n",
       "      <td>3</td>\n",
       "      <td>0</td>\n",
       "      <td>16</td>\n",
       "    </tr>\n",
       "    <tr>\n",
       "      <th>checkTrackSuccess</th>\n",
       "      <td>0</td>\n",
       "      <td>0</td>\n",
       "      <td>19</td>\n",
       "    </tr>\n",
       "    <tr>\n",
       "      <th>distanceFromBaseline</th>\n",
       "      <td>7</td>\n",
       "      <td>3</td>\n",
       "      <td>9</td>\n",
       "    </tr>\n",
       "  </tbody>\n",
       "</table>\n",
       "</div>"
      ],
      "text/plain": [
       "                           improvements  deprovements  sames\n",
       "calcBaselineBallUnitsAway             7             3      9\n",
       "checkBothContainsOther                3             0     16\n",
       "checkTrackSuccess                     0             0     19\n",
       "distanceFromBaseline                  7             3      9"
      ]
     },
     "metadata": {},
     "output_type": "display_data"
    },
    {
     "data": {
      "text/html": [
       "<div>\n",
       "<style scoped>\n",
       "    .dataframe tbody tr th:only-of-type {\n",
       "        vertical-align: middle;\n",
       "    }\n",
       "\n",
       "    .dataframe tbody tr th {\n",
       "        vertical-align: top;\n",
       "    }\n",
       "\n",
       "    .dataframe thead tr th {\n",
       "        text-align: left;\n",
       "    }\n",
       "</style>\n",
       "<table border=\"1\" class=\"dataframe\">\n",
       "  <thead>\n",
       "    <tr>\n",
       "      <th></th>\n",
       "      <th>diff</th>\n",
       "      <th>current</th>\n",
       "      <th>benchmark</th>\n",
       "    </tr>\n",
       "    <tr>\n",
       "      <th></th>\n",
       "      <th>mean</th>\n",
       "      <th>mean</th>\n",
       "      <th>mean</th>\n",
       "    </tr>\n",
       "  </thead>\n",
       "  <tbody>\n",
       "    <tr>\n",
       "      <th>agg_checkTrackSuccess</th>\n",
       "      <td>0.000</td>\n",
       "      <td>1.000</td>\n",
       "      <td>1.000</td>\n",
       "    </tr>\n",
       "    <tr>\n",
       "      <th>agg_calcBaselineBallUnitsAway</th>\n",
       "      <td>0.053</td>\n",
       "      <td>-0.407</td>\n",
       "      <td>-0.460</td>\n",
       "    </tr>\n",
       "    <tr>\n",
       "      <th>agg_checkBothContainsOther</th>\n",
       "      <td>0.158</td>\n",
       "      <td>0.579</td>\n",
       "      <td>0.421</td>\n",
       "    </tr>\n",
       "    <tr>\n",
       "      <th>agg_distanceFromBaseline</th>\n",
       "      <td>0.366</td>\n",
       "      <td>-5.125</td>\n",
       "      <td>-5.491</td>\n",
       "    </tr>\n",
       "  </tbody>\n",
       "</table>\n",
       "</div>"
      ],
      "text/plain": [
       "                                diff current benchmark\n",
       "                                mean    mean      mean\n",
       "agg_checkTrackSuccess          0.000   1.000     1.000\n",
       "agg_calcBaselineBallUnitsAway  0.053  -0.407    -0.460\n",
       "agg_checkBothContainsOther     0.158   0.579     0.421\n",
       "agg_distanceFromBaseline       0.366  -5.125    -5.491"
      ]
     },
     "metadata": {},
     "output_type": "display_data"
    },
    {
     "data": {
      "text/html": [
       "<div>\n",
       "<style scoped>\n",
       "    .dataframe tbody tr th:only-of-type {\n",
       "        vertical-align: middle;\n",
       "    }\n",
       "\n",
       "    .dataframe tbody tr th {\n",
       "        vertical-align: top;\n",
       "    }\n",
       "\n",
       "    .dataframe thead tr th {\n",
       "        text-align: left;\n",
       "    }\n",
       "</style>\n",
       "<table border=\"1\" class=\"dataframe\">\n",
       "  <thead>\n",
       "    <tr>\n",
       "      <th></th>\n",
       "      <th colspan=\"2\" halign=\"left\">diff</th>\n",
       "      <th colspan=\"2\" halign=\"left\">current</th>\n",
       "      <th colspan=\"2\" halign=\"left\">benchmark</th>\n",
       "    </tr>\n",
       "    <tr>\n",
       "      <th></th>\n",
       "      <th>mean</th>\n",
       "      <th>n</th>\n",
       "      <th>mean</th>\n",
       "      <th>n</th>\n",
       "      <th>mean</th>\n",
       "      <th>n</th>\n",
       "    </tr>\n",
       "  </thead>\n",
       "  <tbody>\n",
       "    <tr>\n",
       "      <th>fagg_less_than_20_pix_balls_away</th>\n",
       "      <td>0.066</td>\n",
       "      <td>0.000</td>\n",
       "      <td>-0.467</td>\n",
       "      <td>16.000</td>\n",
       "      <td>-0.533</td>\n",
       "      <td>16.000</td>\n",
       "    </tr>\n",
       "    <tr>\n",
       "      <th>fagg_less_than_30_pix_success</th>\n",
       "      <td>0.000</td>\n",
       "      <td>0.000</td>\n",
       "      <td>1.000</td>\n",
       "      <td>310.000</td>\n",
       "      <td>1.000</td>\n",
       "      <td>310.000</td>\n",
       "    </tr>\n",
       "  </tbody>\n",
       "</table>\n",
       "</div>"
      ],
      "text/plain": [
       "                                   diff        current          benchmark  \\\n",
       "                                   mean      n    mean        n      mean   \n",
       "fagg_less_than_20_pix_balls_away  0.066  0.000  -0.467   16.000    -0.533   \n",
       "fagg_less_than_30_pix_success     0.000  0.000   1.000  310.000     1.000   \n",
       "\n",
       "                                           \n",
       "                                        n  \n",
       "fagg_less_than_20_pix_balls_away   16.000  \n",
       "fagg_less_than_30_pix_success     310.000  "
      ]
     },
     "metadata": {},
     "output_type": "display_data"
    },
    {
     "data": {
      "image/png": "[encoded data removed]",
      "text/plain": [
       "<Figure size 432x288 with 1 Axes>"
      ]
     },
     "metadata": {},
     "output_type": "display_data"
    }
   ],
   "source": [
    "cmpA.report1()"
   ]
  },
  {
   "cell_type": "code",
   "execution_count": 15,
   "metadata": {},
   "outputs": [
    {
     "data": {
      "text/html": [
       "<div>\n",
       "<style scoped>\n",
       "    .dataframe tbody tr th:only-of-type {\n",
       "        vertical-align: middle;\n",
       "    }\n",
       "\n",
       "    .dataframe tbody tr th {\n",
       "        vertical-align: top;\n",
       "    }\n",
       "\n",
       "    .dataframe thead tr th {\n",
       "        text-align: left;\n",
       "    }\n",
       "</style>\n",
       "<table border=\"1\" class=\"dataframe\">\n",
       "  <thead>\n",
       "    <tr>\n",
       "      <th></th>\n",
       "      <th>diff</th>\n",
       "      <th>current</th>\n",
       "      <th>benchmark</th>\n",
       "    </tr>\n",
       "    <tr>\n",
       "      <th></th>\n",
       "      <th>distanceFromBaseline</th>\n",
       "      <th>distanceFromBaseline</th>\n",
       "      <th>distanceFromBaseline</th>\n",
       "    </tr>\n",
       "  </thead>\n",
       "  <tbody>\n",
       "    <tr>\n",
       "      <th>295</th>\n",
       "      <td>4.434</td>\n",
       "      <td>-5.000</td>\n",
       "      <td>-9.434</td>\n",
       "    </tr>\n",
       "    <tr>\n",
       "      <th>78</th>\n",
       "      <td>-2.828</td>\n",
       "      <td>-4.243</td>\n",
       "      <td>-1.414</td>\n",
       "    </tr>\n",
       "    <tr>\n",
       "      <th>215</th>\n",
       "      <td>2.385</td>\n",
       "      <td>-3.000</td>\n",
       "      <td>-5.385</td>\n",
       "    </tr>\n",
       "    <tr>\n",
       "      <th>187</th>\n",
       "      <td>1.143</td>\n",
       "      <td>-4.243</td>\n",
       "      <td>-5.385</td>\n",
       "    </tr>\n",
       "    <tr>\n",
       "      <th>195</th>\n",
       "      <td>1.000</td>\n",
       "      <td>-3.000</td>\n",
       "      <td>-4.000</td>\n",
       "    </tr>\n",
       "    <tr>\n",
       "      <th>307</th>\n",
       "      <td>0.630</td>\n",
       "      <td>-10.000</td>\n",
       "      <td>-10.630</td>\n",
       "    </tr>\n",
       "  </tbody>\n",
       "</table>\n",
       "</div>"
      ],
      "text/plain": [
       "                    diff              current            benchmark\n",
       "    distanceFromBaseline distanceFromBaseline distanceFromBaseline\n",
       "295                4.434               -5.000               -9.434\n",
       "78                -2.828               -4.243               -1.414\n",
       "215                2.385               -3.000               -5.385\n",
       "187                1.143               -4.243               -5.385\n",
       "195                1.000               -3.000               -4.000\n",
       "307                0.630              -10.000              -10.630"
      ]
     },
     "metadata": {},
     "output_type": "display_data"
    },
    {
     "name": "stdout",
     "output_type": "stream",
     "text": [
      "[295, 78, 215, 187, 195]\n"
     ]
    }
   ],
   "source": [
    "ret = cmpA.largestDiscrepancy(distanceFromBaseline=0)\n",
    "display(ret[:6])\n",
    "foi = [int(x) for x in ret.index]\n",
    "print foi[:5]"
   ]
  },
  {
   "cell_type": "code",
   "execution_count": 16,
   "metadata": {},
   "outputs": [
    {
     "data": {
      "text/html": [
       "<div>\n",
       "<style scoped>\n",
       "    .dataframe tbody tr th:only-of-type {\n",
       "        vertical-align: middle;\n",
       "    }\n",
       "\n",
       "    .dataframe tbody tr th {\n",
       "        vertical-align: top;\n",
       "    }\n",
       "\n",
       "    .dataframe thead tr th {\n",
       "        text-align: left;\n",
       "    }\n",
       "</style>\n",
       "<table border=\"1\" class=\"dataframe\">\n",
       "  <thead>\n",
       "    <tr>\n",
       "      <th></th>\n",
       "      <th>diff</th>\n",
       "      <th>current</th>\n",
       "      <th>benchmark</th>\n",
       "    </tr>\n",
       "    <tr>\n",
       "      <th></th>\n",
       "      <th>calcBaselineBallUnitsAway</th>\n",
       "      <th>calcBaselineBallUnitsAway</th>\n",
       "      <th>calcBaselineBallUnitsAway</th>\n",
       "    </tr>\n",
       "  </thead>\n",
       "  <tbody>\n",
       "    <tr>\n",
       "      <th>295</th>\n",
       "      <td>0.443</td>\n",
       "      <td>-0.500</td>\n",
       "      <td>-0.943</td>\n",
       "    </tr>\n",
       "    <tr>\n",
       "      <th>215</th>\n",
       "      <td>0.298</td>\n",
       "      <td>-0.375</td>\n",
       "      <td>-0.673</td>\n",
       "    </tr>\n",
       "    <tr>\n",
       "      <th>187</th>\n",
       "      <td>0.143</td>\n",
       "      <td>-0.530</td>\n",
       "      <td>-0.673</td>\n",
       "    </tr>\n",
       "    <tr>\n",
       "      <th>195</th>\n",
       "      <td>0.125</td>\n",
       "      <td>-0.375</td>\n",
       "      <td>-0.500</td>\n",
       "    </tr>\n",
       "    <tr>\n",
       "      <th>78</th>\n",
       "      <td>-0.057</td>\n",
       "      <td>-0.085</td>\n",
       "      <td>-0.028</td>\n",
       "    </tr>\n",
       "    <tr>\n",
       "      <th>307</th>\n",
       "      <td>0.045</td>\n",
       "      <td>-0.714</td>\n",
       "      <td>-0.759</td>\n",
       "    </tr>\n",
       "  </tbody>\n",
       "</table>\n",
       "</div>"
      ],
      "text/plain": [
       "                         diff                   current  \\\n",
       "    calcBaselineBallUnitsAway calcBaselineBallUnitsAway   \n",
       "295                     0.443                    -0.500   \n",
       "215                     0.298                    -0.375   \n",
       "187                     0.143                    -0.530   \n",
       "195                     0.125                    -0.375   \n",
       "78                     -0.057                    -0.085   \n",
       "307                     0.045                    -0.714   \n",
       "\n",
       "                    benchmark  \n",
       "    calcBaselineBallUnitsAway  \n",
       "295                    -0.943  \n",
       "215                    -0.673  \n",
       "187                    -0.673  \n",
       "195                    -0.500  \n",
       "78                     -0.028  \n",
       "307                    -0.759  "
      ]
     },
     "metadata": {},
     "output_type": "display_data"
    },
    {
     "name": "stdout",
     "output_type": "stream",
     "text": [
      "[295, 215, 187, 195, 78]\n"
     ]
    }
   ],
   "source": [
    "ret = cmpA.largestDiscrepancy(calcBaselineBallUnitsAway=0)\n",
    "display(ret[:6])\n",
    "foi = [int(x) for x in ret.index]\n",
    "print foi[:5]"
   ]
  },
  {
   "cell_type": "markdown",
   "metadata": {},
   "source": [
    "### View Discrepancy Images"
   ]
  },
  {
   "cell_type": "code",
   "execution_count": 39,
   "metadata": {
    "collapsed": true
   },
   "outputs": [],
   "source": [
    "vid_fn = 'data/proc/tmp/dec14/output5.proc1.proc1.avi'\n",
    "listGS = subprocBatchOutput(vid_fn, batch_list = foi[:6])"
   ]
  },
  {
   "cell_type": "code",
   "execution_count": 40,
   "metadata": {},
   "outputs": [
    {
     "name": "stdout",
     "output_type": "stream",
     "text": [
      "orginal order: \n",
      "[78, 187, 195, 215, 295, 307]\n",
      "new order: \n",
      "[307, 78, 195, 187, 215, 295]\n"
     ]
    }
   ],
   "source": [
    "print 'orginal order: '\n",
    "print [gs.frameCounter for gs in listGS]\n",
    "\n",
    "# order by discrepancy table\n",
    "def discrepancyLookup(frame_counter):\n",
    "    try:\n",
    "        return foi.index(frame_counter)\n",
    "    except:\n",
    "        return 0\n",
    "\n",
    "listGS.sort(key=lambda item: discrepancyLookup(item.frameCounter), reverse = True)\n",
    "\n",
    "print 'new order: '\n",
    "print [gs.frameCounter for gs in listGS]"
   ]
  },
  {
   "cell_type": "code",
   "execution_count": 37,
   "metadata": {},
   "outputs": [
    {
     "ename": "AttributeError",
     "evalue": "'NoneType' object has no attribute 'copy'",
     "output_type": "error",
     "traceback": [
      "\u001b[1;31m---------------------------------------------------------------------------\u001b[0m",
      "\u001b[1;31mAttributeError\u001b[0m                            Traceback (most recent call last)",
      "\u001b[1;32m<ipython-input-37-b1d4c4d9e42b>\u001b[0m in \u001b[0;36m<module>\u001b[1;34m()\u001b[0m\n\u001b[0;32m      1\u001b[0m \u001b[1;31m# get this working\u001b[0m\u001b[1;33m\u001b[0m\u001b[1;33m\u001b[0m\u001b[0m\n\u001b[1;32m----> 2\u001b[1;33m \u001b[0mexploreImgs\u001b[0m\u001b[1;33m(\u001b[0m\u001b[0mlistGS\u001b[0m\u001b[1;33m)\u001b[0m\u001b[1;33m\u001b[0m\u001b[0m\n\u001b[0m",
      "\u001b[1;32mC:\\Users\\wsutt\\Desktop\\files\\ppd\\ppd\\modules\\AnalysisHelpers.pyc\u001b[0m in \u001b[0;36mexploreImgs\u001b[1;34m(listGS, figw)\u001b[0m\n\u001b[0;32m   1325\u001b[0m         \u001b[0mtmp\u001b[0m \u001b[1;33m=\u001b[0m \u001b[1;33m[\u001b[0m\u001b[1;33m]\u001b[0m\u001b[1;33m\u001b[0m\u001b[0m\n\u001b[0;32m   1326\u001b[0m         \u001b[0mtmp\u001b[0m\u001b[1;33m.\u001b[0m\u001b[0mappend\u001b[0m\u001b[1;33m(\u001b[0m\u001b[0m_gs\u001b[0m\u001b[1;33m.\u001b[0m\u001b[0mgetOrigFrame\u001b[0m\u001b[1;33m(\u001b[0m\u001b[1;33m)\u001b[0m\u001b[1;33m)\u001b[0m\u001b[1;33m\u001b[0m\u001b[0m\n\u001b[1;32m-> 1327\u001b[1;33m         \u001b[0mtmp\u001b[0m\u001b[1;33m.\u001b[0m\u001b[0mappend\u001b[0m\u001b[1;33m(\u001b[0m\u001b[0m_gs\u001b[0m\u001b[1;33m.\u001b[0m\u001b[0mdisplay\u001b[0m\u001b[1;33m.\u001b[0m\u001b[0mzoomFrame\u001b[0m\u001b[1;33m.\u001b[0m\u001b[0mcopy\u001b[0m\u001b[1;33m(\u001b[0m\u001b[1;33m)\u001b[0m\u001b[1;33m)\u001b[0m\u001b[1;33m\u001b[0m\u001b[0m\n\u001b[0m\u001b[0;32m   1328\u001b[0m         \u001b[0mchart_data\u001b[0m\u001b[1;33m.\u001b[0m\u001b[0mappend\u001b[0m\u001b[1;33m(\u001b[0m\u001b[0mtmp\u001b[0m\u001b[1;33m)\u001b[0m\u001b[1;33m\u001b[0m\u001b[0m\n\u001b[0;32m   1329\u001b[0m \u001b[1;33m\u001b[0m\u001b[0m\n",
      "\u001b[1;31mAttributeError\u001b[0m: 'NoneType' object has no attribute 'copy'"
     ]
    }
   ],
   "source": [
    "# get this working\n",
    "exploreImgs(listGS)"
   ]
  },
  {
   "cell_type": "code",
   "execution_count": 47,
   "metadata": {
    "collapsed": true
   },
   "outputs": [],
   "source": [
    "gs = listGS[1]"
   ]
  },
  {
   "cell_type": "code",
   "execution_count": 49,
   "metadata": {
    "collapsed": true
   },
   "outputs": [],
   "source": [
    "gs.initDisplay()"
   ]
  },
  {
   "cell_type": "code",
   "execution_count": 52,
   "metadata": {},
   "outputs": [
    {
     "name": "stdout",
     "output_type": "stream",
     "text": [
      "307\n"
     ]
    },
    {
     "data": {
      "image/png": "[encoded data removed]",
      "text/plain": [
       "<Figure size 432x288 with 1 Axes>"
      ]
     },
     "metadata": {},
     "output_type": "display_data"
    },
    {
     "name": "stdout",
     "output_type": "stream",
     "text": [
      "78\n"
     ]
    },
    {
     "data": {
      "image/png": "[encoded data removed]",
      "text/plain": [
       "<Figure size 432x288 with 1 Axes>"
      ]
     },
     "metadata": {},
     "output_type": "display_data"
    },
    {
     "name": "stdout",
     "output_type": "stream",
     "text": [
      "195\n"
     ]
    },
    {
     "data": {
      "image/png": "[encoded data removed]",
      "text/plain": [
       "<Figure size 432x288 with 1 Axes>"
      ]
     },
     "metadata": {},
     "output_type": "display_data"
    },
    {
     "name": "stdout",
     "output_type": "stream",
     "text": [
      "187\n"
     ]
    },
    {
     "data": {
      "image/png": "[encoded data removed]",
      "text/plain": [
       "<Figure size 432x288 with 1 Axes>"
      ]
     },
     "metadata": {},
     "output_type": "display_data"
    },
    {
     "name": "stdout",
     "output_type": "stream",
     "text": [
      "215\n"
     ]
    },
    {
     "data": {
      "image/png": "[encoded data removed]",
      "text/plain": [
       "<Figure size 432x288 with 1 Axes>"
      ]
     },
     "metadata": {},
     "output_type": "display_data"
    },
    {
     "name": "stdout",
     "output_type": "stream",
     "text": [
      "295\n"
     ]
    },
    {
     "data": {
      "image/png": "[encoded data removed]",
      "text/plain": [
       "<Figure size 432x288 with 1 Axes>"
      ]
     },
     "metadata": {},
     "output_type": "display_data"
    }
   ],
   "source": [
    "for _gs in listGS:\n",
    "    print _gs.frameCounter\n",
    "    _gs.initDisplay()\n",
    "    cvtPlot(_gs.display.scoreFrame)\n",
    "    plt.show()"
   ]
  },
  {
   "cell_type": "code",
   "execution_count": 48,
   "metadata": {},
   "outputs": [
    {
     "ename": "AttributeError",
     "evalue": "GuiviewState instance has no attribute 'display'",
     "output_type": "error",
     "traceback": [
      "\u001b[1;31m---------------------------------------------------------------------------\u001b[0m",
      "\u001b[1;31mAttributeError\u001b[0m                            Traceback (most recent call last)",
      "\u001b[1;32m<ipython-input-48-70f2764a6d87>\u001b[0m in \u001b[0;36m<module>\u001b[1;34m()\u001b[0m\n\u001b[1;32m----> 1\u001b[1;33m \u001b[0mcvtPlot\u001b[0m\u001b[1;33m(\u001b[0m\u001b[0mgs\u001b[0m\u001b[1;33m.\u001b[0m\u001b[0mdisplay\u001b[0m\u001b[1;33m.\u001b[0m\u001b[0mscoreFrame\u001b[0m\u001b[1;33m)\u001b[0m\u001b[1;33m\u001b[0m\u001b[0m\n\u001b[0m",
      "\u001b[1;31mAttributeError\u001b[0m: GuiviewState instance has no attribute 'display'"
     ]
    }
   ],
   "source": [
    "cvtPlot(gs.display.scoreFrame)"
   ]
  },
  {
   "cell_type": "code",
   "execution_count": null,
   "metadata": {
    "collapsed": true
   },
   "outputs": [],
   "source": []
  },
  {
   "cell_type": "code",
   "execution_count": null,
   "metadata": {
    "collapsed": true
   },
   "outputs": [],
   "source": []
  }
 ],
 "metadata": {
  "kernelspec": {
   "display_name": "Python 2",
   "language": "python",
   "name": "python2"
  },
  "language_info": {
   "codemirror_mode": {
    "name": "ipython",
    "version": 2
   },
   "file_extension": ".py",
   "mimetype": "text/x-python",
   "name": "python",
   "nbconvert_exporter": "python",
   "pygments_lexer": "ipython2",
   "version": "2.7.13"
  }
 },
 "nbformat": 4,
 "nbformat_minor": 2
}
