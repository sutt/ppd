{
 "cells": [
  {
   "cell_type": "markdown",
   "metadata": {},
   "source": [
    "before b7f4b32 timelog was indexed to wrong frame. here we'll remove the beginning of the timelog on these vids in nov_thorw_1, the old logs are stored in bad_data/ subdirectory.\n",
    "note this data is now in data/proc/raw/nov_15/ instead of usr/"
   ]
  },
  {
   "cell_type": "code",
   "execution_count": 1,
   "metadata": {
    "collapsed": true
   },
   "outputs": [],
   "source": [
    "import cv2"
   ]
  },
  {
   "cell_type": "code",
   "execution_count": 15,
   "metadata": {},
   "outputs": [
    {
     "name": "stdout",
     "output_type": "stream",
     "text": [
      "num frames:  338\n"
     ]
    }
   ],
   "source": [
    "data = \"../data/usr/nov_throw_1/output1.avi\"\n",
    "cam = cv2.VideoCapture(data)\n",
    "counter = 0\n",
    "\n",
    "while(True):\n",
    "    ret, frame = cam.read()\n",
    "    \n",
    "    if ret:\n",
    "        counter += 1\n",
    "        continue\n",
    "    else:\n",
    "        break\n",
    "        \n",
    "print 'num frames: ', str(counter)"
   ]
  },
  {
   "cell_type": "code",
   "execution_count": 16,
   "metadata": {},
   "outputs": [
    {
     "name": "stdout",
     "output_type": "stream",
     "text": [
      "num timelog lines 339\n",
      "start_index:  1\n",
      "timelog will have this many records:  338\n"
     ]
    }
   ],
   "source": [
    "data = \"../data/usr/nov_throw_1/output1.txt\"\n",
    "with open(data,'r') as f:\n",
    "    lines = f.readlines()\n",
    "print 'num timelog lines', str(len(lines))\n",
    "start_index = (len(lines) - counter)\n",
    "print 'start_index: ', str(start_index)\n",
    "print 'timelog will have this many records: ', str(len(lines[start_index:]))"
   ]
  },
  {
   "cell_type": "code",
   "execution_count": 14,
   "metadata": {
    "collapsed": true
   },
   "outputs": [],
   "source": [
    "data = \"../data/usr/nov_throw_1/output7tmp.txt\"\n",
    "with open(data,'w') as f:\n",
    "    f.writelines(lines[start_index:])\n",
    "    "
   ]
  },
  {
   "cell_type": "code",
   "execution_count": null,
   "metadata": {
    "collapsed": true
   },
   "outputs": [],
   "source": []
  }
 ],
 "metadata": {
  "kernelspec": {
   "display_name": "Python 2",
   "language": "python",
   "name": "python2"
  },
  "language_info": {
   "codemirror_mode": {
    "name": "ipython",
    "version": 2
   },
   "file_extension": ".py",
   "mimetype": "text/x-python",
   "name": "python",
   "nbconvert_exporter": "python",
   "pygments_lexer": "ipython2",
   "version": "2.7.13"
  }
 },
 "nbformat": 4,
 "nbformat_minor": 2
}
