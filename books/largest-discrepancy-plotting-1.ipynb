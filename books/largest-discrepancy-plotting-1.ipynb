{
 "cells": [
  {
   "cell_type": "markdown",
   "metadata": {},
   "source": [
    "### EvalSuite -> compareTrackers via largestDiscrepancy()\n",
    "After viewing summary stats for difference between trackers, drilldown into individual frames at the frames where difference is the largest."
   ]
  },
  {
   "cell_type": "code",
   "execution_count": 81,
   "metadata": {},
   "outputs": [
    {
     "name": "stdout",
     "output_type": "stream",
     "text": [
      "The autoreload extension is already loaded. To reload it, use:\n",
      "  %reload_ext autoreload\n"
     ]
    }
   ],
   "source": [
    "import pandas as pd\n",
    "import sqlalchemy\n",
    "import numpy as np\n",
    "import os, sys, copy, random, pickle, cv2, math\n",
    "from matplotlib import pyplot as plt\n",
    "%matplotlib inline\n",
    "sys.path.append(\"../\")\n",
    "%load_ext autoreload\n",
    "%autoreload 2\n",
    "from modules.ControlTracking import TrackFactory\n",
    "from modules.ControlDisplay import Display\n",
    "from modules.Interproc import DBInterface, GuiviewState\n",
    "from modules.AnalysisHelpers import ( \n",
    "         exploreImgs, buildImgComparisonData, subprocEval,\n",
    "        subprocBatchOutput, cvtPlot, applyTracker,\n",
    "        roiSelectScoreWindow, multiPlot, compareTrackers)\n",
    "from modules.EvalHelpers import EvalTracker, EvalDataset\n",
    "from modules.ControlEval import EvalFactory\n",
    "from modules.DataSchemas import ScoreSchema\n",
    "from modules.EvalHelpers import OutcomeData, DFHelper\n",
    "from modules.EvalHelpers import AggEval, DFHelper\n",
    "from modules.EvalSuite import EvalSuite, CmpAlgoReport\n",
    "from IPython.display import display"
   ]
  },
  {
   "cell_type": "code",
   "execution_count": 3,
   "metadata": {
    "collapsed": true
   },
   "outputs": [],
   "source": [
    "db_path = 'data/misc/books/eval-report-3/'\n",
    "\n",
    "outcome_0 = OutcomeData(dbPathFn = db_path + 'algo_0.db')\n",
    "outcome_1 = OutcomeData(dbPathFn = db_path + 'algo_1.db')\n",
    "outcome_2 = OutcomeData(dbPathFn = db_path + 'algo_2.db')"
   ]
  },
  {
   "cell_type": "code",
   "execution_count": 82,
   "metadata": {
    "collapsed": true
   },
   "outputs": [],
   "source": [
    "cmpA = CmpAlgoReport(benchmark_outcome_data = outcome_0.getOutcome(), \n",
    "                     current_outcome_data = outcome_2.getOutcome()\n",
    "                    )"
   ]
  },
  {
   "cell_type": "code",
   "execution_count": 79,
   "metadata": {},
   "outputs": [
    {
     "data": {
      "text/html": [
       "<div>\n",
       "<style scoped>\n",
       "    .dataframe tbody tr th:only-of-type {\n",
       "        vertical-align: middle;\n",
       "    }\n",
       "\n",
       "    .dataframe tbody tr th {\n",
       "        vertical-align: top;\n",
       "    }\n",
       "\n",
       "    .dataframe thead th {\n",
       "        text-align: right;\n",
       "    }\n",
       "</style>\n",
       "<table border=\"1\" class=\"dataframe\">\n",
       "  <thead>\n",
       "    <tr style=\"text-align: right;\">\n",
       "      <th></th>\n",
       "      <th>improvements</th>\n",
       "      <th>deprovements</th>\n",
       "      <th>sames</th>\n",
       "    </tr>\n",
       "  </thead>\n",
       "  <tbody>\n",
       "    <tr>\n",
       "      <th>checkTrackSuccess</th>\n",
       "      <td>0.000</td>\n",
       "      <td>0.000</td>\n",
       "      <td>345.000</td>\n",
       "    </tr>\n",
       "  </tbody>\n",
       "</table>\n",
       "</div>"
      ],
      "text/plain": [
       "                  improvements deprovements    sames\n",
       "checkTrackSuccess        0.000        0.000  345.000"
      ]
     },
     "metadata": {},
     "output_type": "display_data"
    },
    {
     "data": {
      "text/html": [
       "<div>\n",
       "<style scoped>\n",
       "    .dataframe tbody tr th:only-of-type {\n",
       "        vertical-align: middle;\n",
       "    }\n",
       "\n",
       "    .dataframe tbody tr th {\n",
       "        vertical-align: top;\n",
       "    }\n",
       "\n",
       "    .dataframe thead th {\n",
       "        text-align: right;\n",
       "    }\n",
       "</style>\n",
       "<table border=\"1\" class=\"dataframe\">\n",
       "  <thead>\n",
       "    <tr style=\"text-align: right;\">\n",
       "      <th></th>\n",
       "      <th>improvements</th>\n",
       "      <th>deprovements</th>\n",
       "      <th>sames</th>\n",
       "    </tr>\n",
       "  </thead>\n",
       "  <tbody>\n",
       "    <tr>\n",
       "      <th>calcBaselineBallUnitsAway</th>\n",
       "      <td>7</td>\n",
       "      <td>3</td>\n",
       "      <td>9</td>\n",
       "    </tr>\n",
       "    <tr>\n",
       "      <th>checkBothContainsOther</th>\n",
       "      <td>3</td>\n",
       "      <td>0</td>\n",
       "      <td>16</td>\n",
       "    </tr>\n",
       "    <tr>\n",
       "      <th>checkTrackSuccess</th>\n",
       "      <td>0</td>\n",
       "      <td>0</td>\n",
       "      <td>19</td>\n",
       "    </tr>\n",
       "    <tr>\n",
       "      <th>distanceFromBaseline</th>\n",
       "      <td>7</td>\n",
       "      <td>3</td>\n",
       "      <td>9</td>\n",
       "    </tr>\n",
       "  </tbody>\n",
       "</table>\n",
       "</div>"
      ],
      "text/plain": [
       "                           improvements  deprovements  sames\n",
       "calcBaselineBallUnitsAway             7             3      9\n",
       "checkBothContainsOther                3             0     16\n",
       "checkTrackSuccess                     0             0     19\n",
       "distanceFromBaseline                  7             3      9"
      ]
     },
     "metadata": {},
     "output_type": "display_data"
    },
    {
     "data": {
      "text/html": [
       "<div>\n",
       "<style scoped>\n",
       "    .dataframe tbody tr th:only-of-type {\n",
       "        vertical-align: middle;\n",
       "    }\n",
       "\n",
       "    .dataframe tbody tr th {\n",
       "        vertical-align: top;\n",
       "    }\n",
       "\n",
       "    .dataframe thead tr th {\n",
       "        text-align: left;\n",
       "    }\n",
       "</style>\n",
       "<table border=\"1\" class=\"dataframe\">\n",
       "  <thead>\n",
       "    <tr>\n",
       "      <th></th>\n",
       "      <th>diff</th>\n",
       "      <th>current</th>\n",
       "      <th>benchmark</th>\n",
       "    </tr>\n",
       "    <tr>\n",
       "      <th></th>\n",
       "      <th>mean</th>\n",
       "      <th>mean</th>\n",
       "      <th>mean</th>\n",
       "    </tr>\n",
       "  </thead>\n",
       "  <tbody>\n",
       "    <tr>\n",
       "      <th>agg_checkTrackSuccess</th>\n",
       "      <td>0.000</td>\n",
       "      <td>1.000</td>\n",
       "      <td>1.000</td>\n",
       "    </tr>\n",
       "    <tr>\n",
       "      <th>agg_calcBaselineBallUnitsAway</th>\n",
       "      <td>0.047</td>\n",
       "      <td>-0.381</td>\n",
       "      <td>-0.429</td>\n",
       "    </tr>\n",
       "    <tr>\n",
       "      <th>agg_checkBothContainsOther</th>\n",
       "      <td>0.158</td>\n",
       "      <td>0.579</td>\n",
       "      <td>0.421</td>\n",
       "    </tr>\n",
       "    <tr>\n",
       "      <th>agg_distanceFromBaseline</th>\n",
       "      <td>0.366</td>\n",
       "      <td>-5.125</td>\n",
       "      <td>-5.491</td>\n",
       "    </tr>\n",
       "  </tbody>\n",
       "</table>\n",
       "</div>"
      ],
      "text/plain": [
       "                                diff current benchmark\n",
       "                                mean    mean      mean\n",
       "agg_checkTrackSuccess          0.000   1.000     1.000\n",
       "agg_calcBaselineBallUnitsAway  0.047  -0.381    -0.429\n",
       "agg_checkBothContainsOther     0.158   0.579     0.421\n",
       "agg_distanceFromBaseline       0.366  -5.125    -5.491"
      ]
     },
     "metadata": {},
     "output_type": "display_data"
    },
    {
     "data": {
      "text/html": [
       "<div>\n",
       "<style scoped>\n",
       "    .dataframe tbody tr th:only-of-type {\n",
       "        vertical-align: middle;\n",
       "    }\n",
       "\n",
       "    .dataframe tbody tr th {\n",
       "        vertical-align: top;\n",
       "    }\n",
       "\n",
       "    .dataframe thead tr th {\n",
       "        text-align: left;\n",
       "    }\n",
       "</style>\n",
       "<table border=\"1\" class=\"dataframe\">\n",
       "  <thead>\n",
       "    <tr>\n",
       "      <th></th>\n",
       "      <th colspan=\"2\" halign=\"left\">diff</th>\n",
       "      <th colspan=\"2\" halign=\"left\">current</th>\n",
       "      <th colspan=\"2\" halign=\"left\">benchmark</th>\n",
       "    </tr>\n",
       "    <tr>\n",
       "      <th></th>\n",
       "      <th>mean</th>\n",
       "      <th>n</th>\n",
       "      <th>mean</th>\n",
       "      <th>n</th>\n",
       "      <th>mean</th>\n",
       "      <th>n</th>\n",
       "    </tr>\n",
       "  </thead>\n",
       "  <tbody>\n",
       "    <tr>\n",
       "      <th>fagg_less_than_20_pix_balls_away</th>\n",
       "      <td>0.060</td>\n",
       "      <td>0.000</td>\n",
       "      <td>-0.436</td>\n",
       "      <td>16.000</td>\n",
       "      <td>-0.496</td>\n",
       "      <td>16.000</td>\n",
       "    </tr>\n",
       "    <tr>\n",
       "      <th>fagg_less_than_30_pix_success</th>\n",
       "      <td>0.000</td>\n",
       "      <td>0.000</td>\n",
       "      <td>1.000</td>\n",
       "      <td>310.000</td>\n",
       "      <td>1.000</td>\n",
       "      <td>310.000</td>\n",
       "    </tr>\n",
       "  </tbody>\n",
       "</table>\n",
       "</div>"
      ],
      "text/plain": [
       "                                   diff        current          benchmark  \\\n",
       "                                   mean      n    mean        n      mean   \n",
       "fagg_less_than_20_pix_balls_away  0.060  0.000  -0.436   16.000    -0.496   \n",
       "fagg_less_than_30_pix_success     0.000  0.000   1.000  310.000     1.000   \n",
       "\n",
       "                                           \n",
       "                                        n  \n",
       "fagg_less_than_20_pix_balls_away   16.000  \n",
       "fagg_less_than_30_pix_success     310.000  "
      ]
     },
     "metadata": {},
     "output_type": "display_data"
    },
    {
     "data": {
      "image/png": "[encoded data removed]",
      "text/plain": [
       "<Figure size 432x288 with 1 Axes>"
      ]
     },
     "metadata": {},
     "output_type": "display_data"
    },
    {
     "data": {
      "image/png": "[encoded data removed]",
      "text/plain": [
       "<Figure size 432x288 with 2 Axes>"
      ]
     },
     "metadata": {},
     "output_type": "display_data"
    }
   ],
   "source": [
    "cmpA.report1()"
   ]
  },
  {
   "cell_type": "code",
   "execution_count": 92,
   "metadata": {},
   "outputs": [
    {
     "data": {
      "text/plain": [
       "244   -304.685083\n",
       "202   -283.019434\n",
       "206    -20.615528\n",
       "305    -11.661904\n",
       "306    -10.295630\n",
       "dtype: float64"
      ]
     },
     "execution_count": 92,
     "metadata": {},
     "output_type": "execute_result"
    }
   ],
   "source": [
    "cmpA.reportDiscrepancy(metric_name='distanceBetweenTracks', metric_val=1, vid_fn='')"
   ]
  },
  {
   "cell_type": "code",
   "execution_count": 105,
   "metadata": {
    "collapsed": true
   },
   "outputs": [],
   "source": [
    "from modules.AnalysisHelpers import compareTrackers\n",
    "from modules.EvalSuite import CmpAlgoReport"
   ]
  },
  {
   "cell_type": "code",
   "execution_count": 106,
   "metadata": {
    "collapsed": true
   },
   "outputs": [],
   "source": [
    "cmpB = CmpAlgoReport(benchmark_outcome_data = outcome_0.getOutcome(), \n",
    "                     current_outcome_data = outcome_2.getOutcome()\n",
    "                    )"
   ]
  },
  {
   "cell_type": "code",
   "execution_count": 107,
   "metadata": {},
   "outputs": [
    {
     "data": {
      "text/plain": [
       "[0, 1, 2]"
      ]
     },
     "execution_count": 107,
     "metadata": {},
     "output_type": "execute_result"
    }
   ],
   "source": [
    "[_tracker.tp_trackAlgoEnum for _tracker in listTrackers]"
   ]
  },
  {
   "cell_type": "code",
   "execution_count": 108,
   "metadata": {
    "scrolled": false
   },
   "outputs": [
    {
     "name": "stdout",
     "output_type": "stream",
     "text": [
      "(\"Unknown format code 'f' for object of type 'str'\", u'occurred at index (current, checkBaselineInsideTrack)')\n"
     ]
    },
    {
     "data": {
      "text/plain": [
       "244   -304.685083\n",
       "202   -283.019434\n",
       "206    -20.615528\n",
       "305    -11.661904\n",
       "306    -10.295630\n",
       "dtype: float64"
      ]
     },
     "metadata": {},
     "output_type": "display_data"
    },
    {
     "name": "stdout",
     "output_type": "stream",
     "text": [
      "runnning subprocBathcOutput, takes 5-30 seconds\n"
     ]
    },
    {
     "data": {
      "image/png": "[encoded data removed]",
      "text/plain": [
       "<Figure size 720x720 with 10 Axes>"
      ]
     },
     "metadata": {},
     "output_type": "display_data"
    },
    {
     "data": {
      "image/png": "[encoded data removed]",
      "text/plain": [
       "<Figure size 720x720 with 10 Axes>"
      ]
     },
     "metadata": {},
     "output_type": "display_data"
    },
    {
     "data": {
      "image/png": "[encoded data removed]",
      "text/plain": [
       "<Figure size 720x720 with 10 Axes>"
      ]
     },
     "metadata": {},
     "output_type": "display_data"
    },
    {
     "data": {
      "image/png": "[encoded data removed]",
      "text/plain": [
       "<Figure size 720x720 with 10 Axes>"
      ]
     },
     "metadata": {},
     "output_type": "display_data"
    },
    {
     "data": {
      "image/png": "[encoded data removed]",
      "text/plain": [
       "<Figure size 720x720 with 10 Axes>"
      ]
     },
     "metadata": {},
     "output_type": "display_data"
    }
   ],
   "source": [
    "cmpB.reportDiscrepancy(metric_name='distanceBetweenTracks'\n",
    "                      ,metric_val=1\n",
    "                      ,vid_fn = 'data/proc/tmp/dec14/output5.proc1.proc1.avi'\n",
    "                      ,current_algo = listTrackers[2]\n",
    "                      ,benchmark_algo = listTrackers[0]\n",
    "                      ,b_ret=False\n",
    "                      )"
   ]
  },
  {
   "cell_type": "code",
   "execution_count": null,
   "metadata": {
    "collapsed": true
   },
   "outputs": [],
   "source": []
  },
  {
   "cell_type": "code",
   "execution_count": null,
   "metadata": {
    "collapsed": true
   },
   "outputs": [],
   "source": []
  },
  {
   "cell_type": "code",
   "execution_count": 80,
   "metadata": {},
   "outputs": [
    {
     "name": "stdout",
     "output_type": "stream",
     "text": [
      "(\"Unknown format code 'f' for object of type 'str'\", u'occurred at index (current, checkBaselineInsideTrack)')\n"
     ]
    },
    {
     "data": {
      "text/plain": [
       "244   -304.685083\n",
       "202   -283.019434\n",
       "206    -20.615528\n",
       "305    -11.661904\n",
       "306    -10.295630\n",
       "dtype: float64"
      ]
     },
     "metadata": {},
     "output_type": "display_data"
    },
    {
     "data": {
      "text/plain": [
       "202   -113.207774\n",
       "244    -60.937017\n",
       "206     -4.581228\n",
       "219     -1.490712\n",
       "305     -1.457738\n",
       "dtype: float64"
      ]
     },
     "metadata": {},
     "output_type": "display_data"
    }
   ],
   "source": [
    "discrep_distance = cmpA.largestDiscrepancy(distanceBetweenTracks=1, max_n=5)\n",
    "display(discrep_distance)\n",
    "\n",
    "discrep_ballsaway = cmpA.largestDiscrepancy(ballUnitsBetweenTracks=1, max_n=5)\n",
    "display(discrep_ballsaway)\n"
   ]
  },
  {
   "cell_type": "code",
   "execution_count": 62,
   "metadata": {},
   "outputs": [
    {
     "name": "stdout",
     "output_type": "stream",
     "text": [
      "list frame_indexes= [78, 187, 195, 215, 295, 307]\n"
     ]
    }
   ],
   "source": [
    "DATA_DIR = \"../data/misc/books/compare-tracker-gallery-1/\"\n",
    "gs_db = \"compareTrackers_orange.db\"\n",
    "diff_db = \"compareTrackers_disparateRoi.db\"\n",
    "\n",
    "# build listGS\n",
    "testDB = DBInterface(os.path.join(DATA_DIR, gs_db))\n",
    "inputGS = [  pickle.loads(record[1])\n",
    "            for record in testDB.selectAll()]\n",
    "print 'inputGS frame_indexes=', str([_gs.frameCounter for _gs in inputGS])"
   ]
  },
  {
   "cell_type": "code",
   "execution_count": 63,
   "metadata": {},
   "outputs": [
    {
     "name": "stdout",
     "output_type": "stream",
     "text": [
      "\n",
      "START - running batch output ...\n",
      "...deleting all exisiting data/usr/batch_tmp.db records...\n",
      "FINISH - batch output with 5 outputs.\n",
      "foiGS frame_indexes= [202, 206, 210, 244, 305]\n"
     ]
    }
   ],
   "source": [
    "foi = list(discrep_ballsaway.index)\n",
    "vid_fn = 'data/proc/tmp/dec14/output5.proc1.proc1.avi'\n",
    "foiGS = subprocBatchOutput(vid_fn, batch_list = foi)\n",
    "print 'foiGS frame_indexes=', str([_gs.frameCounter for _gs in foiGS])"
   ]
  },
  {
   "cell_type": "code",
   "execution_count": 93,
   "metadata": {},
   "outputs": [
    {
     "data": {
      "text/plain": [
       "[202L, 244L, 206L, 210L, 305L]"
      ]
     },
     "execution_count": 93,
     "metadata": {},
     "output_type": "execute_result"
    }
   ],
   "source": [
    "foi"
   ]
  },
  {
   "cell_type": "code",
   "execution_count": 96,
   "metadata": {},
   "outputs": [
    {
     "name": "stdout",
     "output_type": "stream",
     "text": [
      "[78, 187, 195, 215, 295, 307]\n",
      "[202L, 244L, 206L, 210L, 305L]\n",
      "[202, 244, 206, 210, 305]\n"
     ]
    }
   ],
   "source": [
    "def sortGS(listGS, foi):\n",
    "\n",
    "    listGS.sort(key=lambda gs: foi.index(gs.frameCounter), reverse=False )\n",
    "    \n",
    "    return listGS\n",
    "\n",
    "print [_gs.frameCounter for _gs in listGS]\n",
    "listGS = sortGS(foiGS, foi)\n",
    "print foi\n",
    "print [_gs.frameCounter for _gs in listGS]"
   ]
  },
  {
   "cell_type": "code",
   "execution_count": null,
   "metadata": {
    "collapsed": true
   },
   "outputs": [],
   "source": []
  },
  {
   "cell_type": "code",
   "execution_count": null,
   "metadata": {
    "collapsed": true
   },
   "outputs": [],
   "source": []
  },
  {
   "cell_type": "code",
   "execution_count": null,
   "metadata": {
    "collapsed": true
   },
   "outputs": [],
   "source": []
  },
  {
   "cell_type": "code",
   "execution_count": null,
   "metadata": {
    "collapsed": true
   },
   "outputs": [],
   "source": []
  },
  {
   "cell_type": "code",
   "execution_count": 64,
   "metadata": {},
   "outputs": [
    {
     "name": "stdout",
     "output_type": "stream",
     "text": [
      "list algo_enums= [0, 1, 2]\n"
     ]
    }
   ],
   "source": [
    "listTrackers = []\n",
    "for _algoenum in [0,1,2]:\n",
    "    _tracker = TrackFactory(on=True)\n",
    "    _tracker.setAlgoEnum(_algoenum)\n",
    "    _tracker.setInit(ballColor=\"orange\")\n",
    "    listTrackers.append(_tracker)\n",
    "print 'list algo_enums=', str([_tracker.tp_trackAlgoEnum for _tracker in listTrackers])"
   ]
  },
  {
   "cell_type": "code",
   "execution_count": 70,
   "metadata": {},
   "outputs": [
    {
     "name": "stdout",
     "output_type": "stream",
     "text": [
      "frameindex: 202\n",
      "trackerenum: 0\n",
      "frameindex: 202\n",
      "trackerenum: 2\n",
      "[{'0': {'type': 'circle', 'data': [401, -1, 3, 3]}}]\n",
      "[{'0': {'type': 'circle', 'data': [377, 281, 2, 2]}}]\n"
     ]
    }
   ],
   "source": [
    "gs_of_interest = foiGS[0]\n",
    "tracker_of_interest = listTrackers[0]\n",
    "print 'frameindex: %s' % str(gs_of_interest.frameCounter)\n",
    "print 'trackerenum: %s' % str(tracker_of_interest.tp_trackAlgoEnum)\n",
    "\n",
    "track0_frame202 = applyTracker([gs_of_interest], tracker_of_interest)\n",
    "\n",
    "gs_of_interest = foiGS[0]\n",
    "tracker_of_interest = listTrackers[2]\n",
    "print 'frameindex: %s' % str(gs_of_interest.frameCounter)\n",
    "print 'trackerenum: %s' % str(tracker_of_interest.tp_trackAlgoEnum)\n",
    "\n",
    "track2_frame202 = applyTracker([gs_of_interest], tracker_of_interest)\n",
    "\n",
    "print track0_frame202['listScore']\n",
    "print track2_frame202['listScore']"
   ]
  },
  {
   "cell_type": "code",
   "execution_count": 72,
   "metadata": {},
   "outputs": [
    {
     "data": {
      "text/plain": [
       "283.0194339616981"
      ]
     },
     "execution_count": 72,
     "metadata": {},
     "output_type": "execute_result"
    }
   ],
   "source": [
    "#manually calc distance\n",
    "(((401 - 377)**2) + ((281 - -1)**2))**(0.5)"
   ]
  },
  {
   "cell_type": "code",
   "execution_count": null,
   "metadata": {
    "collapsed": true
   },
   "outputs": [],
   "source": []
  },
  {
   "cell_type": "code",
   "execution_count": null,
   "metadata": {
    "collapsed": true
   },
   "outputs": [],
   "source": []
  },
  {
   "cell_type": "code",
   "execution_count": null,
   "metadata": {
    "collapsed": true
   },
   "outputs": [],
   "source": []
  },
  {
   "cell_type": "code",
   "execution_count": null,
   "metadata": {
    "collapsed": true
   },
   "outputs": [],
   "source": []
  },
  {
   "cell_type": "code",
   "execution_count": null,
   "metadata": {
    "collapsed": true
   },
   "outputs": [],
   "source": []
  },
  {
   "cell_type": "markdown",
   "metadata": {},
   "source": [
    "##### Build pre-req's for comparison plot: listTrackers, listGS"
   ]
  },
  {
   "cell_type": "code",
   "execution_count": 7,
   "metadata": {},
   "outputs": [
    {
     "data": {
      "text/plain": [
       "[202L, 244L, 206L, 210L, 305L]"
      ]
     },
     "execution_count": 7,
     "metadata": {},
     "output_type": "execute_result"
    }
   ],
   "source": [
    "foi = list(discrep_ballsaway.index)\n",
    "foi"
   ]
  },
  {
   "cell_type": "code",
   "execution_count": 8,
   "metadata": {},
   "outputs": [
    {
     "name": "stdout",
     "output_type": "stream",
     "text": [
      "\r\n",
      "START - running batch output ...\r\n",
      "...deleting all exisiting data/usr/batch_tmp.db records...\r\n",
      "FINISH - batch output with 5 outputs.\r\n"
     ]
    }
   ],
   "source": [
    "vid_fn = 'data/proc/tmp/dec14/output5.proc1.proc1.avi'\n",
    "listGS = subprocBatchOutput(vid_fn, batch_list = foi)"
   ]
  },
  {
   "cell_type": "code",
   "execution_count": 9,
   "metadata": {},
   "outputs": [
    {
     "data": {
      "text/plain": [
       "[202, 206, 210, 244, 305]"
      ]
     },
     "execution_count": 9,
     "metadata": {},
     "output_type": "execute_result"
    }
   ],
   "source": [
    "[_gs.frameCounter for _gs in listGS]"
   ]
  },
  {
   "cell_type": "code",
   "execution_count": 10,
   "metadata": {},
   "outputs": [
    {
     "name": "stdout",
     "output_type": "stream",
     "text": [
      "\r\n",
      "START - running batch output ...\r\n",
      "...deleting all exisiting data/usr/batch_tmp.db records...\r\n",
      "FINISH - batch output with 3 outputs.\r\n"
     ]
    }
   ],
   "source": [
    "vid_fn = 'data/proc/tmp/dec14/output5.proc1.proc1.avi'\n",
    "listGS2 = subprocBatchOutput(vid_fn, batch_list = [0,1,2])"
   ]
  },
  {
   "cell_type": "code",
   "execution_count": 31,
   "metadata": {},
   "outputs": [
    {
     "data": {
      "text/plain": [
       "[0, 1, 2]"
      ]
     },
     "execution_count": 31,
     "metadata": {},
     "output_type": "execute_result"
    }
   ],
   "source": [
    "[_gs.frameCounter for _gs in listGS2]"
   ]
  },
  {
   "cell_type": "code",
   "execution_count": 12,
   "metadata": {},
   "outputs": [
    {
     "name": "stdout",
     "output_type": "stream",
     "text": [
      "algo_enums= [0, 2]\n"
     ]
    }
   ],
   "source": [
    "listTrackers = []\n",
    "for _algoenum in [0,2]:\n",
    "    _tracker = TrackFactory(on=True)\n",
    "    _tracker.setAlgoEnum(_algoenum)\n",
    "    _tracker.setInit(ballColor=\"orange\")\n",
    "    listTrackers.append(_tracker)\n",
    "print 'algo_enums=', str([_tracker.tp_trackAlgoEnum for _tracker in listTrackers])"
   ]
  },
  {
   "cell_type": "code",
   "execution_count": 13,
   "metadata": {
    "collapsed": true
   },
   "outputs": [],
   "source": [
    "listTrackers.sort(reverse=True)"
   ]
  },
  {
   "cell_type": "code",
   "execution_count": 14,
   "metadata": {},
   "outputs": [
    {
     "name": "stdout",
     "output_type": "stream",
     "text": [
      "algo_enums= [2, 0]\n"
     ]
    }
   ],
   "source": [
    "print 'algo_enums=', str([_tracker.tp_trackAlgoEnum for _tracker in listTrackers])"
   ]
  },
  {
   "cell_type": "markdown",
   "metadata": {},
   "source": [
    "##### Build Test Data"
   ]
  },
  {
   "cell_type": "code",
   "execution_count": 39,
   "metadata": {
    "collapsed": true
   },
   "outputs": [],
   "source": [
    "TEST_PARENT_DIR = \"../data/test/analysishelpers/\"\n",
    "test_data = \"compareTrackers_disparateRoi.db\"\n",
    "test_dir = os.path.join(TEST_PARENT_DIR, 'compareTrackers')\n",
    "testDB = DBInterface(os.path.join(test_dir, test_data))"
   ]
  },
  {
   "cell_type": "code",
   "execution_count": 37,
   "metadata": {
    "collapsed": true
   },
   "outputs": [],
   "source": [
    "for _gs in listGS:\n",
    "    testDB.insertState(_gs.save())"
   ]
  },
  {
   "cell_type": "code",
   "execution_count": 38,
   "metadata": {
    "collapsed": true
   },
   "outputs": [],
   "source": [
    "testDB=None"
   ]
  },
  {
   "cell_type": "code",
   "execution_count": 40,
   "metadata": {
    "collapsed": true
   },
   "outputs": [],
   "source": [
    "testGS = [  pickle.loads(record[1])\n",
    "                for record in testDB.selectAll()]"
   ]
  },
  {
   "cell_type": "code",
   "execution_count": 41,
   "metadata": {},
   "outputs": [
    {
     "data": {
      "text/plain": [
       "[202, 206, 210, 244, 305]"
      ]
     },
     "execution_count": 41,
     "metadata": {},
     "output_type": "execute_result"
    }
   ],
   "source": [
    "[_gs.frameCounter for _gs in testGS]"
   ]
  },
  {
   "cell_type": "markdown",
   "metadata": {},
   "source": [
    "##### Comparison Plots"
   ]
  },
  {
   "cell_type": "code",
   "execution_count": 46,
   "metadata": {
    "collapsed": true
   },
   "outputs": [],
   "source": [
    "from modules.AnalysisHelpers import compareTrackers"
   ]
  },
  {
   "cell_type": "markdown",
   "metadata": {
    "collapsed": true
   },
   "source": [
    "### Here's a classic plot"
   ]
  },
  {
   "cell_type": "code",
   "execution_count": 50,
   "metadata": {
    "scrolled": false
   },
   "outputs": [
    {
     "data": {
      "image/png": "[encoded data removed]",
      "text/plain": [
       "<Figure size 720x720 with 10 Axes>"
      ]
     },
     "metadata": {},
     "output_type": "display_data"
    }
   ],
   "source": [
    "compareTrackers([listGS[0]]\n",
    "                ,listTrackers\n",
    "                ,roiSelectFunc=True\n",
    "                ,bMarkedFrame=True\n",
    "                ,bTrackScore=True\n",
    "                ,bFirstTrackerRoi=True\n",
    "                ,expand_factor=5.0\n",
    "               )"
   ]
  },
  {
   "cell_type": "code",
   "execution_count": 35,
   "metadata": {},
   "outputs": [
    {
     "name": "stdout",
     "output_type": "stream",
     "text": [
      "(376, 280, 5, 5)\n",
      "(399, -3, 7, 7)\n"
     ]
    },
    {
     "name": "stderr",
     "output_type": "stream",
     "text": [
      "c:\\python27\\lib\\site-packages\\matplotlib\\axes\\_base.py:3471: UserWarning: Attempting to set identical bottom==top results\n",
      "in singular transformations; automatically expanding.\n",
      "bottom=-0.5, top=-0.5\n",
      "  'bottom=%s, top=%s') % (bottom, top))\n"
     ]
    },
    {
     "data": {
      "image/png": "[encoded data removed]",
      "text/plain": [
       "<Figure size 720x720 with 10 Axes>"
      ]
     },
     "metadata": {},
     "output_type": "display_data"
    }
   ],
   "source": [
    "compareTrackers([listGS[0]]\n",
    "                ,listTrackers\n",
    "                ,roiSelectFunc=True\n",
    "                ,bMarkedFrame=True\n",
    "                ,bTrackScore=True\n",
    "                ,bFirstTrackerRoi=False\n",
    "                ,expand_factor=2.0\n",
    "               )"
   ]
  },
  {
   "cell_type": "code",
   "execution_count": 30,
   "metadata": {
    "scrolled": false
   },
   "outputs": [
    {
     "name": "stdout",
     "output_type": "stream",
     "text": [
      "video / metalog information \n",
      "\n",
      "num frames:                  345 \n",
      "obj enums scored/tracked:    0,1 / 0 \n",
      "num scored frames:           19 | 0,9,78...308,324,340 \n",
      "-------\n",
      "\n",
      "select aggregates \n",
      "\n"
     ]
    },
    {
     "data": {
      "text/plain": [
       "agg_calcBaselineBallUnitsAway   -0.407282\n",
       "agg_checkBothContainsOther       0.578947\n",
       "agg_checkTrackSuccess            1.000000\n",
       "Name: mean, dtype: float64"
      ]
     },
     "metadata": {},
     "output_type": "display_data"
    },
    {
     "data": {
      "text/html": [
       "<div>\n",
       "<style scoped>\n",
       "    .dataframe tbody tr th:only-of-type {\n",
       "        vertical-align: middle;\n",
       "    }\n",
       "\n",
       "    .dataframe tbody tr th {\n",
       "        vertical-align: top;\n",
       "    }\n",
       "\n",
       "    .dataframe thead th {\n",
       "        text-align: right;\n",
       "    }\n",
       "</style>\n",
       "<table border=\"1\" class=\"dataframe\">\n",
       "  <thead>\n",
       "    <tr style=\"text-align: right;\">\n",
       "      <th></th>\n",
       "      <th>mean</th>\n",
       "      <th>n</th>\n",
       "    </tr>\n",
       "  </thead>\n",
       "  <tbody>\n",
       "    <tr>\n",
       "      <th>fagg_less_than_20_pix_balls_away</th>\n",
       "      <td>-0.466989</td>\n",
       "      <td>16.0</td>\n",
       "    </tr>\n",
       "    <tr>\n",
       "      <th>fagg_less_than_30_pix_success</th>\n",
       "      <td>1.000000</td>\n",
       "      <td>310.0</td>\n",
       "    </tr>\n",
       "  </tbody>\n",
       "</table>\n",
       "</div>"
      ],
      "text/plain": [
       "                                      mean      n\n",
       "fagg_less_than_20_pix_balls_away -0.466989   16.0\n",
       "fagg_less_than_30_pix_success     1.000000  310.0"
      ]
     },
     "metadata": {},
     "output_type": "display_data"
    },
    {
     "name": "stdout",
     "output_type": "stream",
     "text": [
      "plotting radius comparison \n",
      "\n"
     ]
    },
    {
     "data": {
      "image/png": "[encoded data removed]",
      "text/plain": [
       "<Figure size 432x288 with 1 Axes>"
      ]
     },
     "metadata": {},
     "output_type": "display_data"
    },
    {
     "data": {
      "image/png": "[encoded data removed]",
      "text/plain": [
       "<Figure size 432x288 with 1 Axes>"
      ]
     },
     "metadata": {},
     "output_type": "display_data"
    },
    {
     "name": "stdout",
     "output_type": "stream",
     "text": [
      "\n",
      "full eval table on input frames \n",
      "\n"
     ]
    },
    {
     "data": {
      "text/html": [
       "<div>\n",
       "<style scoped>\n",
       "    .dataframe tbody tr th:only-of-type {\n",
       "        vertical-align: middle;\n",
       "    }\n",
       "\n",
       "    .dataframe tbody tr th {\n",
       "        vertical-align: top;\n",
       "    }\n",
       "\n",
       "    .dataframe thead th {\n",
       "        text-align: right;\n",
       "    }\n",
       "</style>\n",
       "<table border=\"1\" class=\"dataframe\">\n",
       "  <thead>\n",
       "    <tr style=\"text-align: right;\">\n",
       "      <th></th>\n",
       "      <th>calc\n",
       "Baseline\n",
       "Ball\n",
       "Units\n",
       "Away</th>\n",
       "      <th>check\n",
       "Both\n",
       "Contains\n",
       "Other</th>\n",
       "      <th>distance\n",
       "From\n",
       "Baseline</th>\n",
       "      <th>check\n",
       "Track\n",
       "Success</th>\n",
       "      <th>prop\n",
       "Track\n",
       "Radius</th>\n",
       "      <th>check\n",
       "Baseline\n",
       "Inside\n",
       "Track</th>\n",
       "      <th>check\n",
       "Either\n",
       "Contains\n",
       "Other</th>\n",
       "      <th>check\n",
       "Track\n",
       "Inside\n",
       "Baseline</th>\n",
       "      <th>check\n",
       "Track\n",
       "Inside\n",
       "Baseline\n",
       "Rect</th>\n",
       "      <th>compare\n",
       "Radii</th>\n",
       "      <th>prop\n",
       "Baseline\n",
       "Radius</th>\n",
       "    </tr>\n",
       "  </thead>\n",
       "  <tbody>\n",
       "    <tr>\n",
       "      <th>0</th>\n",
       "      <td>-0.04</td>\n",
       "      <td>True</td>\n",
       "      <td>-2</td>\n",
       "      <td>True</td>\n",
       "      <td>32</td>\n",
       "      <td>True</td>\n",
       "      <td>True</td>\n",
       "      <td>True</td>\n",
       "      <td>False</td>\n",
       "      <td>6</td>\n",
       "      <td>26.0</td>\n",
       "    </tr>\n",
       "    <tr>\n",
       "      <th>9</th>\n",
       "      <td>-0.14</td>\n",
       "      <td>True</td>\n",
       "      <td>-7</td>\n",
       "      <td>True</td>\n",
       "      <td>33</td>\n",
       "      <td>True</td>\n",
       "      <td>True</td>\n",
       "      <td>True</td>\n",
       "      <td>False</td>\n",
       "      <td>7</td>\n",
       "      <td>26.0</td>\n",
       "    </tr>\n",
       "    <tr>\n",
       "      <th>78</th>\n",
       "      <td>-0.08</td>\n",
       "      <td>True</td>\n",
       "      <td>-4</td>\n",
       "      <td>True</td>\n",
       "      <td>27</td>\n",
       "      <td>True</td>\n",
       "      <td>True</td>\n",
       "      <td>True</td>\n",
       "      <td>False</td>\n",
       "      <td>2</td>\n",
       "      <td>25.0</td>\n",
       "    </tr>\n",
       "    <tr>\n",
       "      <th>116</th>\n",
       "      <td>-0.12</td>\n",
       "      <td>True</td>\n",
       "      <td>-4</td>\n",
       "      <td>True</td>\n",
       "      <td>22</td>\n",
       "      <td>True</td>\n",
       "      <td>True</td>\n",
       "      <td>True</td>\n",
       "      <td>False</td>\n",
       "      <td>3</td>\n",
       "      <td>19.0</td>\n",
       "    </tr>\n",
       "    <tr>\n",
       "      <th>136</th>\n",
       "      <td>-0.14</td>\n",
       "      <td>True</td>\n",
       "      <td>-4</td>\n",
       "      <td>True</td>\n",
       "      <td>17</td>\n",
       "      <td>True</td>\n",
       "      <td>True</td>\n",
       "      <td>True</td>\n",
       "      <td>False</td>\n",
       "      <td>2</td>\n",
       "      <td>15.0</td>\n",
       "    </tr>\n",
       "    <tr>\n",
       "      <th>176</th>\n",
       "      <td>-0.42</td>\n",
       "      <td>True</td>\n",
       "      <td>-5</td>\n",
       "      <td>True</td>\n",
       "      <td>6</td>\n",
       "      <td>True</td>\n",
       "      <td>True</td>\n",
       "      <td>True</td>\n",
       "      <td>False</td>\n",
       "      <td>0</td>\n",
       "      <td>6.0</td>\n",
       "    </tr>\n",
       "    <tr>\n",
       "      <th>187</th>\n",
       "      <td>-0.53</td>\n",
       "      <td>False</td>\n",
       "      <td>-4</td>\n",
       "      <td>True</td>\n",
       "      <td>5</td>\n",
       "      <td>True</td>\n",
       "      <td>True</td>\n",
       "      <td>False</td>\n",
       "      <td>False</td>\n",
       "      <td>1</td>\n",
       "      <td>4.0</td>\n",
       "    </tr>\n",
       "    <tr>\n",
       "      <th>194</th>\n",
       "      <td>-0.76</td>\n",
       "      <td>False</td>\n",
       "      <td>-6</td>\n",
       "      <td>True</td>\n",
       "      <td>3</td>\n",
       "      <td>False</td>\n",
       "      <td>False</td>\n",
       "      <td>False</td>\n",
       "      <td>False</td>\n",
       "      <td>-1</td>\n",
       "      <td>4.0</td>\n",
       "    </tr>\n",
       "    <tr>\n",
       "      <th>195</th>\n",
       "      <td>-0.38</td>\n",
       "      <td>True</td>\n",
       "      <td>-3</td>\n",
       "      <td>True</td>\n",
       "      <td>4</td>\n",
       "      <td>True</td>\n",
       "      <td>True</td>\n",
       "      <td>True</td>\n",
       "      <td>False</td>\n",
       "      <td>0</td>\n",
       "      <td>4.0</td>\n",
       "    </tr>\n",
       "    <tr>\n",
       "      <th>201</th>\n",
       "      <td>-0.52</td>\n",
       "      <td>False</td>\n",
       "      <td>-4</td>\n",
       "      <td>True</td>\n",
       "      <td>2</td>\n",
       "      <td>False</td>\n",
       "      <td>False</td>\n",
       "      <td>False</td>\n",
       "      <td>False</td>\n",
       "      <td>-2</td>\n",
       "      <td>4.0</td>\n",
       "    </tr>\n",
       "    <tr>\n",
       "      <th>215</th>\n",
       "      <td>-0.38</td>\n",
       "      <td>True</td>\n",
       "      <td>-3</td>\n",
       "      <td>True</td>\n",
       "      <td>4</td>\n",
       "      <td>True</td>\n",
       "      <td>True</td>\n",
       "      <td>True</td>\n",
       "      <td>True</td>\n",
       "      <td>0</td>\n",
       "      <td>4.0</td>\n",
       "    </tr>\n",
       "    <tr>\n",
       "      <th>246</th>\n",
       "      <td>-0.17</td>\n",
       "      <td>True</td>\n",
       "      <td>-1</td>\n",
       "      <td>True</td>\n",
       "      <td>2</td>\n",
       "      <td>True</td>\n",
       "      <td>True</td>\n",
       "      <td>True</td>\n",
       "      <td>True</td>\n",
       "      <td>-1</td>\n",
       "      <td>3.0</td>\n",
       "    </tr>\n",
       "    <tr>\n",
       "      <th>270</th>\n",
       "      <td>-0.40</td>\n",
       "      <td>False</td>\n",
       "      <td>-3</td>\n",
       "      <td>True</td>\n",
       "      <td>1</td>\n",
       "      <td>False</td>\n",
       "      <td>True</td>\n",
       "      <td>True</td>\n",
       "      <td>False</td>\n",
       "      <td>-3</td>\n",
       "      <td>4.0</td>\n",
       "    </tr>\n",
       "    <tr>\n",
       "      <th>292</th>\n",
       "      <td>-0.92</td>\n",
       "      <td>False</td>\n",
       "      <td>-9</td>\n",
       "      <td>True</td>\n",
       "      <td>5</td>\n",
       "      <td>False</td>\n",
       "      <td>False</td>\n",
       "      <td>False</td>\n",
       "      <td>False</td>\n",
       "      <td>0</td>\n",
       "      <td>5.0</td>\n",
       "    </tr>\n",
       "    <tr>\n",
       "      <th>295</th>\n",
       "      <td>-0.50</td>\n",
       "      <td>False</td>\n",
       "      <td>-5</td>\n",
       "      <td>True</td>\n",
       "      <td>7</td>\n",
       "      <td>True</td>\n",
       "      <td>True</td>\n",
       "      <td>False</td>\n",
       "      <td>False</td>\n",
       "      <td>2</td>\n",
       "      <td>5.0</td>\n",
       "    </tr>\n",
       "    <tr>\n",
       "      <th>307</th>\n",
       "      <td>-0.71</td>\n",
       "      <td>False</td>\n",
       "      <td>-10</td>\n",
       "      <td>True</td>\n",
       "      <td>4</td>\n",
       "      <td>False</td>\n",
       "      <td>False</td>\n",
       "      <td>False</td>\n",
       "      <td>False</td>\n",
       "      <td>-3</td>\n",
       "      <td>7.0</td>\n",
       "    </tr>\n",
       "    <tr>\n",
       "      <th>308</th>\n",
       "      <td>-1.04</td>\n",
       "      <td>False</td>\n",
       "      <td>-13</td>\n",
       "      <td>True</td>\n",
       "      <td>9</td>\n",
       "      <td>False</td>\n",
       "      <td>False</td>\n",
       "      <td>False</td>\n",
       "      <td>False</td>\n",
       "      <td>3</td>\n",
       "      <td>6.0</td>\n",
       "    </tr>\n",
       "    <tr>\n",
       "      <th>324</th>\n",
       "      <td>-0.40</td>\n",
       "      <td>True</td>\n",
       "      <td>-6</td>\n",
       "      <td>True</td>\n",
       "      <td>7</td>\n",
       "      <td>True</td>\n",
       "      <td>True</td>\n",
       "      <td>True</td>\n",
       "      <td>False</td>\n",
       "      <td>-1</td>\n",
       "      <td>8.0</td>\n",
       "    </tr>\n",
       "    <tr>\n",
       "      <th>340</th>\n",
       "      <td>-0.09</td>\n",
       "      <td>True</td>\n",
       "      <td>-2</td>\n",
       "      <td>True</td>\n",
       "      <td>13</td>\n",
       "      <td>True</td>\n",
       "      <td>True</td>\n",
       "      <td>True</td>\n",
       "      <td>False</td>\n",
       "      <td>1</td>\n",
       "      <td>12.0</td>\n",
       "    </tr>\n",
       "  </tbody>\n",
       "</table>\n",
       "</div>"
      ],
      "text/plain": [
       "    calc\\nBaseline\\nBall\\nUnits\\nAway\\n check\\nBoth\\nContains\\nOther\\n  \\\n",
       "0                                 -0.04                           True   \n",
       "9                                 -0.14                           True   \n",
       "78                                -0.08                           True   \n",
       "116                               -0.12                           True   \n",
       "136                               -0.14                           True   \n",
       "176                               -0.42                           True   \n",
       "187                               -0.53                          False   \n",
       "194                               -0.76                          False   \n",
       "195                               -0.38                           True   \n",
       "201                               -0.52                          False   \n",
       "215                               -0.38                           True   \n",
       "246                               -0.17                           True   \n",
       "270                               -0.40                          False   \n",
       "292                               -0.92                          False   \n",
       "295                               -0.50                          False   \n",
       "307                               -0.71                          False   \n",
       "308                               -1.04                          False   \n",
       "324                               -0.40                           True   \n",
       "340                               -0.09                           True   \n",
       "\n",
       "    distance\\nFrom\\nBaseline\\n  check\\nTrack\\nSuccess\\n  \\\n",
       "0                           -2                     True   \n",
       "9                           -7                     True   \n",
       "78                          -4                     True   \n",
       "116                         -4                     True   \n",
       "136                         -4                     True   \n",
       "176                         -5                     True   \n",
       "187                         -4                     True   \n",
       "194                         -6                     True   \n",
       "195                         -3                     True   \n",
       "201                         -4                     True   \n",
       "215                         -3                     True   \n",
       "246                         -1                     True   \n",
       "270                         -3                     True   \n",
       "292                         -9                     True   \n",
       "295                         -5                     True   \n",
       "307                        -10                     True   \n",
       "308                        -13                     True   \n",
       "324                         -6                     True   \n",
       "340                         -2                     True   \n",
       "\n",
       "     prop\\nTrack\\nRadius\\n check\\nBaseline\\nInside\\nTrack\\n  \\\n",
       "0                       32                             True   \n",
       "9                       33                             True   \n",
       "78                      27                             True   \n",
       "116                     22                             True   \n",
       "136                     17                             True   \n",
       "176                      6                             True   \n",
       "187                      5                             True   \n",
       "194                      3                            False   \n",
       "195                      4                             True   \n",
       "201                      2                            False   \n",
       "215                      4                             True   \n",
       "246                      2                             True   \n",
       "270                      1                            False   \n",
       "292                      5                            False   \n",
       "295                      7                             True   \n",
       "307                      4                            False   \n",
       "308                      9                            False   \n",
       "324                      7                             True   \n",
       "340                     13                             True   \n",
       "\n",
       "    check\\nEither\\nContains\\nOther\\n check\\nTrack\\nInside\\nBaseline\\n  \\\n",
       "0                               True                             True   \n",
       "9                               True                             True   \n",
       "78                              True                             True   \n",
       "116                             True                             True   \n",
       "136                             True                             True   \n",
       "176                             True                             True   \n",
       "187                             True                            False   \n",
       "194                            False                            False   \n",
       "195                             True                             True   \n",
       "201                            False                            False   \n",
       "215                             True                             True   \n",
       "246                             True                             True   \n",
       "270                             True                             True   \n",
       "292                            False                            False   \n",
       "295                             True                            False   \n",
       "307                            False                            False   \n",
       "308                            False                            False   \n",
       "324                             True                             True   \n",
       "340                             True                             True   \n",
       "\n",
       "    check\\nTrack\\nInside\\nBaseline\\nRect\\n compare\\nRadii\\n  \\\n",
       "0                                    False                6   \n",
       "9                                    False                7   \n",
       "78                                   False                2   \n",
       "116                                  False                3   \n",
       "136                                  False                2   \n",
       "176                                  False                0   \n",
       "187                                  False                1   \n",
       "194                                  False               -1   \n",
       "195                                  False                0   \n",
       "201                                  False               -2   \n",
       "215                                   True                0   \n",
       "246                                   True               -1   \n",
       "270                                  False               -3   \n",
       "292                                  False                0   \n",
       "295                                  False                2   \n",
       "307                                  False               -3   \n",
       "308                                  False                3   \n",
       "324                                  False               -1   \n",
       "340                                  False                1   \n",
       "\n",
       "     prop\\nBaseline\\nRadius\\n  \n",
       "0                        26.0  \n",
       "9                        26.0  \n",
       "78                       25.0  \n",
       "116                      19.0  \n",
       "136                      15.0  \n",
       "176                       6.0  \n",
       "187                       4.0  \n",
       "194                       4.0  \n",
       "195                       4.0  \n",
       "201                       4.0  \n",
       "215                       4.0  \n",
       "246                       3.0  \n",
       "270                       4.0  \n",
       "292                       5.0  \n",
       "295                       5.0  \n",
       "307                       7.0  \n",
       "308                       6.0  \n",
       "324                       8.0  \n",
       "340                      12.0  "
      ]
     },
     "metadata": {},
     "output_type": "display_data"
    },
    {
     "name": "stdout",
     "output_type": "stream",
     "text": [
      "\n",
      "a preview of each eval dataframe\n"
     ]
    },
    {
     "data": {
      "text/plain": [
       "agg_calcBaselineBallUnitsAway   -0.407282\n",
       "agg_checkBaselineInsideTrack     0.684211\n",
       "agg_checkBothContainsOther       0.578947\n",
       "Name: mean, dtype: float64"
      ]
     },
     "metadata": {},
     "output_type": "display_data"
    },
    {
     "data": {
      "text/html": [
       "<div>\n",
       "<style scoped>\n",
       "    .dataframe tbody tr th:only-of-type {\n",
       "        vertical-align: middle;\n",
       "    }\n",
       "\n",
       "    .dataframe tbody tr th {\n",
       "        vertical-align: top;\n",
       "    }\n",
       "\n",
       "    .dataframe thead th {\n",
       "        text-align: right;\n",
       "    }\n",
       "</style>\n",
       "<table border=\"1\" class=\"dataframe\">\n",
       "  <thead>\n",
       "    <tr style=\"text-align: right;\">\n",
       "      <th></th>\n",
       "      <th>mean</th>\n",
       "      <th>n</th>\n",
       "    </tr>\n",
       "  </thead>\n",
       "  <tbody>\n",
       "    <tr>\n",
       "      <th>fagg_less_than_20_pix_balls_away</th>\n",
       "      <td>-0.466989</td>\n",
       "      <td>16.0</td>\n",
       "    </tr>\n",
       "    <tr>\n",
       "      <th>fagg_less_than_30_pix_success</th>\n",
       "      <td>1.000000</td>\n",
       "      <td>310.0</td>\n",
       "    </tr>\n",
       "  </tbody>\n",
       "</table>\n",
       "</div>"
      ],
      "text/plain": [
       "                                      mean      n\n",
       "fagg_less_than_20_pix_balls_away -0.466989   16.0\n",
       "fagg_less_than_30_pix_success     1.000000  310.0"
      ]
     },
     "metadata": {},
     "output_type": "display_data"
    },
    {
     "data": {
      "text/html": [
       "<div>\n",
       "<style scoped>\n",
       "    .dataframe tbody tr th:only-of-type {\n",
       "        vertical-align: middle;\n",
       "    }\n",
       "\n",
       "    .dataframe tbody tr th {\n",
       "        vertical-align: top;\n",
       "    }\n",
       "\n",
       "    .dataframe thead th {\n",
       "        text-align: right;\n",
       "    }\n",
       "</style>\n",
       "<table border=\"1\" class=\"dataframe\">\n",
       "  <thead>\n",
       "    <tr style=\"text-align: right;\">\n",
       "      <th></th>\n",
       "      <th>calc\n",
       "Baseline\n",
       "Ball\n",
       "Units\n",
       "Away</th>\n",
       "      <th>check\n",
       "Both\n",
       "Contains\n",
       "Other</th>\n",
       "      <th>distance\n",
       "From\n",
       "Baseline</th>\n",
       "      <th>check\n",
       "Track\n",
       "Success</th>\n",
       "      <th>prop\n",
       "Track\n",
       "Radius</th>\n",
       "      <th>check\n",
       "Baseline\n",
       "Inside\n",
       "Track</th>\n",
       "      <th>check\n",
       "Either\n",
       "Contains\n",
       "Other</th>\n",
       "      <th>check\n",
       "Track\n",
       "Inside\n",
       "Baseline</th>\n",
       "      <th>check\n",
       "Track\n",
       "Inside\n",
       "Baseline\n",
       "Rect</th>\n",
       "      <th>compare\n",
       "Radii</th>\n",
       "      <th>prop\n",
       "Baseline\n",
       "Radius</th>\n",
       "    </tr>\n",
       "  </thead>\n",
       "  <tbody>\n",
       "    <tr>\n",
       "      <th>0</th>\n",
       "      <td>-0.04</td>\n",
       "      <td>True</td>\n",
       "      <td>-2</td>\n",
       "      <td>True</td>\n",
       "      <td>32</td>\n",
       "      <td>True</td>\n",
       "      <td>True</td>\n",
       "      <td>True</td>\n",
       "      <td>False</td>\n",
       "      <td>6</td>\n",
       "      <td>26.0</td>\n",
       "    </tr>\n",
       "    <tr>\n",
       "      <th>9</th>\n",
       "      <td>-0.14</td>\n",
       "      <td>True</td>\n",
       "      <td>-7</td>\n",
       "      <td>True</td>\n",
       "      <td>33</td>\n",
       "      <td>True</td>\n",
       "      <td>True</td>\n",
       "      <td>True</td>\n",
       "      <td>False</td>\n",
       "      <td>7</td>\n",
       "      <td>26.0</td>\n",
       "    </tr>\n",
       "    <tr>\n",
       "      <th>78</th>\n",
       "      <td>-0.08</td>\n",
       "      <td>True</td>\n",
       "      <td>-4</td>\n",
       "      <td>True</td>\n",
       "      <td>27</td>\n",
       "      <td>True</td>\n",
       "      <td>True</td>\n",
       "      <td>True</td>\n",
       "      <td>False</td>\n",
       "      <td>2</td>\n",
       "      <td>25.0</td>\n",
       "    </tr>\n",
       "  </tbody>\n",
       "</table>\n",
       "</div>"
      ],
      "text/plain": [
       "   calc\\nBaseline\\nBall\\nUnits\\nAway\\n check\\nBoth\\nContains\\nOther\\n  \\\n",
       "0                                -0.04                           True   \n",
       "9                                -0.14                           True   \n",
       "78                               -0.08                           True   \n",
       "\n",
       "   distance\\nFrom\\nBaseline\\n  check\\nTrack\\nSuccess\\n  prop\\nTrack\\nRadius\\n  \\\n",
       "0                          -2                     True                     32   \n",
       "9                          -7                     True                     33   \n",
       "78                         -4                     True                     27   \n",
       "\n",
       "   check\\nBaseline\\nInside\\nTrack\\n check\\nEither\\nContains\\nOther\\n  \\\n",
       "0                              True                             True   \n",
       "9                              True                             True   \n",
       "78                             True                             True   \n",
       "\n",
       "   check\\nTrack\\nInside\\nBaseline\\n check\\nTrack\\nInside\\nBaseline\\nRect\\n  \\\n",
       "0                              True                                  False   \n",
       "9                              True                                  False   \n",
       "78                             True                                  False   \n",
       "\n",
       "   compare\\nRadii\\n  prop\\nBaseline\\nRadius\\n  \n",
       "0                 6                      26.0  \n",
       "9                 7                      26.0  \n",
       "78                2                      25.0  "
      ]
     },
     "metadata": {},
     "output_type": "display_data"
    },
    {
     "data": {
      "text/html": [
       "<div>\n",
       "<style scoped>\n",
       "    .dataframe tbody tr th:only-of-type {\n",
       "        vertical-align: middle;\n",
       "    }\n",
       "\n",
       "    .dataframe tbody tr th {\n",
       "        vertical-align: top;\n",
       "    }\n",
       "\n",
       "    .dataframe thead th {\n",
       "        text-align: right;\n",
       "    }\n",
       "</style>\n",
       "<table border=\"1\" class=\"dataframe\">\n",
       "  <thead>\n",
       "    <tr style=\"text-align: right;\">\n",
       "      <th></th>\n",
       "      <th>index</th>\n",
       "      <th>input\n",
       "_data0\n",
       "_0</th>\n",
       "      <th>input\n",
       "_data0\n",
       "_1</th>\n",
       "      <th>input\n",
       "_data0\n",
       "_2</th>\n",
       "      <th>input\n",
       "_data0\n",
       "_3</th>\n",
       "      <th>input\n",
       "_data1\n",
       "_0</th>\n",
       "      <th>input\n",
       "_data1\n",
       "_1</th>\n",
       "      <th>input\n",
       "_data1\n",
       "_2</th>\n",
       "      <th>input\n",
       "_data1\n",
       "_3</th>\n",
       "      <th>input\n",
       "_data2\n",
       "_0</th>\n",
       "      <th>...</th>\n",
       "      <th>track\n",
       "_data3\n",
       "_2</th>\n",
       "      <th>track\n",
       "_data3\n",
       "_3</th>\n",
       "      <th>track\n",
       "_obj\n",
       "_exists\n",
       "_0</th>\n",
       "      <th>track\n",
       "_obj\n",
       "_exists\n",
       "_1</th>\n",
       "      <th>track\n",
       "_obj\n",
       "_exists\n",
       "_2</th>\n",
       "      <th>track\n",
       "_obj\n",
       "_exists\n",
       "_3</th>\n",
       "      <th>track\n",
       "_obj\n",
       "_type\n",
       "_0</th>\n",
       "      <th>track\n",
       "_obj\n",
       "_type\n",
       "_1</th>\n",
       "      <th>track\n",
       "_obj\n",
       "_type\n",
       "_2</th>\n",
       "      <th>track\n",
       "_obj\n",
       "_type\n",
       "_3</th>\n",
       "    </tr>\n",
       "  </thead>\n",
       "  <tbody>\n",
       "    <tr>\n",
       "      <th>0</th>\n",
       "      <td>0</td>\n",
       "      <td>107.0</td>\n",
       "      <td>111.0</td>\n",
       "      <td>None</td>\n",
       "      <td>None</td>\n",
       "      <td>214.0</td>\n",
       "      <td>218.0</td>\n",
       "      <td>None</td>\n",
       "      <td>None</td>\n",
       "      <td>54.0</td>\n",
       "      <td>...</td>\n",
       "      <td>None</td>\n",
       "      <td>None</td>\n",
       "      <td>True</td>\n",
       "      <td>None</td>\n",
       "      <td>None</td>\n",
       "      <td>None</td>\n",
       "      <td>circle</td>\n",
       "      <td>None</td>\n",
       "      <td>None</td>\n",
       "      <td>None</td>\n",
       "    </tr>\n",
       "    <tr>\n",
       "      <th>1</th>\n",
       "      <td>1</td>\n",
       "      <td>NaN</td>\n",
       "      <td>NaN</td>\n",
       "      <td>None</td>\n",
       "      <td>None</td>\n",
       "      <td>NaN</td>\n",
       "      <td>NaN</td>\n",
       "      <td>None</td>\n",
       "      <td>None</td>\n",
       "      <td>NaN</td>\n",
       "      <td>...</td>\n",
       "      <td>None</td>\n",
       "      <td>None</td>\n",
       "      <td>True</td>\n",
       "      <td>None</td>\n",
       "      <td>None</td>\n",
       "      <td>None</td>\n",
       "      <td>circle</td>\n",
       "      <td>None</td>\n",
       "      <td>None</td>\n",
       "      <td>None</td>\n",
       "    </tr>\n",
       "    <tr>\n",
       "      <th>2</th>\n",
       "      <td>2</td>\n",
       "      <td>NaN</td>\n",
       "      <td>NaN</td>\n",
       "      <td>None</td>\n",
       "      <td>None</td>\n",
       "      <td>NaN</td>\n",
       "      <td>NaN</td>\n",
       "      <td>None</td>\n",
       "      <td>None</td>\n",
       "      <td>NaN</td>\n",
       "      <td>...</td>\n",
       "      <td>None</td>\n",
       "      <td>None</td>\n",
       "      <td>True</td>\n",
       "      <td>None</td>\n",
       "      <td>None</td>\n",
       "      <td>None</td>\n",
       "      <td>circle</td>\n",
       "      <td>None</td>\n",
       "      <td>None</td>\n",
       "      <td>None</td>\n",
       "    </tr>\n",
       "  </tbody>\n",
       "</table>\n",
       "<p>3 rows × 49 columns</p>\n",
       "</div>"
      ],
      "text/plain": [
       "   index\\n  input\\n_data0\\n_0\\n  input\\n_data0\\n_1\\n input\\n_data0\\n_2\\n  \\\n",
       "0        0                107.0                111.0                None   \n",
       "1        1                  NaN                  NaN                None   \n",
       "2        2                  NaN                  NaN                None   \n",
       "\n",
       "  input\\n_data0\\n_3\\n  input\\n_data1\\n_0\\n  input\\n_data1\\n_1\\n  \\\n",
       "0                None                214.0                218.0   \n",
       "1                None                  NaN                  NaN   \n",
       "2                None                  NaN                  NaN   \n",
       "\n",
       "  input\\n_data1\\n_2\\n input\\n_data1\\n_3\\n  input\\n_data2\\n_0\\n  \\\n",
       "0                None                None                 54.0   \n",
       "1                None                None                  NaN   \n",
       "2                None                None                  NaN   \n",
       "\n",
       "            ...             track\\n_data3\\n_2\\n track\\n_data3\\n_3\\n  \\\n",
       "0           ...                            None                None   \n",
       "1           ...                            None                None   \n",
       "2           ...                            None                None   \n",
       "\n",
       "  track\\n_obj\\n_exists\\n_0\\n  track\\n_obj\\n_exists\\n_1\\n  \\\n",
       "0                       True                        None   \n",
       "1                       True                        None   \n",
       "2                       True                        None   \n",
       "\n",
       "   track\\n_obj\\n_exists\\n_2\\n track\\n_obj\\n_exists\\n_3\\n  \\\n",
       "0                        None                       None   \n",
       "1                        None                       None   \n",
       "2                        None                       None   \n",
       "\n",
       "  track\\n_obj\\n_type\\n_0\\n track\\n_obj\\n_type\\n_1\\n track\\n_obj\\n_type\\n_2\\n  \\\n",
       "0                   circle                     None                     None   \n",
       "1                   circle                     None                     None   \n",
       "2                   circle                     None                     None   \n",
       "\n",
       "  track\\n_obj\\n_type\\n_3\\n  \n",
       "0                     None  \n",
       "1                     None  \n",
       "2                     None  \n",
       "\n",
       "[3 rows x 49 columns]"
      ]
     },
     "metadata": {},
     "output_type": "display_data"
    }
   ],
   "source": [
    "cmpA.current.displayFullReport()"
   ]
  },
  {
   "cell_type": "markdown",
   "metadata": {},
   "source": [
    "### Build Tests"
   ]
  },
  {
   "cell_type": "code",
   "execution_count": null,
   "metadata": {
    "collapsed": true
   },
   "outputs": [],
   "source": []
  }
 ],
 "metadata": {
  "kernelspec": {
   "display_name": "Python 2",
   "language": "python",
   "name": "python2"
  },
  "language_info": {
   "codemirror_mode": {
    "name": "ipython",
    "version": 2
   },
   "file_extension": ".py",
   "mimetype": "text/x-python",
   "name": "python",
   "nbconvert_exporter": "python",
   "pygments_lexer": "ipython2",
   "version": "2.7.13"
  }
 },
 "nbformat": 4,
 "nbformat_minor": 2
}
