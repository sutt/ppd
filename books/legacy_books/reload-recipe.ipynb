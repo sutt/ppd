{
 "cells": [
  {
   "cell_type": "markdown",
   "metadata": {},
   "source": [
    "### How to reload modules in IPython"
   ]
  },
  {
   "cell_type": "markdown",
   "metadata": {},
   "source": [
    "call this autoreload first:"
   ]
  },
  {
   "cell_type": "code",
   "execution_count": 23,
   "metadata": {},
   "outputs": [
    {
     "name": "stdout",
     "output_type": "stream",
     "text": [
      "The autoreload extension is already loaded. To reload it, use:\n",
      "  %reload_ext autoreload\n"
     ]
    }
   ],
   "source": [
    "import time\n",
    "%load_ext autoreload\n",
    "%autoreload 2"
   ]
  },
  {
   "cell_type": "code",
   "execution_count": 2,
   "metadata": {
    "collapsed": true
   },
   "outputs": [],
   "source": [
    "from DemoReloadModule import DemoClass"
   ]
  },
  {
   "cell_type": "code",
   "execution_count": 24,
   "metadata": {},
   "outputs": [
    {
     "data": {
      "text/plain": [
       "99"
      ]
     },
     "execution_count": 24,
     "metadata": {},
     "output_type": "execute_result"
    }
   ],
   "source": [
    "democlass = DemoClass()\n",
    "democlass.methodOne()"
   ]
  },
  {
   "cell_type": "markdown",
   "metadata": {},
   "source": [
    "alter a method (methodOne), all you have to do is make a call and the changes shoudl be reflected. Run each of these twice in a row (respectively) to get the assert to pass"
   ]
  },
  {
   "cell_type": "code",
   "execution_count": 32,
   "metadata": {},
   "outputs": [
    {
     "name": "stdout",
     "output_type": "stream",
     "text": [
      "99\n"
     ]
    }
   ],
   "source": [
    "s_code = '''\n",
    "class DemoClass:\n",
    "\n",
    "    def __init__(self):\n",
    "        self.data = 1\n",
    "        \n",
    "    def methodOne(self):\n",
    "        return 99\n",
    "'''\n",
    "\n",
    "with open(\"DemoReloadModule.py\", \"w\") as f:\n",
    "    f.write(s_code)\n",
    "\n",
    "time.sleep(1)\n",
    "from DemoReloadModule import DemoClass\n",
    "democlass = DemoClass()\n",
    "print democlass.methodOne()\n",
    "assert democlass.methodOne() == 99"
   ]
  },
  {
   "cell_type": "code",
   "execution_count": 34,
   "metadata": {},
   "outputs": [
    {
     "name": "stdout",
     "output_type": "stream",
     "text": [
      "-1\n"
     ]
    }
   ],
   "source": [
    "s_code = '''\n",
    "class DemoClass:\n",
    "\n",
    "    def __init__(self):\n",
    "        self.data = 1\n",
    "        \n",
    "    def methodOne(self):\n",
    "        return -1\n",
    "'''\n",
    "\n",
    "with open(\"DemoReloadModule.py\", \"w\") as f:\n",
    "    f.write(s_code)\n",
    "    \n",
    "time.sleep(1)   \n",
    "from DemoReloadModule import DemoClass\n",
    "democlass = DemoClass()\n",
    "print democlass.methodOne()\n",
    "assert democlass.methodOne() == -1"
   ]
  },
  {
   "cell_type": "markdown",
   "metadata": {},
   "source": [
    "especially when adding new methods, we need to recall the import:"
   ]
  },
  {
   "cell_type": "code",
   "execution_count": 35,
   "metadata": {
    "collapsed": true
   },
   "outputs": [],
   "source": [
    "from DemoReloadModule import DemoClass"
   ]
  }
 ],
 "metadata": {
  "kernelspec": {
   "display_name": "Python 2",
   "language": "python",
   "name": "python2"
  },
  "language_info": {
   "codemirror_mode": {
    "name": "ipython",
    "version": 2
   },
   "file_extension": ".py",
   "mimetype": "text/x-python",
   "name": "python",
   "nbconvert_exporter": "python",
   "pygments_lexer": "ipython2",
   "version": "2.7.13"
  }
 },
 "nbformat": 4,
 "nbformat_minor": 2
}
