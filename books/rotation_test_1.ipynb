{
 "cells": [
  {
   "cell_type": "code",
   "execution_count": 1,
   "metadata": {
    "collapsed": true
   },
   "outputs": [],
   "source": [
    "import os\n",
    "import sys\n",
    "import cv2\n",
    "import numpy as np\n",
    "from matplotlib import pyplot as plt\n",
    "%matplotlib inline"
   ]
  },
  {
   "cell_type": "code",
   "execution_count": 2,
   "metadata": {
    "collapsed": true
   },
   "outputs": [],
   "source": [
    "import imutils"
   ]
  },
  {
   "cell_type": "code",
   "execution_count": 59,
   "metadata": {
    "collapsed": true
   },
   "outputs": [],
   "source": [
    "# cam = cv2.VideoCapture(\"../data/proc/hello-training-data/output4.avi\")\n",
    "# ret, frame = cam.read()\n",
    "# img = frame.copy()"
   ]
  },
  {
   "cell_type": "markdown",
   "metadata": {},
   "source": [
    "### Main point: show how you handle rotation of rect coords on a rotated img"
   ]
  },
  {
   "cell_type": "code",
   "execution_count": 60,
   "metadata": {
    "collapsed": true
   },
   "outputs": [],
   "source": [
    "def draw_rect(img, rect, color='yellow', thick=1):\n",
    "    COLOR = (0, 255, 255)\n",
    "    if color == 'blue':\n",
    "        COLOR = (255,0,0)\n",
    "    cv2.rectangle(img, rect[0], rect[1], COLOR, thick)\n",
    "    return img"
   ]
  },
  {
   "cell_type": "code",
   "execution_count": 66,
   "metadata": {
    "collapsed": true
   },
   "outputs": [],
   "source": [
    "class OrientClass:\n",
    "    \n",
    "    def __init__(self):\n",
    "        self.orientation = 0\n",
    "    \n",
    "    def setOrientation(self, orientation):\n",
    "        self.orientation = orientation\n",
    "        \n",
    "    def adjOrientationRect(self, rect, (imgH, imgW)):\n",
    "        ''' adjusting bounding box from selectROI into original images orientation '''\n",
    "\n",
    "        if self.orientation == 0:\n",
    "            return rect\n",
    "\n",
    "        x, y, dx, dy = rect\n",
    "\n",
    "        h, w = imgH, imgW\n",
    "\n",
    "        if self.orientation == 90:\n",
    "\n",
    "            x_new = y\n",
    "            y_new =  h - (dx + x)\n",
    "            dx_new = dy\n",
    "            dy_new = dx\n",
    "\n",
    "        elif self.orientation == 180:\n",
    "\n",
    "            x_new = -dx + h - x\n",
    "            y_new = -dy + w - y\n",
    "            dx_new = dx\n",
    "            dy_new = dy\n",
    "\n",
    "        elif self.orientation == 270:\n",
    "\n",
    "            x_new = w - (dy + y)\n",
    "            y_new =  x\n",
    "            dx_new = dy\n",
    "            dy_new = dx\n",
    "\n",
    "        else:\n",
    "            return rect\n",
    "\n",
    "        return (x_new, y_new, dx_new, dy_new)"
   ]
  },
  {
   "cell_type": "code",
   "execution_count": 80,
   "metadata": {
    "collapsed": true
   },
   "outputs": [],
   "source": [
    "#but why doesn't the below work? it works in guiview/ControlDisplay\n",
    "#because this is a different type of operation, and rect changes coords each time"
   ]
  },
  {
   "cell_type": "code",
   "execution_count": 79,
   "metadata": {},
   "outputs": [
    {
     "name": "stdout",
     "output_type": "stream",
     "text": [
      "(10, 20, 3)\n",
      "[0 0 0]\n",
      "<type 'numpy.ndarray'>\n",
      "6 2 3 5\n"
     ]
    },
    {
     "data": {
      "image/png": "[encoded data removed]",
      "text/plain": [
       "<matplotlib.figure.Figure at 0x83217b0>"
      ]
     },
     "metadata": {},
     "output_type": "display_data"
    },
    {
     "name": "stdout",
     "output_type": "stream",
     "text": [
      "2 1 5 3\n"
     ]
    },
    {
     "data": {
      "image/png": "[encoded data removed]",
      "text/plain": [
       "<matplotlib.figure.Figure at 0xd2ea5d0>"
      ]
     },
     "metadata": {},
     "output_type": "display_data"
    },
    {
     "name": "stdout",
     "output_type": "stream",
     "text": [
      "1 13 3 5\n"
     ]
    },
    {
     "data": {
      "image/png": "[encoded data removed]",
      "text/plain": [
       "<matplotlib.figure.Figure at 0x88a4f90>"
      ]
     },
     "metadata": {},
     "output_type": "display_data"
    },
    {
     "name": "stdout",
     "output_type": "stream",
     "text": [
      "13 6 5 3\n"
     ]
    },
    {
     "data": {
      "image/png": "[encoded data removed]",
      "text/plain": [
       "<matplotlib.figure.Figure at 0xd451f50>"
      ]
     },
     "metadata": {},
     "output_type": "display_data"
    }
   ],
   "source": [
    "#Setup Test Img\n",
    "H,W = 10, 20\n",
    "img = np.zeros(shape=(H,W,3))\n",
    "img = np.array(img, dtype=np.uint8)\n",
    "\n",
    "x0, dx = 6, 3\n",
    "y0, dy = 2, 5\n",
    "for x in range(x0,x0+dx):\n",
    "    for y in range (y0,y0+dy):\n",
    "        img[y,x] = np.array([255,0,0] ,dtype=np.uint8)\n",
    "\n",
    "#Display info about Test Img\n",
    "print img.shape\n",
    "print img[0,0]\n",
    "print type(img)\n",
    "\n",
    "oc = OrientClass()\n",
    "        \n",
    "for i in range(4):\n",
    "    \n",
    "    _img = imutils.rotate_bound(img, i*90)\n",
    "    \n",
    "#     need to set at each rotation, as the red rect changes coors\n",
    "#     (x0,y0,dx,dy)\n",
    "    \n",
    "    oc.setOrientation(i*90)\n",
    "    _x0, _y0, _dx, _dy = oc.adjOrientationRect((x0,y0,dx,dy), (H,W))\n",
    "    \n",
    "    print _x0, _y0, _dx, _dy\n",
    "    \n",
    "    _img = draw_rect(_img, ((_x0, _y0), (_x0+_dx, _y0+_dy)) )\n",
    "    \n",
    "    plt.imshow(_img)\n",
    "    plt.show()"
   ]
  },
  {
   "cell_type": "code",
   "execution_count": null,
   "metadata": {
    "collapsed": true
   },
   "outputs": [],
   "source": []
  }
 ],
 "metadata": {
  "kernelspec": {
   "display_name": "Python 2",
   "language": "python",
   "name": "python2"
  },
  "language_info": {
   "codemirror_mode": {
    "name": "ipython",
    "version": 2
   },
   "file_extension": ".py",
   "mimetype": "text/x-python",
   "name": "python",
   "nbconvert_exporter": "python",
   "pygments_lexer": "ipython2",
   "version": "2.7.13"
  }
 },
 "nbformat": 4,
 "nbformat_minor": 2
}
