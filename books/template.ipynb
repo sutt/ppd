{
 "cells": [
  {
   "cell_type": "code",
   "execution_count": 2,
   "metadata": {
    "collapsed": true
   },
   "outputs": [],
   "source": [
    "import os\n",
    "import sys\n",
    "import numpy as np\n",
    "import cv2\n",
    "import imutils\n",
    "from matplotlib import pyplot as plt\n",
    "%matplotlib inline"
   ]
  },
  {
   "cell_type": "code",
   "execution_count": 3,
   "metadata": {
    "collapsed": true
   },
   "outputs": [],
   "source": [
    "# cam = cv2.VideoCapture(\"../data/proc/hello-training-data/output4.avi\")\n",
    "# ret, frame = cam.read()\n",
    "# img = frame.copy()"
   ]
  },
  {
   "cell_type": "code",
   "execution_count": 4,
   "metadata": {
    "collapsed": true
   },
   "outputs": [],
   "source": [
    "#Setup Test Img\n",
    "# H,W = 10, 20\n",
    "# img = np.zeros(shape=(H,W,3))\n",
    "# img = np.array(img, dtype=np.uint8)\n",
    "\n",
    "# x0, dx = 6, 3\n",
    "# y0, dy = 2, 5\n",
    "# for x in range(x0,x0+dx):\n",
    "#     for y in range (y0,y0+dy):\n",
    "#         img[y,x] = np.array([255,0,0] ,dtype=np.uint8)"
   ]
  },
  {
   "cell_type": "code",
   "execution_count": null,
   "metadata": {
    "collapsed": true
   },
   "outputs": [],
   "source": []
  }
 ],
 "metadata": {
  "kernelspec": {
   "display_name": "Python 2",
   "language": "python",
   "name": "python2"
  },
  "language_info": {
   "codemirror_mode": {
    "name": "ipython",
    "version": 2
   },
   "file_extension": ".py",
   "mimetype": "text/x-python",
   "name": "python",
   "nbconvert_exporter": "python",
   "pygments_lexer": "ipython2",
   "version": "2.7.13"
  }
 },
 "nbformat": 4,
 "nbformat_minor": 2
}
