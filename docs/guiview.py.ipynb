{
 "cells": [
  {
   "cell_type": "markdown",
   "metadata": {},
   "source": [
    "# guiview.py"
   ]
  },
  {
   "cell_type": "markdown",
   "metadata": {},
   "source": [
    "Utility to **view** and **output** *videos* + *supplementary files*.\n",
    "\n",
    "In this workspace, these videos were recorded with *guirecord.py* and each **video (.avi)** has a **timelog (.txt)** and **metalog (.metalog)** associated with it. And when outputting an edited video, these files are also output [and modified] for the [modified] output video.\n",
    "\n",
    "Output is a new set of three files named: videofn.procN.ext  \n",
    "\n",
    " * videofn - name of input w/o ext\n",
    " * N - number to make file unqiue in that directory (guid-ish)\n",
    " * ext - the respective extension (.avi, .txt, .metalog)\n",
    "\n",
    "This utility is essentially a CRUD-app for the metalog file associated with the file. We write information about what is happening in the frame, and the \"score\" which is position of the object(s). We don't modify the actual video data itself, except to include / exclude frames, and to output a video with a [possibly different] encoding.\n",
    "\n",
    "### Quickstart:\n",
    "\n",
    "` > python guiview.py --file data/proc/tmp/demo-agenda/output4.proc2.avi --showscoring`\n",
    "\n",
    "` > python guiview.py --dir data/proc/raw/oct20/ --firstN 20`"
   ]
  },
  {
   "cell_type": "markdown",
   "metadata": {},
   "source": [
    "### Overview:\n",
    "<img src=\"img/guiview_instructions_1.png\">"
   ]
  },
  {
   "cell_type": "markdown",
   "metadata": {
    "collapsed": true
   },
   "source": [
    "### Commands \n",
    "\n",
    "Command Line Options\n",
    "***\n",
    "* --file [path-fn]:    open vid file at path-fn; play at normal speed\n",
    "* --dir [dir-path]:    walk through files in dir-path, play as fast as possible; rewind not possible\n",
    "* --firstN [int]:      for --dir runs, only play first N frames; then goes to next video\n",
    "* --showscoring:       if used, shows any scoring entries in metalog on main_display and score_display\n",
    "* --scoringenum [int]: when there are multiple objects, this decides which object to focus on in score_display\n",
    "* --track:             turn on Track module from the start\n",
    "* --tracktimer:        if used, populate 'track timer' on gui with track-calc-time for each frame\n",
    "\n",
    "\n",
    "Major Gui Operations\n",
    "***\n",
    "| gui name        | performs                                                   |\n",
    "|:----------------|:-----------------------------------------------------------|\n",
    "|Play             | play video                                                 \n",
    "|Advance          | advance one frame \n",
    "|retreat          | rewind one frame \n",
    "|Init output      | create new vid + supl-file outputs at that directory       \n",
    "|h264/lossless    | encoding for output video\n",
    "|Writevid         | when on (button is green) every time you advance, a frame is written to vid, and non-scoring params to metalog\n",
    "|writeFrame       | output current frame + non-scoring params to metalog; advance to next frame\n",
    "|writef+scorinG   | output current frame + scoring-params + non-scoring params to metalog; advance to next frame\n",
    "|writef+overide   | use notes/framenote-override.json to update non-scoring params; write out to vid and metalog\n",
    "|selectZoom       | draw zoom roi onto main_display; then hit Enter\n",
    "|roi main         | draw obj roi onto main_display; then hit Enter; will use 'score type' and 'obj enum' selected\n",
    "|roi zoom         | draw obj roi onto zoom_display; then hit Enter; will use 'score type' and 'obj enum' selected\n",
    "|reset            | deletes all current obj roi's\n",
    "|obj enum         | enum for obj\n",
    "|score type       | if ray, do two selectROI's hitting enter after each one; ray is line between two center points of two roi's\n",
    "|Track            | if on, try to do tracking on frame\n",
    "\n",
    "\n",
    "Keyboard Shortcuts\n",
    "***\n",
    "Any capital letters on gui represent shorcut keys, e.g. 'Advance' is key=A. \n",
    "\n",
    "Any letters between &lt;tags&gt; is also a shortcut key, e.g. 'roi main &lt;C&gt;' is key=C. \n",
    "\n",
    "Note: you need to have focus on Tkinter-gui for these to work. \n",
    "\n",
    "See modules/GuiC.py cmd_keypress()"
   ]
  },
  {
   "cell_type": "markdown",
   "metadata": {},
   "source": [
    "### Rationale\n",
    "\n",
    "Designed to work as unix-like utility for videos: everything is a file (video + metadata) and tool can be invoked from command line. So we can use file names and directory hierarchies to organize data. And diffs to examine changes.\n",
    "\n",
    "But also has strong graphical editing properties, as we'll need to magnify image and select regions.\n",
    "\n",
    "The tool can be used to quickly evaluate performance on multiple videos, or drill down into particular frame-regions of one video.\n"
   ]
  },
  {
   "cell_type": "markdown",
   "metadata": {},
   "source": [
    "### Associated Files\n",
    "* **metalog** files are json files with properties about:\n",
    "\n",
    " * what parameters were used to record the video:\n",
    "    * \"cam_num\":0\n",
    "      \n",
    "      ...\n",
    "      \n",
    " * the conditions under which the video was recorded:\n",
    "    * \"light_level\" : \"sunlight_strong\"\n",
    "    * \"ball_color\" : \"green\"\n",
    "    * these are useful for categorizing videos into evaluation groups\n",
    "      \n",
    "      ...\n",
    "     \n",
    "  * if processed (\"processed\":true) - meaning edited by guiview - a framenote for each frame written to output video:\n",
    "  \n",
    "    * parameters about the current scene:\n",
    "      * \"ball_present\" :  true\n",
    "\n",
    "      ...\n",
    "      \n",
    "    * obj scoring at the current frame:\n",
    "      * \"scoring\" :  {\"0\":{\"type\":\"circle\", \"data\":[100,100,50,50]}}\n",
    "      \n",
    "      ...\n",
    "\n",
    "* **timelog** files are space separated text files. + each line represents the read time for that loop\n",
    "\n",
    "  see <a src=\"timelog.py.ipynb\">timelog.ipynb</a> for further description analysis.\n",
    "  \n",
    "  see books/sync-frame-to-framelog.ipynb for description of lagging frame\n"
   ]
  },
  {
   "cell_type": "markdown",
   "metadata": {},
   "source": [
    "### CRUD Frame-Score\n",
    "\n",
    "* Create Score \"hand drawn score\"\n",
    "* Read Score \"--showscoring\"\n",
    "* Update Score \"hand drawn score\"\n",
    "* Delete Score - edit the raw metalog json\n"
   ]
  },
  {
   "cell_type": "markdown",
   "metadata": {},
   "source": [
    "### CRUD Frame-Params\n",
    "* Create Param: occurs first time you process a video. the params in notes/guiview.jsonc will be written into the framenote\n",
    "* Read Param: occurs in NotesFactory, handled throught program\n",
    "* Update Param:\n",
    "  * single frame overwrite in notes/framenotes.json\n",
    "  * batch frame overwrite in notes/framenote-override.jsonc\n",
    "    note: can only update exisitng params, not add new ones. maybe this will change\n",
    "* Delete Param: edit the raw metalog json"
   ]
  },
  {
   "cell_type": "markdown",
   "metadata": {
    "collapsed": true
   },
   "source": [
    "### Workflow\n",
    "\n",
    "\n",
    "To process a raw video (\"processed\": false), first check its metalog is correct as this will carry over to new files.\n",
    "\n",
    "Now focus on guiview.jsonc and initialize it to default values for your framenotes \n",
    "\n",
    "Find the frame where you want to start the video, usually a little past the beginning to avoid setup time"
   ]
  },
  {
   "cell_type": "markdown",
   "metadata": {},
   "source": [
    "setting window position for subsequent runs"
   ]
  }
 ],
 "metadata": {
  "kernelspec": {
   "display_name": "Python 2",
   "language": "python",
   "name": "python2"
  },
  "language_info": {
   "codemirror_mode": {
    "name": "ipython",
    "version": 2
   },
   "file_extension": ".py",
   "mimetype": "text/x-python",
   "name": "python",
   "nbconvert_exporter": "python",
   "pygments_lexer": "ipython2",
   "version": "2.7.13"
  }
 },
 "nbformat": 4,
 "nbformat_minor": 2
}
