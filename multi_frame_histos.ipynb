{
 "cells": [
  {
   "cell_type": "code",
   "execution_count": 6,
   "metadata": {},
   "outputs": [
    {
     "name": "stdout",
     "output_type": "stream",
     "text": [
      "The autoreload extension is already loaded. To reload it, use:\n",
      "  %reload_ext autoreload\n"
     ]
    }
   ],
   "source": [
    "import os, sys\n",
    "import numpy as np\n",
    "import cv2\n",
    "import imutils\n",
    "from collections import deque\n",
    "from matplotlib import image as mpimg\n",
    "\n",
    "from matplotlib import pyplot as plt\n",
    "%matplotlib inline\n",
    "\n",
    "%load_ext autoreload\n",
    "%autoreload 2"
   ]
  },
  {
   "cell_type": "code",
   "execution_count": 10,
   "metadata": {
    "collapsed": true
   },
   "outputs": [],
   "source": [
    "import os,sys"
   ]
  },
  {
   "cell_type": "code",
   "execution_count": 11,
   "metadata": {},
   "outputs": [
    {
     "data": {
      "text/plain": [
       "'C:\\\\Users\\\\wsutt\\\\Desktop\\\\files\\\\ppd'"
      ]
     },
     "execution_count": 11,
     "metadata": {},
     "output_type": "execute_result"
    }
   ],
   "source": [
    "os.getcwd()"
   ]
  },
  {
   "cell_type": "code",
   "execution_count": 2,
   "metadata": {
    "collapsed": true
   },
   "outputs": [],
   "source": [
    "from ppd.track_a import *"
   ]
  },
  {
   "cell_type": "code",
   "execution_count": 3,
   "metadata": {
    "collapsed": true
   },
   "outputs": [],
   "source": [
    "imgfn = \"ppd/pic48.jpg\""
   ]
  },
  {
   "cell_type": "code",
   "execution_count": 15,
   "metadata": {},
   "outputs": [
    {
     "data": {
      "text/plain": [
       "'C:\\\\Users\\\\wsutt\\\\Desktop\\\\files\\\\ppd\\\\ppd'"
      ]
     },
     "execution_count": 15,
     "metadata": {},
     "output_type": "execute_result"
    }
   ],
   "source": [
    "mypath = os.getcwd() + \"\\\\ppd\"\n",
    "mypath"
   ]
  },
  {
   "cell_type": "code",
   "execution_count": 51,
   "metadata": {},
   "outputs": [],
   "source": [
    "img_fns = batch_files(mypath)"
   ]
  },
  {
   "cell_type": "code",
   "execution_count": 125,
   "metadata": {},
   "outputs": [
    {
     "name": "stdout",
     "output_type": "stream",
     "text": [
      "['pic1.jpg', 'pic2.jpg', 'pic3.jpg', 'pic4.jpg', 'pic5.jpg', 'pic6.jpg', 'pic7.jpg', 'pic8.jpg', 'pic9.jpg', 'pic10.jpg', 'pic11.jpg', 'pic12.jpg', 'pic13.jpg', 'pic14.jpg', 'pic15.jpg', 'pic16.jpg', 'pic17.jpg', 'pic18.jpg', 'pic19.jpg', 'pic20.jpg', 'pic21.jpg', 'pic22.jpg', 'pic23.jpg', 'pic24.jpg', 'pic25.jpg', 'pic26.jpg', 'pic27.jpg', 'pic28.jpg', 'pic29.jpg', 'pic30.jpg', 'pic31.jpg', 'pic32.jpg', 'pic33.jpg', 'pic34.jpg', 'pic35.jpg', 'pic36.jpg', 'pic37.jpg', 'pic38.jpg', 'pic39.jpg', 'pic40.jpg', 'pic41.jpg', 'pic42.jpg', 'pic43.jpg', 'pic44.jpg', 'pic45.jpg', 'pic46.jpg', 'pic47.jpg', 'pic48.jpg', 'pic49.jpg', 'pic50.jpg', 'pic51.jpg', 'pic52.jpg', 'pic53.jpg', 'pic54.jpg', 'pic55.jpg', 'pic56.jpg', 'pic57.jpg', 'pic58.jpg', 'pic59.jpg', 'pic60.jpg', 'pic61.jpg', 'pic62.jpg', 'pic63.jpg', 'pic64.jpg', 'pic65.jpg', 'pic66.jpg', 'pic67.jpg', 'pic68.jpg', 'pic69.jpg', 'pic70.jpg', 'pic71.jpg', 'pic72.jpg', 'pic73.jpg', 'pic74.jpg', 'pic75.jpg']\n"
     ]
    }
   ],
   "source": [
    "img_fns = batch_files(os.getcwd() + '\\\\ppd')"
   ]
  },
  {
   "cell_type": "code",
   "execution_count": 20,
   "metadata": {
    "collapsed": true
   },
   "outputs": [],
   "source": [
    "trackeds = batch_track(img_fns)"
   ]
  },
  {
   "cell_type": "code",
   "execution_count": 45,
   "metadata": {},
   "outputs": [
    {
     "name": "stdout",
     "output_type": "stream",
     "text": [
      "True\n",
      "False\n",
      "False\n"
     ]
    }
   ],
   "source": [
    "def filter_track(track_p, **kwargs):\n",
    "    \n",
    "    min_radius = kwargs.get('min_radius', False)\n",
    "    \n",
    "    if track_p[0] is not None:\n",
    "        if bool(min_radius):\n",
    "            if track_p[1] >= min_radius:\n",
    "                return True\n",
    "        else:\n",
    "            return True\n",
    "    return False\n",
    "\n",
    "tests = [((1,1),12), (None,13)]\n",
    "\n",
    "print filter_track(tests[0])\n",
    "print filter_track(tests[1])\n",
    "print filter_track(tests[1], min_radius = 15)"
   ]
  },
  {
   "cell_type": "code",
   "execution_count": 59,
   "metadata": {
    "collapsed": true
   },
   "outputs": [],
   "source": [
    "from ppd.track_a import *"
   ]
  },
  {
   "cell_type": "code",
   "execution_count": 53,
   "metadata": {},
   "outputs": [
    {
     "name": "stdout",
     "output_type": "stream",
     "text": [
      "75\n",
      "54\n",
      "[3, 4, 5, 6]\n"
     ]
    }
   ],
   "source": [
    "bad_frames= filter(lambda e: filter_track(e[1], min_radius = 12),\n",
    "                   enumerate(trackeds) )\n",
    "\n",
    "bad_frames_ind = map(lambda i: i[0] ,bad_frames)\n",
    "\n",
    "bad_imgs = [ img_fns[i] for i in bad_frames_ind ]\n",
    "\n",
    "print len(img_fns)\n",
    "print len(bad_frames)\n",
    "print bad_frames_ind[:4]"
   ]
  },
  {
   "cell_type": "code",
   "execution_count": 63,
   "metadata": {},
   "outputs": [],
   "source": [
    "masks = batch_mask(bad_imgs)"
   ]
  },
  {
   "cell_type": "code",
   "execution_count": 65,
   "metadata": {},
   "outputs": [
    {
     "data": {
      "text/plain": [
       "54"
      ]
     },
     "execution_count": 65,
     "metadata": {},
     "output_type": "execute_result"
    }
   ],
   "source": [
    "len(masks)"
   ]
  },
  {
   "cell_type": "code",
   "execution_count": 121,
   "metadata": {},
   "outputs": [],
   "source": [
    "inp_masks = masks[:3]\n",
    "inp_imgs = bad_imgs[:3]\n",
    "\n",
    "d_on, d_off = {}, {}\n",
    "for clr in 'bgr':\n",
    "    d_on[clr]= []\n",
    "    d_off[clr]= []\n",
    "\n",
    "for mask_img in zip(inp_masks,inp_imgs):\n",
    "\n",
    "    mask,img = mask_img[0], mask_img[1]\n",
    "    \n",
    "    on_img = px_filter(255,img,mask)\n",
    "    off_img = px_filter(0,img,mask)\n",
    "\n",
    "    on_pxs = px3clr_3px1clr(on_img)\n",
    "    off_pxs = px3clr_3px1clr(off_img)\n",
    "    \n",
    "    for i,clr in enumerate('bgr'):\n",
    "        d_on[clr].extend(on_pxs[i])\n",
    "        d_off[clr].extend(off_pxs[i])\n",
    "        "
   ]
  },
  {
   "cell_type": "code",
   "execution_count": 115,
   "metadata": {},
   "outputs": [
    {
     "data": {
      "text/plain": [
       "1800"
      ]
     },
     "execution_count": 115,
     "metadata": {},
     "output_type": "execute_result"
    }
   ],
   "source": [
    "len(d_on['r'])"
   ]
  },
  {
   "cell_type": "code",
   "execution_count": 103,
   "metadata": {},
   "outputs": [],
   "source": [
    "#for clr in 'bgr':\n",
    "#    d_on[clr] =  [item for sub in d_on[clr] for item in sub]\n",
    "#    d_off[clr] = [item for sub in d_off[clr] for item in sub]"
   ]
  },
  {
   "cell_type": "code",
   "execution_count": 122,
   "metadata": {
    "collapsed": true
   },
   "outputs": [],
   "source": [
    "list_d_on = []\n",
    "list_d_off = []\n",
    "for k in 'bgr':\n",
    "    list_d_on.append( d_on[k] )\n",
    "    list_d_off.append( d_off[k] )"
   ]
  },
  {
   "cell_type": "code",
   "execution_count": 123,
   "metadata": {},
   "outputs": [
    {
     "data": {
      "image/png": "[encoded data removed]",
      "text/plain": [
       "<matplotlib.figure.Figure at 0x231b1c50>"
      ]
     },
     "metadata": {},
     "output_type": "display_data"
    },
    {
     "data": {
      "image/png": "[encoded data removed]",
      "text/plain": [
       "<matplotlib.figure.Figure at 0x231c1e90>"
      ]
     },
     "metadata": {},
     "output_type": "display_data"
    },
    {
     "data": {
      "image/png": "[encoded data removed]",
      "text/plain": [
       "<matplotlib.figure.Figure at 0x1e140750>"
      ]
     },
     "metadata": {},
     "output_type": "display_data"
    },
    {
     "data": {
      "image/png": "[encoded data removed]",
      "text/plain": [
       "<matplotlib.figure.Figure at 0x1340c3d0>"
      ]
     },
     "metadata": {},
     "output_type": "display_data"
    },
    {
     "data": {
      "image/png": "[encoded data removed]",
      "text/plain": [
       "<matplotlib.figure.Figure at 0x20d5bff0>"
      ]
     },
     "metadata": {},
     "output_type": "display_data"
    },
    {
     "data": {
      "image/png": "[encoded data removed]",
      "text/plain": [
       "<matplotlib.figure.Figure at 0xa876490>"
      ]
     },
     "metadata": {},
     "output_type": "display_data"
    }
   ],
   "source": [
    "multi_hist(list_d_on)\n",
    "multi_hist(list_d_off)"
   ]
  },
  {
   "cell_type": "code",
   "execution_count": null,
   "metadata": {
    "collapsed": true
   },
   "outputs": [],
   "source": []
  }
 ],
 "metadata": {
  "kernelspec": {
   "display_name": "Python 2",
   "language": "python",
   "name": "python2"
  },
  "language_info": {
   "codemirror_mode": {
    "name": "ipython",
    "version": 2
   },
   "file_extension": ".py",
   "mimetype": "text/x-python",
   "name": "python",
   "nbconvert_exporter": "python",
   "pygments_lexer": "ipython2",
   "version": "2.7.13"
  }
 },
 "nbformat": 4,
 "nbformat_minor": 2
}
