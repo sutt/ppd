{
 "cells": [
  {
   "cell_type": "code",
   "execution_count": 1,
   "metadata": {},
   "outputs": [],
   "source": [
    "import os, sys\n",
    "import numpy as np\n",
    "import cv2\n",
    "import imutils\n",
    "from collections import deque\n",
    "from matplotlib import image as mpimg\n",
    "\n",
    "from matplotlib import pyplot as plt\n",
    "%matplotlib inline\n",
    "\n",
    "%load_ext autoreload\n",
    "%autoreload 2"
   ]
  },
  {
   "cell_type": "code",
   "execution_count": 2,
   "metadata": {
    "collapsed": true
   },
   "outputs": [],
   "source": [
    "import os,sys"
   ]
  },
  {
   "cell_type": "code",
   "execution_count": 3,
   "metadata": {},
   "outputs": [
    {
     "data": {
      "text/plain": [
       "'C:\\\\Users\\\\wsutt\\\\Desktop\\\\files\\\\ppd\\\\ppd'"
      ]
     },
     "execution_count": 3,
     "metadata": {},
     "output_type": "execute_result"
    }
   ],
   "source": [
    "os.getcwd()"
   ]
  },
  {
   "cell_type": "code",
   "execution_count": 5,
   "metadata": {},
   "outputs": [],
   "source": [
    "from track_a import *"
   ]
  },
  {
   "cell_type": "code",
   "execution_count": 6,
   "metadata": {
    "collapsed": true
   },
   "outputs": [],
   "source": [
    "imgfn = \"ppd/pic48.jpg\""
   ]
  },
  {
   "cell_type": "code",
   "execution_count": 38,
   "metadata": {},
   "outputs": [
    {
     "data": {
      "text/plain": [
       "'C:\\\\Users\\\\wsutt\\\\Desktop\\\\files\\\\ppd\\\\ppd\\\\ppd'"
      ]
     },
     "execution_count": 38,
     "metadata": {},
     "output_type": "execute_result"
    }
   ],
   "source": [
    "mypath = os.getcwd() + \"\\\\ppd\"\n",
    "mypath"
   ]
  },
  {
   "cell_type": "code",
   "execution_count": 44,
   "metadata": {},
   "outputs": [
    {
     "name": "stdout",
     "output_type": "stream",
     "text": [
      "['newfolder', 't5', 't6', 't7']\n",
      "['newfolder', 'newfolder2', 't5', 't6', 't7']\n"
     ]
    }
   ],
   "source": [
    "read_path = os.getcwd() + \"\\\\data\\\\read\"\n",
    "print os.listdir(read_path)\n",
    "os.mkdir(read_path + \"\\\\newfolder2\")\n",
    "print os.listdir(read_path)"
   ]
  },
  {
   "cell_type": "code",
   "execution_count": 54,
   "metadata": {},
   "outputs": [],
   "source": [
    "os.mkdir(\"data\\\\read\\\\readx\")"
   ]
  },
  {
   "cell_type": "code",
   "execution_count": null,
   "metadata": {
    "collapsed": true
   },
   "outputs": [],
   "source": []
  },
  {
   "cell_type": "code",
   "execution_count": 52,
   "metadata": {},
   "outputs": [
    {
     "data": {
      "text/plain": [
       "['jj', 'kk', 'll']"
      ]
     },
     "execution_count": 52,
     "metadata": {},
     "output_type": "execute_result"
    }
   ],
   "source": [
    "s = \"jj\\\\kk\\\\ll\"\n",
    "s.split('\\\\')"
   ]
  },
  {
   "cell_type": "code",
   "execution_count": 61,
   "metadata": {},
   "outputs": [],
   "source": [
    "sp = s.split(\"\\\\\")"
   ]
  },
  {
   "cell_type": "code",
   "execution_count": 62,
   "metadata": {},
   "outputs": [
    {
     "data": {
      "text/plain": [
       "['jj', 'kk', 'll']"
      ]
     },
     "execution_count": 62,
     "metadata": {},
     "output_type": "execute_result"
    }
   ],
   "source": [
    "sp"
   ]
  },
  {
   "cell_type": "code",
   "execution_count": 65,
   "metadata": {},
   "outputs": [
    {
     "data": {
      "text/plain": [
       "['jj', 'kk']"
      ]
     },
     "execution_count": 65,
     "metadata": {},
     "output_type": "execute_result"
    }
   ],
   "source": [
    "sp[:len(sp)-1]"
   ]
  },
  {
   "cell_type": "code",
   "execution_count": null,
   "metadata": {
    "collapsed": true
   },
   "outputs": [],
   "source": []
  },
  {
   "cell_type": "code",
   "execution_count": 74,
   "metadata": {},
   "outputs": [
    {
     "name": "stdout",
     "output_type": "stream",
     "text": [
      "jj/kk\n",
      "jj/kk/ll\n"
     ]
    }
   ],
   "source": [
    "s = \"jj/kk/ll\"\n",
    "s2 = \"jj/kk/ll/\"\n",
    "def mpath(s):\n",
    "    sp = s.split(\"/\")\n",
    "    return '/'.join(sp[:len(sp)-1])\n",
    "print mpath(s)\n",
    "print mpath(s2)"
   ]
  },
  {
   "cell_type": "code",
   "execution_count": 87,
   "metadata": {
    "collapsed": true
   },
   "outputs": [],
   "source": [
    "s = 'sss/srt/sdsd/*.*'"
   ]
  },
  {
   "cell_type": "code",
   "execution_count": null,
   "metadata": {
    "collapsed": true
   },
   "outputs": [],
   "source": [
    "s.isalnum"
   ]
  },
  {
   "cell_type": "code",
   "execution_count": 93,
   "metadata": {},
   "outputs": [
    {
     "data": {
      "text/plain": [
       "'sss/srt/sdsd/'"
      ]
     },
     "execution_count": 93,
     "metadata": {},
     "output_type": "execute_result"
    }
   ],
   "source": [
    "filter(lambda c: c.isalnum() or c == \"/\", s)"
   ]
  },
  {
   "cell_type": "code",
   "execution_count": null,
   "metadata": {
    "collapsed": true
   },
   "outputs": [],
   "source": []
  },
  {
   "cell_type": "code",
   "execution_count": null,
   "metadata": {
    "collapsed": true
   },
   "outputs": [],
   "source": []
  },
  {
   "cell_type": "code",
   "execution_count": null,
   "metadata": {
    "collapsed": true
   },
   "outputs": [],
   "source": []
  },
  {
   "cell_type": "code",
   "execution_count": null,
   "metadata": {
    "collapsed": true
   },
   "outputs": [],
   "source": []
  },
  {
   "cell_type": "code",
   "execution_count": 84,
   "metadata": {},
   "outputs": [
    {
     "data": {
      "text/plain": [
       "''"
      ]
     },
     "execution_count": 84,
     "metadata": {},
     "output_type": "execute_result"
    }
   ],
   "source": [
    "s2 = s.strip(s)\n",
    "s2"
   ]
  },
  {
   "cell_type": "code",
   "execution_count": null,
   "metadata": {
    "collapsed": true
   },
   "outputs": [],
   "source": [
    "\"\""
   ]
  },
  {
   "cell_type": "code",
   "execution_count": null,
   "metadata": {
    "collapsed": true
   },
   "outputs": [],
   "source": []
  },
  {
   "cell_type": "code",
   "execution_count": null,
   "metadata": {
    "collapsed": true
   },
   "outputs": [],
   "source": []
  },
  {
   "cell_type": "code",
   "execution_count": 80,
   "metadata": {},
   "outputs": [
    {
     "name": "stdout",
     "output_type": "stream",
     "text": [
      "['.git', '.ipynb_checkpoints', 'data', 't5', 't6']\n"
     ]
    }
   ],
   "source": [
    "p = os.getcwd()\n",
    "dirs = [d for d in os.listdir(p) if os.path.isdir(os.path.join(p, d))]\n",
    "print dirs"
   ]
  },
  {
   "cell_type": "code",
   "execution_count": null,
   "metadata": {
    "collapsed": true
   },
   "outputs": [],
   "source": []
  },
  {
   "cell_type": "code",
   "execution_count": null,
   "metadata": {
    "collapsed": true
   },
   "outputs": [],
   "source": []
  },
  {
   "cell_type": "code",
   "execution_count": 78,
   "metadata": {},
   "outputs": [
    {
     "data": {
      "text/plain": [
       "['.git',\n",
       " '.gitignore',\n",
       " '.ipynb_checkpoints',\n",
       " '1sec.h264',\n",
       " 'ball_tracking_example.mp4',\n",
       " 'book1.html',\n",
       " 'book2.html',\n",
       " 'commands.txt',\n",
       " 'data',\n",
       " 'demo.html',\n",
       " 'demo5.mp4',\n",
       " 'fbf2.py',\n",
       " 'fbf2.pyc',\n",
       " 'ipython101.ipynb',\n",
       " 'IPythonReloadRecipe.ipynb',\n",
       " 'multi_frame_histos.ipynb',\n",
       " 'notes.txt',\n",
       " 'opencv_ffmpeg320.dll',\n",
       " 'opencv_ffmpeg320_64.dll',\n",
       " 'openh264-1.4.0-win32msvc.dll',\n",
       " 'openh264-1.4.0-win32msvc.dll.bz2',\n",
       " 'openh264-1.4.0-win64msvc.dll',\n",
       " 'outvid1.h264',\n",
       " 'outvid2.h264',\n",
       " 'outvid3.h264',\n",
       " 'outvid4.h264',\n",
       " 'outvid5.h264',\n",
       " 'outvid6.h264',\n",
       " 'pic1.jpg',\n",
       " 'pic10.jpg',\n",
       " 'pic11.jpg',\n",
       " 'pic12.jpg',\n",
       " 'pic13.jpg',\n",
       " 'pic14.jpg',\n",
       " 'pic15.jpg',\n",
       " 'pic16.jpg',\n",
       " 'pic17.jpg',\n",
       " 'pic18.jpg',\n",
       " 'pic19.jpg',\n",
       " 'pic2.jpg',\n",
       " 'pic20.jpg',\n",
       " 'pic21.jpg',\n",
       " 'pic22.jpg',\n",
       " 'pic23.jpg',\n",
       " 'pic24.jpg',\n",
       " 'pic25.jpg',\n",
       " 'pic26.jpg',\n",
       " 'pic27.jpg',\n",
       " 'pic28.jpg',\n",
       " 'pic29.jpg',\n",
       " 'pic3.jpg',\n",
       " 'pic30.jpg',\n",
       " 'pic31.jpg',\n",
       " 'pic32.jpg',\n",
       " 'pic33.jpg',\n",
       " 'pic34.jpg',\n",
       " 'pic35.jpg',\n",
       " 'pic36.jpg',\n",
       " 'pic37.jpg',\n",
       " 'pic38.jpg',\n",
       " 'pic39.jpg',\n",
       " 'pic4.jpg',\n",
       " 'pic40.jpg',\n",
       " 'pic41.jpg',\n",
       " 'pic42.jpg',\n",
       " 'pic43.jpg',\n",
       " 'pic44.jpg',\n",
       " 'pic45.jpg',\n",
       " 'pic46.jpg',\n",
       " 'pic47.jpg',\n",
       " 'pic48.jpg',\n",
       " 'pic49.jpg',\n",
       " 'pic5.jpg',\n",
       " 'pic50.jpg',\n",
       " 'pic51.jpg',\n",
       " 'pic52.jpg',\n",
       " 'pic53.jpg',\n",
       " 'pic54.jpg',\n",
       " 'pic55.jpg',\n",
       " 'pic56.jpg',\n",
       " 'pic57.jpg',\n",
       " 'pic58.jpg',\n",
       " 'pic59.jpg',\n",
       " 'pic6.jpg',\n",
       " 'pic60.jpg',\n",
       " 'pic61.jpg',\n",
       " 'pic62.jpg',\n",
       " 'pic63.jpg',\n",
       " 'pic64.jpg',\n",
       " 'pic65.jpg',\n",
       " 'pic66.jpg',\n",
       " 'pic67.jpg',\n",
       " 'pic68.jpg',\n",
       " 'pic69.jpg',\n",
       " 'pic7.jpg',\n",
       " 'pic70.jpg',\n",
       " 'pic71.jpg',\n",
       " 'pic72.jpg',\n",
       " 'pic73.jpg',\n",
       " 'pic74.jpg',\n",
       " 'pic75.jpg',\n",
       " 'pic8.jpg',\n",
       " 'pic9.jpg',\n",
       " 'scratch.py',\n",
       " 't5',\n",
       " 't6',\n",
       " 'track_a-operations.ipynb',\n",
       " 'track_a.py',\n",
       " 'track_a.pyc',\n",
       " 'Untitled.ipynb',\n",
       " '__init__.py',\n",
       " '__init__.pyc']"
      ]
     },
     "execution_count": 78,
     "metadata": {},
     "output_type": "execute_result"
    }
   ],
   "source": [
    "os.listdir(os.getcwd())"
   ]
  },
  {
   "cell_type": "code",
   "execution_count": null,
   "metadata": {
    "collapsed": true
   },
   "outputs": [],
   "source": []
  },
  {
   "cell_type": "code",
   "execution_count": null,
   "metadata": {
    "collapsed": true
   },
   "outputs": [],
   "source": []
  },
  {
   "cell_type": "code",
   "execution_count": 49,
   "metadata": {
    "collapsed": true
   },
   "outputs": [],
   "source": [
    "a = cv2.imread(\"data\\\\read\\\\pic2.jpg\")"
   ]
  },
  {
   "cell_type": "code",
   "execution_count": 50,
   "metadata": {},
   "outputs": [
    {
     "data": {
      "text/plain": [
       "array([[[1, 1, 1],\n",
       "        [1, 1, 1],\n",
       "        [1, 1, 1],\n",
       "        ..., \n",
       "        [0, 4, 0],\n",
       "        [0, 4, 0],\n",
       "        [0, 4, 0]],\n",
       "\n",
       "       [[1, 1, 1],\n",
       "        [1, 1, 1],\n",
       "        [1, 1, 1],\n",
       "        ..., \n",
       "        [0, 4, 0],\n",
       "        [0, 4, 0],\n",
       "        [0, 4, 0]],\n",
       "\n",
       "       [[1, 1, 1],\n",
       "        [1, 1, 1],\n",
       "        [1, 1, 1],\n",
       "        ..., \n",
       "        [0, 4, 0],\n",
       "        [0, 4, 0],\n",
       "        [0, 4, 0]],\n",
       "\n",
       "       ..., \n",
       "       [[0, 0, 0],\n",
       "        [0, 0, 0],\n",
       "        [0, 0, 0],\n",
       "        ..., \n",
       "        [5, 7, 1],\n",
       "        [5, 7, 1],\n",
       "        [5, 7, 1]],\n",
       "\n",
       "       [[0, 0, 0],\n",
       "        [0, 0, 0],\n",
       "        [0, 0, 0],\n",
       "        ..., \n",
       "        [5, 7, 1],\n",
       "        [5, 7, 1],\n",
       "        [5, 7, 1]],\n",
       "\n",
       "       [[0, 0, 0],\n",
       "        [0, 0, 0],\n",
       "        [0, 0, 0],\n",
       "        ..., \n",
       "        [5, 7, 1],\n",
       "        [5, 7, 1],\n",
       "        [5, 7, 1]]], dtype=uint8)"
      ]
     },
     "execution_count": 50,
     "metadata": {},
     "output_type": "execute_result"
    }
   ],
   "source": [
    "a"
   ]
  },
  {
   "cell_type": "code",
   "execution_count": 73,
   "metadata": {},
   "outputs": [
    {
     "data": {
      "text/plain": [
       "array([[[1, 1, 1],\n",
       "        [1, 1, 1],\n",
       "        [1, 1, 1],\n",
       "        ..., \n",
       "        [0, 4, 0],\n",
       "        [0, 4, 0],\n",
       "        [0, 4, 0]],\n",
       "\n",
       "       [[1, 1, 1],\n",
       "        [1, 1, 1],\n",
       "        [1, 1, 1],\n",
       "        ..., \n",
       "        [0, 4, 0],\n",
       "        [0, 4, 0],\n",
       "        [0, 4, 0]],\n",
       "\n",
       "       [[1, 1, 1],\n",
       "        [1, 1, 1],\n",
       "        [1, 1, 1],\n",
       "        ..., \n",
       "        [0, 4, 0],\n",
       "        [0, 4, 0],\n",
       "        [0, 4, 0]],\n",
       "\n",
       "       ..., \n",
       "       [[0, 0, 0],\n",
       "        [0, 0, 0],\n",
       "        [0, 0, 0],\n",
       "        ..., \n",
       "        [5, 7, 1],\n",
       "        [5, 7, 1],\n",
       "        [5, 7, 1]],\n",
       "\n",
       "       [[0, 0, 0],\n",
       "        [0, 0, 0],\n",
       "        [0, 0, 0],\n",
       "        ..., \n",
       "        [5, 7, 1],\n",
       "        [5, 7, 1],\n",
       "        [5, 7, 1]],\n",
       "\n",
       "       [[0, 0, 0],\n",
       "        [0, 0, 0],\n",
       "        [0, 0, 0],\n",
       "        ..., \n",
       "        [5, 7, 1],\n",
       "        [5, 7, 1],\n",
       "        [5, 7, 1]]], dtype=uint8)"
      ]
     },
     "execution_count": 73,
     "metadata": {},
     "output_type": "execute_result"
    }
   ],
   "source": [
    "a = cv2.imread(\"data\\\\read\\\\pic2.jpg\")\n",
    "a"
   ]
  },
  {
   "cell_type": "code",
   "execution_count": null,
   "metadata": {
    "collapsed": true
   },
   "outputs": [],
   "source": []
  },
  {
   "cell_type": "code",
   "execution_count": null,
   "metadata": {
    "collapsed": true
   },
   "outputs": [],
   "source": []
  },
  {
   "cell_type": "code",
   "execution_count": null,
   "metadata": {
    "collapsed": true
   },
   "outputs": [],
   "source": []
  },
  {
   "cell_type": "code",
   "execution_count": null,
   "metadata": {
    "collapsed": true
   },
   "outputs": [],
   "source": []
  },
  {
   "cell_type": "code",
   "execution_count": null,
   "metadata": {
    "collapsed": true
   },
   "outputs": [],
   "source": []
  },
  {
   "cell_type": "code",
   "execution_count": 8,
   "metadata": {},
   "outputs": [
    {
     "name": "stdout",
     "output_type": "stream",
     "text": [
      "['pic1.jpg', 'pic2.jpg', 'pic3.jpg', 'pic4.jpg', 'pic5.jpg', 'pic6.jpg', 'pic7.jpg', 'pic8.jpg', 'pic9.jpg', 'pic10.jpg', 'pic11.jpg', 'pic12.jpg', 'pic13.jpg', 'pic14.jpg', 'pic15.jpg', 'pic16.jpg', 'pic17.jpg', 'pic18.jpg', 'pic19.jpg', 'pic20.jpg', 'pic21.jpg', 'pic22.jpg', 'pic23.jpg', 'pic24.jpg', 'pic25.jpg', 'pic26.jpg', 'pic27.jpg', 'pic28.jpg', 'pic29.jpg', 'pic30.jpg', 'pic31.jpg', 'pic32.jpg', 'pic33.jpg', 'pic34.jpg', 'pic35.jpg', 'pic36.jpg', 'pic37.jpg', 'pic38.jpg', 'pic39.jpg', 'pic40.jpg', 'pic41.jpg', 'pic42.jpg', 'pic43.jpg', 'pic44.jpg', 'pic45.jpg', 'pic46.jpg', 'pic47.jpg', 'pic48.jpg', 'pic49.jpg', 'pic50.jpg', 'pic51.jpg', 'pic52.jpg', 'pic53.jpg', 'pic54.jpg', 'pic55.jpg', 'pic56.jpg', 'pic57.jpg', 'pic58.jpg', 'pic59.jpg', 'pic60.jpg', 'pic61.jpg', 'pic62.jpg', 'pic63.jpg', 'pic64.jpg', 'pic65.jpg', 'pic66.jpg', 'pic67.jpg', 'pic68.jpg', 'pic69.jpg', 'pic70.jpg', 'pic71.jpg', 'pic72.jpg', 'pic73.jpg', 'pic74.jpg', 'pic75.jpg']\n"
     ]
    }
   ],
   "source": [
    "img_fns = batch_files(mypath)"
   ]
  },
  {
   "cell_type": "code",
   "execution_count": 9,
   "metadata": {},
   "outputs": [
    {
     "name": "stdout",
     "output_type": "stream",
     "text": [
      "['pic1.jpg', 'pic2.jpg', 'pic3.jpg', 'pic4.jpg', 'pic5.jpg', 'pic6.jpg', 'pic7.jpg', 'pic8.jpg', 'pic9.jpg', 'pic10.jpg', 'pic11.jpg', 'pic12.jpg', 'pic13.jpg', 'pic14.jpg', 'pic15.jpg', 'pic16.jpg', 'pic17.jpg', 'pic18.jpg', 'pic19.jpg', 'pic20.jpg', 'pic21.jpg', 'pic22.jpg', 'pic23.jpg', 'pic24.jpg', 'pic25.jpg', 'pic26.jpg', 'pic27.jpg', 'pic28.jpg', 'pic29.jpg', 'pic30.jpg', 'pic31.jpg', 'pic32.jpg', 'pic33.jpg', 'pic34.jpg', 'pic35.jpg', 'pic36.jpg', 'pic37.jpg', 'pic38.jpg', 'pic39.jpg', 'pic40.jpg', 'pic41.jpg', 'pic42.jpg', 'pic43.jpg', 'pic44.jpg', 'pic45.jpg', 'pic46.jpg', 'pic47.jpg', 'pic48.jpg', 'pic49.jpg', 'pic50.jpg', 'pic51.jpg', 'pic52.jpg', 'pic53.jpg', 'pic54.jpg', 'pic55.jpg', 'pic56.jpg', 'pic57.jpg', 'pic58.jpg', 'pic59.jpg', 'pic60.jpg', 'pic61.jpg', 'pic62.jpg', 'pic63.jpg', 'pic64.jpg', 'pic65.jpg', 'pic66.jpg', 'pic67.jpg', 'pic68.jpg', 'pic69.jpg', 'pic70.jpg', 'pic71.jpg', 'pic72.jpg', 'pic73.jpg', 'pic74.jpg', 'pic75.jpg']\n"
     ]
    }
   ],
   "source": [
    "img_fns = batch_files(os.getcwd() + '\\\\ppd')"
   ]
  },
  {
   "cell_type": "code",
   "execution_count": 10,
   "metadata": {
    "collapsed": true
   },
   "outputs": [],
   "source": [
    "trackeds = batch_track(img_fns)"
   ]
  },
  {
   "cell_type": "code",
   "execution_count": 11,
   "metadata": {},
   "outputs": [
    {
     "name": "stdout",
     "output_type": "stream",
     "text": [
      "True\n",
      "False\n",
      "False\n"
     ]
    }
   ],
   "source": [
    "def filter_track(track_p, **kwargs):\n",
    "    \n",
    "    min_radius = kwargs.get('min_radius', False)\n",
    "    \n",
    "    if track_p[0] is not None:\n",
    "        if bool(min_radius):\n",
    "            if track_p[1] >= min_radius:\n",
    "                return True\n",
    "        else:\n",
    "            return True\n",
    "    return False\n",
    "\n",
    "tests = [((1,1),12), (None,13)]\n",
    "\n",
    "print filter_track(tests[0])\n",
    "print filter_track(tests[1])\n",
    "print filter_track(tests[1], min_radius = 15)"
   ]
  },
  {
   "cell_type": "code",
   "execution_count": 12,
   "metadata": {},
   "outputs": [
    {
     "name": "stdout",
     "output_type": "stream",
     "text": [
      "75\n",
      "54\n",
      "[3, 4, 5, 6]\n"
     ]
    }
   ],
   "source": [
    "bad_frames= filter(lambda e: filter_track(e[1], min_radius = 12),\n",
    "                   enumerate(trackeds) )\n",
    "\n",
    "bad_frames_ind = map(lambda i: i[0] ,bad_frames)\n",
    "\n",
    "bad_imgs = [ img_fns[i] for i in bad_frames_ind ]\n",
    "\n",
    "print len(img_fns)\n",
    "print len(bad_frames)\n",
    "print bad_frames_ind[:4]"
   ]
  },
  {
   "cell_type": "code",
   "execution_count": 13,
   "metadata": {
    "collapsed": true
   },
   "outputs": [],
   "source": [
    "masks = batch_mask(bad_imgs)"
   ]
  },
  {
   "cell_type": "code",
   "execution_count": 14,
   "metadata": {},
   "outputs": [
    {
     "data": {
      "text/plain": [
       "54"
      ]
     },
     "execution_count": 14,
     "metadata": {},
     "output_type": "execute_result"
    }
   ],
   "source": [
    "len(masks)"
   ]
  },
  {
   "cell_type": "code",
   "execution_count": 15,
   "metadata": {
    "collapsed": true
   },
   "outputs": [],
   "source": [
    "inp_masks = masks[:3]\n",
    "inp_imgs = bad_imgs[:3]\n",
    "\n",
    "d_on, d_off = {}, {}\n",
    "for clr in 'bgr':\n",
    "    d_on[clr]= []\n",
    "    d_off[clr]= []\n",
    "\n",
    "for mask_img in zip(inp_masks,inp_imgs):\n",
    "\n",
    "    mask,img = mask_img[0], mask_img[1]\n",
    "    \n",
    "    on_img = px_filter(255,img,mask)\n",
    "    off_img = px_filter(0,img,mask)\n",
    "\n",
    "    on_pxs = px3clr_3px1clr(on_img)\n",
    "    off_pxs = px3clr_3px1clr(off_img)\n",
    "    \n",
    "    for i,clr in enumerate('bgr'):\n",
    "        d_on[clr].extend(on_pxs[i])\n",
    "        d_off[clr].extend(off_pxs[i])\n",
    "        "
   ]
  },
  {
   "cell_type": "code",
   "execution_count": 16,
   "metadata": {},
   "outputs": [
    {
     "data": {
      "text/plain": [
       "1800"
      ]
     },
     "execution_count": 16,
     "metadata": {},
     "output_type": "execute_result"
    }
   ],
   "source": [
    "len(d_on['r'])"
   ]
  },
  {
   "cell_type": "code",
   "execution_count": 103,
   "metadata": {
    "collapsed": true
   },
   "outputs": [],
   "source": [
    "#for clr in 'bgr':\n",
    "#    d_on[clr] =  [item for sub in d_on[clr] for item in sub]\n",
    "#    d_off[clr] = [item for sub in d_off[clr] for item in sub]"
   ]
  },
  {
   "cell_type": "code",
   "execution_count": 17,
   "metadata": {
    "collapsed": true
   },
   "outputs": [],
   "source": [
    "list_d_on = []\n",
    "list_d_off = []\n",
    "for k in 'bgr':\n",
    "    list_d_on.append( d_on[k] )\n",
    "    list_d_off.append( d_off[k] )"
   ]
  },
  {
   "cell_type": "code",
   "execution_count": 25,
   "metadata": {},
   "outputs": [],
   "source": [
    "from track_a import *"
   ]
  },
  {
   "cell_type": "code",
   "execution_count": 35,
   "metadata": {},
   "outputs": [
    {
     "data": {
      "image/png": "[encoded data removed]",
      "text/plain": [
       "<matplotlib.figure.Figure at 0x11cea510>"
      ]
     },
     "metadata": {},
     "output_type": "display_data"
    },
    {
     "data": {
      "image/png": "[encoded data removed]",
      "text/plain": [
       "<matplotlib.figure.Figure at 0x25ccf510>"
      ]
     },
     "metadata": {},
     "output_type": "display_data"
    }
   ],
   "source": [
    "ret = ball_vs_background(masks[:3],bad_imgs[:3], \n",
    "                         show_hist = True, horiz = True)"
   ]
  },
  {
   "cell_type": "code",
   "execution_count": 37,
   "metadata": {},
   "outputs": [
    {
     "data": {
      "image/png": "[encoded data removed]",
      "text/plain": [
       "<matplotlib.figure.Figure at 0x72a2550>"
      ]
     },
     "metadata": {},
     "output_type": "display_data"
    },
    {
     "data": {
      "image/png": "[encoded data removed]",
      "text/plain": [
       "<matplotlib.figure.Figure at 0x1427eb50>"
      ]
     },
     "metadata": {},
     "output_type": "display_data"
    }
   ],
   "source": [
    "ret = ball_vs_background(masks[:3],bad_imgs[:3], \n",
    "                         show_hist = True, horiz = False)"
   ]
  },
  {
   "cell_type": "code",
   "execution_count": null,
   "metadata": {
    "collapsed": true
   },
   "outputs": [],
   "source": []
  },
  {
   "cell_type": "code",
   "execution_count": null,
   "metadata": {
    "collapsed": true
   },
   "outputs": [],
   "source": []
  },
  {
   "cell_type": "code",
   "execution_count": null,
   "metadata": {
    "collapsed": true
   },
   "outputs": [],
   "source": []
  },
  {
   "cell_type": "code",
   "execution_count": null,
   "metadata": {
    "collapsed": true
   },
   "outputs": [],
   "source": []
  },
  {
   "cell_type": "code",
   "execution_count": null,
   "metadata": {
    "collapsed": true
   },
   "outputs": [],
   "source": [
    "f ,arrax = plt.subplots(1,2)\n",
    "\n",
    "arrax.hist(d['g'], title = ('color :' + str('b')) )\n",
    "arrax.hist(d['g'], title = ('color :' + str('b')) )\n",
    "\n",
    "f.show()"
   ]
  },
  {
   "cell_type": "code",
   "execution_count": 18,
   "metadata": {},
   "outputs": [
    {
     "data": {
      "image/png": "[encoded data removed]",
      "text/plain": [
       "<matplotlib.figure.Figure at 0x74df970>"
      ]
     },
     "metadata": {},
     "output_type": "display_data"
    },
    {
     "data": {
      "image/png": "[encoded data removed]",
      "text/plain": [
       "<matplotlib.figure.Figure at 0x115a49f0>"
      ]
     },
     "metadata": {},
     "output_type": "display_data"
    },
    {
     "data": {
      "image/png": "[encoded data removed]",
      "text/plain": [
       "<matplotlib.figure.Figure at 0x11b9db30>"
      ]
     },
     "metadata": {},
     "output_type": "display_data"
    },
    {
     "data": {
      "image/png": "[encoded data removed]",
      "text/plain": [
       "<matplotlib.figure.Figure at 0x11cb76b0>"
      ]
     },
     "metadata": {},
     "output_type": "display_data"
    },
    {
     "data": {
      "image/png": "[encoded data removed]",
      "text/plain": [
       "<matplotlib.figure.Figure at 0x11bcb6b0>"
      ]
     },
     "metadata": {},
     "output_type": "display_data"
    },
    {
     "data": {
      "image/png": "[encoded data removed]",
      "text/plain": [
       "<matplotlib.figure.Figure at 0x1189cb90>"
      ]
     },
     "metadata": {},
     "output_type": "display_data"
    }
   ],
   "source": [
    "\n",
    "multi_hist(list_d_on)\n",
    "multi_hist(list_d_off)"
   ]
  },
  {
   "cell_type": "code",
   "execution_count": null,
   "metadata": {
    "collapsed": true
   },
   "outputs": [],
   "source": []
  }
 ],
 "metadata": {
  "kernelspec": {
   "display_name": "Python 2",
   "language": "python",
   "name": "python2"
  },
  "language_info": {
   "codemirror_mode": {
    "name": "ipython",
    "version": 2
   },
   "file_extension": ".py",
   "mimetype": "text/x-python",
   "name": "python",
   "nbconvert_exporter": "python",
   "pygments_lexer": "ipython2",
   "version": "2.7.13"
  }
 },
 "nbformat": 4,
 "nbformat_minor": 2
}
