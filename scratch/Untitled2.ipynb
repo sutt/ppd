{
 "cells": [
  {
   "cell_type": "code",
   "execution_count": 1,
   "metadata": {
    "collapsed": true
   },
   "outputs": [],
   "source": [
    "import os, sys, time, copy, random, argparse\n",
    "import traceback\n",
    "import numpy as np\n",
    "import cv2\n",
    "import imutils\n",
    "from collections import deque\n",
    "from matplotlib import image as mpimg\n",
    "from matplotlib import pyplot as plt"
   ]
  },
  {
   "cell_type": "code",
   "execution_count": 3,
   "metadata": {},
   "outputs": [],
   "source": [
    "%matplotlib inline"
   ]
  },
  {
   "cell_type": "code",
   "execution_count": 4,
   "metadata": {
    "collapsed": true
   },
   "outputs": [],
   "source": [
    "%load_ext autoreload\n",
    "%autoreload 2"
   ]
  },
  {
   "cell_type": "code",
   "execution_count": 5,
   "metadata": {
    "collapsed": true
   },
   "outputs": [],
   "source": [
    "from GraphicsA import LiveHist"
   ]
  },
  {
   "cell_type": "code",
   "execution_count": 6,
   "metadata": {
    "collapsed": true
   },
   "outputs": [],
   "source": [
    "def mock_gaussian(n = 100, **kwargs ):\n",
    "    z = np.random.randn(n)\n",
    "    u, var = kwargs.get('u',0), kwargs.get('var',1)\n",
    "    return map(lambda z_i: u + (z_i*var), z)\n",
    "    \n",
    "def rand_gauss_params():\n",
    "    u = random.randint(0,255)\n",
    "    var = random.randint(10,50)\n",
    "    return u, var\n",
    "\n",
    "def mock_hist_data():\n",
    "    u, var = rand_gauss_params()\n",
    "    hist_data = map( lambda x: mock_gaussian(n=100,u=u,var=var), range(3) )\n",
    "    return hist_data"
   ]
  },
  {
   "cell_type": "code",
   "execution_count": 9,
   "metadata": {
    "collapsed": true
   },
   "outputs": [],
   "source": [
    "h,w = 2,3"
   ]
  },
  {
   "cell_type": "code",
   "execution_count": 34,
   "metadata": {},
   "outputs": [
    {
     "name": "stdout",
     "output_type": "stream",
     "text": [
      "0 0\n",
      "1 0\n",
      "2 0\n",
      "3 1\n",
      "4 1\n",
      "5 1\n"
     ]
    },
    {
     "data": {
      "image/png": "[encoded data removed]",
      "text/plain": [
       "<matplotlib.figure.Figure at 0x7d44c10>"
      ]
     },
     "metadata": {},
     "output_type": "display_data"
    }
   ],
   "source": [
    "h,w = 2,3\n",
    "livehist = LiveHist( h = h, w = w, bins = 30,x_lo = -1, x_hi = 256,y_lo = 0 ,y_hi = 200 )"
   ]
  },
  {
   "cell_type": "code",
   "execution_count": 17,
   "metadata": {},
   "outputs": [
    {
     "name": "stdout",
     "output_type": "stream",
     "text": [
      "0   0\n",
      "0   1\n",
      "0   2\n",
      "1   0\n",
      "1   1\n",
      "1   2\n"
     ]
    }
   ],
   "source": [
    "w= 3\n",
    "for h in range(6):\n",
    "    x,y = h / w , (h % w)\n",
    "    print x, ' ', y"
   ]
  },
  {
   "cell_type": "code",
   "execution_count": 39,
   "metadata": {
    "collapsed": true
   },
   "outputs": [],
   "source": [
    "b_include_backg = False\n",
    "h, w = (2,3) if b_include_backg else (1,3)"
   ]
  },
  {
   "cell_type": "code",
   "execution_count": 40,
   "metadata": {},
   "outputs": [
    {
     "name": "stdout",
     "output_type": "stream",
     "text": [
      "1\n",
      "3\n"
     ]
    }
   ],
   "source": [
    "print h\n",
    "print w"
   ]
  },
  {
   "cell_type": "code",
   "execution_count": null,
   "metadata": {
    "collapsed": true
   },
   "outputs": [],
   "source": []
  }
 ],
 "metadata": {
  "kernelspec": {
   "display_name": "Python 2",
   "language": "python",
   "name": "python2"
  },
  "language_info": {
   "codemirror_mode": {
    "name": "ipython",
    "version": 2
   },
   "file_extension": ".py",
   "mimetype": "text/x-python",
   "name": "python",
   "nbconvert_exporter": "python",
   "pygments_lexer": "ipython2",
   "version": "2.7.13"
  }
 },
 "nbformat": 4,
 "nbformat_minor": 2
}
